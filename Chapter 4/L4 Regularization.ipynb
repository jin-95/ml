{
 "cells": [
  {
   "cell_type": "code",
   "execution_count": 1,
   "id": "f2506bbe",
   "metadata": {},
   "outputs": [],
   "source": [
    "import numpy as np\n",
    "import pandas as pd\n",
    "import seaborn as sns\n",
    "import matplotlib.pyplot as plt\n",
    "import statsmodels.formula.api as smf\n",
    "from sklearn import metrics\n",
    "\n",
    "%matplotlib inline"
   ]
  },
  {
   "cell_type": "markdown",
   "id": "9d9de305",
   "metadata": {},
   "source": [
    "### Singapore condo data set"
   ]
  },
  {
   "cell_type": "code",
   "execution_count": 2,
   "id": "b46023e4",
   "metadata": {
    "scrolled": true
   },
   "outputs": [
    {
     "data": {
      "text/html": [
       "<div>\n",
       "<style scoped>\n",
       "    .dataframe tbody tr th:only-of-type {\n",
       "        vertical-align: middle;\n",
       "    }\n",
       "\n",
       "    .dataframe tbody tr th {\n",
       "        vertical-align: top;\n",
       "    }\n",
       "\n",
       "    .dataframe thead th {\n",
       "        text-align: right;\n",
       "    }\n",
       "</style>\n",
       "<table border=\"1\" class=\"dataframe\">\n",
       "  <thead>\n",
       "    <tr style=\"text-align: right;\">\n",
       "      <th></th>\n",
       "      <th>name</th>\n",
       "      <th>price</th>\n",
       "      <th>unit_price</th>\n",
       "      <th>district_code</th>\n",
       "      <th>segment</th>\n",
       "      <th>type</th>\n",
       "      <th>area</th>\n",
       "      <th>level</th>\n",
       "      <th>remaining_years</th>\n",
       "      <th>date</th>\n",
       "    </tr>\n",
       "  </thead>\n",
       "  <tbody>\n",
       "    <tr>\n",
       "      <th>0</th>\n",
       "      <td>SEASCAPE</td>\n",
       "      <td>4388000</td>\n",
       "      <td>2028</td>\n",
       "      <td>4</td>\n",
       "      <td>CCR</td>\n",
       "      <td>Resale</td>\n",
       "      <td>2164</td>\n",
       "      <td>06 to 10</td>\n",
       "      <td>87.0</td>\n",
       "      <td>Nov-19</td>\n",
       "    </tr>\n",
       "    <tr>\n",
       "      <th>1</th>\n",
       "      <td>COMMONWEALTH TOWERS</td>\n",
       "      <td>1300000</td>\n",
       "      <td>1887</td>\n",
       "      <td>3</td>\n",
       "      <td>RCR</td>\n",
       "      <td>Resale</td>\n",
       "      <td>689</td>\n",
       "      <td>16 to 20</td>\n",
       "      <td>93.0</td>\n",
       "      <td>Nov-19</td>\n",
       "    </tr>\n",
       "    <tr>\n",
       "      <th>2</th>\n",
       "      <td>THE TRILINQ</td>\n",
       "      <td>1755000</td>\n",
       "      <td>1304</td>\n",
       "      <td>5</td>\n",
       "      <td>OCR</td>\n",
       "      <td>Resale</td>\n",
       "      <td>1346</td>\n",
       "      <td>06 to 10</td>\n",
       "      <td>92.0</td>\n",
       "      <td>Nov-19</td>\n",
       "    </tr>\n",
       "    <tr>\n",
       "      <th>3</th>\n",
       "      <td>THE CREST</td>\n",
       "      <td>2085000</td>\n",
       "      <td>2201</td>\n",
       "      <td>3</td>\n",
       "      <td>RCR</td>\n",
       "      <td>Resale</td>\n",
       "      <td>947</td>\n",
       "      <td>01 to 05</td>\n",
       "      <td>92.0</td>\n",
       "      <td>Nov-19</td>\n",
       "    </tr>\n",
       "    <tr>\n",
       "      <th>4</th>\n",
       "      <td>THE ANCHORAGE</td>\n",
       "      <td>1848888</td>\n",
       "      <td>1468</td>\n",
       "      <td>3</td>\n",
       "      <td>RCR</td>\n",
       "      <td>Resale</td>\n",
       "      <td>1259</td>\n",
       "      <td>01 to 05</td>\n",
       "      <td>999.0</td>\n",
       "      <td>Nov-19</td>\n",
       "    </tr>\n",
       "  </tbody>\n",
       "</table>\n",
       "</div>"
      ],
      "text/plain": [
       "                  name    price  unit_price  district_code segment    type  \\\n",
       "0             SEASCAPE  4388000        2028              4     CCR  Resale   \n",
       "1  COMMONWEALTH TOWERS  1300000        1887              3     RCR  Resale   \n",
       "2          THE TRILINQ  1755000        1304              5     OCR  Resale   \n",
       "3            THE CREST  2085000        2201              3     RCR  Resale   \n",
       "4        THE ANCHORAGE  1848888        1468              3     RCR  Resale   \n",
       "\n",
       "   area     level  remaining_years    date  \n",
       "0  2164  06 to 10             87.0  Nov-19  \n",
       "1   689  16 to 20             93.0  Nov-19  \n",
       "2  1346  06 to 10             92.0  Nov-19  \n",
       "3   947  01 to 05             92.0  Nov-19  \n",
       "4  1259  01 to 05            999.0  Nov-19  "
      ]
     },
     "execution_count": 2,
     "metadata": {},
     "output_type": "execute_result"
    }
   ],
   "source": [
    "condo = pd.read_csv(\"condo.csv\")\n",
    "condo.head()"
   ]
  },
  {
   "cell_type": "markdown",
   "id": "324e2278",
   "metadata": {},
   "source": [
    "#### Exercise\n",
    "Figure out what .iloc[::2] means and write down comments for your own reference"
   ]
  },
  {
   "cell_type": "code",
   "execution_count": 3,
   "id": "19b7e50f",
   "metadata": {},
   "outputs": [
    {
     "data": {
      "text/plain": [
       "(31, 10)"
      ]
     },
     "execution_count": 3,
     "metadata": {},
     "output_type": "execute_result"
    }
   ],
   "source": [
    "# subset 1 \n",
    "subset1 = condo.loc[condo['name']=='THE ANCHORAGE'].iloc[::2]\n",
    "subset1.shape"
   ]
  },
  {
   "cell_type": "code",
   "execution_count": 4,
   "id": "bb14c9b9",
   "metadata": {},
   "outputs": [
    {
     "data": {
      "text/plain": [
       "(31, 10)"
      ]
     },
     "execution_count": 4,
     "metadata": {},
     "output_type": "execute_result"
    }
   ],
   "source": [
    "# subset 2 \n",
    "subset2 = condo.loc[condo['name']=='THE ANCHORAGE'].iloc[1::2]\n",
    "subset2.shape"
   ]
  },
  {
   "cell_type": "markdown",
   "id": "f2c8198b",
   "metadata": {},
   "source": [
    "### Bias-Variance Tradeoff\n",
    "#### Exercise for a simple model\n",
    "- Implement OLS with only one input variable `area`\n",
    "- Put in subset1 and subset2 to check the difference in two OLS models"
   ]
  },
  {
   "cell_type": "code",
   "execution_count": 5,
   "id": "201a583c",
   "metadata": {},
   "outputs": [
    {
     "name": "stdout",
     "output_type": "stream",
     "text": [
      "                            OLS Regression Results                            \n",
      "==============================================================================\n",
      "Dep. Variable:                  price   R-squared:                       0.710\n",
      "Model:                            OLS   Adj. R-squared:                  0.700\n",
      "Method:                 Least Squares   F-statistic:                     71.07\n",
      "Date:                Fri, 06 May 2022   Prob (F-statistic):           2.73e-09\n",
      "Time:                        13:16:09   Log-Likelihood:                -422.41\n",
      "No. Observations:                  31   AIC:                             848.8\n",
      "Df Residuals:                      29   BIC:                             851.7\n",
      "Df Model:                           1                                         \n",
      "Covariance Type:            nonrobust                                         \n",
      "==============================================================================\n",
      "                 coef    std err          t      P>|t|      [0.025      0.975]\n",
      "------------------------------------------------------------------------------\n",
      "Intercept   1.794e+05    2.1e+05      0.854      0.400    -2.5e+05    6.09e+05\n",
      "area        1203.2490    142.731      8.430      0.000     911.332    1495.166\n",
      "==============================================================================\n",
      "Omnibus:                        2.231   Durbin-Watson:                   0.668\n",
      "Prob(Omnibus):                  0.328   Jarque-Bera (JB):                1.919\n",
      "Skew:                           0.496   Prob(JB):                        0.383\n",
      "Kurtosis:                       2.292   Cond. No.                     8.32e+03\n",
      "==============================================================================\n",
      "\n",
      "Notes:\n",
      "[1] Standard Errors assume that the covariance matrix of the errors is correctly specified.\n",
      "[2] The condition number is large, 8.32e+03. This might indicate that there are\n",
      "strong multicollinearity or other numerical problems.\n"
     ]
    }
   ],
   "source": [
    "model = smf.ols('price ~ area', data=subset1) \n",
    "results = model.fit()\n",
    "print(results.summary())"
   ]
  },
  {
   "cell_type": "code",
   "execution_count": 6,
   "id": "77f7ccea",
   "metadata": {
    "scrolled": false
   },
   "outputs": [
    {
     "name": "stdout",
     "output_type": "stream",
     "text": [
      "                            OLS Regression Results                            \n",
      "==============================================================================\n",
      "Dep. Variable:                  price   R-squared:                       0.749\n",
      "Model:                            OLS   Adj. R-squared:                  0.741\n",
      "Method:                 Least Squares   F-statistic:                     86.65\n",
      "Date:                Fri, 06 May 2022   Prob (F-statistic):           3.27e-10\n",
      "Time:                        13:16:09   Log-Likelihood:                -426.48\n",
      "No. Observations:                  31   AIC:                             857.0\n",
      "Df Residuals:                      29   BIC:                             859.8\n",
      "Df Model:                           1                                         \n",
      "Covariance Type:            nonrobust                                         \n",
      "==============================================================================\n",
      "                 coef    std err          t      P>|t|      [0.025      0.975]\n",
      "------------------------------------------------------------------------------\n",
      "Intercept  -1.106e+05   2.31e+05     -0.478      0.636   -5.84e+05    3.62e+05\n",
      "area        1412.9608    151.795      9.308      0.000    1102.506    1723.416\n",
      "==============================================================================\n",
      "Omnibus:                        1.585   Durbin-Watson:                   0.660\n",
      "Prob(Omnibus):                  0.453   Jarque-Bera (JB):                1.469\n",
      "Skew:                           0.438   Prob(JB):                        0.480\n",
      "Kurtosis:                       2.391   Cond. No.                     8.31e+03\n",
      "==============================================================================\n",
      "\n",
      "Notes:\n",
      "[1] Standard Errors assume that the covariance matrix of the errors is correctly specified.\n",
      "[2] The condition number is large, 8.31e+03. This might indicate that there are\n",
      "strong multicollinearity or other numerical problems.\n"
     ]
    }
   ],
   "source": [
    "model = smf.ols('price ~ area', data=subset2) \n",
    "results = model.fit()\n",
    "print(results.summary())"
   ]
  },
  {
   "cell_type": "markdown",
   "id": "1f3f6163",
   "metadata": {},
   "source": [
    "The above two models are \n",
    "- low or high bias?\n",
    "- low or high variance?"
   ]
  },
  {
   "cell_type": "markdown",
   "id": "52be6475",
   "metadata": {},
   "source": [
    "#### Exercise for a complex model\n",
    "- Implement OLS with only one input variable `area` but with 4 terms, area, area^2, area^3, area^4\n",
    "- Hint: use np.power() in the formula string\n",
    "- Put in subset1 and subset2 to check the difference in two OLS models"
   ]
  },
  {
   "cell_type": "code",
   "execution_count": 7,
   "id": "54186f6f",
   "metadata": {},
   "outputs": [
    {
     "name": "stdout",
     "output_type": "stream",
     "text": [
      "                            OLS Regression Results                            \n",
      "==============================================================================\n",
      "Dep. Variable:                  price   R-squared:                       0.777\n",
      "Model:                            OLS   Adj. R-squared:                  0.752\n",
      "Method:                 Least Squares   F-statistic:                     31.34\n",
      "Date:                Fri, 06 May 2022   Prob (F-statistic):           6.07e-09\n",
      "Time:                        13:16:09   Log-Likelihood:                -418.35\n",
      "No. Observations:                  31   AIC:                             844.7\n",
      "Df Residuals:                      27   BIC:                             850.4\n",
      "Df Model:                           3                                         \n",
      "Covariance Type:            nonrobust                                         \n",
      "=====================================================================================\n",
      "                        coef    std err          t      P>|t|      [0.025      0.975]\n",
      "-------------------------------------------------------------------------------------\n",
      "Intercept           -10.7864     11.173     -0.965      0.343     -33.712      12.139\n",
      "area              -4155.2327   4304.183     -0.965      0.343    -1.3e+04    4676.221\n",
      "np.power(area, 2)    11.9402      8.370      1.427      0.165      -5.234      29.114\n",
      "np.power(area, 3)    -0.0084      0.005     -1.574      0.127      -0.019       0.003\n",
      "np.power(area, 4)  1.898e-06   1.11e-06      1.710      0.099   -3.79e-07    4.17e-06\n",
      "==============================================================================\n",
      "Omnibus:                        2.751   Durbin-Watson:                   0.614\n",
      "Prob(Omnibus):                  0.253   Jarque-Bera (JB):                2.408\n",
      "Skew:                           0.659   Prob(JB):                        0.300\n",
      "Kurtosis:                       2.640   Cond. No.                     9.53e+15\n",
      "==============================================================================\n",
      "\n",
      "Notes:\n",
      "[1] Standard Errors assume that the covariance matrix of the errors is correctly specified.\n",
      "[2] The condition number is large, 9.53e+15. This might indicate that there are\n",
      "strong multicollinearity or other numerical problems.\n"
     ]
    }
   ],
   "source": [
    "model = smf.ols('price ~ area + np.power(area, 2) + np.power(area, 3) + np.power(area, 4)', data=subset1) \n",
    "results = model.fit()\n",
    "print(results.summary())"
   ]
  },
  {
   "cell_type": "code",
   "execution_count": 8,
   "id": "84e20b90",
   "metadata": {
    "scrolled": false
   },
   "outputs": [
    {
     "name": "stdout",
     "output_type": "stream",
     "text": [
      "                            OLS Regression Results                            \n",
      "==============================================================================\n",
      "Dep. Variable:                  price   R-squared:                       0.839\n",
      "Model:                            OLS   Adj. R-squared:                  0.821\n",
      "Method:                 Least Squares   F-statistic:                     46.87\n",
      "Date:                Fri, 06 May 2022   Prob (F-statistic):           7.75e-11\n",
      "Time:                        13:16:09   Log-Likelihood:                -419.63\n",
      "No. Observations:                  31   AIC:                             847.3\n",
      "Df Residuals:                      27   BIC:                             853.0\n",
      "Df Model:                           3                                         \n",
      "Covariance Type:            nonrobust                                         \n",
      "=====================================================================================\n",
      "                        coef    std err          t      P>|t|      [0.025      0.975]\n",
      "-------------------------------------------------------------------------------------\n",
      "Intercept           -27.7147      8.492     -3.264      0.003     -45.139     -10.291\n",
      "area              -1.003e+04   3074.179     -3.264      0.003   -1.63e+04   -3725.278\n",
      "np.power(area, 2)    22.8562      6.059      3.772      0.001      10.424      35.289\n",
      "np.power(area, 3)    -0.0150      0.004     -3.828      0.001      -0.023      -0.007\n",
      "np.power(area, 4)  3.203e-06   8.28e-07      3.868      0.001     1.5e-06     4.9e-06\n",
      "==============================================================================\n",
      "Omnibus:                        5.292   Durbin-Watson:                   0.513\n",
      "Prob(Omnibus):                  0.071   Jarque-Bera (JB):                1.930\n",
      "Skew:                           0.174   Prob(JB):                        0.381\n",
      "Kurtosis:                       1.828   Cond. No.                     3.99e+15\n",
      "==============================================================================\n",
      "\n",
      "Notes:\n",
      "[1] Standard Errors assume that the covariance matrix of the errors is correctly specified.\n",
      "[2] The condition number is large, 3.99e+15. This might indicate that there are\n",
      "strong multicollinearity or other numerical problems.\n"
     ]
    }
   ],
   "source": [
    "model = smf.ols('price ~ area + np.power(area, 2) + np.power(area, 3) + np.power(area, 4)', data=subset2) \n",
    "results = model.fit()\n",
    "print(results.summary())"
   ]
  },
  {
   "cell_type": "markdown",
   "id": "dc370634",
   "metadata": {},
   "source": [
    "Again, the above two models are \n",
    "- low or high bias?\n",
    "- low or high variance?"
   ]
  },
  {
   "cell_type": "markdown",
   "id": "36b63715",
   "metadata": {},
   "source": [
    "### Taiwan property data set"
   ]
  },
  {
   "cell_type": "code",
   "execution_count": 9,
   "id": "d6de5a9f",
   "metadata": {},
   "outputs": [
    {
     "data": {
      "text/html": [
       "<div>\n",
       "<style scoped>\n",
       "    .dataframe tbody tr th:only-of-type {\n",
       "        vertical-align: middle;\n",
       "    }\n",
       "\n",
       "    .dataframe tbody tr th {\n",
       "        vertical-align: top;\n",
       "    }\n",
       "\n",
       "    .dataframe thead th {\n",
       "        text-align: right;\n",
       "    }\n",
       "</style>\n",
       "<table border=\"1\" class=\"dataframe\">\n",
       "  <thead>\n",
       "    <tr style=\"text-align: right;\">\n",
       "      <th></th>\n",
       "      <th>house_age</th>\n",
       "      <th>distance_to_nearest_MRT</th>\n",
       "      <th>no_of_convenience_stores</th>\n",
       "      <th>latitude</th>\n",
       "      <th>longitude</th>\n",
       "      <th>house_price_per_unit_area</th>\n",
       "    </tr>\n",
       "    <tr>\n",
       "      <th>No</th>\n",
       "      <th></th>\n",
       "      <th></th>\n",
       "      <th></th>\n",
       "      <th></th>\n",
       "      <th></th>\n",
       "      <th></th>\n",
       "    </tr>\n",
       "  </thead>\n",
       "  <tbody>\n",
       "    <tr>\n",
       "      <th>1</th>\n",
       "      <td>32.0</td>\n",
       "      <td>84.87882</td>\n",
       "      <td>10</td>\n",
       "      <td>24.98298</td>\n",
       "      <td>121.54024</td>\n",
       "      <td>37.9</td>\n",
       "    </tr>\n",
       "    <tr>\n",
       "      <th>2</th>\n",
       "      <td>19.5</td>\n",
       "      <td>306.59470</td>\n",
       "      <td>9</td>\n",
       "      <td>24.98034</td>\n",
       "      <td>121.53951</td>\n",
       "      <td>42.2</td>\n",
       "    </tr>\n",
       "    <tr>\n",
       "      <th>3</th>\n",
       "      <td>13.3</td>\n",
       "      <td>561.98450</td>\n",
       "      <td>5</td>\n",
       "      <td>24.98746</td>\n",
       "      <td>121.54391</td>\n",
       "      <td>47.3</td>\n",
       "    </tr>\n",
       "    <tr>\n",
       "      <th>4</th>\n",
       "      <td>13.3</td>\n",
       "      <td>561.98450</td>\n",
       "      <td>5</td>\n",
       "      <td>24.98746</td>\n",
       "      <td>121.54391</td>\n",
       "      <td>54.8</td>\n",
       "    </tr>\n",
       "    <tr>\n",
       "      <th>5</th>\n",
       "      <td>5.0</td>\n",
       "      <td>390.56840</td>\n",
       "      <td>5</td>\n",
       "      <td>24.97937</td>\n",
       "      <td>121.54245</td>\n",
       "      <td>43.1</td>\n",
       "    </tr>\n",
       "  </tbody>\n",
       "</table>\n",
       "</div>"
      ],
      "text/plain": [
       "    house_age  distance_to_nearest_MRT  no_of_convenience_stores  latitude  \\\n",
       "No                                                                           \n",
       "1        32.0                 84.87882                        10  24.98298   \n",
       "2        19.5                306.59470                         9  24.98034   \n",
       "3        13.3                561.98450                         5  24.98746   \n",
       "4        13.3                561.98450                         5  24.98746   \n",
       "5         5.0                390.56840                         5  24.97937   \n",
       "\n",
       "    longitude  house_price_per_unit_area  \n",
       "No                                        \n",
       "1   121.54024                       37.9  \n",
       "2   121.53951                       42.2  \n",
       "3   121.54391                       47.3  \n",
       "4   121.54391                       54.8  \n",
       "5   121.54245                       43.1  "
      ]
     },
     "execution_count": 9,
     "metadata": {},
     "output_type": "execute_result"
    }
   ],
   "source": [
    "house = pd.read_excel(\"Real estate valuation data set.xlsx\", index_col=0)\n",
    "house.head()"
   ]
  },
  {
   "cell_type": "markdown",
   "id": "2499f97b",
   "metadata": {},
   "source": [
    "### Linear Regression with regularization: LASSO vs. Ridge"
   ]
  },
  {
   "cell_type": "markdown",
   "id": "6e8ca9f1",
   "metadata": {},
   "source": [
    "#### Exercise:\n",
    "- Implement OLS model with house_price_per_unit_area as target variable and the other columns as input variables, except latitude and longitude\n",
    "- instead of fit(), use fit_regularized()\n",
    "- check out documentation to figure out what parameter needs to be set to make it LASSO or Ridge \n",
    "https://www.statsmodels.org/stable/generated/statsmodels.regression.linear_model.OLS.fit_regularized.html\n",
    "\n",
    "- parameter alpha is the penalty weight"
   ]
  },
  {
   "cell_type": "markdown",
   "id": "79ce63c2",
   "metadata": {},
   "source": [
    "LASSO Regularization"
   ]
  },
  {
   "cell_type": "code",
   "execution_count": 10,
   "id": "6fee2aa7",
   "metadata": {},
   "outputs": [],
   "source": [
    "model = smf.ols('house_price_per_unit_area ~ house_age + distance_to_nearest_MRT + no_of_convenience_stores', data=house) \n",
    "results = model.fit_regularized(L1_wt=1,alpha=100)   #L1, Lasso"
   ]
  },
  {
   "cell_type": "markdown",
   "id": "90cede2d",
   "metadata": {},
   "source": [
    "Ridge Regularization"
   ]
  },
  {
   "cell_type": "code",
   "execution_count": 11,
   "id": "3b673514",
   "metadata": {},
   "outputs": [],
   "source": [
    "results = model.fit_regularized(L1_wt=0,alpha=100) #L2, Ridge "
   ]
  },
  {
   "cell_type": "markdown",
   "id": "139fbfb3",
   "metadata": {},
   "source": [
    "Since `fit_regularized()` return an object to `results`, which does not have a `summary()` built-in method readily available, we need to manually prepare the summary of results.\n",
    "\n",
    "- Run the below cell with results from LASSO vs. Ridge to see the difference\n",
    "- Change alpha to see how alpha affects the coefficients\n",
    "- for LASSO, if alpha is set to 100, what do you see?\n",
    "- for Ridge, if alpha is set to 100, what do you see?"
   ]
  },
  {
   "cell_type": "code",
   "execution_count": 12,
   "id": "3ea2a783",
   "metadata": {
    "scrolled": true
   },
   "outputs": [
    {
     "name": "stdout",
     "output_type": "stream",
     "text": [
      "                                OLS Regression Results                               \n",
      "=====================================================================================\n",
      "Dep. Variable:     house_price_per_unit_area   R-squared:                      -2.359\n",
      "Model:                                   OLS   Adj. R-squared:                 -2.384\n",
      "Method:                        Least Squares   F-statistic:                    -95.99\n",
      "Date:                       Fri, 06 May 2022   Prob (F-statistic):               1.00\n",
      "Time:                               13:16:11   Log-Likelihood:                -1918.5\n",
      "No. Observations:                        414   AIC:                             3845.\n",
      "Df Residuals:                            410   BIC:                             3861.\n",
      "Df Model:                                  3                                         \n",
      "Covariance Type:                   nonrobust                                         \n",
      "============================================================================================\n",
      "                               coef    std err          t      P>|t|      [0.025      0.975]\n",
      "--------------------------------------------------------------------------------------------\n",
      "Intercept                    0.1422      3.746      0.038      0.970      -7.222       7.506\n",
      "house_age                    0.9443      0.109      8.702      0.000       0.731       1.158\n",
      "distance_to_nearest_MRT      0.0033      0.001      2.726      0.007       0.001       0.006\n",
      "no_of_convenience_stores     0.8001      0.526      1.522      0.129      -0.233       1.833\n",
      "==============================================================================\n",
      "Omnibus:                        8.311   Durbin-Watson:                   1.312\n",
      "Prob(Omnibus):                  0.016   Jarque-Bera (JB):                8.201\n",
      "Skew:                           0.327   Prob(JB):                       0.0166\n",
      "Kurtosis:                       3.217   Cond. No.                     5.09e+03\n",
      "==============================================================================\n",
      "\n",
      "Notes:\n",
      "[1] Standard Errors assume that the covariance matrix of the errors is correctly specified.\n",
      "[2] The condition number is large, 5.09e+03. This might indicate that there are\n",
      "strong multicollinearity or other numerical problems.\n"
     ]
    }
   ],
   "source": [
    "from statsmodels.tools.tools import pinv_extended\n",
    "import statsmodels.api as sm\n",
    "\n",
    "pinv_wexog,_ = pinv_extended(model.wexog)\n",
    "normalized_cov_params = np.dot(pinv_wexog, np.transpose(pinv_wexog))\n",
    "\n",
    "final = sm.regression.linear_model.OLSResults(model, \n",
    "                                  results.params, \n",
    "                                  normalized_cov_params)\n",
    "\n",
    "print(final.summary())"
   ]
  },
  {
   "cell_type": "markdown",
   "id": "5ad95835",
   "metadata": {},
   "source": [
    "### Logistic Regression with regularization: LASSO vs. Ridge"
   ]
  },
  {
   "cell_type": "markdown",
   "id": "ab6217a2",
   "metadata": {},
   "source": [
    "#### Social_Network_Ads data set"
   ]
  },
  {
   "cell_type": "code",
   "execution_count": 13,
   "id": "07c46bff",
   "metadata": {},
   "outputs": [],
   "source": [
    "data = pd.read_csv('Social_Network_Ads.csv')\n",
    "y = data.loc[:,\"Purchased\"]\n",
    "x_orig = data.loc[:, \"Gender\":\"EstimatedSalary\"]\n",
    "x_encoded = x_orig.copy() \n",
    "x_encoded.loc[:,\"Gender\"] = (x_encoded.loc[:,\"Gender\"] == \"Female\").astype(int)\n",
    "x_encoded.loc[:,\"EstimatedSalary\"] = x_encoded.loc[:,\"EstimatedSalary\"] / 1000\n",
    "\n",
    "from sklearn.model_selection import train_test_split\n",
    "x_train, x_test, y_train, y_test = train_test_split(x_encoded, y, test_size=0.3, random_state=12345)"
   ]
  },
  {
   "cell_type": "markdown",
   "id": "7fe3d744",
   "metadata": {},
   "source": [
    "#### Exercise: Implement LogisticRegression \n",
    "\n",
    "#### Let's first use LogisticRegression from sklearn library\n",
    "\n",
    "Documentation:\n",
    "\n",
    "https://scikit-learn.org/dev/modules/generated/sklearn.linear_model.LogisticRegression.html\n",
    "\n",
    "Take note of parameters\n",
    "- `penalty`\n",
    "- `C`\n",
    "- `solver`: can only use saga solver to have both L1 and L2 penalty\n",
    "- `max_iter`\n",
    "\n",
    "Especially for parameter `C`: \n",
    "- float, default=1.0\n",
    "- Inverse of regularization strength; must be a positive float. \n",
    "- Smaller values specify stronger regularization."
   ]
  },
  {
   "cell_type": "markdown",
   "id": "9a1bb104",
   "metadata": {},
   "source": [
    "LASSO Regularization"
   ]
  },
  {
   "cell_type": "code",
   "execution_count": null,
   "id": "127b4967",
   "metadata": {
    "scrolled": true
   },
   "outputs": [
    {
     "ename": "KeyboardInterrupt",
     "evalue": "",
     "output_type": "error",
     "traceback": [
      "\u001B[1;31m---------------------------------------------------------------------------\u001B[0m",
      "\u001B[1;31mKeyboardInterrupt\u001B[0m                         Traceback (most recent call last)",
      "\u001B[1;32m~\\AppData\\Local\\Temp\\ipykernel_18620\\3272590960.py\u001B[0m in \u001B[0;36m<module>\u001B[1;34m\u001B[0m\n\u001B[0;32m      7\u001B[0m \u001B[0mremove_imported_pydev_package\u001B[0m\u001B[1;33m(\u001B[0m\u001B[1;33m)\u001B[0m\u001B[1;33m\u001B[0m\u001B[1;33m\u001B[0m\u001B[0m\n\u001B[0;32m      8\u001B[0m \u001B[1;32mimport\u001B[0m \u001B[0mpydev_jupyter_utils\u001B[0m\u001B[1;33m\u001B[0m\u001B[1;33m\u001B[0m\u001B[0m\n\u001B[1;32m----> 9\u001B[1;33m \u001B[0mpydev_jupyter_utils\u001B[0m\u001B[1;33m.\u001B[0m\u001B[0mattach_to_debugger\u001B[0m\u001B[1;33m(\u001B[0m\u001B[1;36m49161\u001B[0m\u001B[1;33m)\u001B[0m\u001B[1;33m\u001B[0m\u001B[1;33m\u001B[0m\u001B[0m\n\u001B[0m",
      "\u001B[1;32mC:\\Program Files\\JetBrains\\PyCharm 2022.3.2\\plugins\\python\\helpers-pro\\jupyter_debug\\pydev_jupyter_utils.py\u001B[0m in \u001B[0;36mattach_to_debugger\u001B[1;34m(debugger_port)\u001B[0m\n\u001B[0;32m     72\u001B[0m     \u001B[0mipython_shell\u001B[0m \u001B[1;33m=\u001B[0m \u001B[0mget_ipython\u001B[0m\u001B[1;33m(\u001B[0m\u001B[1;33m)\u001B[0m\u001B[1;33m\u001B[0m\u001B[1;33m\u001B[0m\u001B[0m\n\u001B[0;32m     73\u001B[0m \u001B[1;33m\u001B[0m\u001B[0m\n\u001B[1;32m---> 74\u001B[1;33m     \u001B[1;32mimport\u001B[0m \u001B[0mpydevd\u001B[0m\u001B[1;33m\u001B[0m\u001B[1;33m\u001B[0m\u001B[0m\n\u001B[0m\u001B[0;32m     75\u001B[0m     \u001B[1;32mfrom\u001B[0m \u001B[0m_pydev_bundle\u001B[0m \u001B[1;32mimport\u001B[0m \u001B[0mpydev_localhost\u001B[0m\u001B[1;33m\u001B[0m\u001B[1;33m\u001B[0m\u001B[0m\n\u001B[0;32m     76\u001B[0m \u001B[1;33m\u001B[0m\u001B[0m\n",
      "\u001B[1;32mC:\\Program Files\\JetBrains\\PyCharm 2022.3.2\\plugins\\python\\helpers\\pydev\\pydevd.py\u001B[0m in \u001B[0;36m<module>\u001B[1;34m\u001B[0m\n\u001B[0;32m     43\u001B[0m \u001B[1;32mfrom\u001B[0m \u001B[0m_pydev_bundle\u001B[0m\u001B[1;33m.\u001B[0m\u001B[0mpydev_override\u001B[0m \u001B[1;32mimport\u001B[0m \u001B[0moverrides\u001B[0m\u001B[1;33m\u001B[0m\u001B[1;33m\u001B[0m\u001B[0m\n\u001B[0;32m     44\u001B[0m \u001B[1;32mfrom\u001B[0m \u001B[0m_pydevd_bundle\u001B[0m\u001B[1;33m.\u001B[0m\u001B[0mpydevd_breakpoints\u001B[0m \u001B[1;32mimport\u001B[0m \u001B[0mExceptionBreakpoint\u001B[0m\u001B[1;33m,\u001B[0m \u001B[0mset_fallback_excepthook\u001B[0m\u001B[1;33m,\u001B[0m \u001B[0mdisable_excepthook\u001B[0m\u001B[1;33m\u001B[0m\u001B[1;33m\u001B[0m\u001B[0m\n\u001B[1;32m---> 45\u001B[1;33m \u001B[1;32mfrom\u001B[0m \u001B[0m_pydevd_bundle\u001B[0m\u001B[1;33m.\u001B[0m\u001B[0mpydevd_comm\u001B[0m \u001B[1;32mimport\u001B[0m \u001B[0mCMD_SET_BREAK\u001B[0m\u001B[1;33m,\u001B[0m \u001B[0mCMD_SET_NEXT_STATEMENT\u001B[0m\u001B[1;33m,\u001B[0m \u001B[0mCMD_STEP_INTO\u001B[0m\u001B[1;33m,\u001B[0m \u001B[0mCMD_STEP_OVER\u001B[0m\u001B[1;33m,\u001B[0m\u001B[0;31m \u001B[0m\u001B[0;31m\\\u001B[0m\u001B[1;33m\u001B[0m\u001B[1;33m\u001B[0m\u001B[0m\n\u001B[0m\u001B[0;32m     46\u001B[0m     \u001B[0mCMD_STEP_RETURN\u001B[0m\u001B[1;33m,\u001B[0m \u001B[0mCMD_STEP_INTO_MY_CODE\u001B[0m\u001B[1;33m,\u001B[0m \u001B[0mCMD_THREAD_SUSPEND\u001B[0m\u001B[1;33m,\u001B[0m \u001B[0mCMD_RUN_TO_LINE\u001B[0m\u001B[1;33m,\u001B[0m\u001B[0;31m \u001B[0m\u001B[0;31m\\\u001B[0m\u001B[1;33m\u001B[0m\u001B[1;33m\u001B[0m\u001B[0m\n\u001B[0;32m     47\u001B[0m     \u001B[0mCMD_ADD_EXCEPTION_BREAK\u001B[0m\u001B[1;33m,\u001B[0m \u001B[0mCMD_SMART_STEP_INTO\u001B[0m\u001B[1;33m,\u001B[0m \u001B[0mInternalConsoleExec\u001B[0m\u001B[1;33m,\u001B[0m \u001B[0mNetCommandFactory\u001B[0m\u001B[1;33m,\u001B[0m\u001B[0;31m \u001B[0m\u001B[0;31m\\\u001B[0m\u001B[1;33m\u001B[0m\u001B[1;33m\u001B[0m\u001B[0m\n",
      "\u001B[1;32mC:\\Program Files\\JetBrains\\PyCharm 2022.3.2\\plugins\\python\\helpers\\pydev\\_pydevd_bundle\\pydevd_comm.py\u001B[0m in \u001B[0;36m<module>\u001B[1;34m\u001B[0m\n\u001B[0;32m     89\u001B[0m         \u001B[1;32mreturn\u001B[0m \u001B[0ms\u001B[0m\u001B[1;33m\u001B[0m\u001B[1;33m\u001B[0m\u001B[0m\n\u001B[0;32m     90\u001B[0m \u001B[1;33m\u001B[0m\u001B[0m\n\u001B[1;32m---> 91\u001B[1;33m \u001B[1;32mfrom\u001B[0m \u001B[0m_pydevd_bundle\u001B[0m \u001B[1;32mimport\u001B[0m \u001B[0mpydevd_console_integration\u001B[0m\u001B[1;33m\u001B[0m\u001B[1;33m\u001B[0m\u001B[0m\n\u001B[0m\u001B[0;32m     92\u001B[0m \u001B[1;32mfrom\u001B[0m \u001B[0m_pydevd_bundle\u001B[0m \u001B[1;32mimport\u001B[0m \u001B[0mpydevd_vars\u001B[0m\u001B[1;33m\u001B[0m\u001B[1;33m\u001B[0m\u001B[0m\n\u001B[0;32m     93\u001B[0m \u001B[1;32mimport\u001B[0m \u001B[0mpydevd_tracing\u001B[0m\u001B[1;33m\u001B[0m\u001B[1;33m\u001B[0m\u001B[0m\n",
      "\u001B[1;32mC:\\Program Files\\JetBrains\\PyCharm 2022.3.2\\plugins\\python\\helpers\\pydev\\_pydevd_bundle\\pydevd_console_integration.py\u001B[0m in \u001B[0;36m<module>\u001B[1;34m\u001B[0m\n\u001B[0;32m     12\u001B[0m \u001B[1;32mfrom\u001B[0m \u001B[0mcode\u001B[0m \u001B[1;32mimport\u001B[0m \u001B[0mcompile_command\u001B[0m\u001B[1;33m\u001B[0m\u001B[1;33m\u001B[0m\u001B[0m\n\u001B[0;32m     13\u001B[0m \u001B[1;33m\u001B[0m\u001B[0m\n\u001B[1;32m---> 14\u001B[1;33m \u001B[1;32mfrom\u001B[0m \u001B[0m_pydev_bundle\u001B[0m\u001B[1;33m.\u001B[0m\u001B[0mpydev_code_executor\u001B[0m \u001B[1;32mimport\u001B[0m \u001B[0mBaseCodeExecutor\u001B[0m\u001B[1;33m\u001B[0m\u001B[1;33m\u001B[0m\u001B[0m\n\u001B[0m\u001B[0;32m     15\u001B[0m \u001B[1;32mfrom\u001B[0m \u001B[0m_pydev_bundle\u001B[0m\u001B[1;33m.\u001B[0m\u001B[0mpydev_console_types\u001B[0m \u001B[1;32mimport\u001B[0m \u001B[0mCodeFragment\u001B[0m\u001B[1;33m,\u001B[0m \u001B[0mCommand\u001B[0m\u001B[1;33m\u001B[0m\u001B[1;33m\u001B[0m\u001B[0m\n\u001B[0;32m     16\u001B[0m \u001B[1;32mfrom\u001B[0m \u001B[0m_pydev_bundle\u001B[0m\u001B[1;33m.\u001B[0m\u001B[0mpydev_imports\u001B[0m \u001B[1;32mimport\u001B[0m \u001B[0mExec\u001B[0m\u001B[1;33m\u001B[0m\u001B[1;33m\u001B[0m\u001B[0m\n",
      "\u001B[1;32mC:\\Program Files\\JetBrains\\PyCharm 2022.3.2\\plugins\\python\\helpers\\pydev\\_pydev_bundle\\pydev_code_executor.py\u001B[0m in \u001B[0;36m<module>\u001B[1;34m\u001B[0m\n\u001B[0;32m      4\u001B[0m \u001B[1;32mimport\u001B[0m \u001B[0mtraceback\u001B[0m\u001B[1;33m\u001B[0m\u001B[1;33m\u001B[0m\u001B[0m\n\u001B[0;32m      5\u001B[0m \u001B[1;33m\u001B[0m\u001B[0m\n\u001B[1;32m----> 6\u001B[1;33m \u001B[1;32mfrom\u001B[0m \u001B[0m_pydev_bundle\u001B[0m\u001B[1;33m.\u001B[0m\u001B[0m_pydev_calltip_util\u001B[0m \u001B[1;32mimport\u001B[0m \u001B[0mget_description\u001B[0m\u001B[1;33m\u001B[0m\u001B[1;33m\u001B[0m\u001B[0m\n\u001B[0m\u001B[0;32m      7\u001B[0m \u001B[1;32mfrom\u001B[0m \u001B[0m_pydev_bundle\u001B[0m\u001B[1;33m.\u001B[0m\u001B[0mpydev_imports\u001B[0m \u001B[1;32mimport\u001B[0m \u001B[0m_queue\u001B[0m\u001B[1;33m\u001B[0m\u001B[1;33m\u001B[0m\u001B[0m\n\u001B[0;32m      8\u001B[0m \u001B[1;32mfrom\u001B[0m \u001B[0m_pydev_bundle\u001B[0m\u001B[1;33m.\u001B[0m\u001B[0mpydev_stdin\u001B[0m \u001B[1;32mimport\u001B[0m \u001B[0mDebugConsoleStdIn\u001B[0m\u001B[1;33m\u001B[0m\u001B[1;33m\u001B[0m\u001B[0m\n",
      "\u001B[1;32m~\\anaconda3\\lib\\importlib\\_bootstrap.py\u001B[0m in \u001B[0;36m_find_and_load\u001B[1;34m(name, import_)\u001B[0m\n",
      "\u001B[1;32m~\\anaconda3\\lib\\importlib\\_bootstrap.py\u001B[0m in \u001B[0;36m_find_and_load_unlocked\u001B[1;34m(name, import_)\u001B[0m\n",
      "\u001B[1;32m~\\anaconda3\\lib\\importlib\\_bootstrap.py\u001B[0m in \u001B[0;36m_load_unlocked\u001B[1;34m(spec)\u001B[0m\n",
      "\u001B[1;32m~\\anaconda3\\lib\\importlib\\_bootstrap_external.py\u001B[0m in \u001B[0;36mexec_module\u001B[1;34m(self, module)\u001B[0m\n",
      "\u001B[1;32m~\\anaconda3\\lib\\importlib\\_bootstrap_external.py\u001B[0m in \u001B[0;36mget_code\u001B[1;34m(self, fullname)\u001B[0m\n",
      "\u001B[1;32m~\\anaconda3\\lib\\importlib\\_bootstrap_external.py\u001B[0m in \u001B[0;36mget_data\u001B[1;34m(self, path)\u001B[0m\n",
      "\u001B[1;31mKeyboardInterrupt\u001B[0m: "
     ]
    }
   ],
   "source": [
    "from sklearn.linear_model import LogisticRegression\n",
    "logreg_lasso = LogisticRegression(penalty='l1', C=0.1, solver='saga', max_iter=10000)\n",
    "\n",
    "logreg_lasso.fit(x_train, y_train)\n",
    "print(logreg_lasso.intercept_, logreg_lasso.coef_)"
   ]
  },
  {
   "cell_type": "markdown",
   "id": "da6def58",
   "metadata": {},
   "source": [
    "Ridge Regularization"
   ]
  },
  {
   "cell_type": "code",
   "execution_count": 15,
   "id": "f3a4a0aa",
   "metadata": {
    "scrolled": true
   },
   "outputs": [
    {
     "name": "stdout",
     "output_type": "stream",
     "text": [
      "[-6.72246393] [[0.0219098  0.1217653  0.01808904]]\n"
     ]
    }
   ],
   "source": [
    "from sklearn.linear_model import LogisticRegression\n",
    "logreg_ridge = LogisticRegression(penalty='l2', C=0.5, solver='saga', max_iter=10000)\n",
    "\n",
    "logreg_ridge.fit(x_train, y_train)\n",
    "print(logreg_ridge.intercept_, logreg_ridge.coef_)"
   ]
  },
  {
   "cell_type": "markdown",
   "id": "b3de2960",
   "metadata": {},
   "source": [
    "TO DO: Change value of `C` to see the impact on `coef_` attribute"
   ]
  },
  {
   "cell_type": "markdown",
   "id": "46ddec75",
   "metadata": {},
   "source": [
    "#### Let's now use logit() from statsmodels library"
   ]
  },
  {
   "cell_type": "markdown",
   "id": "da3c4c49",
   "metadata": {},
   "source": [
    "Combine `x_train`, `y_train` into one DataFrame for logit()"
   ]
  },
  {
   "cell_type": "code",
   "execution_count": 16,
   "id": "00a918cb",
   "metadata": {
    "scrolled": true
   },
   "outputs": [
    {
     "data": {
      "text/html": [
       "<div>\n",
       "<style scoped>\n",
       "    .dataframe tbody tr th:only-of-type {\n",
       "        vertical-align: middle;\n",
       "    }\n",
       "\n",
       "    .dataframe tbody tr th {\n",
       "        vertical-align: top;\n",
       "    }\n",
       "\n",
       "    .dataframe thead th {\n",
       "        text-align: right;\n",
       "    }\n",
       "</style>\n",
       "<table border=\"1\" class=\"dataframe\">\n",
       "  <thead>\n",
       "    <tr style=\"text-align: right;\">\n",
       "      <th></th>\n",
       "      <th>Gender</th>\n",
       "      <th>Age</th>\n",
       "      <th>EstimatedSalary</th>\n",
       "      <th>Purchased</th>\n",
       "    </tr>\n",
       "  </thead>\n",
       "  <tbody>\n",
       "    <tr>\n",
       "      <th>262</th>\n",
       "      <td>1</td>\n",
       "      <td>55</td>\n",
       "      <td>125.0</td>\n",
       "      <td>1</td>\n",
       "    </tr>\n",
       "    <tr>\n",
       "      <th>3</th>\n",
       "      <td>1</td>\n",
       "      <td>27</td>\n",
       "      <td>57.0</td>\n",
       "      <td>0</td>\n",
       "    </tr>\n",
       "    <tr>\n",
       "      <th>298</th>\n",
       "      <td>0</td>\n",
       "      <td>45</td>\n",
       "      <td>79.0</td>\n",
       "      <td>0</td>\n",
       "    </tr>\n",
       "    <tr>\n",
       "      <th>292</th>\n",
       "      <td>0</td>\n",
       "      <td>55</td>\n",
       "      <td>39.0</td>\n",
       "      <td>1</td>\n",
       "    </tr>\n",
       "    <tr>\n",
       "      <th>75</th>\n",
       "      <td>0</td>\n",
       "      <td>34</td>\n",
       "      <td>112.0</td>\n",
       "      <td>1</td>\n",
       "    </tr>\n",
       "  </tbody>\n",
       "</table>\n",
       "</div>"
      ],
      "text/plain": [
       "     Gender  Age  EstimatedSalary  Purchased\n",
       "262       1   55            125.0          1\n",
       "3         1   27             57.0          0\n",
       "298       0   45             79.0          0\n",
       "292       0   55             39.0          1\n",
       "75        0   34            112.0          1"
      ]
     },
     "execution_count": 16,
     "metadata": {},
     "output_type": "execute_result"
    }
   ],
   "source": [
    "import statsmodels.formula.api as smf\n",
    "train_data_set = pd.concat([x_train, y_train], axis=1)\n",
    "train_data_set.head()"
   ]
  },
  {
   "cell_type": "markdown",
   "id": "8e0a9c57",
   "metadata": {},
   "source": [
    "By default logit() uses L1 regularization, Lasso.\n",
    "\n",
    "Ridge is not implemented yet by the creator of statsmodels library as of May 4, 2022\n",
    "\n",
    "Steps below\n",
    "- create logit() model with Purchased as target variable, and Gender, Age, EstimatedSalary as input variables\n",
    "- use `.fit_regularized()` instead of `fit()`\n",
    "- check out documentation\n",
    "https://www.statsmodels.org/dev/generated/statsmodels.discrete.discrete_model.Logit.fit_regularized.html\n",
    "- take note of `alpha` and `maxiter` parameters"
   ]
  },
  {
   "cell_type": "code",
   "execution_count": 17,
   "id": "a3975b57",
   "metadata": {
    "scrolled": true
   },
   "outputs": [
    {
     "name": "stdout",
     "output_type": "stream",
     "text": [
      "Optimization terminated successfully    (Exit mode 0)\n",
      "            Current function value: 0.31229114329307067\n",
      "            Iterations: 26\n",
      "            Function evaluations: 31\n",
      "            Gradient evaluations: 26\n",
      "                           Logit Regression Results                           \n",
      "==============================================================================\n",
      "Dep. Variable:              Purchased   No. Observations:                  280\n",
      "Model:                          Logit   Df Residuals:                      276\n",
      "Method:                           MLE   Df Model:                            3\n",
      "Date:                Fri, 06 May 2022   Pseudo R-squ.:                  0.5087\n",
      "Time:                        13:16:11   Log-Likelihood:                -87.441\n",
      "converged:                       True   LL-Null:                       -177.99\n",
      "Covariance Type:            nonrobust   LLR p-value:                 5.100e-39\n",
      "===================================================================================\n",
      "                      coef    std err          z      P>|z|      [0.025      0.975]\n",
      "-----------------------------------------------------------------------------------\n",
      "Intercept         -13.5906      1.683     -8.073      0.000     -16.890     -10.291\n",
      "Gender              0.2364      0.386      0.613      0.540      -0.520       0.992\n",
      "Age                 0.2492      0.033      7.496      0.000       0.184       0.314\n",
      "EstimatedSalary     0.0373      0.007      5.431      0.000       0.024       0.051\n",
      "===================================================================================\n"
     ]
    },
    {
     "name": "stderr",
     "output_type": "stream",
     "text": [
      "C:\\Users\\hbisx\\anaconda3\\lib\\site-packages\\statsmodels\\base\\l1_solvers_common.py:71: ConvergenceWarning: QC check did not pass for 4 out of 4 parameters\n",
      "Try increasing solver accuracy or number of iterations, decreasing alpha, or switch solvers\n",
      "  warnings.warn(message, ConvergenceWarning)\n",
      "C:\\Users\\hbisx\\anaconda3\\lib\\site-packages\\statsmodels\\base\\l1_solvers_common.py:144: ConvergenceWarning: Could not trim params automatically due to failed QC check. Trimming using trim_mode == 'size' will still work.\n",
      "  warnings.warn(msg, ConvergenceWarning)\n"
     ]
    }
   ],
   "source": [
    "model = smf.logit('Purchased ~ Gender + Age + EstimatedSalary', data=train_data_set) \n",
    "results = model.fit_regularized(alpha=0.00001, maxiter=1000000) \n",
    "print(results.summary())"
   ]
  },
  {
   "cell_type": "markdown",
   "id": "de405419",
   "metadata": {},
   "source": [
    "### Train vs. Validation vs. Test split"
   ]
  },
  {
   "cell_type": "markdown",
   "id": "58c598ec",
   "metadata": {},
   "source": [
    "#### Exercise:\n",
    "Split original data in `x_encoded`, `y` into train 60, validation 20, test 20.\n",
    "\n",
    "Hint: use `train_test_split()` twice\n"
   ]
  },
  {
   "cell_type": "code",
   "execution_count": 18,
   "id": "3b44d27b",
   "metadata": {},
   "outputs": [],
   "source": [
    "x_train, x_test, y_train, y_test = train_test_split(x_encoded, y, test_size=0.2, random_state=12345)\n",
    "\n",
    "x_train, x_val, y_train, y_val = train_test_split(x_train, y_train, test_size=0.25, random_state=12345)"
   ]
  },
  {
   "cell_type": "markdown",
   "id": "fb080f39",
   "metadata": {},
   "source": [
    "Better option: \n",
    "- use `cross_val_score()` to validate a model built from `sklearn` library\n",
    "- this cannot work with models from `statsmodels` library"
   ]
  },
  {
   "cell_type": "markdown",
   "id": "8080a524",
   "metadata": {},
   "source": [
    "#### Exercise:\n",
    "- use `cross_val_score()` to perform 5-fold cross-validation on `logreg_ridge` with Ridge regularization\n",
    "- check out Documentation: https://scikit-learn.org/stable/modules/generated/sklearn.model_selection.cross_val_score.html \n",
    "- check out Example: https://scikit-learn.org/stable/modules/cross_validation.html \n"
   ]
  },
  {
   "cell_type": "code",
   "execution_count": 19,
   "id": "56b95745",
   "metadata": {},
   "outputs": [
    {
     "name": "stdout",
     "output_type": "stream",
     "text": [
      "[0.828125 0.84375  0.8125   0.859375 0.75    ]\n",
      "0.81875 accuracy with a standard deviation of 0.03775951866748304\n"
     ]
    }
   ],
   "source": [
    "from sklearn.model_selection import cross_val_score\n",
    "x_train, x_test, y_train, y_test = train_test_split(x_encoded, y, test_size=0.2, random_state=12345)\n",
    "# no need to manually create validation set from training set\n",
    "\n",
    "from sklearn.linear_model import LogisticRegression\n",
    "logreg_ridge = LogisticRegression(penalty='l2', C=0.5, solver='saga', max_iter=10000)\n",
    "\n",
    "scores = cross_val_score(estimator=logreg_ridge, X=x_train, y=y_train, cv=5)\n",
    "print(scores)\n",
    "print(scores.mean(), \"accuracy with a standard deviation of\", scores.std())"
   ]
  },
  {
   "cell_type": "markdown",
   "id": "62e4f23c",
   "metadata": {},
   "source": [
    "### Standardization"
   ]
  },
  {
   "cell_type": "markdown",
   "id": "6c48bd93",
   "metadata": {},
   "source": [
    "#### Exercise:\n",
    "Check out documentation: https://scikit-learn.org/stable/modules/generated/sklearn.preprocessing.StandardScaler.html\n",
    "\n",
    "Generate a new column `ScaledSalary` from original column `EstimatedSalary`, using `StandardScaler`\n",
    "\n",
    "Steps:\n",
    "- extract `EstimatedSalary` column from x_scaler\n",
    "- convert it to `np.array`, and do `reshape(-1,1)` into a 2D array of 1 column, store it in variable `orig_array`\n",
    "- create a new object out of StandardScaler class by `StandardScaler()`\n",
    "- call `.fit_transform()` and take in `orig_array`\n",
    "- assign the transformed array back to `EstimatedSalary` column"
   ]
  },
  {
   "cell_type": "markdown",
   "id": "cfb88058",
   "metadata": {},
   "source": [
    "Explanation on reshape()"
   ]
  },
  {
   "cell_type": "code",
   "execution_count": 219,
   "id": "cc9797d0",
   "metadata": {
    "scrolled": true
   },
   "outputs": [
    {
     "data": {
      "text/plain": [
       "array([0, 1, 2, 3, 4, 5, 6, 7, 8, 9])"
      ]
     },
     "execution_count": 219,
     "metadata": {},
     "output_type": "execute_result"
    }
   ],
   "source": [
    "a = np.arange(10)\n",
    "a"
   ]
  },
  {
   "cell_type": "code",
   "execution_count": 222,
   "id": "960807f6",
   "metadata": {},
   "outputs": [
    {
     "data": {
      "text/plain": [
       "array([[0, 1, 2, 3, 4],\n",
       "       [5, 6, 7, 8, 9]])"
      ]
     },
     "execution_count": 222,
     "metadata": {},
     "output_type": "execute_result"
    }
   ],
   "source": [
    "a = a.reshape(-1,5)\n",
    "a"
   ]
  },
  {
   "cell_type": "code",
   "execution_count": 194,
   "id": "a0e818d4",
   "metadata": {
    "scrolled": true
   },
   "outputs": [
    {
     "data": {
      "text/html": [
       "<div>\n",
       "<style scoped>\n",
       "    .dataframe tbody tr th:only-of-type {\n",
       "        vertical-align: middle;\n",
       "    }\n",
       "\n",
       "    .dataframe tbody tr th {\n",
       "        vertical-align: top;\n",
       "    }\n",
       "\n",
       "    .dataframe thead th {\n",
       "        text-align: right;\n",
       "    }\n",
       "</style>\n",
       "<table border=\"1\" class=\"dataframe\">\n",
       "  <thead>\n",
       "    <tr style=\"text-align: right;\">\n",
       "      <th></th>\n",
       "      <th>Gender</th>\n",
       "      <th>Age</th>\n",
       "      <th>EstimatedSalary</th>\n",
       "    </tr>\n",
       "  </thead>\n",
       "  <tbody>\n",
       "    <tr>\n",
       "      <th>0</th>\n",
       "      <td>0</td>\n",
       "      <td>19</td>\n",
       "      <td>-1.490046</td>\n",
       "    </tr>\n",
       "    <tr>\n",
       "      <th>1</th>\n",
       "      <td>0</td>\n",
       "      <td>35</td>\n",
       "      <td>-1.460681</td>\n",
       "    </tr>\n",
       "    <tr>\n",
       "      <th>2</th>\n",
       "      <td>1</td>\n",
       "      <td>26</td>\n",
       "      <td>-0.785290</td>\n",
       "    </tr>\n",
       "    <tr>\n",
       "      <th>3</th>\n",
       "      <td>1</td>\n",
       "      <td>27</td>\n",
       "      <td>-0.374182</td>\n",
       "    </tr>\n",
       "    <tr>\n",
       "      <th>4</th>\n",
       "      <td>0</td>\n",
       "      <td>19</td>\n",
       "      <td>0.183751</td>\n",
       "    </tr>\n",
       "    <tr>\n",
       "      <th>...</th>\n",
       "      <td>...</td>\n",
       "      <td>...</td>\n",
       "      <td>...</td>\n",
       "    </tr>\n",
       "    <tr>\n",
       "      <th>395</th>\n",
       "      <td>1</td>\n",
       "      <td>46</td>\n",
       "      <td>-0.844019</td>\n",
       "    </tr>\n",
       "    <tr>\n",
       "      <th>396</th>\n",
       "      <td>0</td>\n",
       "      <td>51</td>\n",
       "      <td>-1.372587</td>\n",
       "    </tr>\n",
       "    <tr>\n",
       "      <th>397</th>\n",
       "      <td>1</td>\n",
       "      <td>50</td>\n",
       "      <td>-1.460681</td>\n",
       "    </tr>\n",
       "    <tr>\n",
       "      <th>398</th>\n",
       "      <td>0</td>\n",
       "      <td>36</td>\n",
       "      <td>-1.078938</td>\n",
       "    </tr>\n",
       "    <tr>\n",
       "      <th>399</th>\n",
       "      <td>1</td>\n",
       "      <td>49</td>\n",
       "      <td>-0.990844</td>\n",
       "    </tr>\n",
       "  </tbody>\n",
       "</table>\n",
       "<p>400 rows × 3 columns</p>\n",
       "</div>"
      ],
      "text/plain": [
       "     Gender  Age  EstimatedSalary\n",
       "0         0   19        -1.490046\n",
       "1         0   35        -1.460681\n",
       "2         1   26        -0.785290\n",
       "3         1   27        -0.374182\n",
       "4         0   19         0.183751\n",
       "..      ...  ...              ...\n",
       "395       1   46        -0.844019\n",
       "396       0   51        -1.372587\n",
       "397       1   50        -1.460681\n",
       "398       0   36        -1.078938\n",
       "399       1   49        -0.990844\n",
       "\n",
       "[400 rows x 3 columns]"
      ]
     },
     "metadata": {},
     "output_type": "display_data"
    }
   ],
   "source": [
    "data = pd.read_csv('Social_Network_Ads.csv')\n",
    "y = data.loc[:,\"Purchased\"]\n",
    "x_orig = data.loc[:, \"Gender\":\"EstimatedSalary\"]\n",
    "x_scaler = x_orig.copy() \n",
    "x_scaler.loc[:,\"Gender\"] = (x_scaler.loc[:,\"Gender\"] == \"Female\").astype(int)\n",
    "\n",
    "\n",
    "from sklearn.preprocessing import StandardScaler\n",
    "orig_array = np.array(x_scaler[\"EstimatedSalary\"]).reshape(-1,1)\n",
    "x_scaler[\"EstimatedSalary\"] = StandardScaler().fit_transform(orig_array)\n",
    "\n",
    "display(x_scaler)"
   ]
  },
  {
   "cell_type": "markdown",
   "id": "ee52faea",
   "metadata": {},
   "source": [
    "The above two models are \n",
    "- low or high bias?\n",
    "- low or high variance?"
   ]
  },
  {
   "cell_type": "markdown",
   "id": "0815f0ca",
   "metadata": {},
   "source": [
    "Steps\n",
    "- use `x_scaler` and `y` to generate training and testing set\n",
    "- run previous LogisticRegression with LASSO regularization with the new training set with smaller `EstimatedSalary`\n",
    "\n",
    "Observation:\n",
    "- what is the coefficient of `EstimatedSalary` now?\n",
    "- what was the coefficient of `EstimatedSalary` previously without the standardization?"
   ]
  },
  {
   "cell_type": "code",
   "execution_count": 195,
   "id": "73833d7a",
   "metadata": {},
   "outputs": [
    {
     "name": "stdout",
     "output_type": "stream",
     "text": [
      "[-7.2014514] [[0.         0.16278732 0.92498727]]\n"
     ]
    }
   ],
   "source": [
    "from sklearn.model_selection import train_test_split\n",
    "x_train, x_test, y_train, y_test = train_test_split(x_scaler, y, test_size=0.3, random_state=12345)\n",
    "\n",
    "\n",
    "from sklearn.linear_model import LogisticRegression\n",
    "logreg_lasso = LogisticRegression(penalty='l1', C=0.5, solver='saga', max_iter=10000)\n",
    "\n",
    "logreg_lasso.fit(x_train, y_train)\n",
    "print(logreg_lasso.intercept_, logreg_lasso.coef_)"
   ]
  },
  {
   "cell_type": "markdown",
   "id": "0dbd02f5",
   "metadata": {},
   "source": [
    "Observation:\n",
    "- what is the coefficient of `EstimatedSalary` now?\n",
    "- what was the coefficient of `EstimatedSalary` previously without the standardization?"
   ]
  }
 ],
 "metadata": {
  "kernelspec": {
   "display_name": "Python 3 (ipykernel)",
   "language": "python",
   "name": "python3"
  },
  "language_info": {
   "codemirror_mode": {
    "name": "ipython",
    "version": 3
   },
   "file_extension": ".py",
   "mimetype": "text/x-python",
   "name": "python",
   "nbconvert_exporter": "python",
   "pygments_lexer": "ipython3",
   "version": "3.8.8"
  }
 },
 "nbformat": 4,
 "nbformat_minor": 5
}
