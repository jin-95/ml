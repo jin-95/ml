{
 "cells": [
  {
   "cell_type": "markdown",
   "id": "6a1eaaf8",
   "metadata": {},
   "source": [
    "### Why Python programming?\n",
    "#### High readability"
   ]
  },
  {
   "cell_type": "code",
   "execution_count": 1,
   "id": "da1c7698",
   "metadata": {
    "scrolled": true
   },
   "outputs": [
    {
     "name": "stdout",
     "output_type": "stream",
     "text": [
      "I love python and machine learning.\n",
      "I love python and machine learning.\n",
      "I love python and machine learning.\n",
      "I love python and machine learning.\n",
      "I love python and machine learning.\n",
      "\n"
     ]
    }
   ],
   "source": [
    "print(\"I love python and machine learning.\\n\" * 5)"
   ]
  },
  {
   "cell_type": "markdown",
   "id": "79cc76ce",
   "metadata": {},
   "source": [
    "### Introduction to Jupyter Notebook \n",
    "Two modes: **edit mode** and **command mode**.\n",
    "\n",
    "#### Edit mode\n",
    "Edit mode: Click in the cell and edit; green border\n",
    "\n",
    "To run a code cell in edit mode: Ctrl+enter (windows); control+return (Mac)\n",
    "\n",
    "Once a code cell is executed, there will be a number appearing in the square bracket in front of the cell, indicating the sequence of executing cells.\n",
    "\n",
    "If it is $*$ in the square bracket, it means the code is running for long, possibly has frozen\n",
    "\n",
    "#### Command mode\n",
    "Command mode: Click the white space in front of the cell; blue border\n",
    "Keyboard shortcuts\n",
    "- <code>A</code>: insert a cell above\n",
    "- <code>B</code>: insert a cell below\n",
    "- <code>D</code>, <code>D</code>: delete a cell\n",
    "- <code>M</code>: change to markdown mode\n",
    "- <code>Y</code>: change to code mode"
   ]
  },
  {
   "cell_type": "code",
   "execution_count": 2,
   "id": "fb4e7be8",
   "metadata": {},
   "outputs": [
    {
     "name": "stdout",
     "output_type": "stream",
     "text": [
      "10\n"
     ]
    }
   ],
   "source": [
    "print(10)"
   ]
  },
  {
   "cell_type": "markdown",
   "id": "4660efb7",
   "metadata": {},
   "source": [
    "### Variable"
   ]
  },
  {
   "cell_type": "code",
   "execution_count": 3,
   "id": "1d235bf1",
   "metadata": {
    "scrolled": true
   },
   "outputs": [
    {
     "name": "stdout",
     "output_type": "stream",
     "text": [
      "10\n"
     ]
    }
   ],
   "source": [
    "a = 10\n",
    "print(a)"
   ]
  },
  {
   "cell_type": "code",
   "execution_count": 4,
   "id": "d5d1e1b5",
   "metadata": {},
   "outputs": [
    {
     "name": "stdout",
     "output_type": "stream",
     "text": [
      "8\n"
     ]
    }
   ],
   "source": [
    "a = a - 2\n",
    "print(a)"
   ]
  },
  {
   "cell_type": "markdown",
   "id": "9c75a301",
   "metadata": {},
   "source": [
    "What happens to ‘print’ if it is used as a var name? "
   ]
  },
  {
   "cell_type": "code",
   "execution_count": 5,
   "id": "301ee977",
   "metadata": {},
   "outputs": [
    {
     "ename": "TypeError",
     "evalue": "'int' object is not callable",
     "output_type": "error",
     "traceback": [
      "\u001B[1;31m---------------------------------------------------------------------------\u001B[0m",
      "\u001B[1;31mTypeError\u001B[0m                                 Traceback (most recent call last)",
      "\u001B[1;32m~\\AppData\\Local\\Temp\\ipykernel_13316\\3987643940.py\u001B[0m in \u001B[0;36m<module>\u001B[1;34m\u001B[0m\n\u001B[0;32m      1\u001B[0m \u001B[1;31m# after you run this cell, make sure you restart kernel\u001B[0m\u001B[1;33m\u001B[0m\u001B[1;33m\u001B[0m\u001B[0m\n\u001B[0;32m      2\u001B[0m \u001B[0mprint\u001B[0m \u001B[1;33m=\u001B[0m \u001B[1;36m5\u001B[0m\u001B[1;33m\u001B[0m\u001B[1;33m\u001B[0m\u001B[0m\n\u001B[1;32m----> 3\u001B[1;33m \u001B[0mprint\u001B[0m\u001B[1;33m(\u001B[0m\u001B[1;36m10\u001B[0m\u001B[1;33m)\u001B[0m\u001B[1;33m\u001B[0m\u001B[1;33m\u001B[0m\u001B[0m\n\u001B[0m",
      "\u001B[1;31mTypeError\u001B[0m: 'int' object is not callable"
     ]
    }
   ],
   "source": [
    "# after you run this cell, make sure you restart kernel\n",
    "print = 5\n",
    "print(10)"
   ]
  },
  {
   "cell_type": "markdown",
   "id": "cf91a503",
   "metadata": {},
   "source": [
    "### Data Type"
   ]
  },
  {
   "cell_type": "code",
   "execution_count": 6,
   "id": "e875679e",
   "metadata": {},
   "outputs": [
    {
     "data": {
      "text/plain": "int"
     },
     "execution_count": 6,
     "metadata": {},
     "output_type": "execute_result"
    }
   ],
   "source": [
    "x = 1\n",
    "type(x)"
   ]
  },
  {
   "cell_type": "code",
   "execution_count": 7,
   "id": "ced8516a",
   "metadata": {},
   "outputs": [
    {
     "data": {
      "text/plain": "float"
     },
     "execution_count": 7,
     "metadata": {},
     "output_type": "execute_result"
    }
   ],
   "source": [
    "y = 1.02\n",
    "type(y)"
   ]
  },
  {
   "cell_type": "code",
   "execution_count": 8,
   "id": "c1e8625f",
   "metadata": {},
   "outputs": [
    {
     "data": {
      "text/plain": "bool"
     },
     "execution_count": 8,
     "metadata": {},
     "output_type": "execute_result"
    }
   ],
   "source": [
    "likes_TV = True        \n",
    "likes_sushi = False\n",
    "type(likes_TV)\n",
    "type(likes_sushi)"
   ]
  },
  {
   "cell_type": "code",
   "execution_count": 9,
   "id": "50180906",
   "metadata": {},
   "outputs": [
    {
     "data": {
      "text/plain": "str"
     },
     "execution_count": 9,
     "metadata": {},
     "output_type": "execute_result"
    }
   ],
   "source": [
    "s = 'banana'           \n",
    "s = \"banana\"\n",
    "type(s)"
   ]
  },
  {
   "cell_type": "code",
   "execution_count": 10,
   "id": "2794716a",
   "metadata": {},
   "outputs": [
    {
     "data": {
      "text/plain": "list"
     },
     "execution_count": 10,
     "metadata": {},
     "output_type": "execute_result"
    }
   ],
   "source": [
    "name_list = ['John', 'Jane']\n",
    "type(name_list)"
   ]
  },
  {
   "cell_type": "code",
   "execution_count": 11,
   "id": "2430658f",
   "metadata": {},
   "outputs": [
    {
     "data": {
      "text/plain": "dict"
     },
     "execution_count": 11,
     "metadata": {},
     "output_type": "execute_result"
    }
   ],
   "source": [
    "contacts = {'John':66666666, 'Jane':77777777}\n",
    "type(contacts)"
   ]
  },
  {
   "cell_type": "markdown",
   "id": "848ab12c",
   "metadata": {},
   "source": [
    "### Comparison operators \n",
    "<code><   >=   <=   ==   != <!code>\n"
   ]
  },
  {
   "cell_type": "code",
   "execution_count": 12,
   "id": "44d3377b",
   "metadata": {},
   "outputs": [
    {
     "ename": "TypeError",
     "evalue": "'int' object is not callable",
     "output_type": "error",
     "traceback": [
      "\u001B[1;31m---------------------------------------------------------------------------\u001B[0m",
      "\u001B[1;31mTypeError\u001B[0m                                 Traceback (most recent call last)",
      "\u001B[1;32m~\\AppData\\Local\\Temp\\ipykernel_13316\\966771600.py\u001B[0m in \u001B[0;36m<module>\u001B[1;34m\u001B[0m\n\u001B[1;32m----> 1\u001B[1;33m \u001B[0mprint\u001B[0m\u001B[1;33m(\u001B[0m\u001B[1;36m5\u001B[0m \u001B[1;33m>=\u001B[0m \u001B[1;36m5\u001B[0m\u001B[1;33m)\u001B[0m\u001B[1;33m\u001B[0m\u001B[1;33m\u001B[0m\u001B[0m\n\u001B[0m",
      "\u001B[1;31mTypeError\u001B[0m: 'int' object is not callable"
     ]
    }
   ],
   "source": [
    "print(5 >= 5)"
   ]
  },
  {
   "cell_type": "code",
   "execution_count": 13,
   "id": "7cdd6e0c",
   "metadata": {},
   "outputs": [
    {
     "ename": "TypeError",
     "evalue": "'int' object is not callable",
     "output_type": "error",
     "traceback": [
      "\u001B[1;31m---------------------------------------------------------------------------\u001B[0m",
      "\u001B[1;31mTypeError\u001B[0m                                 Traceback (most recent call last)",
      "\u001B[1;32m~\\AppData\\Local\\Temp\\ipykernel_13316\\3973164205.py\u001B[0m in \u001B[0;36m<module>\u001B[1;34m\u001B[0m\n\u001B[1;32m----> 1\u001B[1;33m \u001B[0mprint\u001B[0m\u001B[1;33m(\u001B[0m\u001B[1;36m4\u001B[0m \u001B[1;33m!=\u001B[0m \u001B[1;36m4\u001B[0m\u001B[1;33m)\u001B[0m\u001B[1;33m\u001B[0m\u001B[1;33m\u001B[0m\u001B[0m\n\u001B[0m",
      "\u001B[1;31mTypeError\u001B[0m: 'int' object is not callable"
     ]
    }
   ],
   "source": [
    "print(4 != 4)"
   ]
  },
  {
   "cell_type": "code",
   "execution_count": 14,
   "id": "4b829753",
   "metadata": {},
   "outputs": [
    {
     "ename": "TypeError",
     "evalue": "'int' object is not callable",
     "output_type": "error",
     "traceback": [
      "\u001B[1;31m---------------------------------------------------------------------------\u001B[0m",
      "\u001B[1;31mTypeError\u001B[0m                                 Traceback (most recent call last)",
      "\u001B[1;32m~\\AppData\\Local\\Temp\\ipykernel_13316\\3339479642.py\u001B[0m in \u001B[0;36m<module>\u001B[1;34m\u001B[0m\n\u001B[1;32m----> 1\u001B[1;33m \u001B[0mprint\u001B[0m\u001B[1;33m(\u001B[0m\u001B[1;36m4\u001B[0m \u001B[1;33m==\u001B[0m \u001B[1;36m4\u001B[0m\u001B[1;33m)\u001B[0m\u001B[1;33m\u001B[0m\u001B[1;33m\u001B[0m\u001B[0m\n\u001B[0m",
      "\u001B[1;31mTypeError\u001B[0m: 'int' object is not callable"
     ]
    }
   ],
   "source": [
    "print(4 == 4)"
   ]
  },
  {
   "cell_type": "code",
   "execution_count": 15,
   "id": "1531544e",
   "metadata": {},
   "outputs": [
    {
     "ename": "TypeError",
     "evalue": "'int' object is not callable",
     "output_type": "error",
     "traceback": [
      "\u001B[1;31m---------------------------------------------------------------------------\u001B[0m",
      "\u001B[1;31mTypeError\u001B[0m                                 Traceback (most recent call last)",
      "\u001B[1;32m~\\AppData\\Local\\Temp\\ipykernel_13316\\1511735236.py\u001B[0m in \u001B[0;36m<module>\u001B[1;34m\u001B[0m\n\u001B[0;32m      1\u001B[0m \u001B[0ma\u001B[0m \u001B[1;33m=\u001B[0m \u001B[1;36m2\u001B[0m\u001B[1;33m\u001B[0m\u001B[1;33m\u001B[0m\u001B[0m\n\u001B[0;32m      2\u001B[0m \u001B[0mb\u001B[0m \u001B[1;33m=\u001B[0m \u001B[1;36m3\u001B[0m\u001B[1;33m\u001B[0m\u001B[1;33m\u001B[0m\u001B[0m\n\u001B[1;32m----> 3\u001B[1;33m \u001B[0mprint\u001B[0m\u001B[1;33m(\u001B[0m\u001B[0ma\u001B[0m \u001B[1;33m>\u001B[0m \u001B[0mb\u001B[0m\u001B[1;33m)\u001B[0m\u001B[1;33m\u001B[0m\u001B[1;33m\u001B[0m\u001B[0m\n\u001B[0m",
      "\u001B[1;31mTypeError\u001B[0m: 'int' object is not callable"
     ]
    }
   ],
   "source": [
    "a = 2\n",
    "b = 3\n",
    "print(a > b)"
   ]
  },
  {
   "cell_type": "markdown",
   "id": "b895398b",
   "metadata": {},
   "source": [
    "### Logical operators \n",
    "<code>and   or   not <!code>"
   ]
  },
  {
   "cell_type": "code",
   "execution_count": 16,
   "id": "debc9311",
   "metadata": {},
   "outputs": [
    {
     "ename": "TypeError",
     "evalue": "'int' object is not callable",
     "output_type": "error",
     "traceback": [
      "\u001B[1;31m---------------------------------------------------------------------------\u001B[0m",
      "\u001B[1;31mTypeError\u001B[0m                                 Traceback (most recent call last)",
      "\u001B[1;32m~\\AppData\\Local\\Temp\\ipykernel_13316\\2721185486.py\u001B[0m in \u001B[0;36m<module>\u001B[1;34m\u001B[0m\n\u001B[0;32m      2\u001B[0m \u001B[0mb\u001B[0m \u001B[1;33m=\u001B[0m \u001B[1;36m5\u001B[0m\u001B[1;33m\u001B[0m\u001B[1;33m\u001B[0m\u001B[0m\n\u001B[0;32m      3\u001B[0m \u001B[0mc\u001B[0m \u001B[1;33m=\u001B[0m \u001B[1;36m0\u001B[0m\u001B[1;33m\u001B[0m\u001B[1;33m\u001B[0m\u001B[0m\n\u001B[1;32m----> 4\u001B[1;33m \u001B[0mprint\u001B[0m\u001B[1;33m(\u001B[0m\u001B[0ma\u001B[0m \u001B[1;33m>\u001B[0m \u001B[0mb\u001B[0m \u001B[1;32mand\u001B[0m \u001B[0ma\u001B[0m \u001B[1;33m==\u001B[0m \u001B[0mc\u001B[0m\u001B[1;33m)\u001B[0m\u001B[1;33m\u001B[0m\u001B[1;33m\u001B[0m\u001B[0m\n\u001B[0m\u001B[0;32m      5\u001B[0m \u001B[0mprint\u001B[0m\u001B[1;33m(\u001B[0m\u001B[0ma\u001B[0m \u001B[1;33m>\u001B[0m \u001B[0mb\u001B[0m \u001B[1;32mor\u001B[0m \u001B[0ma\u001B[0m \u001B[1;33m==\u001B[0m \u001B[0mc\u001B[0m\u001B[1;33m)\u001B[0m\u001B[1;33m\u001B[0m\u001B[1;33m\u001B[0m\u001B[0m\n\u001B[0;32m      6\u001B[0m \u001B[0mprint\u001B[0m\u001B[1;33m(\u001B[0m\u001B[1;32mnot\u001B[0m \u001B[0ma\u001B[0m \u001B[1;33m>\u001B[0m \u001B[0mb\u001B[0m\u001B[1;33m)\u001B[0m\u001B[1;33m\u001B[0m\u001B[1;33m\u001B[0m\u001B[0m\n",
      "\u001B[1;31mTypeError\u001B[0m: 'int' object is not callable"
     ]
    }
   ],
   "source": [
    "a = 6\n",
    "b = 5\n",
    "c = 0\n",
    "print(a > b and a == c)\n",
    "print(a > b or a == c)\n",
    "print(not a > b)"
   ]
  },
  {
   "cell_type": "code",
   "execution_count": 18,
   "id": "7cabc19d",
   "metadata": {},
   "outputs": [
    {
     "ename": "TypeError",
     "evalue": "'int' object is not callable",
     "output_type": "error",
     "traceback": [
      "\u001B[1;31m---------------------------------------------------------------------------\u001B[0m",
      "\u001B[1;31mTypeError\u001B[0m                                 Traceback (most recent call last)",
      "\u001B[1;32m~\\AppData\\Local\\Temp\\ipykernel_13316\\1719443616.py\u001B[0m in \u001B[0;36m<module>\u001B[1;34m\u001B[0m\n\u001B[1;32m----> 1\u001B[1;33m \u001B[0mprint\u001B[0m\u001B[1;33m(\u001B[0m\u001B[0ma\u001B[0m \u001B[1;33m<\u001B[0m \u001B[1;36m10\u001B[0m \u001B[1;32mor\u001B[0m \u001B[0ma\u001B[0m \u001B[1;33m>\u001B[0m \u001B[1;36m5\u001B[0m\u001B[1;33m)\u001B[0m\u001B[1;33m\u001B[0m\u001B[1;33m\u001B[0m\u001B[0m\n\u001B[0m",
      "\u001B[1;31mTypeError\u001B[0m: 'int' object is not callable"
     ]
    }
   ],
   "source": [
    "print(a < 10 or a > 5)"
   ]
  },
  {
   "cell_type": "markdown",
   "id": "0df5c129",
   "metadata": {},
   "source": [
    "### Control flow if-elif-else"
   ]
  },
  {
   "cell_type": "code",
   "execution_count": 19,
   "id": "40ad3fd3",
   "metadata": {},
   "outputs": [
    {
     "ename": "TypeError",
     "evalue": "'int' object is not callable",
     "output_type": "error",
     "traceback": [
      "\u001B[1;31m---------------------------------------------------------------------------\u001B[0m",
      "\u001B[1;31mTypeError\u001B[0m                                 Traceback (most recent call last)",
      "\u001B[1;32m~\\AppData\\Local\\Temp\\ipykernel_13316\\1435804006.py\u001B[0m in \u001B[0;36m<module>\u001B[1;34m\u001B[0m\n\u001B[0;32m      3\u001B[0m \u001B[1;33m\u001B[0m\u001B[0m\n\u001B[0;32m      4\u001B[0m \u001B[1;32mif\u001B[0m \u001B[0mage\u001B[0m \u001B[1;33m>=\u001B[0m \u001B[1;36m35\u001B[0m\u001B[1;33m:\u001B[0m\u001B[1;33m\u001B[0m\u001B[1;33m\u001B[0m\u001B[0m\n\u001B[1;32m----> 5\u001B[1;33m     \u001B[0mprint\u001B[0m\u001B[1;33m(\u001B[0m\u001B[1;34m\"you are at least 35 years old\"\u001B[0m\u001B[1;33m)\u001B[0m\u001B[1;33m\u001B[0m\u001B[1;33m\u001B[0m\u001B[0m\n\u001B[0m\u001B[0;32m      6\u001B[0m     \u001B[0mprint\u001B[0m\u001B[1;33m(\u001B[0m\u001B[1;34m\"you can buy a HDB flat\"\u001B[0m\u001B[1;33m)\u001B[0m\u001B[1;33m\u001B[0m\u001B[1;33m\u001B[0m\u001B[0m\n\u001B[0;32m      7\u001B[0m \u001B[1;32melif\u001B[0m \u001B[0mstatus\u001B[0m \u001B[1;33m==\u001B[0m \u001B[1;34m'married'\u001B[0m \u001B[1;32mand\u001B[0m \u001B[0mage\u001B[0m \u001B[1;33m>=\u001B[0m \u001B[1;36m21\u001B[0m\u001B[1;33m:\u001B[0m\u001B[1;33m\u001B[0m\u001B[1;33m\u001B[0m\u001B[0m\n",
      "\u001B[1;31mTypeError\u001B[0m: 'int' object is not callable"
     ]
    }
   ],
   "source": [
    "age = 40\n",
    "status = \"single\"\n",
    "\n",
    "if age >= 35:\n",
    "    print(\"you are at least 35 years old\")\n",
    "    print(\"you can buy a HDB flat\")\n",
    "elif status == 'married' and age >= 21:\n",
    "    print(\"you can buy a HDB flat\")\n",
    "else:\n",
    "    print(\"wait a few more years\")"
   ]
  },
  {
   "cell_type": "code",
   "execution_count": 20,
   "id": "5db28cda",
   "metadata": {},
   "outputs": [
    {
     "ename": "TypeError",
     "evalue": "'int' object is not callable",
     "output_type": "error",
     "traceback": [
      "\u001B[1;31m---------------------------------------------------------------------------\u001B[0m",
      "\u001B[1;31mTypeError\u001B[0m                                 Traceback (most recent call last)",
      "\u001B[1;32m~\\AppData\\Local\\Temp\\ipykernel_13316\\2326930982.py\u001B[0m in \u001B[0;36m<module>\u001B[1;34m\u001B[0m\n\u001B[0;32m      1\u001B[0m \u001B[0mage\u001B[0m \u001B[1;33m=\u001B[0m \u001B[1;36m33\u001B[0m\u001B[1;33m\u001B[0m\u001B[1;33m\u001B[0m\u001B[0m\n\u001B[0;32m      2\u001B[0m \u001B[0mx\u001B[0m \u001B[1;33m=\u001B[0m \u001B[1;34m\"old\"\u001B[0m \u001B[1;32mif\u001B[0m \u001B[0mage\u001B[0m \u001B[1;33m>=\u001B[0m \u001B[1;36m32\u001B[0m \u001B[1;32melse\u001B[0m \u001B[1;34m\"young\"\u001B[0m\u001B[1;33m\u001B[0m\u001B[1;33m\u001B[0m\u001B[0m\n\u001B[1;32m----> 3\u001B[1;33m \u001B[0mprint\u001B[0m\u001B[1;33m(\u001B[0m\u001B[0mx\u001B[0m\u001B[1;33m)\u001B[0m\u001B[1;33m\u001B[0m\u001B[1;33m\u001B[0m\u001B[0m\n\u001B[0m",
      "\u001B[1;31mTypeError\u001B[0m: 'int' object is not callable"
     ]
    }
   ],
   "source": [
    "age = 33\n",
    "x = \"old\" if age >= 32 else \"young\"\n",
    "print(x)"
   ]
  },
  {
   "cell_type": "markdown",
   "id": "3f33207a",
   "metadata": {},
   "source": [
    "write the above with a normal if-else:"
   ]
  },
  {
   "cell_type": "code",
   "execution_count": 21,
   "id": "d4fabcce",
   "metadata": {},
   "outputs": [
    {
     "ename": "TypeError",
     "evalue": "'int' object is not callable",
     "output_type": "error",
     "traceback": [
      "\u001B[1;31m---------------------------------------------------------------------------\u001B[0m",
      "\u001B[1;31mTypeError\u001B[0m                                 Traceback (most recent call last)",
      "\u001B[1;32m~\\AppData\\Local\\Temp\\ipykernel_13316\\1004336199.py\u001B[0m in \u001B[0;36m<module>\u001B[1;34m\u001B[0m\n\u001B[0;32m      3\u001B[0m \u001B[1;32melse\u001B[0m\u001B[1;33m:\u001B[0m\u001B[1;33m\u001B[0m\u001B[1;33m\u001B[0m\u001B[0m\n\u001B[0;32m      4\u001B[0m     \u001B[0mx\u001B[0m \u001B[1;33m=\u001B[0m \u001B[1;34m\"young\"\u001B[0m\u001B[1;33m\u001B[0m\u001B[1;33m\u001B[0m\u001B[0m\n\u001B[1;32m----> 5\u001B[1;33m \u001B[0mprint\u001B[0m\u001B[1;33m(\u001B[0m\u001B[0mx\u001B[0m\u001B[1;33m)\u001B[0m\u001B[1;33m\u001B[0m\u001B[1;33m\u001B[0m\u001B[0m\n\u001B[0m",
      "\u001B[1;31mTypeError\u001B[0m: 'int' object is not callable"
     ]
    }
   ],
   "source": [
    "if age >= 32:\n",
    "    x = \"old\"\n",
    "else:\n",
    "    x = \"young\"\n",
    "print(x)"
   ]
  },
  {
   "cell_type": "markdown",
   "id": "029ee66a",
   "metadata": {},
   "source": [
    "### Function"
   ]
  },
  {
   "cell_type": "code",
   "execution_count": 22,
   "id": "2255340e",
   "metadata": {},
   "outputs": [
    {
     "ename": "TypeError",
     "evalue": "'int' object is not callable",
     "output_type": "error",
     "traceback": [
      "\u001B[1;31m---------------------------------------------------------------------------\u001B[0m",
      "\u001B[1;31mTypeError\u001B[0m                                 Traceback (most recent call last)",
      "\u001B[1;32m~\\AppData\\Local\\Temp\\ipykernel_13316\\2175013822.py\u001B[0m in \u001B[0;36m<module>\u001B[1;34m\u001B[0m\n\u001B[0;32m      1\u001B[0m \u001B[0mage\u001B[0m \u001B[1;33m=\u001B[0m \u001B[1;36m40\u001B[0m\u001B[1;33m\u001B[0m\u001B[1;33m\u001B[0m\u001B[0m\n\u001B[1;32m----> 2\u001B[1;33m \u001B[0mprint\u001B[0m\u001B[1;33m(\u001B[0m\u001B[0mage\u001B[0m\u001B[1;33m)\u001B[0m\u001B[1;33m\u001B[0m\u001B[1;33m\u001B[0m\u001B[0m\n\u001B[0m",
      "\u001B[1;31mTypeError\u001B[0m: 'int' object is not callable"
     ]
    }
   ],
   "source": [
    "age = 40\n",
    "print(age)"
   ]
  },
  {
   "cell_type": "code",
   "execution_count": 23,
   "id": "2a7c87e9",
   "metadata": {},
   "outputs": [
    {
     "data": {
      "text/plain": "int"
     },
     "execution_count": 23,
     "metadata": {},
     "output_type": "execute_result"
    }
   ],
   "source": [
    "age = 40\n",
    "type(age)"
   ]
  },
  {
   "cell_type": "markdown",
   "id": "8132791a",
   "metadata": {},
   "source": [
    "print() does not return a result for the assignment"
   ]
  },
  {
   "cell_type": "code",
   "execution_count": 24,
   "id": "6487059c",
   "metadata": {},
   "outputs": [
    {
     "ename": "TypeError",
     "evalue": "'int' object is not callable",
     "output_type": "error",
     "traceback": [
      "\u001B[1;31m---------------------------------------------------------------------------\u001B[0m",
      "\u001B[1;31mTypeError\u001B[0m                                 Traceback (most recent call last)",
      "\u001B[1;32m~\\AppData\\Local\\Temp\\ipykernel_13316\\1329569831.py\u001B[0m in \u001B[0;36m<module>\u001B[1;34m\u001B[0m\n\u001B[0;32m      1\u001B[0m \u001B[0mage\u001B[0m \u001B[1;33m=\u001B[0m \u001B[1;36m40\u001B[0m\u001B[1;33m\u001B[0m\u001B[1;33m\u001B[0m\u001B[0m\n\u001B[1;32m----> 2\u001B[1;33m \u001B[0mx\u001B[0m \u001B[1;33m=\u001B[0m \u001B[0mprint\u001B[0m\u001B[1;33m(\u001B[0m\u001B[0mage\u001B[0m\u001B[1;33m)\u001B[0m\u001B[1;33m\u001B[0m\u001B[1;33m\u001B[0m\u001B[0m\n\u001B[0m\u001B[0;32m      3\u001B[0m \u001B[0mprint\u001B[0m\u001B[1;33m(\u001B[0m\u001B[0mx\u001B[0m\u001B[1;33m)\u001B[0m\u001B[1;33m\u001B[0m\u001B[1;33m\u001B[0m\u001B[0m\n",
      "\u001B[1;31mTypeError\u001B[0m: 'int' object is not callable"
     ]
    }
   ],
   "source": [
    "age = 40\n",
    "x = print(age)\n",
    "print(x)"
   ]
  },
  {
   "cell_type": "markdown",
   "id": "8432d210",
   "metadata": {},
   "source": [
    "type() does return a result for the assignment"
   ]
  },
  {
   "cell_type": "code",
   "execution_count": 25,
   "id": "020e402c",
   "metadata": {},
   "outputs": [
    {
     "ename": "TypeError",
     "evalue": "'int' object is not callable",
     "output_type": "error",
     "traceback": [
      "\u001B[1;31m---------------------------------------------------------------------------\u001B[0m",
      "\u001B[1;31mTypeError\u001B[0m                                 Traceback (most recent call last)",
      "\u001B[1;32m~\\AppData\\Local\\Temp\\ipykernel_13316\\2313308290.py\u001B[0m in \u001B[0;36m<module>\u001B[1;34m\u001B[0m\n\u001B[0;32m      1\u001B[0m \u001B[0mage\u001B[0m \u001B[1;33m=\u001B[0m \u001B[1;36m40\u001B[0m\u001B[1;33m\u001B[0m\u001B[1;33m\u001B[0m\u001B[0m\n\u001B[0;32m      2\u001B[0m \u001B[0mx\u001B[0m \u001B[1;33m=\u001B[0m \u001B[0mtype\u001B[0m\u001B[1;33m(\u001B[0m\u001B[0mage\u001B[0m\u001B[1;33m)\u001B[0m\u001B[1;33m\u001B[0m\u001B[1;33m\u001B[0m\u001B[0m\n\u001B[1;32m----> 3\u001B[1;33m \u001B[0mprint\u001B[0m\u001B[1;33m(\u001B[0m\u001B[0mx\u001B[0m\u001B[1;33m)\u001B[0m\u001B[1;33m\u001B[0m\u001B[1;33m\u001B[0m\u001B[0m\n\u001B[0m",
      "\u001B[1;31mTypeError\u001B[0m: 'int' object is not callable"
     ]
    }
   ],
   "source": [
    "age = 40\n",
    "x = type(age)\n",
    "print(x)"
   ]
  },
  {
   "cell_type": "markdown",
   "id": "74c1ec00",
   "metadata": {},
   "source": [
    "### String"
   ]
  },
  {
   "cell_type": "code",
   "execution_count": 26,
   "id": "dbca967b",
   "metadata": {},
   "outputs": [
    {
     "data": {
      "text/plain": "'n'"
     },
     "execution_count": 26,
     "metadata": {},
     "output_type": "execute_result"
    }
   ],
   "source": [
    "s = 'banana'\n",
    "s[2]"
   ]
  },
  {
   "cell_type": "code",
   "execution_count": 27,
   "id": "e21af295",
   "metadata": {},
   "outputs": [
    {
     "data": {
      "text/plain": "'nan'"
     },
     "execution_count": 27,
     "metadata": {},
     "output_type": "execute_result"
    }
   ],
   "source": [
    "s[2:5]"
   ]
  },
  {
   "cell_type": "markdown",
   "id": "effcc8b4",
   "metadata": {},
   "source": [
    "in:  boolean operator"
   ]
  },
  {
   "cell_type": "code",
   "execution_count": 28,
   "id": "c13bcb73",
   "metadata": {},
   "outputs": [
    {
     "data": {
      "text/plain": "False"
     },
     "execution_count": 28,
     "metadata": {},
     "output_type": "execute_result"
    }
   ],
   "source": [
    "s = \"BANANA\"\n",
    "s in \"banana republic\""
   ]
  },
  {
   "cell_type": "markdown",
   "id": "531bf426",
   "metadata": {},
   "source": [
    "+: string concatenation"
   ]
  },
  {
   "cell_type": "code",
   "execution_count": 29,
   "id": "e4f58f9d",
   "metadata": {},
   "outputs": [
    {
     "ename": "TypeError",
     "evalue": "'int' object is not callable",
     "output_type": "error",
     "traceback": [
      "\u001B[1;31m---------------------------------------------------------------------------\u001B[0m",
      "\u001B[1;31mTypeError\u001B[0m                                 Traceback (most recent call last)",
      "\u001B[1;32m~\\AppData\\Local\\Temp\\ipykernel_13316\\1433970838.py\u001B[0m in \u001B[0;36m<module>\u001B[1;34m\u001B[0m\n\u001B[0;32m      1\u001B[0m \u001B[0mx\u001B[0m \u001B[1;33m=\u001B[0m \u001B[0ms\u001B[0m \u001B[1;33m+\u001B[0m \u001B[1;34m\"republic\"\u001B[0m\u001B[1;33m\u001B[0m\u001B[1;33m\u001B[0m\u001B[0m\n\u001B[1;32m----> 2\u001B[1;33m \u001B[0mprint\u001B[0m\u001B[1;33m(\u001B[0m\u001B[0mx\u001B[0m\u001B[1;33m)\u001B[0m\u001B[1;33m\u001B[0m\u001B[1;33m\u001B[0m\u001B[0m\n\u001B[0m",
      "\u001B[1;31mTypeError\u001B[0m: 'int' object is not callable"
     ]
    }
   ],
   "source": [
    "x = s + \"republic\"\n",
    "print(x)"
   ]
  },
  {
   "cell_type": "markdown",
   "id": "874d4778",
   "metadata": {},
   "source": [
    "### List"
   ]
  },
  {
   "cell_type": "code",
   "execution_count": 30,
   "id": "28427e00",
   "metadata": {},
   "outputs": [
    {
     "data": {
      "text/plain": "'Jane'"
     },
     "execution_count": 30,
     "metadata": {},
     "output_type": "execute_result"
    }
   ],
   "source": [
    "name_list = ['John', 'Jane']\n",
    "name_list[1]"
   ]
  },
  {
   "cell_type": "code",
   "execution_count": 31,
   "id": "19d01cd7",
   "metadata": {},
   "outputs": [
    {
     "data": {
      "text/plain": "2"
     },
     "execution_count": 31,
     "metadata": {},
     "output_type": "execute_result"
    }
   ],
   "source": [
    "len(name_list)"
   ]
  },
  {
   "cell_type": "code",
   "execution_count": 32,
   "id": "9140bb3d",
   "metadata": {},
   "outputs": [
    {
     "data": {
      "text/plain": "['John']"
     },
     "execution_count": 32,
     "metadata": {},
     "output_type": "execute_result"
    }
   ],
   "source": [
    "name_list[0:1]"
   ]
  },
  {
   "cell_type": "markdown",
   "id": "acd3552a",
   "metadata": {},
   "source": [
    "in:  boolean operator"
   ]
  },
  {
   "cell_type": "code",
   "execution_count": 33,
   "id": "d9598da7",
   "metadata": {},
   "outputs": [
    {
     "data": {
      "text/plain": "False"
     },
     "execution_count": 33,
     "metadata": {},
     "output_type": "execute_result"
    }
   ],
   "source": [
    "'Jay' in name_list"
   ]
  },
  {
   "cell_type": "markdown",
   "id": "3da9d0ff",
   "metadata": {},
   "source": [
    "+: list concatenation"
   ]
  },
  {
   "cell_type": "code",
   "execution_count": 34,
   "id": "37e1bcd4",
   "metadata": {},
   "outputs": [],
   "source": [
    "s = name_list + ['Jay', 'Joe']"
   ]
  },
  {
   "cell_type": "code",
   "execution_count": 35,
   "id": "9415490b",
   "metadata": {},
   "outputs": [
    {
     "data": {
      "text/plain": "[1, 2, 3, 4]"
     },
     "execution_count": 35,
     "metadata": {},
     "output_type": "execute_result"
    }
   ],
   "source": [
    "[1,2] + [3,4]"
   ]
  },
  {
   "cell_type": "markdown",
   "id": "d00e3953",
   "metadata": {},
   "source": [
    "### Dictionary"
   ]
  },
  {
   "cell_type": "code",
   "execution_count": 36,
   "id": "22eed03c",
   "metadata": {},
   "outputs": [
    {
     "ename": "TypeError",
     "evalue": "'int' object is not callable",
     "output_type": "error",
     "traceback": [
      "\u001B[1;31m---------------------------------------------------------------------------\u001B[0m",
      "\u001B[1;31mTypeError\u001B[0m                                 Traceback (most recent call last)",
      "\u001B[1;32m~\\AppData\\Local\\Temp\\ipykernel_13316\\2847931973.py\u001B[0m in \u001B[0;36m<module>\u001B[1;34m\u001B[0m\n\u001B[0;32m      1\u001B[0m contacts = {'John':66666666, \\\n\u001B[0;32m      2\u001B[0m             'Jane':77777777}\n\u001B[1;32m----> 3\u001B[1;33m \u001B[0mprint\u001B[0m\u001B[1;33m(\u001B[0m\u001B[0mcontacts\u001B[0m\u001B[1;33m[\u001B[0m\u001B[1;34m'John'\u001B[0m\u001B[1;33m]\u001B[0m\u001B[1;33m)\u001B[0m\u001B[1;33m\u001B[0m\u001B[1;33m\u001B[0m\u001B[0m\n\u001B[0m",
      "\u001B[1;31mTypeError\u001B[0m: 'int' object is not callable"
     ]
    }
   ],
   "source": [
    "contacts = {'John':66666666, \\\n",
    "            'Jane':77777777}\n",
    "print(contacts['John']) "
   ]
  },
  {
   "cell_type": "code",
   "execution_count": 37,
   "id": "23d92bd4",
   "metadata": {},
   "outputs": [
    {
     "ename": "TypeError",
     "evalue": "'int' object is not callable",
     "output_type": "error",
     "traceback": [
      "\u001B[1;31m---------------------------------------------------------------------------\u001B[0m",
      "\u001B[1;31mTypeError\u001B[0m                                 Traceback (most recent call last)",
      "\u001B[1;32m~\\AppData\\Local\\Temp\\ipykernel_13316\\3502500126.py\u001B[0m in \u001B[0;36m<module>\u001B[1;34m\u001B[0m\n\u001B[0;32m      1\u001B[0m \u001B[0mcontacts\u001B[0m\u001B[1;33m[\u001B[0m\u001B[1;34m'John'\u001B[0m\u001B[1;33m]\u001B[0m \u001B[1;33m=\u001B[0m \u001B[1;36m88888888\u001B[0m\u001B[1;33m\u001B[0m\u001B[1;33m\u001B[0m\u001B[0m\n\u001B[1;32m----> 2\u001B[1;33m \u001B[0mprint\u001B[0m\u001B[1;33m(\u001B[0m\u001B[0mcontacts\u001B[0m\u001B[1;33m)\u001B[0m\u001B[1;33m\u001B[0m\u001B[1;33m\u001B[0m\u001B[0m\n\u001B[0m",
      "\u001B[1;31mTypeError\u001B[0m: 'int' object is not callable"
     ]
    }
   ],
   "source": [
    "contacts['John'] = 88888888\n",
    "print(contacts)"
   ]
  },
  {
   "cell_type": "code",
   "execution_count": 38,
   "id": "50d5b4a1",
   "metadata": {
    "scrolled": false
   },
   "outputs": [
    {
     "ename": "TypeError",
     "evalue": "'int' object is not callable",
     "output_type": "error",
     "traceback": [
      "\u001B[1;31m---------------------------------------------------------------------------\u001B[0m",
      "\u001B[1;31mTypeError\u001B[0m                                 Traceback (most recent call last)",
      "\u001B[1;32m~\\AppData\\Local\\Temp\\ipykernel_13316\\3994884455.py\u001B[0m in \u001B[0;36m<module>\u001B[1;34m\u001B[0m\n\u001B[0;32m      1\u001B[0m \u001B[0mcontacts\u001B[0m\u001B[1;33m[\u001B[0m\u001B[1;34m'Joe'\u001B[0m\u001B[1;33m]\u001B[0m \u001B[1;33m=\u001B[0m \u001B[1;36m99999999\u001B[0m\u001B[1;33m\u001B[0m\u001B[1;33m\u001B[0m\u001B[0m\n\u001B[1;32m----> 2\u001B[1;33m \u001B[0mprint\u001B[0m\u001B[1;33m(\u001B[0m\u001B[0mcontacts\u001B[0m\u001B[1;33m)\u001B[0m\u001B[1;33m\u001B[0m\u001B[1;33m\u001B[0m\u001B[0m\n\u001B[0m",
      "\u001B[1;31mTypeError\u001B[0m: 'int' object is not callable"
     ]
    }
   ],
   "source": [
    "contacts['Joe'] = 99999999 \n",
    "print(contacts)"
   ]
  },
  {
   "cell_type": "code",
   "execution_count": 39,
   "id": "6f5a422e",
   "metadata": {
    "scrolled": true
   },
   "outputs": [
    {
     "data": {
      "text/plain": "True"
     },
     "execution_count": 39,
     "metadata": {},
     "output_type": "execute_result"
    }
   ],
   "source": [
    "{'John':66666666, 'Jane':77777777} == {'Jane':77777777, 'John':66666666}"
   ]
  },
  {
   "cell_type": "code",
   "execution_count": 40,
   "id": "b47a8bd2",
   "metadata": {},
   "outputs": [
    {
     "data": {
      "text/plain": "False"
     },
     "execution_count": 40,
     "metadata": {},
     "output_type": "execute_result"
    }
   ],
   "source": [
    "[1,2] == [2,1]"
   ]
  },
  {
   "cell_type": "markdown",
   "id": "e4638628",
   "metadata": {},
   "source": [
    "### Python libraries"
   ]
  },
  {
   "cell_type": "code",
   "execution_count": 41,
   "id": "75f68d30",
   "metadata": {},
   "outputs": [
    {
     "name": "stdout",
     "output_type": "stream",
     "text": [
      "Requirement already satisfied: numpy in c:\\users\\final\\anaconda3\\lib\\site-packages (1.21.5)\n",
      "Requirement already satisfied: pandas in c:\\users\\final\\anaconda3\\lib\\site-packages (1.5.3)\n",
      "Requirement already satisfied: python-dateutil>=2.8.1 in c:\\users\\final\\anaconda3\\lib\\site-packages (from pandas) (2.8.2)\n",
      "Requirement already satisfied: pytz>=2020.1 in c:\\users\\final\\anaconda3\\lib\\site-packages (from pandas) (2022.1)\n",
      "Requirement already satisfied: numpy>=1.20.3 in c:\\users\\final\\anaconda3\\lib\\site-packages (from pandas) (1.21.5)\n",
      "Requirement already satisfied: six>=1.5 in c:\\users\\final\\anaconda3\\lib\\site-packages (from python-dateutil>=2.8.1->pandas) (1.16.0)\n",
      "Requirement already satisfied: matplotlib in c:\\users\\final\\anaconda3\\lib\\site-packages (3.5.2)\n",
      "Requirement already satisfied: pyparsing>=2.2.1 in c:\\users\\final\\anaconda3\\lib\\site-packages (from matplotlib) (3.0.9)\n",
      "Requirement already satisfied: kiwisolver>=1.0.1 in c:\\users\\final\\anaconda3\\lib\\site-packages (from matplotlib) (1.4.2)\n",
      "Requirement already satisfied: python-dateutil>=2.7 in c:\\users\\final\\anaconda3\\lib\\site-packages (from matplotlib) (2.8.2)\n",
      "Requirement already satisfied: cycler>=0.10 in c:\\users\\final\\anaconda3\\lib\\site-packages (from matplotlib) (0.11.0)\n",
      "Requirement already satisfied: fonttools>=4.22.0 in c:\\users\\final\\anaconda3\\lib\\site-packages (from matplotlib) (4.25.0)\n",
      "Requirement already satisfied: packaging>=20.0 in c:\\users\\final\\anaconda3\\lib\\site-packages (from matplotlib) (21.3)\n",
      "Requirement already satisfied: pillow>=6.2.0 in c:\\users\\final\\anaconda3\\lib\\site-packages (from matplotlib) (9.2.0)\n",
      "Requirement already satisfied: numpy>=1.17 in c:\\users\\final\\anaconda3\\lib\\site-packages (from matplotlib) (1.21.5)\n",
      "Requirement already satisfied: six>=1.5 in c:\\users\\final\\anaconda3\\lib\\site-packages (from python-dateutil>=2.7->matplotlib) (1.16.0)\n",
      "Requirement already satisfied: scikit-learn in c:\\users\\final\\anaconda3\\lib\\site-packages (1.0.2)\n",
      "Requirement already satisfied: joblib>=0.11 in c:\\users\\final\\anaconda3\\lib\\site-packages (from scikit-learn) (1.1.0)\n",
      "Requirement already satisfied: threadpoolctl>=2.0.0 in c:\\users\\final\\anaconda3\\lib\\site-packages (from scikit-learn) (2.2.0)\n",
      "Requirement already satisfied: scipy>=1.1.0 in c:\\users\\final\\anaconda3\\lib\\site-packages (from scikit-learn) (1.9.1)\n",
      "Requirement already satisfied: numpy>=1.14.6 in c:\\users\\final\\anaconda3\\lib\\site-packages (from scikit-learn) (1.21.5)\n"
     ]
    }
   ],
   "source": [
    "!pip install numpy\n",
    "!pip install pandas\n",
    "!pip install matplotlib\n",
    "!pip install scikit-learn"
   ]
  },
  {
   "cell_type": "markdown",
   "id": "dd3cc9ed",
   "metadata": {},
   "source": [
    "### numpy ndarray"
   ]
  },
  {
   "cell_type": "code",
   "execution_count": 42,
   "id": "3149b375",
   "metadata": {},
   "outputs": [
    {
     "data": {
      "text/plain": "array([10, 20, 30])"
     },
     "execution_count": 42,
     "metadata": {},
     "output_type": "execute_result"
    }
   ],
   "source": [
    "import numpy as np\n",
    "arr_1d = np.array([10, 20, 30])\n",
    "arr_1d"
   ]
  },
  {
   "cell_type": "code",
   "execution_count": 43,
   "id": "665501d4",
   "metadata": {},
   "outputs": [
    {
     "data": {
      "text/plain": "1"
     },
     "execution_count": 43,
     "metadata": {},
     "output_type": "execute_result"
    }
   ],
   "source": [
    "arr_1d.ndim"
   ]
  },
  {
   "cell_type": "code",
   "execution_count": 44,
   "id": "f3ad8f6d",
   "metadata": {
    "scrolled": true
   },
   "outputs": [
    {
     "data": {
      "text/plain": "array([[10, 20],\n       [30, 40],\n       [50, 60]])"
     },
     "execution_count": 44,
     "metadata": {},
     "output_type": "execute_result"
    }
   ],
   "source": [
    "arr_2d = np.array([   [10,20], [30,40], [50,60]    ])\n",
    "arr_2d"
   ]
  },
  {
   "cell_type": "code",
   "execution_count": 45,
   "id": "634b4034",
   "metadata": {},
   "outputs": [
    {
     "data": {
      "text/plain": "2"
     },
     "execution_count": 45,
     "metadata": {},
     "output_type": "execute_result"
    }
   ],
   "source": [
    "arr_2d.ndim"
   ]
  },
  {
   "cell_type": "code",
   "execution_count": 46,
   "id": "8eb07252",
   "metadata": {
    "scrolled": true
   },
   "outputs": [
    {
     "data": {
      "text/plain": "array([[[10, 20],\n        [30, 40],\n        [50, 60]],\n\n       [[10, 20],\n        [30, 40],\n        [50, 60]],\n\n       [[10, 20],\n        [30, 40],\n        [50, 60]]])"
     },
     "execution_count": 46,
     "metadata": {},
     "output_type": "execute_result"
    }
   ],
   "source": [
    "arr_3d = np.array([arr_2d, arr_2d, arr_2d])\n",
    "arr_3d"
   ]
  },
  {
   "cell_type": "markdown",
   "id": "ab4918b8",
   "metadata": {},
   "source": [
    "Attributes (not functions)"
   ]
  },
  {
   "cell_type": "code",
   "execution_count": 47,
   "id": "682e15dc",
   "metadata": {},
   "outputs": [
    {
     "ename": "TypeError",
     "evalue": "'int' object is not callable",
     "output_type": "error",
     "traceback": [
      "\u001B[1;31m---------------------------------------------------------------------------\u001B[0m",
      "\u001B[1;31mTypeError\u001B[0m                                 Traceback (most recent call last)",
      "\u001B[1;32m~\\AppData\\Local\\Temp\\ipykernel_13316\\1551918941.py\u001B[0m in \u001B[0;36m<module>\u001B[1;34m\u001B[0m\n\u001B[1;32m----> 1\u001B[1;33m \u001B[0mprint\u001B[0m\u001B[1;33m(\u001B[0m\u001B[0marr_3d\u001B[0m\u001B[1;33m.\u001B[0m\u001B[0mndim\u001B[0m\u001B[1;33m)\u001B[0m\u001B[1;33m\u001B[0m\u001B[1;33m\u001B[0m\u001B[0m\n\u001B[0m\u001B[0;32m      2\u001B[0m \u001B[0mprint\u001B[0m\u001B[1;33m(\u001B[0m\u001B[0marr_3d\u001B[0m\u001B[1;33m.\u001B[0m\u001B[0mshape\u001B[0m\u001B[1;33m)\u001B[0m\u001B[1;33m\u001B[0m\u001B[1;33m\u001B[0m\u001B[0m\n\u001B[0;32m      3\u001B[0m \u001B[0mprint\u001B[0m\u001B[1;33m(\u001B[0m\u001B[0marr_3d\u001B[0m\u001B[1;33m.\u001B[0m\u001B[0msize\u001B[0m\u001B[1;33m)\u001B[0m\u001B[1;33m\u001B[0m\u001B[1;33m\u001B[0m\u001B[0m\n\u001B[0;32m      4\u001B[0m \u001B[0mprint\u001B[0m\u001B[1;33m(\u001B[0m\u001B[0marr_3d\u001B[0m\u001B[1;33m.\u001B[0m\u001B[0mdtype\u001B[0m\u001B[1;33m)\u001B[0m\u001B[1;33m\u001B[0m\u001B[1;33m\u001B[0m\u001B[0m\n",
      "\u001B[1;31mTypeError\u001B[0m: 'int' object is not callable"
     ]
    }
   ],
   "source": [
    "print(arr_3d.ndim)\n",
    "print(arr_3d.shape)\n",
    "print(arr_3d.size)\n",
    "print(arr_3d.dtype)"
   ]
  },
  {
   "cell_type": "markdown",
   "id": "d47dc88f",
   "metadata": {},
   "source": [
    "Slicing"
   ]
  },
  {
   "cell_type": "code",
   "execution_count": 48,
   "id": "bc4c88a3",
   "metadata": {},
   "outputs": [
    {
     "data": {
      "text/plain": "10"
     },
     "execution_count": 48,
     "metadata": {},
     "output_type": "execute_result"
    }
   ],
   "source": [
    "arr_1d[0]"
   ]
  },
  {
   "cell_type": "code",
   "execution_count": 49,
   "id": "fe13c1af",
   "metadata": {},
   "outputs": [
    {
     "data": {
      "text/plain": "array([10, 20])"
     },
     "execution_count": 49,
     "metadata": {},
     "output_type": "execute_result"
    }
   ],
   "source": [
    "arr_1d[0:2]"
   ]
  },
  {
   "cell_type": "code",
   "execution_count": 50,
   "id": "0bf36f2d",
   "metadata": {},
   "outputs": [
    {
     "data": {
      "text/plain": "array([[10, 20],\n       [30, 40],\n       [50, 60]])"
     },
     "execution_count": 50,
     "metadata": {},
     "output_type": "execute_result"
    }
   ],
   "source": [
    "arr_2d"
   ]
  },
  {
   "cell_type": "code",
   "execution_count": 51,
   "id": "9a61614a",
   "metadata": {},
   "outputs": [
    {
     "data": {
      "text/plain": "10"
     },
     "execution_count": 51,
     "metadata": {},
     "output_type": "execute_result"
    }
   ],
   "source": [
    "arr_2d[0, 0]"
   ]
  },
  {
   "cell_type": "code",
   "execution_count": 52,
   "id": "85e60765",
   "metadata": {
    "scrolled": true
   },
   "outputs": [
    {
     "data": {
      "text/plain": "array([[10],\n       [30]])"
     },
     "execution_count": 52,
     "metadata": {},
     "output_type": "execute_result"
    }
   ],
   "source": [
    "arr_2d[0:2, 0:1]"
   ]
  },
  {
   "cell_type": "code",
   "execution_count": 53,
   "id": "56ecbfb8",
   "metadata": {},
   "outputs": [
    {
     "data": {
      "text/plain": "array([[10, 20],\n       [30, 40],\n       [50, 60]])"
     },
     "execution_count": 53,
     "metadata": {},
     "output_type": "execute_result"
    }
   ],
   "source": [
    "arr_2d"
   ]
  },
  {
   "cell_type": "markdown",
   "id": "f0795522",
   "metadata": {},
   "source": [
    "Statistical functions - ndarray methods"
   ]
  },
  {
   "cell_type": "code",
   "execution_count": 54,
   "id": "ecff8cc7",
   "metadata": {},
   "outputs": [
    {
     "data": {
      "text/plain": "35.0"
     },
     "execution_count": 54,
     "metadata": {},
     "output_type": "execute_result"
    }
   ],
   "source": [
    "arr_2d.mean()"
   ]
  },
  {
   "cell_type": "code",
   "execution_count": 55,
   "id": "6c7d2663",
   "metadata": {},
   "outputs": [
    {
     "data": {
      "text/plain": "17.07825127659933"
     },
     "execution_count": 55,
     "metadata": {},
     "output_type": "execute_result"
    }
   ],
   "source": [
    "arr_2d.std()"
   ]
  },
  {
   "cell_type": "markdown",
   "id": "5c939afa",
   "metadata": {},
   "source": [
    "Statistical functions - Numpy library functions"
   ]
  },
  {
   "cell_type": "code",
   "execution_count": 56,
   "id": "1f885e01",
   "metadata": {},
   "outputs": [
    {
     "data": {
      "text/plain": "35.0"
     },
     "execution_count": 56,
     "metadata": {},
     "output_type": "execute_result"
    }
   ],
   "source": [
    "np.mean(arr_2d)"
   ]
  },
  {
   "cell_type": "code",
   "execution_count": 57,
   "id": "9a180c1c",
   "metadata": {},
   "outputs": [
    {
     "data": {
      "text/plain": "17.07825127659933"
     },
     "execution_count": 57,
     "metadata": {},
     "output_type": "execute_result"
    }
   ],
   "source": [
    "np.std(arr_2d)"
   ]
  },
  {
   "cell_type": "code",
   "execution_count": 58,
   "id": "4e20d68f",
   "metadata": {},
   "outputs": [
    {
     "data": {
      "text/plain": "20.0"
     },
     "execution_count": 58,
     "metadata": {},
     "output_type": "execute_result"
    }
   ],
   "source": [
    "np.percentile(arr_2d, 20)  #20th-percentile"
   ]
  },
  {
   "cell_type": "code",
   "execution_count": 59,
   "id": "5c51144c",
   "metadata": {},
   "outputs": [
    {
     "data": {
      "text/plain": "35.0"
     },
     "execution_count": 59,
     "metadata": {},
     "output_type": "execute_result"
    }
   ],
   "source": [
    "np.percentile(arr_2d, 50)  #50th-percentile\n",
    "# Is this mean or median?"
   ]
  },
  {
   "cell_type": "markdown",
   "id": "d8e56fbb",
   "metadata": {},
   "source": [
    "Element-wise operations"
   ]
  },
  {
   "cell_type": "code",
   "execution_count": 60,
   "id": "14bfadb1",
   "metadata": {},
   "outputs": [
    {
     "ename": "TypeError",
     "evalue": "'int' object is not callable",
     "output_type": "error",
     "traceback": [
      "\u001B[1;31m---------------------------------------------------------------------------\u001B[0m",
      "\u001B[1;31mTypeError\u001B[0m                                 Traceback (most recent call last)",
      "\u001B[1;32m~\\AppData\\Local\\Temp\\ipykernel_13316\\1358133785.py\u001B[0m in \u001B[0;36m<module>\u001B[1;34m\u001B[0m\n\u001B[0;32m      1\u001B[0m \u001B[0mx\u001B[0m \u001B[1;33m=\u001B[0m \u001B[0mnp\u001B[0m\u001B[1;33m.\u001B[0m\u001B[0marray\u001B[0m\u001B[1;33m(\u001B[0m\u001B[1;33m[\u001B[0m\u001B[1;36m10\u001B[0m\u001B[1;33m,\u001B[0m \u001B[1;36m20\u001B[0m\u001B[1;33m,\u001B[0m \u001B[1;36m30\u001B[0m\u001B[1;33m]\u001B[0m\u001B[1;33m)\u001B[0m\u001B[1;33m\u001B[0m\u001B[1;33m\u001B[0m\u001B[0m\n\u001B[0;32m      2\u001B[0m \u001B[0mx2\u001B[0m \u001B[1;33m=\u001B[0m \u001B[0mx\u001B[0m \u001B[1;33m+\u001B[0m \u001B[1;36m10\u001B[0m\u001B[1;33m\u001B[0m\u001B[1;33m\u001B[0m\u001B[0m\n\u001B[1;32m----> 3\u001B[1;33m \u001B[0mprint\u001B[0m\u001B[1;33m(\u001B[0m\u001B[0mx2\u001B[0m\u001B[1;33m)\u001B[0m\u001B[1;33m\u001B[0m\u001B[1;33m\u001B[0m\u001B[0m\n\u001B[0m\u001B[0;32m      4\u001B[0m \u001B[1;33m\u001B[0m\u001B[0m\n\u001B[0;32m      5\u001B[0m \u001B[0my\u001B[0m \u001B[1;33m=\u001B[0m \u001B[0mx\u001B[0m \u001B[1;33m+\u001B[0m \u001B[0mx\u001B[0m\u001B[1;33m\u001B[0m\u001B[1;33m\u001B[0m\u001B[0m\n",
      "\u001B[1;31mTypeError\u001B[0m: 'int' object is not callable"
     ]
    }
   ],
   "source": [
    "\n",
    "\n",
    "x = np.array([10, 20, 30])\n",
    "x2 = x + 10\n",
    "print(x2)\n",
    "\n",
    "y = x + x\n",
    "print(y)\n",
    "\n",
    "z = x * x\n",
    "print(z)"
   ]
  },
  {
   "cell_type": "markdown",
   "id": "25427f10",
   "metadata": {},
   "source": [
    "Broadcasting"
   ]
  },
  {
   "cell_type": "code",
   "execution_count": 61,
   "id": "6d241f3e",
   "metadata": {
    "scrolled": true
   },
   "outputs": [
    {
     "ename": "ValueError",
     "evalue": "operands could not be broadcast together with shapes (3,) (3,2) ",
     "output_type": "error",
     "traceback": [
      "\u001B[1;31m---------------------------------------------------------------------------\u001B[0m",
      "\u001B[1;31mValueError\u001B[0m                                Traceback (most recent call last)",
      "\u001B[1;32m~\\AppData\\Local\\Temp\\ipykernel_13316\\460076248.py\u001B[0m in \u001B[0;36m<module>\u001B[1;34m\u001B[0m\n\u001B[0;32m      1\u001B[0m \u001B[0marr_2d\u001B[0m \u001B[1;33m=\u001B[0m \u001B[0mnp\u001B[0m\u001B[1;33m.\u001B[0m\u001B[0marray\u001B[0m\u001B[1;33m(\u001B[0m\u001B[1;33m[\u001B[0m\u001B[1;33m[\u001B[0m\u001B[1;36m10\u001B[0m\u001B[1;33m,\u001B[0m\u001B[1;36m20\u001B[0m\u001B[1;33m]\u001B[0m\u001B[1;33m,\u001B[0m \u001B[1;33m[\u001B[0m\u001B[1;36m30\u001B[0m\u001B[1;33m,\u001B[0m\u001B[1;36m40\u001B[0m\u001B[1;33m]\u001B[0m\u001B[1;33m,\u001B[0m \u001B[1;33m[\u001B[0m\u001B[1;36m50\u001B[0m\u001B[1;33m,\u001B[0m\u001B[1;36m60\u001B[0m\u001B[1;33m]\u001B[0m\u001B[1;33m]\u001B[0m\u001B[1;33m)\u001B[0m\u001B[1;33m\u001B[0m\u001B[1;33m\u001B[0m\u001B[0m\n\u001B[1;32m----> 2\u001B[1;33m \u001B[0mx\u001B[0m \u001B[1;33m+\u001B[0m \u001B[0marr_2d\u001B[0m   \u001B[1;31m# does this work?\u001B[0m\u001B[1;33m\u001B[0m\u001B[1;33m\u001B[0m\u001B[0m\n\u001B[0m",
      "\u001B[1;31mValueError\u001B[0m: operands could not be broadcast together with shapes (3,) (3,2) "
     ]
    }
   ],
   "source": [
    "arr_2d = np.array([[10,20], [30,40], [50,60]])\n",
    "x + arr_2d   # does this work?"
   ]
  },
  {
   "cell_type": "code",
   "execution_count": 62,
   "id": "6cf87ce8",
   "metadata": {},
   "outputs": [
    {
     "data": {
      "text/plain": "array([[20, 40, 60],\n       [40, 60, 80]])"
     },
     "execution_count": 62,
     "metadata": {},
     "output_type": "execute_result"
    }
   ],
   "source": [
    "arr_2d = np.array([[10,20,30], [30,40,50]])\n",
    "x + arr_2d   # does this work?"
   ]
  },
  {
   "cell_type": "markdown",
   "id": "924518dc",
   "metadata": {},
   "source": [
    "### pandas Series"
   ]
  },
  {
   "cell_type": "code",
   "execution_count": 70,
   "id": "614230a9",
   "metadata": {},
   "outputs": [],
   "source": [
    "import pandas as pd\n",
    "age = pd.Series([2,4,1])"
   ]
  },
  {
   "cell_type": "markdown",
   "id": "1cde0e51",
   "metadata": {},
   "source": [
    "Attributes"
   ]
  },
  {
   "cell_type": "code",
   "execution_count": 71,
   "id": "7b4ac32b",
   "metadata": {},
   "outputs": [
    {
     "ename": "TypeError",
     "evalue": "'int' object is not callable",
     "output_type": "error",
     "traceback": [
      "\u001B[1;31m---------------------------------------------------------------------------\u001B[0m",
      "\u001B[1;31mTypeError\u001B[0m                                 Traceback (most recent call last)",
      "\u001B[1;32m~\\AppData\\Local\\Temp\\ipykernel_13316\\3339243867.py\u001B[0m in \u001B[0;36m<module>\u001B[1;34m\u001B[0m\n\u001B[1;32m----> 1\u001B[1;33m \u001B[0mprint\u001B[0m\u001B[1;33m(\u001B[0m\u001B[0mage\u001B[0m\u001B[1;33m.\u001B[0m\u001B[0mindex\u001B[0m\u001B[1;33m)\u001B[0m\u001B[1;33m\u001B[0m\u001B[1;33m\u001B[0m\u001B[0m\n\u001B[0m\u001B[0;32m      2\u001B[0m \u001B[0mprint\u001B[0m\u001B[1;33m(\u001B[0m\u001B[0mage\u001B[0m\u001B[1;33m.\u001B[0m\u001B[0mvalues\u001B[0m\u001B[1;33m)\u001B[0m\u001B[1;33m\u001B[0m\u001B[1;33m\u001B[0m\u001B[0m\n",
      "\u001B[1;31mTypeError\u001B[0m: 'int' object is not callable"
     ]
    }
   ],
   "source": [
    "print(age.index)\n",
    "print(age.values)"
   ]
  },
  {
   "cell_type": "code",
   "execution_count": 65,
   "id": "86046e54",
   "metadata": {},
   "outputs": [
    {
     "ename": "TypeError",
     "evalue": "'int' object is not callable",
     "output_type": "error",
     "traceback": [
      "\u001B[1;31m---------------------------------------------------------------------------\u001B[0m",
      "\u001B[1;31mTypeError\u001B[0m                                 Traceback (most recent call last)",
      "\u001B[1;32m~\\AppData\\Local\\Temp\\ipykernel_13316\\1288979642.py\u001B[0m in \u001B[0;36m<module>\u001B[1;34m\u001B[0m\n\u001B[1;32m----> 1\u001B[1;33m \u001B[0mprint\u001B[0m\u001B[1;33m(\u001B[0m\u001B[0mage\u001B[0m\u001B[1;33m)\u001B[0m\u001B[1;33m\u001B[0m\u001B[1;33m\u001B[0m\u001B[0m\n\u001B[0m",
      "\u001B[1;31mTypeError\u001B[0m: 'int' object is not callable"
     ]
    }
   ],
   "source": [
    "print(age)"
   ]
  },
  {
   "cell_type": "markdown",
   "id": "4c352409",
   "metadata": {},
   "source": [
    "index can be modified to meaningful labels"
   ]
  },
  {
   "cell_type": "code",
   "execution_count": 69,
   "id": "775bda13",
   "metadata": {
    "scrolled": true
   },
   "outputs": [
    {
     "ename": "TypeError",
     "evalue": "'int' object is not callable",
     "output_type": "error",
     "traceback": [
      "\u001B[1;31m---------------------------------------------------------------------------\u001B[0m",
      "\u001B[1;31mTypeError\u001B[0m                                 Traceback (most recent call last)",
      "\u001B[1;32m~\\AppData\\Local\\Temp\\ipykernel_13316\\4147200854.py\u001B[0m in \u001B[0;36m<module>\u001B[1;34m\u001B[0m\n\u001B[0;32m      1\u001B[0m \u001B[0mage\u001B[0m\u001B[1;33m.\u001B[0m\u001B[0mindex\u001B[0m \u001B[1;33m=\u001B[0m \u001B[1;33m[\u001B[0m\u001B[1;34m'Milo'\u001B[0m\u001B[1;33m,\u001B[0m\u001B[1;34m'Coco'\u001B[0m\u001B[1;33m,\u001B[0m\u001B[1;34m'Lulu'\u001B[0m\u001B[1;33m]\u001B[0m\u001B[1;33m\u001B[0m\u001B[1;33m\u001B[0m\u001B[0m\n\u001B[1;32m----> 2\u001B[1;33m \u001B[0mprint\u001B[0m\u001B[1;33m(\u001B[0m\u001B[1;34m'age'\u001B[0m\u001B[1;33m)\u001B[0m\u001B[1;33m\u001B[0m\u001B[1;33m\u001B[0m\u001B[0m\n\u001B[0m",
      "\u001B[1;31mTypeError\u001B[0m: 'int' object is not callable"
     ]
    }
   ],
   "source": [
    "age.index = ['Milo','Coco','Lulu']\n",
    "print(age)"
   ]
  },
  {
   "cell_type": "markdown",
   "id": "0f757464",
   "metadata": {},
   "source": [
    "Two ways to access an item of a Series"
   ]
  },
  {
   "cell_type": "code",
   "execution_count": 67,
   "id": "863baaa5",
   "metadata": {},
   "outputs": [
    {
     "ename": "TypeError",
     "evalue": "'int' object is not callable",
     "output_type": "error",
     "traceback": [
      "\u001B[1;31m---------------------------------------------------------------------------\u001B[0m",
      "\u001B[1;31mTypeError\u001B[0m                                 Traceback (most recent call last)",
      "\u001B[1;32m~\\AppData\\Local\\Temp\\ipykernel_13316\\1491948481.py\u001B[0m in \u001B[0;36m<module>\u001B[1;34m\u001B[0m\n\u001B[1;32m----> 1\u001B[1;33m \u001B[0mprint\u001B[0m\u001B[1;33m(\u001B[0m\u001B[0mage\u001B[0m\u001B[1;33m[\u001B[0m\u001B[1;36m0\u001B[0m\u001B[1;33m]\u001B[0m\u001B[1;33m)\u001B[0m\u001B[1;33m\u001B[0m\u001B[1;33m\u001B[0m\u001B[0m\n\u001B[0m\u001B[0;32m      2\u001B[0m \u001B[0mprint\u001B[0m\u001B[1;33m(\u001B[0m\u001B[0mage\u001B[0m\u001B[1;33m[\u001B[0m\u001B[1;34m'Milo'\u001B[0m\u001B[1;33m]\u001B[0m\u001B[1;33m)\u001B[0m\u001B[1;33m\u001B[0m\u001B[1;33m\u001B[0m\u001B[0m\n",
      "\u001B[1;31mTypeError\u001B[0m: 'int' object is not callable"
     ]
    }
   ],
   "source": [
    "print(age[0])\n",
    "print(age['Milo'])"
   ]
  },
  {
   "cell_type": "markdown",
   "id": "957c9809",
   "metadata": {},
   "source": [
    "Slice a Series with a slice of indices"
   ]
  },
  {
   "cell_type": "code",
   "execution_count": 68,
   "id": "4af121da",
   "metadata": {
    "scrolled": true
   },
   "outputs": [
    {
     "ename": "TypeError",
     "evalue": "'int' object is not callable",
     "output_type": "error",
     "traceback": [
      "\u001B[1;31m---------------------------------------------------------------------------\u001B[0m",
      "\u001B[1;31mTypeError\u001B[0m                                 Traceback (most recent call last)",
      "\u001B[1;32m~\\AppData\\Local\\Temp\\ipykernel_13316\\745003562.py\u001B[0m in \u001B[0;36m<module>\u001B[1;34m\u001B[0m\n\u001B[0;32m      1\u001B[0m \u001B[1;31m# are below the same?\u001B[0m\u001B[1;33m\u001B[0m\u001B[1;33m\u001B[0m\u001B[0m\n\u001B[1;32m----> 2\u001B[1;33m \u001B[0mprint\u001B[0m\u001B[1;33m(\u001B[0m\u001B[0mage\u001B[0m\u001B[1;33m[\u001B[0m\u001B[1;36m0\u001B[0m\u001B[1;33m:\u001B[0m\u001B[1;36m1\u001B[0m\u001B[1;33m]\u001B[0m\u001B[1;33m)\u001B[0m\u001B[1;33m\u001B[0m\u001B[1;33m\u001B[0m\u001B[0m\n\u001B[0m\u001B[0;32m      3\u001B[0m \u001B[0mprint\u001B[0m\u001B[1;33m(\u001B[0m\u001B[0mage\u001B[0m\u001B[1;33m[\u001B[0m\u001B[1;34m'Milo'\u001B[0m\u001B[1;33m:\u001B[0m\u001B[1;34m'Coco'\u001B[0m\u001B[1;33m]\u001B[0m\u001B[1;33m)\u001B[0m\u001B[1;33m\u001B[0m\u001B[1;33m\u001B[0m\u001B[0m\n",
      "\u001B[1;31mTypeError\u001B[0m: 'int' object is not callable"
     ]
    }
   ],
   "source": [
    "# are below the same?\n",
    "print(age[0:1]) \n",
    "print(age['Milo':'Coco'])"
   ]
  },
  {
   "cell_type": "markdown",
   "id": "8b79ebf1",
   "metadata": {},
   "source": [
    "### pandas DataFrame"
   ]
  },
  {
   "cell_type": "code",
   "execution_count": null,
   "id": "924ea4a2",
   "metadata": {},
   "outputs": [],
   "source": [
    "# Prices of 3 stocks in 3 days\n",
    "stock = pd.DataFrame({\"TSLA\": [122.72, 123.08, 122.94],\n",
    "                      \"FB\":[3220.08, 3203.53, 3186.73],\n",
    "                      \"GOOG\":[584.76, 568.82, 593.38]})\n",
    "stock.index = ['2021-01-01','2021-01-02','2021-01-03']\n",
    "display(stock)"
   ]
  },
  {
   "cell_type": "markdown",
   "id": "d60d9ee4",
   "metadata": {},
   "source": [
    "Attributes"
   ]
  },
  {
   "cell_type": "code",
   "execution_count": null,
   "id": "9237a21c",
   "metadata": {
    "scrolled": true
   },
   "outputs": [],
   "source": [
    "print(stock.columns)\n",
    "print(stock.index)\n",
    "print(stock.shape)\n",
    "print(stock.size)"
   ]
  },
  {
   "cell_type": "markdown",
   "id": "c6b2c8eb",
   "metadata": {},
   "source": [
    "Edit the row index to be more meaningful"
   ]
  },
  {
   "cell_type": "code",
   "execution_count": null,
   "id": "6c5ffc71",
   "metadata": {
    "scrolled": true
   },
   "outputs": [],
   "source": [
    "stock.index = ['2021-01-01', '2021-01-02', '2021-01-03'] \n",
    "display(stock)"
   ]
  },
  {
   "cell_type": "markdown",
   "id": "29cc52af",
   "metadata": {},
   "source": [
    "Read column(s) with []"
   ]
  },
  {
   "cell_type": "code",
   "execution_count": null,
   "id": "983c85e0",
   "metadata": {},
   "outputs": [],
   "source": [
    "tsla = stock['TSLA']\n",
    "print(tsla)"
   ]
  },
  {
   "cell_type": "code",
   "execution_count": null,
   "id": "ac25490b",
   "metadata": {
    "scrolled": true
   },
   "outputs": [],
   "source": [
    "subset = stock[['TSLA','GOOG']]\n",
    "display(subset)"
   ]
  },
  {
   "cell_type": "markdown",
   "id": "51b2aebe",
   "metadata": {},
   "source": [
    "indexer loc[] and iloc[]"
   ]
  },
  {
   "cell_type": "code",
   "execution_count": null,
   "id": "6accd806",
   "metadata": {},
   "outputs": [],
   "source": [
    "stock"
   ]
  },
  {
   "cell_type": "code",
   "execution_count": null,
   "id": "ec30ccef",
   "metadata": {
    "scrolled": false
   },
   "outputs": [],
   "source": [
    "print(stock.loc['2021-01-01', 'TSLA'])\n",
    "display(stock.loc[['2021-01-01','2021-01-03'], ['GOOG','TSLA']])\n",
    "display(stock.loc['2021-01-01':'2021-01-02','TSLA':'GOOG'])\n",
    "# Q: Is the ending index inclusive?"
   ]
  },
  {
   "cell_type": "code",
   "execution_count": null,
   "id": "424ae9cd",
   "metadata": {},
   "outputs": [],
   "source": [
    "stock['TSLA']"
   ]
  },
  {
   "cell_type": "code",
   "execution_count": null,
   "id": "c9de1e92",
   "metadata": {
    "scrolled": true
   },
   "outputs": [],
   "source": [
    "print(stock.iloc[1, 1])\n",
    "display(stock.iloc[[0,2], [0,2]])\n",
    "display(stock.iloc[0:1, 0:1])\n",
    "# Q: Is the ending index inclusive?"
   ]
  },
  {
   "cell_type": "markdown",
   "id": "8a8e15c8",
   "metadata": {},
   "source": [
    "Conditional operations"
   ]
  },
  {
   "cell_type": "code",
   "execution_count": null,
   "id": "7ab08eda",
   "metadata": {
    "scrolled": true
   },
   "outputs": [],
   "source": [
    "display(stock > 123)"
   ]
  },
  {
   "cell_type": "code",
   "execution_count": null,
   "id": "065e4cd8",
   "metadata": {},
   "outputs": [],
   "source": [
    "display(stock['TSLA'] > 123)"
   ]
  },
  {
   "cell_type": "markdown",
   "id": "c47484ea",
   "metadata": {},
   "source": [
    "Boolean indexing with .loc[]"
   ]
  },
  {
   "cell_type": "code",
   "execution_count": null,
   "id": "e5aea8f2",
   "metadata": {
    "scrolled": true
   },
   "outputs": [],
   "source": [
    "display(stock.loc[   stock['TSLA'] > 123   ])"
   ]
  },
  {
   "cell_type": "code",
   "execution_count": null,
   "id": "6ff22b7f",
   "metadata": {},
   "outputs": [],
   "source": [
    "display(stock.loc[  (stock['TSLA'] < 123) & (stock['GOOG'] > 590)  ])"
   ]
  },
  {
   "cell_type": "code",
   "execution_count": null,
   "id": "1c48d573",
   "metadata": {
    "scrolled": true
   },
   "outputs": [],
   "source": [
    "display(stock.loc[(stock['FB'] > 3200) | (stock['FB'] < 3180)])"
   ]
  },
  {
   "cell_type": "markdown",
   "id": "be5bbe1f",
   "metadata": {},
   "source": [
    "file read and write"
   ]
  },
  {
   "cell_type": "code",
   "execution_count": null,
   "id": "95574d08",
   "metadata": {},
   "outputs": [],
   "source": [
    "stock.to_csv('stock.csv')\n",
    "stock.to_excel('stock.xlsx')"
   ]
  },
  {
   "cell_type": "code",
   "execution_count": null,
   "id": "91f36b51",
   "metadata": {},
   "outputs": [],
   "source": [
    "stock2 = pd.read_csv('stock.csv')\n",
    "display(stock2)"
   ]
  },
  {
   "cell_type": "code",
   "execution_count": null,
   "id": "4a613215",
   "metadata": {},
   "outputs": [],
   "source": [
    "stock3 = pd.read_excel('stock.xlsx')\n",
    "display(stock3)"
   ]
  },
  {
   "cell_type": "markdown",
   "id": "6a7a39f3",
   "metadata": {},
   "source": [
    "Add an argument to specify which column to use as row index"
   ]
  },
  {
   "cell_type": "code",
   "execution_count": null,
   "id": "a6831b88",
   "metadata": {
    "scrolled": true
   },
   "outputs": [],
   "source": [
    "stock2 = pd.read_csv('stock.csv', index_col = 0)\n",
    "display(stock2)"
   ]
  },
  {
   "cell_type": "code",
   "execution_count": null,
   "id": "6ec7bb17",
   "metadata": {
    "scrolled": false
   },
   "outputs": [],
   "source": [
    "stock3 = pd.read_excel('stock.xlsx', index_col = 0)\n",
    "display(stock3)"
   ]
  },
  {
   "cell_type": "markdown",
   "id": "2af4df13",
   "metadata": {},
   "source": [
    "Ensure that csv or excel is in the same folder as the code (.ipynb file), or the correct file path is given"
   ]
  },
  {
   "cell_type": "code",
   "execution_count": null,
   "id": "b01de08f",
   "metadata": {},
   "outputs": [],
   "source": [
    "stock3 = pd.read_excel('datasets\\\\stock.xlsx', index_col = 0) # windows\n",
    "# from current folder of the .ipynb file, we need to get into datasets sub-folder, where stock.xlsx is\n",
    "display(stock3)"
   ]
  },
  {
   "cell_type": "code",
   "execution_count": null,
   "id": "f0da12c4",
   "metadata": {},
   "outputs": [],
   "source": [
    "stock3 = pd.read_excel('datasets/stock.xlsx', index_col = 0) # Mac\n",
    "# from current folder of the .ipynb file, we need to get into datasets sub-folder, where stock.xlsx is\n",
    "display(stock3)"
   ]
  },
  {
   "cell_type": "markdown",
   "id": "e4fc4429",
   "metadata": {},
   "source": [
    "## scikit-learn"
   ]
  },
  {
   "cell_type": "markdown",
   "id": "7d5971a7",
   "metadata": {},
   "source": [
    "$$\n",
    "explained\\_variance\\_score(\\hat{y},y) = 1 - \\frac{Var(y- \\hat{y})}{Var(y)} \n",
    "$$"
   ]
  },
  {
   "cell_type": "code",
   "execution_count": 72,
   "id": "dc1ee14f",
   "metadata": {
    "scrolled": true
   },
   "outputs": [
    {
     "data": {
      "text/plain": "0.9571734475374732"
     },
     "execution_count": 72,
     "metadata": {},
     "output_type": "execute_result"
    }
   ],
   "source": [
    "from sklearn.metrics import explained_variance_score\n",
    "y_hat = [3, -0.5, 2, 7]\n",
    "y_pred = [2.5, 0.0, 2, 8]\n",
    "explained_variance_score(y_hat, y_pred)"
   ]
  }
 ],
 "metadata": {
  "kernelspec": {
   "display_name": "Python 3 (ipykernel)",
   "language": "python",
   "name": "python3"
  },
  "language_info": {
   "codemirror_mode": {
    "name": "ipython",
    "version": 3
   },
   "file_extension": ".py",
   "mimetype": "text/x-python",
   "name": "python",
   "nbconvert_exporter": "python",
   "pygments_lexer": "ipython3",
   "version": "3.8.8"
  }
 },
 "nbformat": 4,
 "nbformat_minor": 5
}
