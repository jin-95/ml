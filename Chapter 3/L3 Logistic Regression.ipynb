{
 "cells": [
  {
   "cell_type": "markdown",
   "metadata": {},
   "source": [
    "### Import libraries"
   ]
  },
  {
   "cell_type": "code",
   "execution_count": 2,
   "metadata": {
    "id": "0NegjWkrK2mU"
   },
   "outputs": [],
   "source": [
    "import numpy as np\n",
    "import pandas as pd\n",
    "import seaborn as sns\n",
    "import matplotlib.pyplot as plt\n",
    "from sklearn import metrics\n",
    "\n",
    "%matplotlib inline"
   ]
  },
  {
   "cell_type": "markdown",
   "metadata": {
    "id": "BTJ7kD2_iNxN"
   },
   "source": [
    "### Obtaining Data"
   ]
  },
  {
   "cell_type": "markdown",
   "metadata": {
    "id": "pAmYWo5z8dUb"
   },
   "source": [
    "We aim to predict the purchasing behaviour of people whom have been subject to a social media marketing advertisement campaign. "
   ]
  },
  {
   "cell_type": "code",
   "execution_count": 3,
   "metadata": {
    "colab": {
     "base_uri": "https://localhost:8080/",
     "height": 206
    },
    "executionInfo": {
     "elapsed": 2682,
     "status": "ok",
     "timestamp": 1605927644212,
     "user": {
      "displayName": "Lee Cheng Wei",
      "photoUrl": "https://lh3.googleusercontent.com/a-/AOh14Gj1r-4ZDIJ5XVvqvJnIbd3Z0F65aY80D3FWaDWitg=s64",
      "userId": "01410600568269338555"
     },
     "user_tz": -480
    },
    "id": "LxKastkNiU93",
    "outputId": "e324c6b9-accb-493a-98f4-4f092ddecf69",
    "scrolled": true
   },
   "outputs": [
    {
     "data": {
      "text/html": [
       "<div>\n",
       "<style scoped>\n",
       "    .dataframe tbody tr th:only-of-type {\n",
       "        vertical-align: middle;\n",
       "    }\n",
       "\n",
       "    .dataframe tbody tr th {\n",
       "        vertical-align: top;\n",
       "    }\n",
       "\n",
       "    .dataframe thead th {\n",
       "        text-align: right;\n",
       "    }\n",
       "</style>\n",
       "<table border=\"1\" class=\"dataframe\">\n",
       "  <thead>\n",
       "    <tr style=\"text-align: right;\">\n",
       "      <th></th>\n",
       "      <th>User ID</th>\n",
       "      <th>Gender</th>\n",
       "      <th>Age</th>\n",
       "      <th>EstimatedSalary</th>\n",
       "      <th>Purchased</th>\n",
       "    </tr>\n",
       "  </thead>\n",
       "  <tbody>\n",
       "    <tr>\n",
       "      <th>0</th>\n",
       "      <td>15624510</td>\n",
       "      <td>Male</td>\n",
       "      <td>19</td>\n",
       "      <td>19000</td>\n",
       "      <td>0</td>\n",
       "    </tr>\n",
       "    <tr>\n",
       "      <th>1</th>\n",
       "      <td>15810944</td>\n",
       "      <td>Male</td>\n",
       "      <td>35</td>\n",
       "      <td>20000</td>\n",
       "      <td>0</td>\n",
       "    </tr>\n",
       "    <tr>\n",
       "      <th>2</th>\n",
       "      <td>15668575</td>\n",
       "      <td>Female</td>\n",
       "      <td>26</td>\n",
       "      <td>43000</td>\n",
       "      <td>0</td>\n",
       "    </tr>\n",
       "    <tr>\n",
       "      <th>3</th>\n",
       "      <td>15603246</td>\n",
       "      <td>Female</td>\n",
       "      <td>27</td>\n",
       "      <td>57000</td>\n",
       "      <td>0</td>\n",
       "    </tr>\n",
       "    <tr>\n",
       "      <th>4</th>\n",
       "      <td>15804002</td>\n",
       "      <td>Male</td>\n",
       "      <td>19</td>\n",
       "      <td>76000</td>\n",
       "      <td>0</td>\n",
       "    </tr>\n",
       "  </tbody>\n",
       "</table>\n",
       "</div>"
      ],
      "text/plain": [
       "    User ID  Gender  Age  EstimatedSalary  Purchased\n",
       "0  15624510    Male   19            19000          0\n",
       "1  15810944    Male   35            20000          0\n",
       "2  15668575  Female   26            43000          0\n",
       "3  15603246  Female   27            57000          0\n",
       "4  15804002    Male   19            76000          0"
      ]
     },
     "execution_count": 3,
     "metadata": {},
     "output_type": "execute_result"
    }
   ],
   "source": [
    "# Load the data into a pandas dataframe  \n",
    "data = pd.read_csv('Social_Network_Ads.csv')\n",
    "data.head()"
   ]
  },
  {
   "cell_type": "markdown",
   "metadata": {},
   "source": [
    "Check the shape of the data"
   ]
  },
  {
   "cell_type": "code",
   "execution_count": 4,
   "metadata": {
    "colab": {
     "base_uri": "https://localhost:8080/"
    },
    "executionInfo": {
     "elapsed": 2497,
     "status": "ok",
     "timestamp": 1605927644213,
     "user": {
      "displayName": "Lee Cheng Wei",
      "photoUrl": "https://lh3.googleusercontent.com/a-/AOh14Gj1r-4ZDIJ5XVvqvJnIbd3Z0F65aY80D3FWaDWitg=s64",
      "userId": "01410600568269338555"
     },
     "user_tz": -480
    },
    "id": "7xLWjMs4idpl",
    "outputId": "da9e2e05-7d28-4904-8e9b-295ae19e4810"
   },
   "outputs": [
    {
     "data": {
      "text/plain": [
       "(400, 5)"
      ]
     },
     "execution_count": 4,
     "metadata": {},
     "output_type": "execute_result"
    }
   ],
   "source": [
    "data.shape"
   ]
  },
  {
   "cell_type": "markdown",
   "metadata": {},
   "source": [
    "Check overall summary using info() and check if any missing values? "
   ]
  },
  {
   "cell_type": "code",
   "execution_count": 5,
   "metadata": {
    "colab": {
     "base_uri": "https://localhost:8080/"
    },
    "executionInfo": {
     "elapsed": 2272,
     "status": "ok",
     "timestamp": 1605927644213,
     "user": {
      "displayName": "Lee Cheng Wei",
      "photoUrl": "https://lh3.googleusercontent.com/a-/AOh14Gj1r-4ZDIJ5XVvqvJnIbd3Z0F65aY80D3FWaDWitg=s64",
      "userId": "01410600568269338555"
     },
     "user_tz": -480
    },
    "id": "zM5sRWCiigp-",
    "outputId": "b1553f68-9a98-4774-f887-9463ad832fcd"
   },
   "outputs": [
    {
     "name": "stdout",
     "output_type": "stream",
     "text": [
      "<class 'pandas.core.frame.DataFrame'>\n",
      "RangeIndex: 400 entries, 0 to 399\n",
      "Data columns (total 5 columns):\n",
      " #   Column           Non-Null Count  Dtype \n",
      "---  ------           --------------  ----- \n",
      " 0   User ID          400 non-null    int64 \n",
      " 1   Gender           400 non-null    object\n",
      " 2   Age              400 non-null    int64 \n",
      " 3   EstimatedSalary  400 non-null    int64 \n",
      " 4   Purchased        400 non-null    int64 \n",
      "dtypes: int64(4), object(1)\n",
      "memory usage: 15.8+ KB\n"
     ]
    }
   ],
   "source": [
    "data.info()"
   ]
  },
  {
   "cell_type": "code",
   "execution_count": 6,
   "metadata": {},
   "outputs": [
    {
     "data": {
      "text/html": [
       "<div>\n",
       "<style scoped>\n",
       "    .dataframe tbody tr th:only-of-type {\n",
       "        vertical-align: middle;\n",
       "    }\n",
       "\n",
       "    .dataframe tbody tr th {\n",
       "        vertical-align: top;\n",
       "    }\n",
       "\n",
       "    .dataframe thead th {\n",
       "        text-align: right;\n",
       "    }\n",
       "</style>\n",
       "<table border=\"1\" class=\"dataframe\">\n",
       "  <thead>\n",
       "    <tr style=\"text-align: right;\">\n",
       "      <th></th>\n",
       "      <th>User ID</th>\n",
       "      <th>Age</th>\n",
       "      <th>EstimatedSalary</th>\n",
       "      <th>Purchased</th>\n",
       "    </tr>\n",
       "  </thead>\n",
       "  <tbody>\n",
       "    <tr>\n",
       "      <th>count</th>\n",
       "      <td>4.000000e+02</td>\n",
       "      <td>400.000000</td>\n",
       "      <td>400.000000</td>\n",
       "      <td>400.000000</td>\n",
       "    </tr>\n",
       "    <tr>\n",
       "      <th>mean</th>\n",
       "      <td>1.569154e+07</td>\n",
       "      <td>37.655000</td>\n",
       "      <td>69742.500000</td>\n",
       "      <td>0.357500</td>\n",
       "    </tr>\n",
       "    <tr>\n",
       "      <th>std</th>\n",
       "      <td>7.165832e+04</td>\n",
       "      <td>10.482877</td>\n",
       "      <td>34096.960282</td>\n",
       "      <td>0.479864</td>\n",
       "    </tr>\n",
       "    <tr>\n",
       "      <th>min</th>\n",
       "      <td>1.556669e+07</td>\n",
       "      <td>18.000000</td>\n",
       "      <td>15000.000000</td>\n",
       "      <td>0.000000</td>\n",
       "    </tr>\n",
       "    <tr>\n",
       "      <th>25%</th>\n",
       "      <td>1.562676e+07</td>\n",
       "      <td>29.750000</td>\n",
       "      <td>43000.000000</td>\n",
       "      <td>0.000000</td>\n",
       "    </tr>\n",
       "    <tr>\n",
       "      <th>50%</th>\n",
       "      <td>1.569434e+07</td>\n",
       "      <td>37.000000</td>\n",
       "      <td>70000.000000</td>\n",
       "      <td>0.000000</td>\n",
       "    </tr>\n",
       "    <tr>\n",
       "      <th>75%</th>\n",
       "      <td>1.575036e+07</td>\n",
       "      <td>46.000000</td>\n",
       "      <td>88000.000000</td>\n",
       "      <td>1.000000</td>\n",
       "    </tr>\n",
       "    <tr>\n",
       "      <th>max</th>\n",
       "      <td>1.581524e+07</td>\n",
       "      <td>60.000000</td>\n",
       "      <td>150000.000000</td>\n",
       "      <td>1.000000</td>\n",
       "    </tr>\n",
       "  </tbody>\n",
       "</table>\n",
       "</div>"
      ],
      "text/plain": [
       "            User ID         Age  EstimatedSalary   Purchased\n",
       "count  4.000000e+02  400.000000       400.000000  400.000000\n",
       "mean   1.569154e+07   37.655000     69742.500000    0.357500\n",
       "std    7.165832e+04   10.482877     34096.960282    0.479864\n",
       "min    1.556669e+07   18.000000     15000.000000    0.000000\n",
       "25%    1.562676e+07   29.750000     43000.000000    0.000000\n",
       "50%    1.569434e+07   37.000000     70000.000000    0.000000\n",
       "75%    1.575036e+07   46.000000     88000.000000    1.000000\n",
       "max    1.581524e+07   60.000000    150000.000000    1.000000"
      ]
     },
     "execution_count": 6,
     "metadata": {},
     "output_type": "execute_result"
    }
   ],
   "source": [
    "data.describe()"
   ]
  },
  {
   "cell_type": "markdown",
   "metadata": {
    "id": "sMHrRwu-8ttX"
   },
   "source": [
    "## Predicting a categorical target variable with Linear Regression"
   ]
  },
  {
   "cell_type": "markdown",
   "metadata": {},
   "source": [
    "#### Exercise: \n",
    "- extract the column 'Purchased' as target variable\n",
    "- put in a variable 'y'"
   ]
  },
  {
   "cell_type": "code",
   "execution_count": 7,
   "metadata": {
    "colab": {
     "base_uri": "https://localhost:8080/"
    },
    "executionInfo": {
     "elapsed": 3156,
     "status": "ok",
     "timestamp": 1605927646013,
     "user": {
      "displayName": "Lee Cheng Wei",
      "photoUrl": "https://lh3.googleusercontent.com/a-/AOh14Gj1r-4ZDIJ5XVvqvJnIbd3Z0F65aY80D3FWaDWitg=s64",
      "userId": "01410600568269338555"
     },
     "user_tz": -480
    },
    "id": "adALuVO-XV3O",
    "outputId": "7b1922af-3ee3-42bb-bda8-bc3bb185218b",
    "scrolled": true
   },
   "outputs": [
    {
     "data": {
      "text/plain": [
       "0      0\n",
       "1      0\n",
       "2      0\n",
       "3      0\n",
       "4      0\n",
       "      ..\n",
       "395    1\n",
       "396    1\n",
       "397    1\n",
       "398    0\n",
       "399    1\n",
       "Name: Purchased, Length: 400, dtype: int64"
      ]
     },
     "execution_count": 7,
     "metadata": {},
     "output_type": "execute_result"
    }
   ],
   "source": [
    "y = data.loc[:,\"Purchased\"]\n",
    "y"
   ]
  },
  {
   "cell_type": "markdown",
   "metadata": {},
   "source": [
    "#### Exercise: \n",
    "- extract the columns of input variables, a slice from column \"Gender\" to column \"EstimatedSalary\"\n",
    "- put in a variable 'x_orig'"
   ]
  },
  {
   "cell_type": "code",
   "execution_count": 8,
   "metadata": {
    "colab": {
     "base_uri": "https://localhost:8080/",
     "height": 206
    },
    "executionInfo": {
     "elapsed": 1555,
     "status": "ok",
     "timestamp": 1605927644214,
     "user": {
      "displayName": "Lee Cheng Wei",
      "photoUrl": "https://lh3.googleusercontent.com/a-/AOh14Gj1r-4ZDIJ5XVvqvJnIbd3Z0F65aY80D3FWaDWitg=s64",
      "userId": "01410600568269338555"
     },
     "user_tz": -480
    },
    "id": "eVzmwoC6PoDi",
    "outputId": "5ea52b69-ccfc-437f-84e9-76380ddbf18a",
    "scrolled": false
   },
   "outputs": [
    {
     "data": {
      "text/html": [
       "<div>\n",
       "<style scoped>\n",
       "    .dataframe tbody tr th:only-of-type {\n",
       "        vertical-align: middle;\n",
       "    }\n",
       "\n",
       "    .dataframe tbody tr th {\n",
       "        vertical-align: top;\n",
       "    }\n",
       "\n",
       "    .dataframe thead th {\n",
       "        text-align: right;\n",
       "    }\n",
       "</style>\n",
       "<table border=\"1\" class=\"dataframe\">\n",
       "  <thead>\n",
       "    <tr style=\"text-align: right;\">\n",
       "      <th></th>\n",
       "      <th>Gender</th>\n",
       "      <th>Age</th>\n",
       "      <th>EstimatedSalary</th>\n",
       "    </tr>\n",
       "  </thead>\n",
       "  <tbody>\n",
       "    <tr>\n",
       "      <th>0</th>\n",
       "      <td>Male</td>\n",
       "      <td>19</td>\n",
       "      <td>19000</td>\n",
       "    </tr>\n",
       "    <tr>\n",
       "      <th>1</th>\n",
       "      <td>Male</td>\n",
       "      <td>35</td>\n",
       "      <td>20000</td>\n",
       "    </tr>\n",
       "    <tr>\n",
       "      <th>2</th>\n",
       "      <td>Female</td>\n",
       "      <td>26</td>\n",
       "      <td>43000</td>\n",
       "    </tr>\n",
       "    <tr>\n",
       "      <th>3</th>\n",
       "      <td>Female</td>\n",
       "      <td>27</td>\n",
       "      <td>57000</td>\n",
       "    </tr>\n",
       "    <tr>\n",
       "      <th>4</th>\n",
       "      <td>Male</td>\n",
       "      <td>19</td>\n",
       "      <td>76000</td>\n",
       "    </tr>\n",
       "  </tbody>\n",
       "</table>\n",
       "</div>"
      ],
      "text/plain": [
       "   Gender  Age  EstimatedSalary\n",
       "0    Male   19            19000\n",
       "1    Male   35            20000\n",
       "2  Female   26            43000\n",
       "3  Female   27            57000\n",
       "4    Male   19            76000"
      ]
     },
     "execution_count": 8,
     "metadata": {},
     "output_type": "execute_result"
    }
   ],
   "source": [
    "x_orig = data.loc[:, \"Gender\":\"EstimatedSalary\"]\n",
    "x_orig.head()"
   ]
  },
  {
   "cell_type": "markdown",
   "metadata": {
    "id": "JLy2wyx0d1tE"
   },
   "source": [
    "#### Detour: Encoding Non-Numeric Variables"
   ]
  },
  {
   "cell_type": "markdown",
   "metadata": {
    "id": "XBpJKuJOd4ch"
   },
   "source": [
    "Note that the `Gender` column is a categorical variable. For scikit-learn library's LinearRegression(), this is problematic as the data must be entirely numeric.\n",
    "\n",
    "Let's convert the values to 0 or 1. This is known as *encoding*."
   ]
  },
  {
   "cell_type": "markdown",
   "metadata": {
    "id": "2i1r1TLrhjE1"
   },
   "source": [
    "- Male is transformed to 0\n",
    "- Female is represented by 1"
   ]
  },
  {
   "cell_type": "code",
   "execution_count": 9,
   "metadata": {},
   "outputs": [
    {
     "data": {
      "text/html": [
       "<div>\n",
       "<style scoped>\n",
       "    .dataframe tbody tr th:only-of-type {\n",
       "        vertical-align: middle;\n",
       "    }\n",
       "\n",
       "    .dataframe tbody tr th {\n",
       "        vertical-align: top;\n",
       "    }\n",
       "\n",
       "    .dataframe thead th {\n",
       "        text-align: right;\n",
       "    }\n",
       "</style>\n",
       "<table border=\"1\" class=\"dataframe\">\n",
       "  <thead>\n",
       "    <tr style=\"text-align: right;\">\n",
       "      <th></th>\n",
       "      <th>Gender</th>\n",
       "      <th>Age</th>\n",
       "      <th>EstimatedSalary</th>\n",
       "    </tr>\n",
       "  </thead>\n",
       "  <tbody>\n",
       "    <tr>\n",
       "      <th>0</th>\n",
       "      <td>0</td>\n",
       "      <td>19</td>\n",
       "      <td>19000</td>\n",
       "    </tr>\n",
       "    <tr>\n",
       "      <th>1</th>\n",
       "      <td>0</td>\n",
       "      <td>35</td>\n",
       "      <td>20000</td>\n",
       "    </tr>\n",
       "    <tr>\n",
       "      <th>2</th>\n",
       "      <td>1</td>\n",
       "      <td>26</td>\n",
       "      <td>43000</td>\n",
       "    </tr>\n",
       "    <tr>\n",
       "      <th>3</th>\n",
       "      <td>1</td>\n",
       "      <td>27</td>\n",
       "      <td>57000</td>\n",
       "    </tr>\n",
       "    <tr>\n",
       "      <th>4</th>\n",
       "      <td>0</td>\n",
       "      <td>19</td>\n",
       "      <td>76000</td>\n",
       "    </tr>\n",
       "  </tbody>\n",
       "</table>\n",
       "</div>"
      ],
      "text/plain": [
       "   Gender  Age  EstimatedSalary\n",
       "0       0   19            19000\n",
       "1       0   35            20000\n",
       "2       1   26            43000\n",
       "3       1   27            57000\n",
       "4       0   19            76000"
      ]
     },
     "execution_count": 9,
     "metadata": {},
     "output_type": "execute_result"
    }
   ],
   "source": [
    "# make a copy of the original dataframe before encoding\n",
    "x_encoded = x_orig.copy() \n",
    "x_encoded.loc[:,\"Gender\"] = (x_encoded.loc[:,\"Gender\"] == \"Female\").astype(int)\n",
    "x_encoded.head()"
   ]
  },
  {
   "cell_type": "markdown",
   "metadata": {
    "id": "ZWsPEgtM8ttf"
   },
   "source": [
    "Let's now visualise the data comparing each category of \"Purchased\" against the input values"
   ]
  },
  {
   "cell_type": "code",
   "execution_count": 10,
   "metadata": {
    "colab": {
     "base_uri": "https://localhost:8080/",
     "height": 285
    },
    "executionInfo": {
     "elapsed": 4714,
     "status": "ok",
     "timestamp": 1605927647929,
     "user": {
      "displayName": "Lee Cheng Wei",
      "photoUrl": "https://lh3.googleusercontent.com/a-/AOh14Gj1r-4ZDIJ5XVvqvJnIbd3Z0F65aY80D3FWaDWitg=s64",
      "userId": "01410600568269338555"
     },
     "user_tz": -480
    },
    "id": "-3w9rTaJyMrX",
    "outputId": "b0bc8bdf-2529-4ab0-b950-19dae570c87a"
   },
   "outputs": [
    {
     "data": {
      "text/plain": [
       "<seaborn.axisgrid.PairGrid at 0x1f071156340>"
      ]
     },
     "execution_count": 10,
     "metadata": {},
     "output_type": "execute_result"
    },
    {
     "data": {
      "image/png": "[encoded data removed]",
      "text/plain": [
       "<Figure size 1139.88x360 with 3 Axes>"
      ]
     },
     "metadata": {
      "needs_background": "light"
     },
     "output_type": "display_data"
    }
   ],
   "source": [
    "sns.pairplot(data,hue=\"Purchased\",palette=\"colorblind\", \n",
    "             x_vars = x_encoded.columns, y_vars = [\"Purchased\"], \n",
    "             height = 5, diag_kind=None)"
   ]
  },
  {
   "cell_type": "markdown",
   "metadata": {
    "id": "KYZW1GAoYjuq"
   },
   "source": [
    "Observation\n",
    "\n",
    "- people might be more likely to purchase the insurance if they are older and have a higher salary\n",
    "- The plot for `Gender` does not give any insight"
   ]
  },
  {
   "cell_type": "markdown",
   "metadata": {
    "id": "FXB_hTvDvemC"
   },
   "source": [
    "#### Detour: Scaling Variables"
   ]
  },
  {
   "cell_type": "markdown",
   "metadata": {
    "id": "abr51SW5vi_4"
   },
   "source": [
    "EstimatedSalary variable is much larger in magnitude compared to other numerical variables. Having such a large disparity may cause computational issues. Let's scale the EstimatedSalary variable so that the magnitudes are similar.\n",
    "\n",
    "A simple way would be to just divide it by a constant value. There are much better methods of scaling but beyond our scope."
   ]
  },
  {
   "cell_type": "code",
   "execution_count": 11,
   "metadata": {
    "id": "RF_7L7jnwCsU"
   },
   "outputs": [],
   "source": [
    "# Scale the values of EstimatedSalary by 1000\n",
    "x_encoded.loc[:,\"EstimatedSalary\"] = x_encoded.loc[:,\"EstimatedSalary\"] / 1000"
   ]
  },
  {
   "cell_type": "code",
   "execution_count": 12,
   "metadata": {
    "colab": {
     "base_uri": "https://localhost:8080/",
     "height": 206
    },
    "executionInfo": {
     "elapsed": 3689,
     "status": "ok",
     "timestamp": 1605927649806,
     "user": {
      "displayName": "Lee Cheng Wei",
      "photoUrl": "https://lh3.googleusercontent.com/a-/AOh14Gj1r-4ZDIJ5XVvqvJnIbd3Z0F65aY80D3FWaDWitg=s64",
      "userId": "01410600568269338555"
     },
     "user_tz": -480
    },
    "id": "8-saw3TFwYLq",
    "outputId": "d1ab3414-9461-4a2e-cf37-8cd490985fa0"
   },
   "outputs": [
    {
     "data": {
      "text/html": [
       "<div>\n",
       "<style scoped>\n",
       "    .dataframe tbody tr th:only-of-type {\n",
       "        vertical-align: middle;\n",
       "    }\n",
       "\n",
       "    .dataframe tbody tr th {\n",
       "        vertical-align: top;\n",
       "    }\n",
       "\n",
       "    .dataframe thead th {\n",
       "        text-align: right;\n",
       "    }\n",
       "</style>\n",
       "<table border=\"1\" class=\"dataframe\">\n",
       "  <thead>\n",
       "    <tr style=\"text-align: right;\">\n",
       "      <th></th>\n",
       "      <th>Gender</th>\n",
       "      <th>Age</th>\n",
       "      <th>EstimatedSalary</th>\n",
       "    </tr>\n",
       "  </thead>\n",
       "  <tbody>\n",
       "    <tr>\n",
       "      <th>0</th>\n",
       "      <td>0</td>\n",
       "      <td>19</td>\n",
       "      <td>19.0</td>\n",
       "    </tr>\n",
       "    <tr>\n",
       "      <th>1</th>\n",
       "      <td>0</td>\n",
       "      <td>35</td>\n",
       "      <td>20.0</td>\n",
       "    </tr>\n",
       "    <tr>\n",
       "      <th>2</th>\n",
       "      <td>1</td>\n",
       "      <td>26</td>\n",
       "      <td>43.0</td>\n",
       "    </tr>\n",
       "    <tr>\n",
       "      <th>3</th>\n",
       "      <td>1</td>\n",
       "      <td>27</td>\n",
       "      <td>57.0</td>\n",
       "    </tr>\n",
       "    <tr>\n",
       "      <th>4</th>\n",
       "      <td>0</td>\n",
       "      <td>19</td>\n",
       "      <td>76.0</td>\n",
       "    </tr>\n",
       "  </tbody>\n",
       "</table>\n",
       "</div>"
      ],
      "text/plain": [
       "   Gender  Age  EstimatedSalary\n",
       "0       0   19             19.0\n",
       "1       0   35             20.0\n",
       "2       1   26             43.0\n",
       "3       1   27             57.0\n",
       "4       0   19             76.0"
      ]
     },
     "execution_count": 12,
     "metadata": {},
     "output_type": "execute_result"
    }
   ],
   "source": [
    "x_encoded.head()"
   ]
  },
  {
   "cell_type": "markdown",
   "metadata": {
    "id": "yG77miEsOrCQ"
   },
   "source": [
    "### Binary Classification using Linear Regression"
   ]
  },
  {
   "cell_type": "markdown",
   "metadata": {
    "id": "8kShOzEHcWwA"
   },
   "source": [
    "#### Separate the data set into train vs. test subsets"
   ]
  },
  {
   "cell_type": "code",
   "execution_count": 13,
   "metadata": {
    "id": "O_fP2ZCkc9k7"
   },
   "outputs": [],
   "source": [
    "from sklearn.model_selection import train_test_split\n",
    "x_train, x_test, y_train, y_test = train_test_split(x_encoded, y, test_size=0.3, random_state=12345)\n",
    "\n",
    "# random_state is a seed used to take the random sample\n",
    "# Fixing the random_state will ensure that the 'random' sampling gives \n",
    "# the same training and testing data set each time the code is run"
   ]
  },
  {
   "cell_type": "code",
   "execution_count": 14,
   "metadata": {
    "colab": {
     "base_uri": "https://localhost:8080/",
     "height": 206
    },
    "executionInfo": {
     "elapsed": 2763,
     "status": "ok",
     "timestamp": 1605927647931,
     "user": {
      "displayName": "Lee Cheng Wei",
      "photoUrl": "https://lh3.googleusercontent.com/a-/AOh14Gj1r-4ZDIJ5XVvqvJnIbd3Z0F65aY80D3FWaDWitg=s64",
      "userId": "01410600568269338555"
     },
     "user_tz": -480
    },
    "id": "-6GqQJzvi0uJ",
    "outputId": "db637da4-c6ea-45fa-a44c-58bc6bbf2598"
   },
   "outputs": [
    {
     "data": {
      "text/html": [
       "<div>\n",
       "<style scoped>\n",
       "    .dataframe tbody tr th:only-of-type {\n",
       "        vertical-align: middle;\n",
       "    }\n",
       "\n",
       "    .dataframe tbody tr th {\n",
       "        vertical-align: top;\n",
       "    }\n",
       "\n",
       "    .dataframe thead th {\n",
       "        text-align: right;\n",
       "    }\n",
       "</style>\n",
       "<table border=\"1\" class=\"dataframe\">\n",
       "  <thead>\n",
       "    <tr style=\"text-align: right;\">\n",
       "      <th></th>\n",
       "      <th>Gender</th>\n",
       "      <th>Age</th>\n",
       "      <th>EstimatedSalary</th>\n",
       "    </tr>\n",
       "  </thead>\n",
       "  <tbody>\n",
       "    <tr>\n",
       "      <th>262</th>\n",
       "      <td>1</td>\n",
       "      <td>55</td>\n",
       "      <td>125.0</td>\n",
       "    </tr>\n",
       "    <tr>\n",
       "      <th>3</th>\n",
       "      <td>1</td>\n",
       "      <td>27</td>\n",
       "      <td>57.0</td>\n",
       "    </tr>\n",
       "    <tr>\n",
       "      <th>298</th>\n",
       "      <td>0</td>\n",
       "      <td>45</td>\n",
       "      <td>79.0</td>\n",
       "    </tr>\n",
       "    <tr>\n",
       "      <th>292</th>\n",
       "      <td>0</td>\n",
       "      <td>55</td>\n",
       "      <td>39.0</td>\n",
       "    </tr>\n",
       "    <tr>\n",
       "      <th>75</th>\n",
       "      <td>0</td>\n",
       "      <td>34</td>\n",
       "      <td>112.0</td>\n",
       "    </tr>\n",
       "  </tbody>\n",
       "</table>\n",
       "</div>"
      ],
      "text/plain": [
       "     Gender  Age  EstimatedSalary\n",
       "262       1   55            125.0\n",
       "3         1   27             57.0\n",
       "298       0   45             79.0\n",
       "292       0   55             39.0\n",
       "75        0   34            112.0"
      ]
     },
     "execution_count": 14,
     "metadata": {},
     "output_type": "execute_result"
    }
   ],
   "source": [
    "x_train.head()"
   ]
  },
  {
   "cell_type": "code",
   "execution_count": 15,
   "metadata": {
    "colab": {
     "base_uri": "https://localhost:8080/",
     "height": 206
    },
    "executionInfo": {
     "elapsed": 2565,
     "status": "ok",
     "timestamp": 1605927647931,
     "user": {
      "displayName": "Lee Cheng Wei",
      "photoUrl": "https://lh3.googleusercontent.com/a-/AOh14Gj1r-4ZDIJ5XVvqvJnIbd3Z0F65aY80D3FWaDWitg=s64",
      "userId": "01410600568269338555"
     },
     "user_tz": -480
    },
    "id": "0fuMILTGi1jY",
    "outputId": "29ba638c-7298-4022-9f21-efba8f1e00a3",
    "scrolled": true
   },
   "outputs": [
    {
     "data": {
      "text/html": [
       "<div>\n",
       "<style scoped>\n",
       "    .dataframe tbody tr th:only-of-type {\n",
       "        vertical-align: middle;\n",
       "    }\n",
       "\n",
       "    .dataframe tbody tr th {\n",
       "        vertical-align: top;\n",
       "    }\n",
       "\n",
       "    .dataframe thead th {\n",
       "        text-align: right;\n",
       "    }\n",
       "</style>\n",
       "<table border=\"1\" class=\"dataframe\">\n",
       "  <thead>\n",
       "    <tr style=\"text-align: right;\">\n",
       "      <th></th>\n",
       "      <th>Gender</th>\n",
       "      <th>Age</th>\n",
       "      <th>EstimatedSalary</th>\n",
       "    </tr>\n",
       "  </thead>\n",
       "  <tbody>\n",
       "    <tr>\n",
       "      <th>378</th>\n",
       "      <td>0</td>\n",
       "      <td>41</td>\n",
       "      <td>87.0</td>\n",
       "    </tr>\n",
       "    <tr>\n",
       "      <th>175</th>\n",
       "      <td>1</td>\n",
       "      <td>23</td>\n",
       "      <td>28.0</td>\n",
       "    </tr>\n",
       "    <tr>\n",
       "      <th>396</th>\n",
       "      <td>0</td>\n",
       "      <td>51</td>\n",
       "      <td>23.0</td>\n",
       "    </tr>\n",
       "    <tr>\n",
       "      <th>213</th>\n",
       "      <td>0</td>\n",
       "      <td>35</td>\n",
       "      <td>58.0</td>\n",
       "    </tr>\n",
       "    <tr>\n",
       "      <th>110</th>\n",
       "      <td>1</td>\n",
       "      <td>39</td>\n",
       "      <td>71.0</td>\n",
       "    </tr>\n",
       "  </tbody>\n",
       "</table>\n",
       "</div>"
      ],
      "text/plain": [
       "     Gender  Age  EstimatedSalary\n",
       "378       0   41             87.0\n",
       "175       1   23             28.0\n",
       "396       0   51             23.0\n",
       "213       0   35             58.0\n",
       "110       1   39             71.0"
      ]
     },
     "execution_count": 15,
     "metadata": {},
     "output_type": "execute_result"
    }
   ],
   "source": [
    "x_test.head()"
   ]
  },
  {
   "cell_type": "markdown",
   "metadata": {
    "id": "u3cOwOJmkQdC"
   },
   "source": [
    "#### Fit the data to a Linear Regression model"
   ]
  },
  {
   "cell_type": "markdown",
   "metadata": {},
   "source": [
    "Option 1: Use LinearRegression() from `scikit-learn`"
   ]
  },
  {
   "cell_type": "code",
   "execution_count": 16,
   "metadata": {
    "id": "C0fNkmRY8ttk",
    "jupyter": {
     "outputs_hidden": false
    },
    "scrolled": true
   },
   "outputs": [
    {
     "name": "stdout",
     "output_type": "stream",
     "text": [
      "-0.9308654175794675 [0.02676578 0.02628559 0.00370859]\n"
     ]
    }
   ],
   "source": [
    "from sklearn.linear_model import LinearRegression, LogisticRegression\n",
    "linreg_sk = LinearRegression()\n",
    "linreg_sk.fit(x_train, y_train)\n",
    "print(linreg_sk.intercept_, linreg_sk.coef_)"
   ]
  },
  {
   "cell_type": "markdown",
   "metadata": {},
   "source": [
    "Option 2: Use ols() from `statsmodels.formula.api`\n",
    "\n",
    "Combine x_train and y_train as one DataFrame first "
   ]
  },
  {
   "cell_type": "code",
   "execution_count": 17,
   "metadata": {
    "scrolled": true
   },
   "outputs": [
    {
     "data": {
      "text/html": [
       "<div>\n",
       "<style scoped>\n",
       "    .dataframe tbody tr th:only-of-type {\n",
       "        vertical-align: middle;\n",
       "    }\n",
       "\n",
       "    .dataframe tbody tr th {\n",
       "        vertical-align: top;\n",
       "    }\n",
       "\n",
       "    .dataframe thead th {\n",
       "        text-align: right;\n",
       "    }\n",
       "</style>\n",
       "<table border=\"1\" class=\"dataframe\">\n",
       "  <thead>\n",
       "    <tr style=\"text-align: right;\">\n",
       "      <th></th>\n",
       "      <th>Gender</th>\n",
       "      <th>Age</th>\n",
       "      <th>EstimatedSalary</th>\n",
       "      <th>Purchased</th>\n",
       "    </tr>\n",
       "  </thead>\n",
       "  <tbody>\n",
       "    <tr>\n",
       "      <th>262</th>\n",
       "      <td>1</td>\n",
       "      <td>55</td>\n",
       "      <td>125.0</td>\n",
       "      <td>1</td>\n",
       "    </tr>\n",
       "    <tr>\n",
       "      <th>3</th>\n",
       "      <td>1</td>\n",
       "      <td>27</td>\n",
       "      <td>57.0</td>\n",
       "      <td>0</td>\n",
       "    </tr>\n",
       "    <tr>\n",
       "      <th>298</th>\n",
       "      <td>0</td>\n",
       "      <td>45</td>\n",
       "      <td>79.0</td>\n",
       "      <td>0</td>\n",
       "    </tr>\n",
       "    <tr>\n",
       "      <th>292</th>\n",
       "      <td>0</td>\n",
       "      <td>55</td>\n",
       "      <td>39.0</td>\n",
       "      <td>1</td>\n",
       "    </tr>\n",
       "    <tr>\n",
       "      <th>75</th>\n",
       "      <td>0</td>\n",
       "      <td>34</td>\n",
       "      <td>112.0</td>\n",
       "      <td>1</td>\n",
       "    </tr>\n",
       "  </tbody>\n",
       "</table>\n",
       "</div>"
      ],
      "text/plain": [
       "     Gender  Age  EstimatedSalary  Purchased\n",
       "262       1   55            125.0          1\n",
       "3         1   27             57.0          0\n",
       "298       0   45             79.0          0\n",
       "292       0   55             39.0          1\n",
       "75        0   34            112.0          1"
      ]
     },
     "execution_count": 17,
     "metadata": {},
     "output_type": "execute_result"
    }
   ],
   "source": [
    "import statsmodels.formula.api as smf\n",
    "train_data_set = pd.concat([x_train, y_train], axis=1)\n",
    "train_data_set.head()"
   ]
  },
  {
   "cell_type": "markdown",
   "metadata": {},
   "source": [
    "#### Exercise:\n",
    "- use `smf.ols` to train the model\n",
    "- show summary"
   ]
  },
  {
   "cell_type": "code",
   "execution_count": 18,
   "metadata": {
    "scrolled": true
   },
   "outputs": [
    {
     "name": "stdout",
     "output_type": "stream",
     "text": [
      "                            OLS Regression Results                            \n",
      "==============================================================================\n",
      "Dep. Variable:              Purchased   R-squared:                       0.480\n",
      "Model:                            OLS   Adj. R-squared:                  0.474\n",
      "Method:                 Least Squares   F-statistic:                     84.90\n",
      "Date:                Mon, 20 Jun 2022   Prob (F-statistic):           6.07e-39\n",
      "Time:                        15:14:13   Log-Likelihood:                -94.951\n",
      "No. Observations:                 280   AIC:                             197.9\n",
      "Df Residuals:                     276   BIC:                             212.4\n",
      "Df Model:                           3                                         \n",
      "Covariance Type:            nonrobust                                         \n",
      "===================================================================================\n",
      "                      coef    std err          t      P>|t|      [0.025      0.975]\n",
      "-----------------------------------------------------------------------------------\n",
      "Intercept          -0.9309      0.082    -11.348      0.000      -1.092      -0.769\n",
      "Gender              0.0268      0.041      0.647      0.518      -0.055       0.108\n",
      "Age                 0.0263      0.002     12.963      0.000       0.022       0.030\n",
      "EstimatedSalary     0.0037      0.001      5.942      0.000       0.002       0.005\n",
      "==============================================================================\n",
      "Omnibus:                        5.240   Durbin-Watson:                   1.894\n",
      "Prob(Omnibus):                  0.073   Jarque-Bera (JB):                3.356\n",
      "Skew:                           0.068   Prob(JB):                        0.187\n",
      "Kurtosis:                       2.481   Cond. No.                         344.\n",
      "==============================================================================\n",
      "\n",
      "Notes:\n",
      "[1] Standard Errors assume that the covariance matrix of the errors is correctly specified.\n"
     ]
    }
   ],
   "source": [
    "model = smf.ols('Purchased ~ Gender + Age + EstimatedSalary', data=train_data_set) \n",
    "# 'Purchased ~ Gender + Age + EstimatedSalary' means:\n",
    "# y is the column 'Purchased'\n",
    "# x (input variables) are column 'Gender', 'Age', 'EstimatedSalary'\n",
    "# 'data=' means: data is a fixed parameter name, which is waiting to be assigned to a variable containing a dataframe\n",
    "# the dataframe that will be assigned to parameter data is inside variable train_data_set\n",
    "linreg_ols = model.fit()\n",
    "print(linreg_ols.summary())"
   ]
  },
  {
   "cell_type": "markdown",
   "metadata": {},
   "source": [
    "We use option 2 `smf.ols()` model for prediction of y"
   ]
  },
  {
   "cell_type": "code",
   "execution_count": 19,
   "metadata": {},
   "outputs": [],
   "source": [
    "linreg_ols_pred_train = linreg_ols.predict(x_train)\n",
    "linreg_ols_pred_test = linreg_ols.predict(x_test)"
   ]
  },
  {
   "cell_type": "markdown",
   "metadata": {
    "id": "BAJXuKh1TubG"
   },
   "source": [
    "Predictions given by the Linear Regression Model are numeric"
   ]
  },
  {
   "cell_type": "code",
   "execution_count": 20,
   "metadata": {
    "colab": {
     "base_uri": "https://localhost:8080/"
    },
    "executionInfo": {
     "elapsed": 2517,
     "status": "ok",
     "timestamp": 1605927649808,
     "user": {
      "displayName": "Lee Cheng Wei",
      "photoUrl": "https://lh3.googleusercontent.com/a-/AOh14Gj1r-4ZDIJ5XVvqvJnIbd3Z0F65aY80D3FWaDWitg=s64",
      "userId": "01410600568269338555"
     },
     "user_tz": -480
    },
    "id": "djfPGXt6T7a5",
    "outputId": "5e40963c-4e74-4dc3-a15b-6288eca59a57"
   },
   "outputs": [
    {
     "data": {
      "text/plain": [
       "-0.3609759363091626"
      ]
     },
     "execution_count": 20,
     "metadata": {},
     "output_type": "execute_result"
    }
   ],
   "source": [
    "linreg_ols_pred_train.min()"
   ]
  },
  {
   "cell_type": "markdown",
   "metadata": {
    "id": "B4rjgCURT_8x"
   },
   "source": [
    "How can we equate these predictions to the categorical target variable (Purchased should be 0/1)?\n",
    "\n",
    "One method would be to plot the predictions against the target values and pick a threshold"
   ]
  },
  {
   "cell_type": "code",
   "execution_count": 21,
   "metadata": {
    "colab": {
     "base_uri": "https://localhost:8080/",
     "height": 350
    },
    "executionInfo": {
     "elapsed": 3454,
     "status": "ok",
     "timestamp": 1605927651346,
     "user": {
      "displayName": "Lee Cheng Wei",
      "photoUrl": "https://lh3.googleusercontent.com/a-/AOh14Gj1r-4ZDIJ5XVvqvJnIbd3Z0F65aY80D3FWaDWitg=s64",
      "userId": "01410600568269338555"
     },
     "user_tz": -480
    },
    "id": "t0_L3zOAP6h0",
    "outputId": "26cef466-b303-442c-f8f6-09b39af660e8",
    "scrolled": true
   },
   "outputs": [
    {
     "name": "stderr",
     "output_type": "stream",
     "text": [
      "C:\\Users\\hbisx\\anaconda3\\lib\\site-packages\\seaborn\\_decorators.py:36: FutureWarning: Pass the following variables as keyword args: x, y. From version 0.12, the only valid positional argument will be `data`, and passing other arguments without an explicit keyword will result in an error or misinterpretation.\n",
      "  warnings.warn(\n"
     ]
    },
    {
     "data": {
      "text/plain": [
       "[Text(0.5, 0, 'predicted values'),\n",
       " Text(0, 0.5, 'target values'),\n",
       " Text(0.5, 1.0, 'Predicted vs Actual Responses')]"
      ]
     },
     "execution_count": 21,
     "metadata": {},
     "output_type": "execute_result"
    },
    {
     "data": {
      "image/png": "[encoded data removed]",
      "text/plain": [
       "<Figure size 432x288 with 1 Axes>"
      ]
     },
     "metadata": {
      "needs_background": "light"
     },
     "output_type": "display_data"
    }
   ],
   "source": [
    "ax = sns.scatterplot(linreg_ols_pred_train,y_train)\n",
    "ax.set(xlabel='predicted values', ylabel='target values',title=\"Predicted vs Actual Responses\")"
   ]
  },
  {
   "cell_type": "markdown",
   "metadata": {},
   "source": [
    "By eyeballing the plot above, maybe we can set threshold to 0.45."
   ]
  },
  {
   "cell_type": "code",
   "execution_count": 22,
   "metadata": {
    "colab": {
     "base_uri": "https://localhost:8080/",
     "height": 350
    },
    "executionInfo": {
     "elapsed": 4014,
     "status": "ok",
     "timestamp": 1605927652473,
     "user": {
      "displayName": "Lee Cheng Wei",
      "photoUrl": "https://lh3.googleusercontent.com/a-/AOh14Gj1r-4ZDIJ5XVvqvJnIbd3Z0F65aY80D3FWaDWitg=s64",
      "userId": "01410600568269338555"
     },
     "user_tz": -480
    },
    "id": "YCOQSf_YVH3D",
    "outputId": "08117cf5-488d-4061-c404-1e64eb48f38c"
   },
   "outputs": [
    {
     "name": "stderr",
     "output_type": "stream",
     "text": [
      "C:\\Users\\hbisx\\anaconda3\\lib\\site-packages\\seaborn\\_decorators.py:36: FutureWarning: Pass the following variables as keyword args: x, y. From version 0.12, the only valid positional argument will be `data`, and passing other arguments without an explicit keyword will result in an error or misinterpretation.\n",
      "  warnings.warn(\n"
     ]
    },
    {
     "data": {
      "text/plain": [
       "[Text(0.5, 0, 'predicted values'),\n",
       " Text(0, 0.5, 'target values'),\n",
       " Text(0.5, 1.0, 'Predicted vs Actual Responses')]"
      ]
     },
     "execution_count": 22,
     "metadata": {},
     "output_type": "execute_result"
    },
    {
     "data": {
      "image/png": "[encoded data removed]",
      "text/plain": [
       "<Figure size 432x288 with 1 Axes>"
      ]
     },
     "metadata": {
      "needs_background": "light"
     },
     "output_type": "display_data"
    }
   ],
   "source": [
    "ax = sns.scatterplot(linreg_ols_pred_train,y_train)\n",
    "plt.axvline(0.45, color=\"r\", ls=\"--\")\n",
    "ax.set(xlabel='predicted values', ylabel='target values',title=\"Predicted vs Actual Responses\")"
   ]
  },
  {
   "cell_type": "markdown",
   "metadata": {
    "id": "amgNEqfGqkFX"
   },
   "source": [
    "We can now make the actual binary-valued prediction using our threshold:"
   ]
  },
  {
   "cell_type": "code",
   "execution_count": 23,
   "metadata": {
    "colab": {
     "base_uri": "https://localhost:8080/"
    },
    "executionInfo": {
     "elapsed": 3609,
     "status": "ok",
     "timestamp": 1605927652474,
     "user": {
      "displayName": "Lee Cheng Wei",
      "photoUrl": "https://lh3.googleusercontent.com/a-/AOh14Gj1r-4ZDIJ5XVvqvJnIbd3Z0F65aY80D3FWaDWitg=s64",
      "userId": "01410600568269338555"
     },
     "user_tz": -480
    },
    "id": "a4jpYCr6KIuG",
    "outputId": "b3a366c7-91e4-4cee-b48f-31e43e0b797b"
   },
   "outputs": [
    {
     "data": {
      "text/plain": [
       "262    1\n",
       "3      0\n",
       "298    1\n",
       "292    1\n",
       "75     0\n",
       "      ..\n",
       "34     0\n",
       "357    0\n",
       "382    1\n",
       "129    0\n",
       "285    0\n",
       "Length: 280, dtype: int32"
      ]
     },
     "execution_count": 23,
     "metadata": {},
     "output_type": "execute_result"
    }
   ],
   "source": [
    "# linreg_ols_pred_train > 0.45 generates a boolean Series of True/False values\n",
    "# then we convert all values to 1 or 0\n",
    "y_pred_train = (linreg_ols_pred_train > 0.45).astype(int)\n",
    "y_pred_train"
   ]
  },
  {
   "cell_type": "markdown",
   "metadata": {
    "id": "mUN62R8WMTvS"
   },
   "source": [
    "Measure the training accuracy"
   ]
  },
  {
   "cell_type": "code",
   "execution_count": 24,
   "metadata": {
    "colab": {
     "base_uri": "https://localhost:8080/"
    },
    "executionInfo": {
     "elapsed": 3229,
     "status": "ok",
     "timestamp": 1605927652474,
     "user": {
      "displayName": "Lee Cheng Wei",
      "photoUrl": "https://lh3.googleusercontent.com/a-/AOh14Gj1r-4ZDIJ5XVvqvJnIbd3Z0F65aY80D3FWaDWitg=s64",
      "userId": "01410600568269338555"
     },
     "user_tz": -480
    },
    "id": "ubCo3NbOMW8i",
    "outputId": "b16503ec-83c0-42a6-e8e8-e4c9f95eb234"
   },
   "outputs": [
    {
     "name": "stdout",
     "output_type": "stream",
     "text": [
      "Accuracy: 0.8857142857142857\n"
     ]
    }
   ],
   "source": [
    "# Measure the accuracy on the training set\n",
    "acc_train = y_pred_train == y_train\n",
    "print(\"Accuracy:\", acc_train.mean())"
   ]
  },
  {
   "cell_type": "markdown",
   "metadata": {
    "id": "0Yvz8VP8MsDH"
   },
   "source": [
    "Test this classifier on the testing data set"
   ]
  },
  {
   "cell_type": "code",
   "execution_count": 25,
   "metadata": {
    "colab": {
     "base_uri": "https://localhost:8080/"
    },
    "executionInfo": {
     "elapsed": 2593,
     "status": "ok",
     "timestamp": 1605927652475,
     "user": {
      "displayName": "Lee Cheng Wei",
      "photoUrl": "https://lh3.googleusercontent.com/a-/AOh14Gj1r-4ZDIJ5XVvqvJnIbd3Z0F65aY80D3FWaDWitg=s64",
      "userId": "01410600568269338555"
     },
     "user_tz": -480
    },
    "id": "1jDR-3yaMwHl",
    "outputId": "14cf0323-f381-4434-a8ff-71224c05aac0"
   },
   "outputs": [
    {
     "name": "stdout",
     "output_type": "stream",
     "text": [
      "Accuracy: 0.7916666666666666\n"
     ]
    }
   ],
   "source": [
    "y_pred_test = (linreg_ols_pred_test > 0.45).astype(int)\n",
    "acc_test = y_pred_test == y_test\n",
    "print(\"Accuracy:\", acc_test.mean())"
   ]
  },
  {
   "cell_type": "markdown",
   "metadata": {
    "id": "BkENBcPyRe8Y"
   },
   "source": [
    "The model performs slightly worse on the test set. Let's see a plot of the results:"
   ]
  },
  {
   "cell_type": "code",
   "execution_count": 26,
   "metadata": {
    "colab": {
     "base_uri": "https://localhost:8080/",
     "height": 350
    },
    "executionInfo": {
     "elapsed": 2194,
     "status": "ok",
     "timestamp": 1605927652476,
     "user": {
      "displayName": "Lee Cheng Wei",
      "photoUrl": "https://lh3.googleusercontent.com/a-/AOh14Gj1r-4ZDIJ5XVvqvJnIbd3Z0F65aY80D3FWaDWitg=s64",
      "userId": "01410600568269338555"
     },
     "user_tz": -480
    },
    "id": "9k9w_jNRtFiP",
    "outputId": "30f0f859-1737-417e-cbea-af9c211273aa"
   },
   "outputs": [
    {
     "name": "stderr",
     "output_type": "stream",
     "text": [
      "C:\\Users\\hbisx\\anaconda3\\lib\\site-packages\\seaborn\\_decorators.py:36: FutureWarning: Pass the following variables as keyword args: x, y. From version 0.12, the only valid positional argument will be `data`, and passing other arguments without an explicit keyword will result in an error or misinterpretation.\n",
      "  warnings.warn(\n"
     ]
    },
    {
     "data": {
      "image/png": "[encoded data removed]",
      "text/plain": [
       "<Figure size 432x288 with 1 Axes>"
      ]
     },
     "metadata": {
      "needs_background": "light"
     },
     "output_type": "display_data"
    }
   ],
   "source": [
    "ax = sns.scatterplot(linreg_ols_pred_test,y_test)\n",
    "plt.axvline(0.45,color=\"r\",ls=\"--\");\n",
    "ax.set(xlabel='predicted values', ylabel='target values',title=\"Predicted vs Actual Responses\");"
   ]
  },
  {
   "cell_type": "markdown",
   "metadata": {
    "id": "MpEt1ZiLNDRG"
   },
   "source": [
    "Issues\n",
    "- The cut-off value for regression output to be considered 1 or 0 was chosen by observation, without a guiding principle\n",
    "- The Linear Regression model’s output can be (−∞,∞)"
   ]
  },
  {
   "cell_type": "markdown",
   "metadata": {
    "id": "UGvlUj6p8tt3"
   },
   "source": [
    "## Logistic Regression to the rescue"
   ]
  },
  {
   "cell_type": "markdown",
   "metadata": {
    "id": "egYGOAZOEAqC"
   },
   "source": [
    "Plotting **sigmoid** function to see the boundaries\n",
    "\n",
    "$$ f(z) = \\frac{1}{1+e^{-z}} $$\n"
   ]
  },
  {
   "cell_type": "code",
   "execution_count": 27,
   "metadata": {
    "colab": {
     "base_uri": "https://localhost:8080/",
     "height": 337
    },
    "executionInfo": {
     "elapsed": 2741,
     "status": "ok",
     "timestamp": 1605927656536,
     "user": {
      "displayName": "Lee Cheng Wei",
      "photoUrl": "https://lh3.googleusercontent.com/a-/AOh14Gj1r-4ZDIJ5XVvqvJnIbd3Z0F65aY80D3FWaDWitg=s64",
      "userId": "01410600568269338555"
     },
     "user_tz": -480
    },
    "id": "h2LKKgpgbZjm",
    "outputId": "f2b50770-b4bb-4612-dca8-2bf7cffbfe06"
   },
   "outputs": [
    {
     "name": "stderr",
     "output_type": "stream",
     "text": [
      "C:\\Users\\hbisx\\anaconda3\\lib\\site-packages\\seaborn\\_decorators.py:36: FutureWarning: Pass the following variables as keyword args: x, y. From version 0.12, the only valid positional argument will be `data`, and passing other arguments without an explicit keyword will result in an error or misinterpretation.\n",
      "  warnings.warn(\n"
     ]
    },
    {
     "data": {
      "text/plain": [
       "<AxesSubplot:>"
      ]
     },
     "execution_count": 27,
     "metadata": {},
     "output_type": "execute_result"
    },
    {
     "data": {
      "image/png": "[encoded data removed]",
      "text/plain": [
       "<Figure size 432x288 with 1 Axes>"
      ]
     },
     "metadata": {
      "needs_background": "light"
     },
     "output_type": "display_data"
    }
   ],
   "source": [
    "sigmoid_domain = np.linspace(-10, 10, num=10000)\n",
    "sigmoid_range = 1/(1 + np.exp(-sigmoid_domain))\n",
    "sns.lineplot(sigmoid_domain, sigmoid_range)"
   ]
  },
  {
   "cell_type": "markdown",
   "metadata": {
    "id": "FIAWNiMhurw_"
   },
   "source": [
    "### Training Logistic Regression Model"
   ]
  },
  {
   "cell_type": "markdown",
   "metadata": {
    "id": "RyTEo4gBE7Pm"
   },
   "source": [
    "Option 1: use the logistic regression model in `scikit-learn`"
   ]
  },
  {
   "cell_type": "code",
   "execution_count": 28,
   "metadata": {
    "colab": {
     "base_uri": "https://localhost:8080/"
    },
    "executionInfo": {
     "elapsed": 2074,
     "status": "ok",
     "timestamp": 1605927660339,
     "user": {
      "displayName": "Lee Cheng Wei",
      "photoUrl": "https://lh3.googleusercontent.com/a-/AOh14Gj1r-4ZDIJ5XVvqvJnIbd3Z0F65aY80D3FWaDWitg=s64",
      "userId": "01410600568269338555"
     },
     "user_tz": -480
    },
    "id": "0UjpyNvF8tt4",
    "jupyter": {
     "outputs_hidden": false
    },
    "outputId": "ebdf0ff8-94a2-4242-fa4e-b922474e77b5"
   },
   "outputs": [
    {
     "name": "stdout",
     "output_type": "stream",
     "text": [
      "[-13.56244425] [[0.20588752 0.24902433 0.0372799 ]]\n"
     ]
    }
   ],
   "source": [
    "from sklearn.linear_model import LogisticRegression\n",
    "logreg_sk = LogisticRegression()\n",
    "\n",
    "logreg_sk.fit(x_train, y_train)\n",
    "print(logreg_sk.intercept_, logreg_sk.coef_)"
   ]
  },
  {
   "cell_type": "markdown",
   "metadata": {},
   "source": [
    "Option 2: \n",
    "#### Exercise\n",
    "- use the `logit()` from `statsmodels.formula.api`\n",
    "- name the model as `logreg_logit`"
   ]
  },
  {
   "cell_type": "code",
   "execution_count": 29,
   "metadata": {},
   "outputs": [
    {
     "data": {
      "text/html": [
       "<div>\n",
       "<style scoped>\n",
       "    .dataframe tbody tr th:only-of-type {\n",
       "        vertical-align: middle;\n",
       "    }\n",
       "\n",
       "    .dataframe tbody tr th {\n",
       "        vertical-align: top;\n",
       "    }\n",
       "\n",
       "    .dataframe thead th {\n",
       "        text-align: right;\n",
       "    }\n",
       "</style>\n",
       "<table border=\"1\" class=\"dataframe\">\n",
       "  <thead>\n",
       "    <tr style=\"text-align: right;\">\n",
       "      <th></th>\n",
       "      <th>Gender</th>\n",
       "      <th>Age</th>\n",
       "      <th>EstimatedSalary</th>\n",
       "      <th>Purchased</th>\n",
       "    </tr>\n",
       "  </thead>\n",
       "  <tbody>\n",
       "    <tr>\n",
       "      <th>262</th>\n",
       "      <td>1</td>\n",
       "      <td>55</td>\n",
       "      <td>125.0</td>\n",
       "      <td>1</td>\n",
       "    </tr>\n",
       "    <tr>\n",
       "      <th>3</th>\n",
       "      <td>1</td>\n",
       "      <td>27</td>\n",
       "      <td>57.0</td>\n",
       "      <td>0</td>\n",
       "    </tr>\n",
       "    <tr>\n",
       "      <th>298</th>\n",
       "      <td>0</td>\n",
       "      <td>45</td>\n",
       "      <td>79.0</td>\n",
       "      <td>0</td>\n",
       "    </tr>\n",
       "    <tr>\n",
       "      <th>292</th>\n",
       "      <td>0</td>\n",
       "      <td>55</td>\n",
       "      <td>39.0</td>\n",
       "      <td>1</td>\n",
       "    </tr>\n",
       "    <tr>\n",
       "      <th>75</th>\n",
       "      <td>0</td>\n",
       "      <td>34</td>\n",
       "      <td>112.0</td>\n",
       "      <td>1</td>\n",
       "    </tr>\n",
       "  </tbody>\n",
       "</table>\n",
       "</div>"
      ],
      "text/plain": [
       "     Gender  Age  EstimatedSalary  Purchased\n",
       "262       1   55            125.0          1\n",
       "3         1   27             57.0          0\n",
       "298       0   45             79.0          0\n",
       "292       0   55             39.0          1\n",
       "75        0   34            112.0          1"
      ]
     },
     "execution_count": 29,
     "metadata": {},
     "output_type": "execute_result"
    }
   ],
   "source": [
    "train_data_set.head()"
   ]
  },
  {
   "cell_type": "code",
   "execution_count": 31,
   "metadata": {},
   "outputs": [
    {
     "name": "stdout",
     "output_type": "stream",
     "text": [
      "Optimization terminated successfully.\n",
      "         Current function value: 0.312290\n",
      "         Iterations 8\n",
      "                           Logit Regression Results                           \n",
      "==============================================================================\n",
      "Dep. Variable:              Purchased   No. Observations:                  280\n",
      "Model:                          Logit   Df Residuals:                      276\n",
      "Method:                           MLE   Df Model:                            3\n",
      "Date:                Mon, 20 Jun 2022   Pseudo R-squ.:                  0.5087\n",
      "Time:                        15:14:29   Log-Likelihood:                -87.441\n",
      "converged:                       True   LL-Null:                       -177.99\n",
      "Covariance Type:            nonrobust   LLR p-value:                 5.100e-39\n",
      "===================================================================================\n",
      "                      coef    std err          z      P>|z|      [0.025      0.975]\n",
      "-----------------------------------------------------------------------------------\n",
      "Intercept         -13.5906      1.683     -8.073      0.000     -16.890     -10.291\n",
      "Gender              0.2364      0.386      0.613      0.540      -0.520       0.992\n",
      "Age                 0.2492      0.033      7.496      0.000       0.184       0.314\n",
      "EstimatedSalary     0.0373      0.007      5.431      0.000       0.024       0.051\n",
      "===================================================================================\n"
     ]
    }
   ],
   "source": [
    "model = smf.logit('Purchased ~ Gender + Age + EstimatedSalary', data=train_data_set)\n",
    "logreg_logit = model.fit()\n",
    "print(logreg_logit.summary())"
   ]
  },
  {
   "cell_type": "markdown",
   "metadata": {
    "id": "4RkOBzxbzWBU"
   },
   "source": [
    "Use .predict() to obtain the prediction probability"
   ]
  },
  {
   "cell_type": "code",
   "execution_count": 77,
   "metadata": {
    "scrolled": true
   },
   "outputs": [
    {
     "name": "stdout",
     "output_type": "stream",
     "text": [
      "262    0.993428\n",
      "3      0.011010\n",
      "298    0.639383\n",
      "292    0.827962\n",
      "75     0.281625\n",
      "         ...   \n",
      "34     0.029251\n",
      "357    0.389581\n",
      "382    0.942673\n",
      "129    0.023226\n",
      "285    0.340329\n",
      "Length: 280, dtype: float64\n",
      "378    0.468687\n",
      "175    0.001390\n",
      "396    0.494279\n",
      "213    0.062779\n",
      "110    0.271940\n",
      "         ...   \n",
      "90     0.006156\n",
      "325    0.289648\n",
      "46     0.011995\n",
      "328    0.446699\n",
      "51     0.000727\n",
      "Length: 120, dtype: float64\n"
     ]
    }
   ],
   "source": [
    "prob_train = logreg_logit.predict(x_train)\n",
    "prob_test = logreg_logit.predict(x_test)\n",
    "\n",
    "print(prob_train)\n",
    "print(prob_test)"
   ]
  },
  {
   "cell_type": "markdown",
   "metadata": {},
   "source": [
    "Transforming the probability to 1 or 0, using threshold of 0.5"
   ]
  },
  {
   "cell_type": "code",
   "execution_count": 78,
   "metadata": {},
   "outputs": [],
   "source": [
    "y_pred_train = list(map(round, prob_train))\n",
    "y_pred_test = list(map(round, prob_test))"
   ]
  },
  {
   "cell_type": "markdown",
   "metadata": {
    "id": "3vPI5cImJQ3K"
   },
   "source": [
    "### Evaluating Logistic Regression Model\n",
    "#### Accuracy"
   ]
  },
  {
   "cell_type": "markdown",
   "metadata": {
    "id": "aSYrvJu0P6eW"
   },
   "source": [
    "Option 1: element-wise comparisons to compare `y_pred_train` to `y_train`"
   ]
  },
  {
   "cell_type": "code",
   "execution_count": 79,
   "metadata": {
    "colab": {
     "base_uri": "https://localhost:8080/"
    },
    "executionInfo": {
     "elapsed": 1484,
     "status": "ok",
     "timestamp": 1605927663003,
     "user": {
      "displayName": "Lee Cheng Wei",
      "photoUrl": "https://lh3.googleusercontent.com/a-/AOh14Gj1r-4ZDIJ5XVvqvJnIbd3Z0F65aY80D3FWaDWitg=s64",
      "userId": "01410600568269338555"
     },
     "user_tz": -480
    },
    "id": "p7QNeLhtPOhf",
    "outputId": "5a8cd040-b718-4e2d-ca2e-7453c3578ff8"
   },
   "outputs": [
    {
     "name": "stdout",
     "output_type": "stream",
     "text": [
      "Training Set Accuracy: 0.875\n",
      "Test Set Accuracy: 0.7416666666666667\n"
     ]
    }
   ],
   "source": [
    "print(\"Training Set Accuracy:\", (y_pred_train == y_train).mean())\n",
    "print(\"Test Set Accuracy:\", (y_pred_test == y_test).mean())"
   ]
  },
  {
   "cell_type": "markdown",
   "metadata": {
    "id": "iUVUisZUPwu3"
   },
   "source": [
    "Option 2: use the `sklearn.metrics` module"
   ]
  },
  {
   "cell_type": "code",
   "execution_count": 80,
   "metadata": {
    "colab": {
     "base_uri": "https://localhost:8080/"
    },
    "executionInfo": {
     "elapsed": 1551,
     "status": "ok",
     "timestamp": 1605927663494,
     "user": {
      "displayName": "Lee Cheng Wei",
      "photoUrl": "https://lh3.googleusercontent.com/a-/AOh14Gj1r-4ZDIJ5XVvqvJnIbd3Z0F65aY80D3FWaDWitg=s64",
      "userId": "01410600568269338555"
     },
     "user_tz": -480
    },
    "id": "ndBUzaqLRrWa",
    "outputId": "3b31d33e-f1c9-445c-aa24-093a2d791900"
   },
   "outputs": [
    {
     "name": "stdout",
     "output_type": "stream",
     "text": [
      "Training Set Accuracy: 0.875\n",
      "Test Set Accuracy: 0.7416666666666667\n"
     ]
    }
   ],
   "source": [
    "from sklearn import metrics\n",
    "print(\"Training Set Accuracy:\", metrics.accuracy_score(y_train, y_pred_train))\n",
    "print(\"Test Set Accuracy:\", metrics.accuracy_score(y_test, y_pred_test))"
   ]
  },
  {
   "cell_type": "markdown",
   "metadata": {
    "id": "pI5XiFOmS-kR"
   },
   "source": [
    "#### Limitations of Accuracy if we use it as the only metric"
   ]
  },
  {
   "cell_type": "markdown",
   "metadata": {
    "id": "hZv23bWhTwbD"
   },
   "source": [
    "Let's observe the proportion of people who purchased the item in both the training and testing set"
   ]
  },
  {
   "cell_type": "code",
   "execution_count": 81,
   "metadata": {
    "colab": {
     "base_uri": "https://localhost:8080/"
    },
    "executionInfo": {
     "elapsed": 1106,
     "status": "ok",
     "timestamp": 1605927673905,
     "user": {
      "displayName": "Lee Cheng Wei",
      "photoUrl": "https://lh3.googleusercontent.com/a-/AOh14Gj1r-4ZDIJ5XVvqvJnIbd3Z0F65aY80D3FWaDWitg=s64",
      "userId": "01410600568269338555"
     },
     "user_tz": -480
    },
    "id": "joUHJBwJXi9A",
    "outputId": "2a1a7156-2fd5-46ae-fe30-84929c2ecb04"
   },
   "outputs": [
    {
     "name": "stdout",
     "output_type": "stream",
     "text": [
      "0.33214285714285713\n",
      "0.4166666666666667\n"
     ]
    }
   ],
   "source": [
    "print(y_train.mean())\n",
    "print(y_test.mean())"
   ]
  },
  {
   "cell_type": "markdown",
   "metadata": {
    "id": "Za9QJVHFakwA"
   },
   "source": [
    "In the test set, only 42% are positive purchases. If we predict every individual did NOT purchased the insurance, the classifier is 58% accurate naturally. Hence a 74% of accuracy rate might not be too impressive."
   ]
  },
  {
   "attachments": {
    "image.png": {
     "image/png": "[encoded data removed]"
    }
   },
   "cell_type": "markdown",
   "metadata": {
    "id": "Sqr57p_8hmE5"
   },
   "source": [
    "#### The Confusion Matrix\n",
    "![image.png](attachment:image.png)"
   ]
  },
  {
   "cell_type": "code",
   "execution_count": 82,
   "metadata": {
    "colab": {
     "base_uri": "https://localhost:8080/"
    },
    "executionInfo": {
     "elapsed": 1401,
     "status": "ok",
     "timestamp": 1605927677998,
     "user": {
      "displayName": "Lee Cheng Wei",
      "photoUrl": "https://lh3.googleusercontent.com/a-/AOh14Gj1r-4ZDIJ5XVvqvJnIbd3Z0F65aY80D3FWaDWitg=s64",
      "userId": "01410600568269338555"
     },
     "user_tz": -480
    },
    "id": "wfLO6o7FwMv1",
    "outputId": "0dab9bc5-e65e-4899-ebaf-98e8af509c97"
   },
   "outputs": [
    {
     "name": "stdout",
     "output_type": "stream",
     "text": [
      "[[66  4]\n",
      " [27 23]]\n"
     ]
    }
   ],
   "source": [
    "# first argument is true values, second argument is predicted values\n",
    "cm = metrics.confusion_matrix(y_test, y_pred_test)\n",
    "print(cm)"
   ]
  },
  {
   "cell_type": "markdown",
   "metadata": {
    "id": "CU2O5DZ_7UlV"
   },
   "source": [
    "Option 1: Compute the accuracy, precision and recall values from the confusion matrix **manually**"
   ]
  },
  {
   "cell_type": "markdown",
   "metadata": {
    "id": "-cHZYcra2llV"
   },
   "source": [
    "#### Exercise"
   ]
  },
  {
   "cell_type": "code",
   "execution_count": 83,
   "metadata": {
    "colab": {
     "base_uri": "https://localhost:8080/"
    },
    "executionInfo": {
     "elapsed": 1053,
     "status": "ok",
     "timestamp": 1605927680020,
     "user": {
      "displayName": "Lee Cheng Wei",
      "photoUrl": "https://lh3.googleusercontent.com/a-/AOh14Gj1r-4ZDIJ5XVvqvJnIbd3Z0F65aY80D3FWaDWitg=s64",
      "userId": "01410600568269338555"
     },
     "user_tz": -480
    },
    "id": "e3qhnRA89A1v",
    "outputId": "79e98831-cbc9-4793-9adf-cc3914fb2e89",
    "scrolled": true
   },
   "outputs": [
    {
     "name": "stdout",
     "output_type": "stream",
     "text": [
      "Accuracy Manual: 0.7416666666666667\n",
      "Precision Manual: 0.8518518518518519\n",
      "Recall Manual: 0.46\n"
     ]
    }
   ],
   "source": [
    "a = cm[0, 0]\n",
    "b = cm[1, 0]\n",
    "c = cm[0, 1]\n",
    "d = cm[1, 1]\n",
    "\n",
    "print(\"Accuracy Manual:\", (a + d) / (a + b + c + d))\n",
    "print(\"Precision Manual:\", d / (c + d))\n",
    "print(\"Recall Manual:\", d / (b + d))"
   ]
  },
  {
   "cell_type": "markdown",
   "metadata": {},
   "source": [
    "Option 2: Sklearn Implementation"
   ]
  },
  {
   "cell_type": "code",
   "execution_count": 84,
   "metadata": {
    "colab": {
     "base_uri": "https://localhost:8080/"
    },
    "executionInfo": {
     "elapsed": 1262,
     "status": "ok",
     "timestamp": 1605927681371,
     "user": {
      "displayName": "Lee Cheng Wei",
      "photoUrl": "https://lh3.googleusercontent.com/a-/AOh14Gj1r-4ZDIJ5XVvqvJnIbd3Z0F65aY80D3FWaDWitg=s64",
      "userId": "01410600568269338555"
     },
     "user_tz": -480
    },
    "id": "6NkxnyczHwTm",
    "outputId": "7397814c-ccc1-4fb8-f43a-9236bad7b8dd"
   },
   "outputs": [
    {
     "name": "stdout",
     "output_type": "stream",
     "text": [
      "Accuracy sklearn: 0.7416666666666667\n",
      "Precision sklearn: 0.8518518518518519\n",
      "Recall sklearn: 0.46\n"
     ]
    }
   ],
   "source": [
    "print(\"Accuracy sklearn:\", metrics.accuracy_score(y_test, y_pred_test))\n",
    "print(\"Precision sklearn:\", metrics.precision_score(y_test,y_pred_test))\n",
    "print(\"Recall sklearn:\", metrics.recall_score(y_test,y_pred_test))"
   ]
  },
  {
   "cell_type": "markdown",
   "metadata": {
    "id": "ldWT-GbaMvBH"
   },
   "source": [
    "### How changing the classification threshold might impact the metrics of a classifier"
   ]
  },
  {
   "cell_type": "markdown",
   "metadata": {
    "id": "ZV1cqBYYuofJ"
   },
   "source": [
    "#### Having threshold of 0.80"
   ]
  },
  {
   "cell_type": "code",
   "execution_count": 85,
   "metadata": {
    "colab": {
     "base_uri": "https://localhost:8080/"
    },
    "executionInfo": {
     "elapsed": 1443,
     "status": "ok",
     "timestamp": 1605927699926,
     "user": {
      "displayName": "Lee Cheng Wei",
      "photoUrl": "https://lh3.googleusercontent.com/a-/AOh14Gj1r-4ZDIJ5XVvqvJnIbd3Z0F65aY80D3FWaDWitg=s64",
      "userId": "01410600568269338555"
     },
     "user_tz": -480
    },
    "id": "bKuQ6WZbvZSz",
    "outputId": "79f18197-cf79-4252-b755-353bb9a6bc15"
   },
   "outputs": [
    {
     "data": {
      "text/plain": [
       "378    0\n",
       "175    0\n",
       "396    0\n",
       "213    0\n",
       "110    0\n",
       "      ..\n",
       "90     0\n",
       "325    0\n",
       "46     0\n",
       "328    0\n",
       "51     0\n",
       "Length: 120, dtype: int32"
      ]
     },
     "execution_count": 85,
     "metadata": {},
     "output_type": "execute_result"
    }
   ],
   "source": [
    "threshold = 0.80\n",
    "y_pred_test_high = (prob_test > threshold).astype(int)\n",
    "y_pred_test_high"
   ]
  },
  {
   "cell_type": "markdown",
   "metadata": {
    "id": "M6BE6jV2vE58"
   },
   "source": [
    "Confusion matrix for threshold of 0.80"
   ]
  },
  {
   "cell_type": "code",
   "execution_count": 86,
   "metadata": {
    "colab": {
     "base_uri": "https://localhost:8080/"
    },
    "executionInfo": {
     "elapsed": 1061,
     "status": "ok",
     "timestamp": 1605927701893,
     "user": {
      "displayName": "Lee Cheng Wei",
      "photoUrl": "https://lh3.googleusercontent.com/a-/AOh14Gj1r-4ZDIJ5XVvqvJnIbd3Z0F65aY80D3FWaDWitg=s64",
      "userId": "01410600568269338555"
     },
     "user_tz": -480
    },
    "id": "HlgZpvH2JWPk",
    "outputId": "f0e12f57-318e-4bac-f3ef-32526ac35166"
   },
   "outputs": [
    {
     "name": "stdout",
     "output_type": "stream",
     "text": [
      "[[68  2]\n",
      " [35 15]]\n"
     ]
    }
   ],
   "source": [
    "cm_threshold = metrics.confusion_matrix(y_test, y_pred_test_high)\n",
    "\n",
    "print(cm_threshold)"
   ]
  },
  {
   "cell_type": "markdown",
   "metadata": {},
   "source": [
    "metrics for threshold of 0.80"
   ]
  },
  {
   "cell_type": "code",
   "execution_count": 87,
   "metadata": {
    "colab": {
     "base_uri": "https://localhost:8080/"
    },
    "executionInfo": {
     "elapsed": 1391,
     "status": "ok",
     "timestamp": 1605927705088,
     "user": {
      "displayName": "Lee Cheng Wei",
      "photoUrl": "https://lh3.googleusercontent.com/a-/AOh14Gj1r-4ZDIJ5XVvqvJnIbd3Z0F65aY80D3FWaDWitg=s64",
      "userId": "01410600568269338555"
     },
     "user_tz": -480
    },
    "id": "vnW_JJslJ-Uh",
    "outputId": "4a5ae965-235e-42cf-b4b1-148647f3bcd4"
   },
   "outputs": [
    {
     "name": "stdout",
     "output_type": "stream",
     "text": [
      "Accuracy sklearn: 0.6916666666666667\n",
      "Precision sklearn: 0.8823529411764706\n",
      "Recall sklearn: 0.3\n"
     ]
    }
   ],
   "source": [
    "print(\"Accuracy sklearn:\", metrics.accuracy_score(y_test, y_pred_test_high))\n",
    "print(\"Precision sklearn:\", metrics.precision_score(y_test,y_pred_test_high))\n",
    "print(\"Recall sklearn:\", metrics.recall_score(y_test,y_pred_test_high))"
   ]
  },
  {
   "cell_type": "markdown",
   "metadata": {
    "id": "VcvbuVygeTTZ"
   },
   "source": [
    "#### Having threshold of 0.30"
   ]
  },
  {
   "cell_type": "markdown",
   "metadata": {
    "id": "O0vOq1AgesOs"
   },
   "source": [
    "#### Exercise"
   ]
  },
  {
   "cell_type": "code",
   "execution_count": 88,
   "metadata": {
    "id": "XHHVdMLDe-Xm"
   },
   "outputs": [
    {
     "data": {
      "text/plain": [
       "378    1\n",
       "175    0\n",
       "396    1\n",
       "213    0\n",
       "110    0\n",
       "      ..\n",
       "90     0\n",
       "325    0\n",
       "46     0\n",
       "328    1\n",
       "51     0\n",
       "Length: 120, dtype: int32"
      ]
     },
     "execution_count": 88,
     "metadata": {},
     "output_type": "execute_result"
    }
   ],
   "source": [
    "threshold = 0.30\n",
    "y_pred_test_low = (prob_test > threshold).astype(int)\n",
    "y_pred_test_low"
   ]
  },
  {
   "cell_type": "markdown",
   "metadata": {
    "id": "KilfEHkpfXX4"
   },
   "source": [
    "Confusion matrix for threshold of 0.30"
   ]
  },
  {
   "cell_type": "code",
   "execution_count": 89,
   "metadata": {
    "colab": {
     "base_uri": "https://localhost:8080/"
    },
    "executionInfo": {
     "elapsed": 2026,
     "status": "ok",
     "timestamp": 1605927906420,
     "user": {
      "displayName": "Lee Cheng Wei",
      "photoUrl": "https://lh3.googleusercontent.com/a-/AOh14Gj1r-4ZDIJ5XVvqvJnIbd3Z0F65aY80D3FWaDWitg=s64",
      "userId": "01410600568269338555"
     },
     "user_tz": -480
    },
    "id": "BCz6oZY_e8l7",
    "outputId": "eee611d1-d68e-401f-c969-7198a19750b6",
    "scrolled": false
   },
   "outputs": [
    {
     "name": "stdout",
     "output_type": "stream",
     "text": [
      "[[61  9]\n",
      " [16 34]]\n"
     ]
    }
   ],
   "source": [
    "cm_lower_threshold = metrics.confusion_matrix(y_test,y_pred_test_low)\n",
    "print(cm_lower_threshold)"
   ]
  },
  {
   "cell_type": "markdown",
   "metadata": {},
   "source": [
    "metrics for threshold of 0.30"
   ]
  },
  {
   "cell_type": "code",
   "execution_count": 90,
   "metadata": {
    "colab": {
     "base_uri": "https://localhost:8080/"
    },
    "executionInfo": {
     "elapsed": 1866,
     "status": "ok",
     "timestamp": 1605927906420,
     "user": {
      "displayName": "Lee Cheng Wei",
      "photoUrl": "https://lh3.googleusercontent.com/a-/AOh14Gj1r-4ZDIJ5XVvqvJnIbd3Z0F65aY80D3FWaDWitg=s64",
      "userId": "01410600568269338555"
     },
     "user_tz": -480
    },
    "id": "kpCSS4o1fmKe",
    "outputId": "996a6043-0a21-475b-de04-d5e020b06014"
   },
   "outputs": [
    {
     "name": "stdout",
     "output_type": "stream",
     "text": [
      "Accuracy sklearn: 0.7916666666666666\n",
      "Precision sklearn: 0.7906976744186046\n",
      "Recall sklearn: 0.68\n"
     ]
    }
   ],
   "source": [
    "print(\"Accuracy sklearn:\", metrics.accuracy_score(y_test, y_pred_test_low))\n",
    "print(\"Precision sklearn:\", metrics.precision_score(y_test,y_pred_test_low))\n",
    "print(\"Recall sklearn:\", metrics.recall_score(y_test,y_pred_test_low))"
   ]
  },
  {
   "cell_type": "markdown",
   "metadata": {},
   "source": [
    "In this particular example, increasing the threshold leads to\n",
    "\n",
    "- Accuracy decreasing\n",
    "- Recall decreasing\n",
    "- Precision increasing\n",
    "\n",
    "Implication for classifiers in general\n",
    "- Precision and Recall usually have an inverse relationship with respect to the adjustment of the classification threshold\n",
    "- Reviewing both precision and recall is useful for cases where there is a huge imbalance in the target variable’s values\n"
   ]
  },
  {
   "cell_type": "markdown",
   "metadata": {},
   "source": [
    "### AUC (Area under ROC curve)"
   ]
  },
  {
   "cell_type": "code",
   "execution_count": 91,
   "metadata": {},
   "outputs": [
    {
     "data": {
      "text/plain": [
       "378    1\n",
       "175    0\n",
       "396    1\n",
       "213    0\n",
       "110    0\n",
       "      ..\n",
       "90     0\n",
       "325    0\n",
       "46     0\n",
       "328    1\n",
       "51     0\n",
       "Name: Purchased, Length: 120, dtype: int64"
      ]
     },
     "execution_count": 91,
     "metadata": {},
     "output_type": "execute_result"
    }
   ],
   "source": [
    "y_test"
   ]
  },
  {
   "cell_type": "code",
   "execution_count": 92,
   "metadata": {},
   "outputs": [
    {
     "data": {
      "text/plain": [
       "378    0.468687\n",
       "175    0.001390\n",
       "396    0.494279\n",
       "213    0.062779\n",
       "110    0.271940\n",
       "         ...   \n",
       "90     0.006156\n",
       "325    0.289648\n",
       "46     0.011995\n",
       "328    0.446699\n",
       "51     0.000727\n",
       "Length: 120, dtype: float64"
      ]
     },
     "execution_count": 92,
     "metadata": {},
     "output_type": "execute_result"
    }
   ],
   "source": [
    "prob_test"
   ]
  },
  {
   "cell_type": "code",
   "execution_count": 93,
   "metadata": {},
   "outputs": [
    {
     "name": "stdout",
     "output_type": "stream",
     "text": [
      "[0.         0.         0.         0.01428571 0.01428571 0.01428571\n",
      " 0.01428571 0.02857143 0.02857143 0.05714286 0.05714286 0.07142857\n",
      " 0.07142857 0.08571429 0.08571429 0.1        0.1        0.1\n",
      " 0.11428571 0.11428571 0.15714286 0.15714286 0.17142857 0.17142857\n",
      " 0.18571429 0.18571429 0.2        0.2        0.22857143 0.22857143\n",
      " 0.25714286 0.25714286 0.27142857 0.27142857 0.28571429 0.28571429\n",
      " 0.31428571 0.31428571 0.32857143 0.32857143 1.        ] [0.   0.02 0.12 0.12 0.18 0.22 0.28 0.28 0.4  0.4  0.48 0.48 0.52 0.52\n",
      " 0.54 0.54 0.6  0.64 0.64 0.68 0.68 0.7  0.7  0.74 0.74 0.78 0.78 0.82\n",
      " 0.82 0.84 0.84 0.88 0.88 0.9  0.9  0.96 0.96 0.98 0.98 1.   1.  ] [1.99805198e+00 9.98051977e-01 9.90490876e-01 9.79369442e-01\n",
      " 9.50925751e-01 9.49272939e-01 9.13157665e-01 9.11067187e-01\n",
      " 7.54461599e-01 6.78810726e-01 4.94279289e-01 4.78045190e-01\n",
      " 4.68687103e-01 4.62471317e-01 4.46699187e-01 4.31790541e-01\n",
      " 4.17121483e-01 4.02003736e-01 3.89580573e-01 3.52291002e-01\n",
      " 2.86608012e-01 2.84270368e-01 2.82207966e-01 2.74488541e-01\n",
      " 2.71940090e-01 2.65092417e-01 2.55434427e-01 2.53092165e-01\n",
      " 2.48194127e-01 2.34684757e-01 2.27731857e-01 2.27297740e-01\n",
      " 1.86888122e-01 1.86752647e-01 1.83224233e-01 1.47180411e-01\n",
      " 1.33773147e-01 1.17025191e-01 1.12185772e-01 1.07180291e-01\n",
      " 4.76399434e-04]\n"
     ]
    },
    {
     "data": {
      "text/plain": [
       "0.8948571428571428"
      ]
     },
     "execution_count": 93,
     "metadata": {},
     "output_type": "execute_result"
    }
   ],
   "source": [
    "fpr, tpr, thresholds = metrics.roc_curve(y_test, prob_test)\n",
    "print(fpr, tpr, thresholds)\n",
    "metrics.auc(fpr, tpr)"
   ]
  },
  {
   "cell_type": "code",
   "execution_count": 94,
   "metadata": {},
   "outputs": [
    {
     "name": "stderr",
     "output_type": "stream",
     "text": [
      "C:\\Users\\hbisx\\anaconda3\\lib\\site-packages\\seaborn\\_decorators.py:36: FutureWarning: Pass the following variables as keyword args: x, y. From version 0.12, the only valid positional argument will be `data`, and passing other arguments without an explicit keyword will result in an error or misinterpretation.\n",
      "  warnings.warn(\n"
     ]
    },
    {
     "data": {
      "image/png": "[encoded data removed]",
      "text/plain": [
       "<Figure size 432x288 with 1 Axes>"
      ]
     },
     "metadata": {
      "needs_background": "light"
     },
     "output_type": "display_data"
    }
   ],
   "source": [
    "sns.scatterplot(fpr, tpr)\n",
    "plt.xlabel(\"False Positive Rate\")\n",
    "plt.ylabel(\"True Positive Rate\")\n",
    "plt.show()"
   ]
  },
  {
   "cell_type": "markdown",
   "metadata": {
    "id": "ez-Q9atw6dHi"
   },
   "source": [
    " ### Multinomial logistic regression\n",
    " \n",
    "- Generalizes logistic regression to multiclass problems\n",
    "- Decomposed as a set of independent binary logistic regressions\n",
    "\n",
    "For student's own exploration"
   ]
  }
 ],
 "metadata": {
  "colab": {
   "collapsed_sections": [
    "i0q9MdIp3EIk"
   ],
   "name": "Classification _ Logistic Regression.ipynb",
   "provenance": []
  },
  "kernelspec": {
   "display_name": "Python 3 (ipykernel)",
   "language": "python",
   "name": "python3"
  },
  "language_info": {
   "codemirror_mode": {
    "name": "ipython",
    "version": 3
   },
   "file_extension": ".py",
   "mimetype": "text/x-python",
   "name": "python",
   "nbconvert_exporter": "python",
   "pygments_lexer": "ipython3",
   "version": "3.8.8"
  }
 },
 "nbformat": 4,
 "nbformat_minor": 1
}
