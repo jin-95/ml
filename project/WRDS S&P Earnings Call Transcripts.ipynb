{
 "cells": [
  {
   "cell_type": "markdown",
   "id": "b8d3d164",
   "metadata": {},
   "source": [
    "# Install WRDS"
   ]
  },
  {
   "cell_type": "code",
   "execution_count": 5,
   "id": "9a7b6d98",
   "metadata": {
    "pycharm": {
     "is_executing": true
    }
   },
   "outputs": [
    {
     "name": "stdout",
     "output_type": "stream",
     "text": [
      "Collecting wrds\n",
      "  Using cached wrds-3.1.6-py3-none-any.whl (12 kB)\n",
      "Collecting sqlalchemy<2\n",
      "  Downloading SQLAlchemy-1.4.48-cp310-cp310-win_amd64.whl (1.6 MB)\n",
      "     ---------------------------------------- 0.0/1.6 MB ? eta -:--:--\n",
      "     ------------- -------------------------- 0.5/1.6 MB 16.8 MB/s eta 0:00:01\n",
      "     --------------------------- ------------ 1.1/1.6 MB 13.7 MB/s eta 0:00:01\n",
      "     ---------------------------------------  1.6/1.6 MB 14.2 MB/s eta 0:00:01\n",
      "     ---------------------------------------- 1.6/1.6 MB 11.2 MB/s eta 0:00:00\n",
      "Collecting psycopg2-binary\n",
      "  Downloading psycopg2_binary-2.9.6-cp310-cp310-win_amd64.whl (1.2 MB)\n",
      "     ---------------------------------------- 0.0/1.2 MB ? eta -:--:--\n",
      "     ---------------- ----------------------- 0.5/1.2 MB 15.5 MB/s eta 0:00:01\n",
      "     ----------------------------- ---------- 0.9/1.2 MB 9.2 MB/s eta 0:00:01\n",
      "     ---------------------------------------  1.2/1.2 MB 9.2 MB/s eta 0:00:01\n",
      "     ---------------------------------------- 1.2/1.2 MB 8.2 MB/s eta 0:00:00\n",
      "Requirement already satisfied: pandas in c:\\users\\final\\anaconda3\\envs\\sem 3\\lib\\site-packages (from wrds) (2.0.2)\n",
      "Requirement already satisfied: numpy in c:\\users\\final\\anaconda3\\envs\\sem 3\\lib\\site-packages (from wrds) (1.24.3)\n",
      "Requirement already satisfied: scipy in c:\\users\\final\\anaconda3\\envs\\sem 3\\lib\\site-packages (from wrds) (1.10.1)\n",
      "Collecting greenlet!=0.4.17\n",
      "  Downloading greenlet-2.0.2-cp310-cp310-win_amd64.whl (192 kB)\n",
      "     ---------------------------------------- 0.0/192.2 kB ? eta -:--:--\n",
      "     ------------------------------------- 192.2/192.2 kB 12.1 MB/s eta 0:00:00\n",
      "Requirement already satisfied: python-dateutil>=2.8.2 in c:\\users\\final\\anaconda3\\envs\\sem 3\\lib\\site-packages (from pandas->wrds) (2.8.2)\n",
      "Requirement already satisfied: tzdata>=2022.1 in c:\\users\\final\\anaconda3\\envs\\sem 3\\lib\\site-packages (from pandas->wrds) (2023.3)\n",
      "Requirement already satisfied: pytz>=2020.1 in c:\\users\\final\\anaconda3\\envs\\sem 3\\lib\\site-packages (from pandas->wrds) (2022.7)\n",
      "Requirement already satisfied: six>=1.5 in c:\\users\\final\\anaconda3\\envs\\sem 3\\lib\\site-packages (from python-dateutil>=2.8.2->pandas->wrds) (1.16.0)\n",
      "Installing collected packages: psycopg2-binary, greenlet, sqlalchemy, wrds\n",
      "Successfully installed greenlet-2.0.2 psycopg2-binary-2.9.6 sqlalchemy-1.4.48 wrds-3.1.6\n",
      "Note: you may need to restart the kernel to use updated packages.\n"
     ]
    }
   ],
   "source": [
    "pip install wrds"
   ]
  },
  {
   "cell_type": "code",
   "execution_count": 20,
   "id": "da95da7d",
   "metadata": {},
   "outputs": [],
   "source": [
    "import pandas as pd\n",
    "import numpy as np"
   ]
  },
  {
   "cell_type": "markdown",
   "id": "f7457979",
   "metadata": {},
   "source": [
    "# Extract S&P CIK codes"
   ]
  },
  {
   "cell_type": "code",
   "execution_count": 21,
   "id": "8be6ec35",
   "metadata": {},
   "outputs": [],
   "source": [
    "sp_500 = pd.read_html(\"https://en.wikipedia.org/wiki/List_of_S%26P_500_companies\")[0]\n",
    "sp_500\n",
    "cik = []\n",
    "for i in range(len(sp_500[\"CIK\"])):\n",
    "    temp = str(sp_500[\"CIK\"][i])\n",
    "    while len(temp) != 10:\n",
    "        temp = \"0\" + temp\n",
    "    cik.append(temp)\n",
    "sp_500[\"CIK\"] = pd.Series(cik)"
   ]
  },
  {
   "cell_type": "code",
   "execution_count": 22,
   "id": "015cca11",
   "metadata": {},
   "outputs": [
    {
     "data": {
      "text/plain": "    Symbol              Security             GICS Sector  \\\n0      MMM                    3M             Industrials   \n1      AOS           A. O. Smith             Industrials   \n2      ABT                Abbott             Health Care   \n3     ABBV                AbbVie             Health Care   \n4      ACN             Accenture  Information Technology   \n..     ...                   ...                     ...   \n498    YUM           Yum! Brands  Consumer Discretionary   \n499   ZBRA    Zebra Technologies  Information Technology   \n500    ZBH         Zimmer Biomet             Health Care   \n501   ZION  Zions Bancorporation              Financials   \n502    ZTS                Zoetis             Health Care   \n\n                      GICS Sub-Industry    Headquarters Location  Date added  \\\n0              Industrial Conglomerates    Saint Paul, Minnesota  1957-03-04   \n1                     Building Products     Milwaukee, Wisconsin  2017-07-26   \n2                 Health Care Equipment  North Chicago, Illinois  1957-03-04   \n3                       Pharmaceuticals  North Chicago, Illinois  2012-12-31   \n4        IT Consulting & Other Services          Dublin, Ireland  2011-07-06   \n..                                  ...                      ...         ...   \n498                         Restaurants     Louisville, Kentucky  1997-10-06   \n499  Electronic Equipment & Instruments   Lincolnshire, Illinois  2019-12-23   \n500               Health Care Equipment          Warsaw, Indiana  2001-08-07   \n501                      Regional Banks     Salt Lake City, Utah  2001-06-22   \n502                     Pharmaceuticals   Parsippany, New Jersey  2013-06-21   \n\n            CIK      Founded  \n0    0000066740         1902  \n1    0000091142         1916  \n2    0000001800         1888  \n3    0001551152  2013 (1888)  \n4    0001467373         1989  \n..          ...          ...  \n498  0001041061         1997  \n499  0000877212         1969  \n500  0001136869         1927  \n501  0000109380         1873  \n502  0001555280         1952  \n\n[503 rows x 8 columns]",
      "text/html": "<div>\n<style scoped>\n    .dataframe tbody tr th:only-of-type {\n        vertical-align: middle;\n    }\n\n    .dataframe tbody tr th {\n        vertical-align: top;\n    }\n\n    .dataframe thead th {\n        text-align: right;\n    }\n</style>\n<table border=\"1\" class=\"dataframe\">\n  <thead>\n    <tr style=\"text-align: right;\">\n      <th></th>\n      <th>Symbol</th>\n      <th>Security</th>\n      <th>GICS Sector</th>\n      <th>GICS Sub-Industry</th>\n      <th>Headquarters Location</th>\n      <th>Date added</th>\n      <th>CIK</th>\n      <th>Founded</th>\n    </tr>\n  </thead>\n  <tbody>\n    <tr>\n      <th>0</th>\n      <td>MMM</td>\n      <td>3M</td>\n      <td>Industrials</td>\n      <td>Industrial Conglomerates</td>\n      <td>Saint Paul, Minnesota</td>\n      <td>1957-03-04</td>\n      <td>0000066740</td>\n      <td>1902</td>\n    </tr>\n    <tr>\n      <th>1</th>\n      <td>AOS</td>\n      <td>A. O. Smith</td>\n      <td>Industrials</td>\n      <td>Building Products</td>\n      <td>Milwaukee, Wisconsin</td>\n      <td>2017-07-26</td>\n      <td>0000091142</td>\n      <td>1916</td>\n    </tr>\n    <tr>\n      <th>2</th>\n      <td>ABT</td>\n      <td>Abbott</td>\n      <td>Health Care</td>\n      <td>Health Care Equipment</td>\n      <td>North Chicago, Illinois</td>\n      <td>1957-03-04</td>\n      <td>0000001800</td>\n      <td>1888</td>\n    </tr>\n    <tr>\n      <th>3</th>\n      <td>ABBV</td>\n      <td>AbbVie</td>\n      <td>Health Care</td>\n      <td>Pharmaceuticals</td>\n      <td>North Chicago, Illinois</td>\n      <td>2012-12-31</td>\n      <td>0001551152</td>\n      <td>2013 (1888)</td>\n    </tr>\n    <tr>\n      <th>4</th>\n      <td>ACN</td>\n      <td>Accenture</td>\n      <td>Information Technology</td>\n      <td>IT Consulting &amp; Other Services</td>\n      <td>Dublin, Ireland</td>\n      <td>2011-07-06</td>\n      <td>0001467373</td>\n      <td>1989</td>\n    </tr>\n    <tr>\n      <th>...</th>\n      <td>...</td>\n      <td>...</td>\n      <td>...</td>\n      <td>...</td>\n      <td>...</td>\n      <td>...</td>\n      <td>...</td>\n      <td>...</td>\n    </tr>\n    <tr>\n      <th>498</th>\n      <td>YUM</td>\n      <td>Yum! Brands</td>\n      <td>Consumer Discretionary</td>\n      <td>Restaurants</td>\n      <td>Louisville, Kentucky</td>\n      <td>1997-10-06</td>\n      <td>0001041061</td>\n      <td>1997</td>\n    </tr>\n    <tr>\n      <th>499</th>\n      <td>ZBRA</td>\n      <td>Zebra Technologies</td>\n      <td>Information Technology</td>\n      <td>Electronic Equipment &amp; Instruments</td>\n      <td>Lincolnshire, Illinois</td>\n      <td>2019-12-23</td>\n      <td>0000877212</td>\n      <td>1969</td>\n    </tr>\n    <tr>\n      <th>500</th>\n      <td>ZBH</td>\n      <td>Zimmer Biomet</td>\n      <td>Health Care</td>\n      <td>Health Care Equipment</td>\n      <td>Warsaw, Indiana</td>\n      <td>2001-08-07</td>\n      <td>0001136869</td>\n      <td>1927</td>\n    </tr>\n    <tr>\n      <th>501</th>\n      <td>ZION</td>\n      <td>Zions Bancorporation</td>\n      <td>Financials</td>\n      <td>Regional Banks</td>\n      <td>Salt Lake City, Utah</td>\n      <td>2001-06-22</td>\n      <td>0000109380</td>\n      <td>1873</td>\n    </tr>\n    <tr>\n      <th>502</th>\n      <td>ZTS</td>\n      <td>Zoetis</td>\n      <td>Health Care</td>\n      <td>Pharmaceuticals</td>\n      <td>Parsippany, New Jersey</td>\n      <td>2013-06-21</td>\n      <td>0001555280</td>\n      <td>1952</td>\n    </tr>\n  </tbody>\n</table>\n<p>503 rows × 8 columns</p>\n</div>"
     },
     "execution_count": 22,
     "metadata": {},
     "output_type": "execute_result"
    }
   ],
   "source": [
    "sp_500"
   ]
  },
  {
   "cell_type": "markdown",
   "id": "d574c20e",
   "metadata": {},
   "source": [
    "# Import WRDS and connect to web (enter your credentials when prompted)"
   ]
  },
  {
   "cell_type": "code",
   "execution_count": 23,
   "id": "11635980",
   "metadata": {
    "scrolled": false
   },
   "outputs": [
    {
     "name": "stdout",
     "output_type": "stream",
     "text": [
      "WRDS recommends setting up a .pgpass file.\n",
      "Created .pgpass file successfully.\n",
      "You can create this file yourself at any time with the create_pgpass_file() function.\n",
      "Loading library list...\n",
      "Done\n"
     ]
    }
   ],
   "source": [
    "import wrds\n",
    "db = wrds.Connection()"
   ]
  },
  {
   "cell_type": "markdown",
   "id": "d95719cb",
   "metadata": {},
   "source": [
    "# Look at all the tables available under ciq library"
   ]
  },
  {
   "cell_type": "code",
   "execution_count": 24,
   "id": "dcee2ee3",
   "metadata": {},
   "outputs": [
    {
     "data": {
      "text/plain": "['chars',\n 'ciqaddress',\n 'ciqaddresstype',\n 'ciqadvisortype',\n 'ciqbusinessdescription',\n 'ciqbusinessdescriptionlong',\n 'ciqcapstdtasrptdclasstype',\n 'ciqcapstdtclasstype',\n 'ciqcapstdtcompntasrptddata',\n 'ciqcapstdtcomponent',\n 'ciqcapstdtconvertibletype',\n 'ciqcapstdtcumulativetype',\n 'ciqcapstdtdescription',\n 'ciqcapstdtintbenchmarktype',\n 'ciqcapstdtinterestrate',\n 'ciqcapstdtintratetype',\n 'ciqcapstdtleveltype',\n 'ciqcapstdtnonrecoursetype',\n 'ciqcapstdtparticipatingtype',\n 'ciqcapstdtredeemabletype',\n 'ciqcapstdtsecuredtype',\n 'ciqcapstdtsubtype',\n 'ciqcapstdttype',\n 'ciqcapsteqauthrzdsharestype',\n 'ciqcapsteqcomponent',\n 'ciqcapsteqcomponentdata',\n 'ciqcapsteqconvertibletype',\n 'ciqcapsteqsubtype',\n 'ciqcapsteqtype',\n 'ciqcapsteqvotingrightstype',\n 'ciqchartype',\n 'ciqchartypetosubtype',\n 'ciqcommittee',\n 'ciqcompany',\n 'ciqcompanyindustrytree',\n 'ciqcompanyrel',\n 'ciqcompanyreltype',\n 'ciqcompanystatustype',\n 'ciqcompanytype',\n 'ciqcompensation',\n 'ciqcompensationadjustment',\n 'ciqcompensationadjustmenttype',\n 'ciqcompensationdetail',\n 'ciqcompensationsubtype',\n 'ciqcompensationtype',\n 'ciqcountry',\n 'ciqcountrygeo',\n 'ciqcurrency',\n 'ciqdataitem',\n 'ciqdataitembankregulatory',\n 'ciqdataitemconversionrule',\n 'ciqdataitemestimate',\n 'ciqdataitemestimaterel',\n 'ciqdataitemestimatereltype',\n 'ciqdataitemfinancial',\n 'ciqdataitemformulametric',\n 'ciqdataitemgroup',\n 'ciqdataitemgrouptodataitem',\n 'ciqdataitemindex',\n 'ciqdataitemindexlevelval',\n 'ciqdataitemtransaction',\n 'ciqexchange',\n 'ciqexchangerate',\n 'ciqfinancialdataset',\n 'ciqfincollection',\n 'ciqfincollectiondata',\n 'ciqfindatacollectiontype',\n 'ciqfininstance',\n 'ciqfininstancetocollection',\n 'ciqfininstancetocollecttype',\n 'ciqfininstancetype',\n 'ciqfinperiod',\n 'ciqfinstatementrestatetype',\n 'ciqfinunittype',\n 'ciqgvkeyiid',\n 'ciqindextradingitemtype',\n 'ciqindustrytosic',\n 'ciqkeydev',\n 'ciqkeydeveventtype',\n 'ciqkeydevobjectroletype',\n 'ciqkeydevstatus',\n 'ciqkeydevtoobjecttoeventtype',\n 'ciqobjecttype',\n 'ciqperiodtype',\n 'ciqperson',\n 'ciqpersonbiography',\n 'ciqprofessional',\n 'ciqprofessionalcoverage',\n 'ciqprofunction',\n 'ciqprotoprofunction',\n 'ciqreportingtemplatetype',\n 'ciqrestatementtype',\n 'ciqsecurity',\n 'ciqsecuritygroup',\n 'ciqsecuritysubtype',\n 'ciqsecuritytype',\n 'ciqstate',\n 'ciqsubtype',\n 'ciqsymbol',\n 'ciqsymboltype',\n 'ciqtradingitem',\n 'ciqtradingitemstatus',\n 'ciqtransaccountingmethod',\n 'ciqtransaction',\n 'ciqtransactionadvisortype',\n 'ciqtransactionconditiontype',\n 'ciqtransactioncontrolstake',\n 'ciqtransactiondealapproach',\n 'ciqtransactiondealattitude',\n 'ciqtransactionfeetype',\n 'ciqtransactionreltype',\n 'ciqtransactionstaketype',\n 'ciqtransactionstatus',\n 'ciqtransactionstatustype',\n 'ciqtransactiontoadvisor',\n 'ciqtransactiontocompanyrel',\n 'ciqtransactiontocompreltype',\n 'ciqtransactiontype',\n 'ciqtransactionuseofproceeds',\n 'ciqtranscompanyreltype',\n 'ciqtransconsiddetailscenario',\n 'ciqtransconsidstatustype',\n 'ciqtransconsidsubtype',\n 'ciqtransconsidtype',\n 'ciqtranscript',\n 'ciqtranscriptcollectiontype',\n 'ciqtranscriptcomponent',\n 'ciqtranscriptcomponenttype',\n 'ciqtranscriptdelayreason',\n 'ciqtranscriptdelayreasontype',\n 'ciqtranscriptperson',\n 'ciqtranscriptpresentationtype',\n 'ciqtranscriptspeakertype',\n 'ciqtransdataitemmapping',\n 'ciqtransfeatures',\n 'ciqtransma',\n 'ciqtransmaadvisor',\n 'ciqtransmacompanyrel',\n 'ciqtransmaconsiddetail',\n 'ciqtransmaconsideration',\n 'ciqtransmadatabit',\n 'ciqtransmadatadate',\n 'ciqtransmadatafinancial',\n 'ciqtransmadatainteger',\n 'ciqtransmadatanumeric',\n 'ciqtransmadatavarchar',\n 'ciqtransmastatustodate',\n 'ciqtransmatocondition',\n 'ciqtransmatoprimaryfeature',\n 'ciqtransmatotransfeature',\n 'ciqtransofferdatafinancial',\n 'ciqtransoffering',\n 'ciqtransofferingdatabit',\n 'ciqtransofferingdatadate',\n 'ciqtransofferingdatainteger',\n 'ciqtransofferingdatanumeric',\n 'ciqtransofferingdatavarchar',\n 'ciqtransofferingdocuments',\n 'ciqtransofferingfee',\n 'ciqtransofferinglockup',\n 'ciqtransofferingregistration',\n 'ciqtransofferingrel',\n 'ciqtransofferingstatustodate',\n 'ciqtransofferingtoadvisor',\n 'ciqtransofferingtoseller',\n 'ciqtransoffersecuritydetail',\n 'ciqtransoffertoprimaryfeat',\n 'ciqtransoffertotransfeature',\n 'ciqtransoffertouseofproceeds',\n 'ciqtransprimaryfeaturetype',\n 'ciqtranssecuritysubtype',\n 'ciqtranssecuritytype',\n 'ciqvaluetype',\n 'ratings_ids',\n 'spassessmentdata',\n 'spassessmentleveldata',\n 'spassessmenttype',\n 'spentityleveldata',\n 'spentitysector',\n 'spentitysectorcode',\n 'spindustrychar',\n 'spindustrytype',\n 'spinstrumentleveldata',\n 'spinstrumentsector',\n 'spinstrumentsectorcode',\n 'spinstrumenttoentity',\n 'spratinganalystcode',\n 'spratingcollateraltype',\n 'spratingcountry',\n 'spratingcoupontype',\n 'spratingcurrencytype',\n 'spratingdata',\n 'spratingdataitemtype',\n 'spratingdebttype',\n 'spratingidentifier',\n 'spratingidentifiertype',\n 'spratinginstrumenttype',\n 'spratingleveldata',\n 'spratingnaicscode',\n 'spratingorgdebttype',\n 'spratingprogramtype',\n 'spratingpvtplacementtype',\n 'spratingregion',\n 'spratingroletype',\n 'spratingsiccode',\n 'spratingstate',\n 'spratingtype',\n 'spsecurityleveldata',\n 'wrds_cik',\n 'wrds_ciqsymbol',\n 'wrds_compensation',\n 'wrds_compensationdetails',\n 'wrds_consideration_financials',\n 'wrds_cusip',\n 'wrds_debt',\n 'wrds_eassessment',\n 'wrds_entity_info',\n 'wrds_equity',\n 'wrds_erating',\n 'wrds_gvkey',\n 'wrds_inst_info',\n 'wrds_irating',\n 'wrds_isin',\n 'wrds_keydev',\n 'wrds_offerings',\n 'wrds_offerings_advisors',\n 'wrds_offerings_feat',\n 'wrds_offerings_proceeds',\n 'wrds_offerings_registration',\n 'wrds_offerings_rel',\n 'wrds_professional',\n 'wrds_sassessment',\n 'wrds_sec_info',\n 'wrds_srating',\n 'wrds_summary',\n 'wrds_ticker',\n 'wrds_trans_advisors',\n 'wrds_trans_conditions',\n 'wrds_trans_considerations',\n 'wrds_trans_features',\n 'wrds_transactions',\n 'wrds_transcript_detail',\n 'wrds_transcript_person']"
     },
     "execution_count": 24,
     "metadata": {},
     "output_type": "execute_result"
    }
   ],
   "source": [
    "db.list_tables(\"ciq\")"
   ]
  },
  {
   "cell_type": "markdown",
   "id": "f57c0621",
   "metadata": {},
   "source": [
    "# Access the table that links CIK to CIQ IDs"
   ]
  },
  {
   "cell_type": "code",
   "execution_count": 25,
   "id": "b30b0671",
   "metadata": {},
   "outputs": [
    {
     "name": "stdout",
     "output_type": "stream",
     "text": [
      "Approximately 372840 rows in ciq.wrds_cik.\n"
     ]
    },
    {
     "data": {
      "text/plain": "          name  nullable              type comment\n0    companyid      True  DOUBLE_PRECISION    None\n1          cik      True       VARCHAR(10)    None\n2    startdate      True              DATE    None\n3      enddate      True              DATE    None\n4  companyname      True      VARCHAR(400)    None",
      "text/html": "<div>\n<style scoped>\n    .dataframe tbody tr th:only-of-type {\n        vertical-align: middle;\n    }\n\n    .dataframe tbody tr th {\n        vertical-align: top;\n    }\n\n    .dataframe thead th {\n        text-align: right;\n    }\n</style>\n<table border=\"1\" class=\"dataframe\">\n  <thead>\n    <tr style=\"text-align: right;\">\n      <th></th>\n      <th>name</th>\n      <th>nullable</th>\n      <th>type</th>\n      <th>comment</th>\n    </tr>\n  </thead>\n  <tbody>\n    <tr>\n      <th>0</th>\n      <td>companyid</td>\n      <td>True</td>\n      <td>DOUBLE_PRECISION</td>\n      <td>None</td>\n    </tr>\n    <tr>\n      <th>1</th>\n      <td>cik</td>\n      <td>True</td>\n      <td>VARCHAR(10)</td>\n      <td>None</td>\n    </tr>\n    <tr>\n      <th>2</th>\n      <td>startdate</td>\n      <td>True</td>\n      <td>DATE</td>\n      <td>None</td>\n    </tr>\n    <tr>\n      <th>3</th>\n      <td>enddate</td>\n      <td>True</td>\n      <td>DATE</td>\n      <td>None</td>\n    </tr>\n    <tr>\n      <th>4</th>\n      <td>companyname</td>\n      <td>True</td>\n      <td>VARCHAR(400)</td>\n      <td>None</td>\n    </tr>\n  </tbody>\n</table>\n</div>"
     },
     "execution_count": 25,
     "metadata": {},
     "output_type": "execute_result"
    }
   ],
   "source": [
    "db.describe_table(library = \"ciq\", table = \"wrds_cik\")"
   ]
  },
  {
   "cell_type": "code",
   "execution_count": 26,
   "id": "dd58841e",
   "metadata": {},
   "outputs": [],
   "source": [
    "CIK = tuple(sp_500['CIK'])"
   ]
  },
  {
   "cell_type": "code",
   "execution_count": 27,
   "id": "8c0c737d",
   "metadata": {},
   "outputs": [
    {
     "data": {
      "text/plain": "        companyid         cik   startdate     enddate  \\\n0    2.474830e+05  0000001800        None        None   \n1    1.688640e+05  0000002488        None        None   \n2    2.483560e+05  0000002969        None        None   \n3    2.494890e+05  0000004127        None  2002-06-25   \n4    1.462309e+06  0000004127  2002-06-26        None   \n..            ...         ...         ...         ...   \n520  6.312364e+08  0001792044        None  2020-11-10   \n521  6.537486e+08  0001821825        None        None   \n522  1.698380e+05  0001841666        None        None   \n523  3.136719e+06  0001868275        None        None   \n524  1.804385e+09  0001932393        None        None   \n\n                          companyname  \n0                 Abbott Laboratories  \n1        Advanced Micro Devices, Inc.  \n2    Air Products and Chemicals, Inc.  \n3              Alpha Industries, Inc.  \n4            Skyworks Solutions, Inc.  \n..                                ...  \n520                       Upjohn Inc.  \n521                     Organon & Co.  \n522                   APA Corporation  \n523  Constellation Energy Corporation  \n524   GE HealthCare Technologies Inc.  \n\n[525 rows x 5 columns]",
      "text/html": "<div>\n<style scoped>\n    .dataframe tbody tr th:only-of-type {\n        vertical-align: middle;\n    }\n\n    .dataframe tbody tr th {\n        vertical-align: top;\n    }\n\n    .dataframe thead th {\n        text-align: right;\n    }\n</style>\n<table border=\"1\" class=\"dataframe\">\n  <thead>\n    <tr style=\"text-align: right;\">\n      <th></th>\n      <th>companyid</th>\n      <th>cik</th>\n      <th>startdate</th>\n      <th>enddate</th>\n      <th>companyname</th>\n    </tr>\n  </thead>\n  <tbody>\n    <tr>\n      <th>0</th>\n      <td>2.474830e+05</td>\n      <td>0000001800</td>\n      <td>None</td>\n      <td>None</td>\n      <td>Abbott Laboratories</td>\n    </tr>\n    <tr>\n      <th>1</th>\n      <td>1.688640e+05</td>\n      <td>0000002488</td>\n      <td>None</td>\n      <td>None</td>\n      <td>Advanced Micro Devices, Inc.</td>\n    </tr>\n    <tr>\n      <th>2</th>\n      <td>2.483560e+05</td>\n      <td>0000002969</td>\n      <td>None</td>\n      <td>None</td>\n      <td>Air Products and Chemicals, Inc.</td>\n    </tr>\n    <tr>\n      <th>3</th>\n      <td>2.494890e+05</td>\n      <td>0000004127</td>\n      <td>None</td>\n      <td>2002-06-25</td>\n      <td>Alpha Industries, Inc.</td>\n    </tr>\n    <tr>\n      <th>4</th>\n      <td>1.462309e+06</td>\n      <td>0000004127</td>\n      <td>2002-06-26</td>\n      <td>None</td>\n      <td>Skyworks Solutions, Inc.</td>\n    </tr>\n    <tr>\n      <th>...</th>\n      <td>...</td>\n      <td>...</td>\n      <td>...</td>\n      <td>...</td>\n      <td>...</td>\n    </tr>\n    <tr>\n      <th>520</th>\n      <td>6.312364e+08</td>\n      <td>0001792044</td>\n      <td>None</td>\n      <td>2020-11-10</td>\n      <td>Upjohn Inc.</td>\n    </tr>\n    <tr>\n      <th>521</th>\n      <td>6.537486e+08</td>\n      <td>0001821825</td>\n      <td>None</td>\n      <td>None</td>\n      <td>Organon &amp; Co.</td>\n    </tr>\n    <tr>\n      <th>522</th>\n      <td>1.698380e+05</td>\n      <td>0001841666</td>\n      <td>None</td>\n      <td>None</td>\n      <td>APA Corporation</td>\n    </tr>\n    <tr>\n      <th>523</th>\n      <td>3.136719e+06</td>\n      <td>0001868275</td>\n      <td>None</td>\n      <td>None</td>\n      <td>Constellation Energy Corporation</td>\n    </tr>\n    <tr>\n      <th>524</th>\n      <td>1.804385e+09</td>\n      <td>0001932393</td>\n      <td>None</td>\n      <td>None</td>\n      <td>GE HealthCare Technologies Inc.</td>\n    </tr>\n  </tbody>\n</table>\n<p>525 rows × 5 columns</p>\n</div>"
     },
     "execution_count": 27,
     "metadata": {},
     "output_type": "execute_result"
    }
   ],
   "source": [
    "sql_query = 'SELECT * from ciq.wrds_cik WHERE cik IN'\n",
    "sql_query += f'{CIK}'\n",
    "sql_query\n",
    "# Run query,  result in Pandas dataframe format\n",
    "data = db.raw_sql(sql_query)\n",
    "data"
   ]
  },
  {
   "cell_type": "markdown",
   "id": "9640dc63",
   "metadata": {},
   "source": [
    "## Remove duplicated, legacy CIK entries"
   ]
  },
  {
   "cell_type": "code",
   "execution_count": 28,
   "id": "b74fe115",
   "metadata": {},
   "outputs": [
    {
     "data": {
      "text/plain": "        companyid         cik   startdate enddate  \\\n0    2.474830e+05  0000001800        None    None   \n1    1.688640e+05  0000002488        None    None   \n2    2.483560e+05  0000002969        None    None   \n4    1.462309e+06  0000004127  2002-06-26    None   \n6    4.162645e+08  0000004281  2016-10-28    None   \n..            ...         ...         ...     ...   \n519  2.902030e+05  0001792044  2020-11-11    None   \n521  6.537486e+08  0001821825        None    None   \n522  1.698380e+05  0001841666        None    None   \n523  3.136719e+06  0001868275        None    None   \n524  1.804385e+09  0001932393        None    None   \n\n                          companyname  \n0                 Abbott Laboratories  \n1        Advanced Micro Devices, Inc.  \n2    Air Products and Chemicals, Inc.  \n4            Skyworks Solutions, Inc.  \n6               Howmet Aerospace Inc.  \n..                                ...  \n519                      Viatris Inc.  \n521                     Organon & Co.  \n522                   APA Corporation  \n523  Constellation Energy Corporation  \n524   GE HealthCare Technologies Inc.  \n\n[500 rows x 5 columns]",
      "text/html": "<div>\n<style scoped>\n    .dataframe tbody tr th:only-of-type {\n        vertical-align: middle;\n    }\n\n    .dataframe tbody tr th {\n        vertical-align: top;\n    }\n\n    .dataframe thead th {\n        text-align: right;\n    }\n</style>\n<table border=\"1\" class=\"dataframe\">\n  <thead>\n    <tr style=\"text-align: right;\">\n      <th></th>\n      <th>companyid</th>\n      <th>cik</th>\n      <th>startdate</th>\n      <th>enddate</th>\n      <th>companyname</th>\n    </tr>\n  </thead>\n  <tbody>\n    <tr>\n      <th>0</th>\n      <td>2.474830e+05</td>\n      <td>0000001800</td>\n      <td>None</td>\n      <td>None</td>\n      <td>Abbott Laboratories</td>\n    </tr>\n    <tr>\n      <th>1</th>\n      <td>1.688640e+05</td>\n      <td>0000002488</td>\n      <td>None</td>\n      <td>None</td>\n      <td>Advanced Micro Devices, Inc.</td>\n    </tr>\n    <tr>\n      <th>2</th>\n      <td>2.483560e+05</td>\n      <td>0000002969</td>\n      <td>None</td>\n      <td>None</td>\n      <td>Air Products and Chemicals, Inc.</td>\n    </tr>\n    <tr>\n      <th>4</th>\n      <td>1.462309e+06</td>\n      <td>0000004127</td>\n      <td>2002-06-26</td>\n      <td>None</td>\n      <td>Skyworks Solutions, Inc.</td>\n    </tr>\n    <tr>\n      <th>6</th>\n      <td>4.162645e+08</td>\n      <td>0000004281</td>\n      <td>2016-10-28</td>\n      <td>None</td>\n      <td>Howmet Aerospace Inc.</td>\n    </tr>\n    <tr>\n      <th>...</th>\n      <td>...</td>\n      <td>...</td>\n      <td>...</td>\n      <td>...</td>\n      <td>...</td>\n    </tr>\n    <tr>\n      <th>519</th>\n      <td>2.902030e+05</td>\n      <td>0001792044</td>\n      <td>2020-11-11</td>\n      <td>None</td>\n      <td>Viatris Inc.</td>\n    </tr>\n    <tr>\n      <th>521</th>\n      <td>6.537486e+08</td>\n      <td>0001821825</td>\n      <td>None</td>\n      <td>None</td>\n      <td>Organon &amp; Co.</td>\n    </tr>\n    <tr>\n      <th>522</th>\n      <td>1.698380e+05</td>\n      <td>0001841666</td>\n      <td>None</td>\n      <td>None</td>\n      <td>APA Corporation</td>\n    </tr>\n    <tr>\n      <th>523</th>\n      <td>3.136719e+06</td>\n      <td>0001868275</td>\n      <td>None</td>\n      <td>None</td>\n      <td>Constellation Energy Corporation</td>\n    </tr>\n    <tr>\n      <th>524</th>\n      <td>1.804385e+09</td>\n      <td>0001932393</td>\n      <td>None</td>\n      <td>None</td>\n      <td>GE HealthCare Technologies Inc.</td>\n    </tr>\n  </tbody>\n</table>\n<p>500 rows × 5 columns</p>\n</div>"
     },
     "execution_count": 28,
     "metadata": {},
     "output_type": "execute_result"
    }
   ],
   "source": [
    "CIQ = data[data[\"enddate\"].isna()]\n",
    "CIQ"
   ]
  },
  {
   "cell_type": "code",
   "execution_count": 29,
   "id": "a59a8bfa",
   "metadata": {},
   "outputs": [],
   "source": [
    "# Analysis for duplicate S&P entries\n",
    "# a = data[data[\"enddate\"].isna()]\n",
    "# b = sp_500[\"CIK\"].to_list()\n",
    "# empty = []\n",
    "# for i in b:\n",
    "#     if b.count(i) == 2:\n",
    "#         empty.append(i)\n",
    "# empty\n",
    "\n",
    "# sp_500[sp_500[\"CIK\"].isin(a[\"cik\"])]"
   ]
  },
  {
   "cell_type": "code",
   "execution_count": 30,
   "id": "55f38fd0",
   "metadata": {},
   "outputs": [
    {
     "data": {
      "text/plain": "    Symbol              Security             GICS Sector  \\\n0      MMM                    3M             Industrials   \n1      AOS           A. O. Smith             Industrials   \n2      ABT                Abbott             Health Care   \n3     ABBV                AbbVie             Health Care   \n4      ACN             Accenture  Information Technology   \n..     ...                   ...                     ...   \n498    YUM           Yum! Brands  Consumer Discretionary   \n499   ZBRA    Zebra Technologies  Information Technology   \n500    ZBH         Zimmer Biomet             Health Care   \n501   ZION  Zions Bancorporation              Financials   \n502    ZTS                Zoetis             Health Care   \n\n                      GICS Sub-Industry    Headquarters Location  Date added  \\\n0              Industrial Conglomerates    Saint Paul, Minnesota  1957-03-04   \n1                     Building Products     Milwaukee, Wisconsin  2017-07-26   \n2                 Health Care Equipment  North Chicago, Illinois  1957-03-04   \n3                       Pharmaceuticals  North Chicago, Illinois  2012-12-31   \n4        IT Consulting & Other Services          Dublin, Ireland  2011-07-06   \n..                                  ...                      ...         ...   \n498                         Restaurants     Louisville, Kentucky  1997-10-06   \n499  Electronic Equipment & Instruments   Lincolnshire, Illinois  2019-12-23   \n500               Health Care Equipment          Warsaw, Indiana  2001-08-07   \n501                      Regional Banks     Salt Lake City, Utah  2001-06-22   \n502                     Pharmaceuticals   Parsippany, New Jersey  2013-06-21   \n\n            CIK      Founded  \n0    0000066740         1902  \n1    0000091142         1916  \n2    0000001800         1888  \n3    0001551152  2013 (1888)  \n4    0001467373         1989  \n..          ...          ...  \n498  0001041061         1997  \n499  0000877212         1969  \n500  0001136869         1927  \n501  0000109380         1873  \n502  0001555280         1952  \n\n[503 rows x 8 columns]",
      "text/html": "<div>\n<style scoped>\n    .dataframe tbody tr th:only-of-type {\n        vertical-align: middle;\n    }\n\n    .dataframe tbody tr th {\n        vertical-align: top;\n    }\n\n    .dataframe thead th {\n        text-align: right;\n    }\n</style>\n<table border=\"1\" class=\"dataframe\">\n  <thead>\n    <tr style=\"text-align: right;\">\n      <th></th>\n      <th>Symbol</th>\n      <th>Security</th>\n      <th>GICS Sector</th>\n      <th>GICS Sub-Industry</th>\n      <th>Headquarters Location</th>\n      <th>Date added</th>\n      <th>CIK</th>\n      <th>Founded</th>\n    </tr>\n  </thead>\n  <tbody>\n    <tr>\n      <th>0</th>\n      <td>MMM</td>\n      <td>3M</td>\n      <td>Industrials</td>\n      <td>Industrial Conglomerates</td>\n      <td>Saint Paul, Minnesota</td>\n      <td>1957-03-04</td>\n      <td>0000066740</td>\n      <td>1902</td>\n    </tr>\n    <tr>\n      <th>1</th>\n      <td>AOS</td>\n      <td>A. O. Smith</td>\n      <td>Industrials</td>\n      <td>Building Products</td>\n      <td>Milwaukee, Wisconsin</td>\n      <td>2017-07-26</td>\n      <td>0000091142</td>\n      <td>1916</td>\n    </tr>\n    <tr>\n      <th>2</th>\n      <td>ABT</td>\n      <td>Abbott</td>\n      <td>Health Care</td>\n      <td>Health Care Equipment</td>\n      <td>North Chicago, Illinois</td>\n      <td>1957-03-04</td>\n      <td>0000001800</td>\n      <td>1888</td>\n    </tr>\n    <tr>\n      <th>3</th>\n      <td>ABBV</td>\n      <td>AbbVie</td>\n      <td>Health Care</td>\n      <td>Pharmaceuticals</td>\n      <td>North Chicago, Illinois</td>\n      <td>2012-12-31</td>\n      <td>0001551152</td>\n      <td>2013 (1888)</td>\n    </tr>\n    <tr>\n      <th>4</th>\n      <td>ACN</td>\n      <td>Accenture</td>\n      <td>Information Technology</td>\n      <td>IT Consulting &amp; Other Services</td>\n      <td>Dublin, Ireland</td>\n      <td>2011-07-06</td>\n      <td>0001467373</td>\n      <td>1989</td>\n    </tr>\n    <tr>\n      <th>...</th>\n      <td>...</td>\n      <td>...</td>\n      <td>...</td>\n      <td>...</td>\n      <td>...</td>\n      <td>...</td>\n      <td>...</td>\n      <td>...</td>\n    </tr>\n    <tr>\n      <th>498</th>\n      <td>YUM</td>\n      <td>Yum! Brands</td>\n      <td>Consumer Discretionary</td>\n      <td>Restaurants</td>\n      <td>Louisville, Kentucky</td>\n      <td>1997-10-06</td>\n      <td>0001041061</td>\n      <td>1997</td>\n    </tr>\n    <tr>\n      <th>499</th>\n      <td>ZBRA</td>\n      <td>Zebra Technologies</td>\n      <td>Information Technology</td>\n      <td>Electronic Equipment &amp; Instruments</td>\n      <td>Lincolnshire, Illinois</td>\n      <td>2019-12-23</td>\n      <td>0000877212</td>\n      <td>1969</td>\n    </tr>\n    <tr>\n      <th>500</th>\n      <td>ZBH</td>\n      <td>Zimmer Biomet</td>\n      <td>Health Care</td>\n      <td>Health Care Equipment</td>\n      <td>Warsaw, Indiana</td>\n      <td>2001-08-07</td>\n      <td>0001136869</td>\n      <td>1927</td>\n    </tr>\n    <tr>\n      <th>501</th>\n      <td>ZION</td>\n      <td>Zions Bancorporation</td>\n      <td>Financials</td>\n      <td>Regional Banks</td>\n      <td>Salt Lake City, Utah</td>\n      <td>2001-06-22</td>\n      <td>0000109380</td>\n      <td>1873</td>\n    </tr>\n    <tr>\n      <th>502</th>\n      <td>ZTS</td>\n      <td>Zoetis</td>\n      <td>Health Care</td>\n      <td>Pharmaceuticals</td>\n      <td>Parsippany, New Jersey</td>\n      <td>2013-06-21</td>\n      <td>0001555280</td>\n      <td>1952</td>\n    </tr>\n  </tbody>\n</table>\n<p>503 rows × 8 columns</p>\n</div>"
     },
     "execution_count": 30,
     "metadata": {},
     "output_type": "execute_result"
    }
   ],
   "source": [
    "sp_500"
   ]
  },
  {
   "cell_type": "markdown",
   "id": "3c6e4db4",
   "metadata": {},
   "source": [
    "# Access the tables that contain earnings transcript for given CIQs"
   ]
  },
  {
   "cell_type": "code",
   "execution_count": 31,
   "id": "bf2474a1",
   "metadata": {
    "scrolled": true
   },
   "outputs": [
    {
     "name": "stdout",
     "output_type": "stream",
     "text": [
      "Approximately 1454740 rows in ciq.wrds_transcript_detail.\n"
     ]
    },
    {
     "data": {
      "text/plain": "                              name  nullable              type comment\n0                        companyid      True  DOUBLE_PRECISION    None\n1                         keydevid      True  DOUBLE_PRECISION    None\n2                     transcriptid      True  DOUBLE_PRECISION    None\n3                         headline      True      VARCHAR(381)    None\n4             mostimportantdateutc      True              DATE    None\n5             mostimportanttimeutc      True  DOUBLE_PRECISION    None\n6                keydeveventtypeid      True  DOUBLE_PRECISION    None\n7              keydeveventtypename      True      VARCHAR(400)    None\n8                      companyname      True      VARCHAR(400)    None\n9       transcriptcollectiontypeid      True  DOUBLE_PRECISION    None\n10    transcriptcollectiontypename      True      VARCHAR(200)    None\n11    transcriptpresentationtypeid      True  DOUBLE_PRECISION    None\n12  transcriptpresentationtypename      True      VARCHAR(200)    None\n13      transcriptcreationdate_utc      True              DATE    None\n14      transcriptcreationtime_utc      True  DOUBLE_PRECISION    None\n15                  audiolengthsec      True  DOUBLE_PRECISION    None\n16                  isdelayed_flag      True  DOUBLE_PRECISION    None\n17               delayreasontypeid      True  DOUBLE_PRECISION    None\n18             delayreasontypename      True      VARCHAR(600)    None",
      "text/html": "<div>\n<style scoped>\n    .dataframe tbody tr th:only-of-type {\n        vertical-align: middle;\n    }\n\n    .dataframe tbody tr th {\n        vertical-align: top;\n    }\n\n    .dataframe thead th {\n        text-align: right;\n    }\n</style>\n<table border=\"1\" class=\"dataframe\">\n  <thead>\n    <tr style=\"text-align: right;\">\n      <th></th>\n      <th>name</th>\n      <th>nullable</th>\n      <th>type</th>\n      <th>comment</th>\n    </tr>\n  </thead>\n  <tbody>\n    <tr>\n      <th>0</th>\n      <td>companyid</td>\n      <td>True</td>\n      <td>DOUBLE_PRECISION</td>\n      <td>None</td>\n    </tr>\n    <tr>\n      <th>1</th>\n      <td>keydevid</td>\n      <td>True</td>\n      <td>DOUBLE_PRECISION</td>\n      <td>None</td>\n    </tr>\n    <tr>\n      <th>2</th>\n      <td>transcriptid</td>\n      <td>True</td>\n      <td>DOUBLE_PRECISION</td>\n      <td>None</td>\n    </tr>\n    <tr>\n      <th>3</th>\n      <td>headline</td>\n      <td>True</td>\n      <td>VARCHAR(381)</td>\n      <td>None</td>\n    </tr>\n    <tr>\n      <th>4</th>\n      <td>mostimportantdateutc</td>\n      <td>True</td>\n      <td>DATE</td>\n      <td>None</td>\n    </tr>\n    <tr>\n      <th>5</th>\n      <td>mostimportanttimeutc</td>\n      <td>True</td>\n      <td>DOUBLE_PRECISION</td>\n      <td>None</td>\n    </tr>\n    <tr>\n      <th>6</th>\n      <td>keydeveventtypeid</td>\n      <td>True</td>\n      <td>DOUBLE_PRECISION</td>\n      <td>None</td>\n    </tr>\n    <tr>\n      <th>7</th>\n      <td>keydeveventtypename</td>\n      <td>True</td>\n      <td>VARCHAR(400)</td>\n      <td>None</td>\n    </tr>\n    <tr>\n      <th>8</th>\n      <td>companyname</td>\n      <td>True</td>\n      <td>VARCHAR(400)</td>\n      <td>None</td>\n    </tr>\n    <tr>\n      <th>9</th>\n      <td>transcriptcollectiontypeid</td>\n      <td>True</td>\n      <td>DOUBLE_PRECISION</td>\n      <td>None</td>\n    </tr>\n    <tr>\n      <th>10</th>\n      <td>transcriptcollectiontypename</td>\n      <td>True</td>\n      <td>VARCHAR(200)</td>\n      <td>None</td>\n    </tr>\n    <tr>\n      <th>11</th>\n      <td>transcriptpresentationtypeid</td>\n      <td>True</td>\n      <td>DOUBLE_PRECISION</td>\n      <td>None</td>\n    </tr>\n    <tr>\n      <th>12</th>\n      <td>transcriptpresentationtypename</td>\n      <td>True</td>\n      <td>VARCHAR(200)</td>\n      <td>None</td>\n    </tr>\n    <tr>\n      <th>13</th>\n      <td>transcriptcreationdate_utc</td>\n      <td>True</td>\n      <td>DATE</td>\n      <td>None</td>\n    </tr>\n    <tr>\n      <th>14</th>\n      <td>transcriptcreationtime_utc</td>\n      <td>True</td>\n      <td>DOUBLE_PRECISION</td>\n      <td>None</td>\n    </tr>\n    <tr>\n      <th>15</th>\n      <td>audiolengthsec</td>\n      <td>True</td>\n      <td>DOUBLE_PRECISION</td>\n      <td>None</td>\n    </tr>\n    <tr>\n      <th>16</th>\n      <td>isdelayed_flag</td>\n      <td>True</td>\n      <td>DOUBLE_PRECISION</td>\n      <td>None</td>\n    </tr>\n    <tr>\n      <th>17</th>\n      <td>delayreasontypeid</td>\n      <td>True</td>\n      <td>DOUBLE_PRECISION</td>\n      <td>None</td>\n    </tr>\n    <tr>\n      <th>18</th>\n      <td>delayreasontypename</td>\n      <td>True</td>\n      <td>VARCHAR(600)</td>\n      <td>None</td>\n    </tr>\n  </tbody>\n</table>\n</div>"
     },
     "execution_count": 31,
     "metadata": {},
     "output_type": "execute_result"
    }
   ],
   "source": [
    "db.describe_table(library = \"ciq\", table = \"wrds_transcript_detail\")"
   ]
  },
  {
   "cell_type": "code",
   "execution_count": 32,
   "id": "e9e16048",
   "metadata": {},
   "outputs": [
    {
     "name": "stdout",
     "output_type": "stream",
     "text": [
      "Approximately 75881768 rows in ciq.wrds_transcript_person.\n"
     ]
    },
    {
     "data": {
      "text/plain": "                           name  nullable              type comment\n0                  transcriptid      True  DOUBLE_PRECISION    None\n1         transcriptcomponentid      True  DOUBLE_PRECISION    None\n2                componentorder      True  DOUBLE_PRECISION    None\n3     transcriptcomponenttypeid      True  DOUBLE_PRECISION    None\n4   transcriptcomponenttypename      True      VARCHAR(400)    None\n5            transcriptpersonid      True  DOUBLE_PRECISION    None\n6          transcriptpersonname      True      VARCHAR(800)    None\n7                         proid      True  DOUBLE_PRECISION    None\n8               companyofperson      True      VARCHAR(800)    None\n9                 speakertypeid      True  DOUBLE_PRECISION    None\n10              speakertypename      True       VARCHAR(80)    None\n11         componenttextpreview      True      VARCHAR(255)    None\n12                   word_count      True  DOUBLE_PRECISION    None",
      "text/html": "<div>\n<style scoped>\n    .dataframe tbody tr th:only-of-type {\n        vertical-align: middle;\n    }\n\n    .dataframe tbody tr th {\n        vertical-align: top;\n    }\n\n    .dataframe thead th {\n        text-align: right;\n    }\n</style>\n<table border=\"1\" class=\"dataframe\">\n  <thead>\n    <tr style=\"text-align: right;\">\n      <th></th>\n      <th>name</th>\n      <th>nullable</th>\n      <th>type</th>\n      <th>comment</th>\n    </tr>\n  </thead>\n  <tbody>\n    <tr>\n      <th>0</th>\n      <td>transcriptid</td>\n      <td>True</td>\n      <td>DOUBLE_PRECISION</td>\n      <td>None</td>\n    </tr>\n    <tr>\n      <th>1</th>\n      <td>transcriptcomponentid</td>\n      <td>True</td>\n      <td>DOUBLE_PRECISION</td>\n      <td>None</td>\n    </tr>\n    <tr>\n      <th>2</th>\n      <td>componentorder</td>\n      <td>True</td>\n      <td>DOUBLE_PRECISION</td>\n      <td>None</td>\n    </tr>\n    <tr>\n      <th>3</th>\n      <td>transcriptcomponenttypeid</td>\n      <td>True</td>\n      <td>DOUBLE_PRECISION</td>\n      <td>None</td>\n    </tr>\n    <tr>\n      <th>4</th>\n      <td>transcriptcomponenttypename</td>\n      <td>True</td>\n      <td>VARCHAR(400)</td>\n      <td>None</td>\n    </tr>\n    <tr>\n      <th>5</th>\n      <td>transcriptpersonid</td>\n      <td>True</td>\n      <td>DOUBLE_PRECISION</td>\n      <td>None</td>\n    </tr>\n    <tr>\n      <th>6</th>\n      <td>transcriptpersonname</td>\n      <td>True</td>\n      <td>VARCHAR(800)</td>\n      <td>None</td>\n    </tr>\n    <tr>\n      <th>7</th>\n      <td>proid</td>\n      <td>True</td>\n      <td>DOUBLE_PRECISION</td>\n      <td>None</td>\n    </tr>\n    <tr>\n      <th>8</th>\n      <td>companyofperson</td>\n      <td>True</td>\n      <td>VARCHAR(800)</td>\n      <td>None</td>\n    </tr>\n    <tr>\n      <th>9</th>\n      <td>speakertypeid</td>\n      <td>True</td>\n      <td>DOUBLE_PRECISION</td>\n      <td>None</td>\n    </tr>\n    <tr>\n      <th>10</th>\n      <td>speakertypename</td>\n      <td>True</td>\n      <td>VARCHAR(80)</td>\n      <td>None</td>\n    </tr>\n    <tr>\n      <th>11</th>\n      <td>componenttextpreview</td>\n      <td>True</td>\n      <td>VARCHAR(255)</td>\n      <td>None</td>\n    </tr>\n    <tr>\n      <th>12</th>\n      <td>word_count</td>\n      <td>True</td>\n      <td>DOUBLE_PRECISION</td>\n      <td>None</td>\n    </tr>\n  </tbody>\n</table>\n</div>"
     },
     "execution_count": 32,
     "metadata": {},
     "output_type": "execute_result"
    }
   ],
   "source": [
    "db.describe_table(library = \"ciq\", table = \"wrds_transcript_person\")"
   ]
  },
  {
   "cell_type": "code",
   "execution_count": 33,
   "id": "4bfdf86a",
   "metadata": {},
   "outputs": [
    {
     "name": "stdout",
     "output_type": "stream",
     "text": [
      "Approximately 75972808 rows in ciq.ciqtranscriptcomponent.\n"
     ]
    },
    {
     "data": {
      "text/plain": "                        name  nullable      type comment\n0      transcriptcomponentid      True   INTEGER    None\n1               transcriptid      True   INTEGER    None\n2             componentorder      True  SMALLINT    None\n3  transcriptcomponenttypeid      True  SMALLINT    None\n4         transcriptpersonid      True   INTEGER    None\n5              componenttext      True   VARCHAR    None",
      "text/html": "<div>\n<style scoped>\n    .dataframe tbody tr th:only-of-type {\n        vertical-align: middle;\n    }\n\n    .dataframe tbody tr th {\n        vertical-align: top;\n    }\n\n    .dataframe thead th {\n        text-align: right;\n    }\n</style>\n<table border=\"1\" class=\"dataframe\">\n  <thead>\n    <tr style=\"text-align: right;\">\n      <th></th>\n      <th>name</th>\n      <th>nullable</th>\n      <th>type</th>\n      <th>comment</th>\n    </tr>\n  </thead>\n  <tbody>\n    <tr>\n      <th>0</th>\n      <td>transcriptcomponentid</td>\n      <td>True</td>\n      <td>INTEGER</td>\n      <td>None</td>\n    </tr>\n    <tr>\n      <th>1</th>\n      <td>transcriptid</td>\n      <td>True</td>\n      <td>INTEGER</td>\n      <td>None</td>\n    </tr>\n    <tr>\n      <th>2</th>\n      <td>componentorder</td>\n      <td>True</td>\n      <td>SMALLINT</td>\n      <td>None</td>\n    </tr>\n    <tr>\n      <th>3</th>\n      <td>transcriptcomponenttypeid</td>\n      <td>True</td>\n      <td>SMALLINT</td>\n      <td>None</td>\n    </tr>\n    <tr>\n      <th>4</th>\n      <td>transcriptpersonid</td>\n      <td>True</td>\n      <td>INTEGER</td>\n      <td>None</td>\n    </tr>\n    <tr>\n      <th>5</th>\n      <td>componenttext</td>\n      <td>True</td>\n      <td>VARCHAR</td>\n      <td>None</td>\n    </tr>\n  </tbody>\n</table>\n</div>"
     },
     "execution_count": 33,
     "metadata": {},
     "output_type": "execute_result"
    }
   ],
   "source": [
    "db.describe_table(library = \"ciq\", table = \"ciqtranscriptcomponent\")"
   ]
  },
  {
   "cell_type": "code",
   "execution_count": 34,
   "id": "0c021bbe",
   "metadata": {},
   "outputs": [],
   "source": [
    "CIQ_list = tuple(CIQ['companyid'])"
   ]
  },
  {
   "cell_type": "code",
   "execution_count": 35,
   "id": "26a6ba1c",
   "metadata": {},
   "outputs": [],
   "source": [
    "def WRDSpuller(year, CIQ = CIQ_list):\n",
    "    # Create a sql query string\n",
    "    sql_query = '''SELECT a.companyid, a.transcriptid, a.headline, a.mostimportantdateutc, a.companyname, \n",
    "    b.word_count, c.componenttext FROM'''\n",
    "    sql_query += f'(SELECT * FROM ciq.wrds_transcript_detail WHERE companyid in {CIQ}'\n",
    "    sql_query += '''and date_part('year',mostimportantdateutc)='''\n",
    "    sql_query += f'{year}'\n",
    "    sql_query += ''' and keydeveventtypename = 'Earnings Calls')  as a, ciq.wrds_transcript_person as b, ciq.ciqtranscriptcomponent as c WHERE a.transcriptid=b.transcriptid and b.transcriptcomponentid=c.transcriptcomponentid\n",
    "    ORDER by a.transcriptid, b.componentorder'''\n",
    "    # Run query,  result in Pandas dataframe format\n",
    "    transcripts = db.raw_sql(sql_query)\n",
    "    transcripts.to_pickle(f'S&P{year}.pkl')\n",
    "    return transcripts"
   ]
  },
  {
   "cell_type": "code",
   "execution_count": 17,
   "id": "f7fabd7f",
   "metadata": {},
   "outputs": [
    {
     "data": {
      "text/plain": "       companyid  transcriptid  \\\n0       890498.0      400010.0   \n1       890498.0      400010.0   \n2       890498.0      400010.0   \n3       890498.0      400010.0   \n4       890498.0      400010.0   \n...          ...           ...   \n15611   317627.0     2520890.0   \n15612   317627.0     2520890.0   \n15613   317627.0     2520890.0   \n15614   317627.0     2520890.0   \n15615   317627.0     2520890.0   \n\n                                                headline mostimportantdateutc  \\\n0      The Mosaic Company, Q2 2013 Earnings Call, Jan...           2013-01-04   \n1      The Mosaic Company, Q2 2013 Earnings Call, Jan...           2013-01-04   \n2      The Mosaic Company, Q2 2013 Earnings Call, Jan...           2013-01-04   \n3      The Mosaic Company, Q2 2013 Earnings Call, Jan...           2013-01-04   \n4      The Mosaic Company, Q2 2013 Earnings Call, Jan...           2013-01-04   \n...                                                  ...                  ...   \n15611  Boston Scientific Corporation, Q3 2013 Earning...           2013-10-24   \n15612  Boston Scientific Corporation, Q3 2013 Earning...           2013-10-24   \n15613  Boston Scientific Corporation, Q3 2013 Earning...           2013-10-24   \n15614  Boston Scientific Corporation, Q3 2013 Earning...           2013-10-24   \n15615  Boston Scientific Corporation, Q3 2013 Earning...           2013-10-24   \n\n                         companyname  word_count  \\\n0                 The Mosaic Company        36.0   \n1                 The Mosaic Company       196.0   \n2                 The Mosaic Company      1739.0   \n3                 The Mosaic Company       586.0   \n4                 The Mosaic Company       410.0   \n...                              ...         ...   \n15611  Boston Scientific Corporation       178.0   \n15612  Boston Scientific Corporation        41.0   \n15613  Boston Scientific Corporation        36.0   \n15614  Boston Scientific Corporation        40.0   \n15615  Boston Scientific Corporation        72.0   \n\n                                           componenttext  \n0      Good morning, ladies and gentlemen, and welcom...  \n1      Thank you, and welcome to our second quarter f...  \n2      Good morning. And we at Mosaic wish you, all, ...  \n3      Thank you, Jim, and good morning, everyone. As...  \n4      Thank you, Larry. Global agriculture experienc...  \n...                                                  ...  \n15611  Yes. We thought it was important to support th...  \n15612  And just one quick question on Vessix. Can you...  \n15613  We are not publicizing the details of the IDE ...  \n15614  Okay. With that, we would like to conclude the...  \n15615  Ladies and gentlemen, this conference will be ...  \n\n[515616 rows x 7 columns]",
      "text/html": "<div>\n<style scoped>\n    .dataframe tbody tr th:only-of-type {\n        vertical-align: middle;\n    }\n\n    .dataframe tbody tr th {\n        vertical-align: top;\n    }\n\n    .dataframe thead th {\n        text-align: right;\n    }\n</style>\n<table border=\"1\" class=\"dataframe\">\n  <thead>\n    <tr style=\"text-align: right;\">\n      <th></th>\n      <th>companyid</th>\n      <th>transcriptid</th>\n      <th>headline</th>\n      <th>mostimportantdateutc</th>\n      <th>companyname</th>\n      <th>word_count</th>\n      <th>componenttext</th>\n    </tr>\n  </thead>\n  <tbody>\n    <tr>\n      <th>0</th>\n      <td>890498.0</td>\n      <td>400010.0</td>\n      <td>The Mosaic Company, Q2 2013 Earnings Call, Jan...</td>\n      <td>2013-01-04</td>\n      <td>The Mosaic Company</td>\n      <td>36.0</td>\n      <td>Good morning, ladies and gentlemen, and welcom...</td>\n    </tr>\n    <tr>\n      <th>1</th>\n      <td>890498.0</td>\n      <td>400010.0</td>\n      <td>The Mosaic Company, Q2 2013 Earnings Call, Jan...</td>\n      <td>2013-01-04</td>\n      <td>The Mosaic Company</td>\n      <td>196.0</td>\n      <td>Thank you, and welcome to our second quarter f...</td>\n    </tr>\n    <tr>\n      <th>2</th>\n      <td>890498.0</td>\n      <td>400010.0</td>\n      <td>The Mosaic Company, Q2 2013 Earnings Call, Jan...</td>\n      <td>2013-01-04</td>\n      <td>The Mosaic Company</td>\n      <td>1739.0</td>\n      <td>Good morning. And we at Mosaic wish you, all, ...</td>\n    </tr>\n    <tr>\n      <th>3</th>\n      <td>890498.0</td>\n      <td>400010.0</td>\n      <td>The Mosaic Company, Q2 2013 Earnings Call, Jan...</td>\n      <td>2013-01-04</td>\n      <td>The Mosaic Company</td>\n      <td>586.0</td>\n      <td>Thank you, Jim, and good morning, everyone. As...</td>\n    </tr>\n    <tr>\n      <th>4</th>\n      <td>890498.0</td>\n      <td>400010.0</td>\n      <td>The Mosaic Company, Q2 2013 Earnings Call, Jan...</td>\n      <td>2013-01-04</td>\n      <td>The Mosaic Company</td>\n      <td>410.0</td>\n      <td>Thank you, Larry. Global agriculture experienc...</td>\n    </tr>\n    <tr>\n      <th>...</th>\n      <td>...</td>\n      <td>...</td>\n      <td>...</td>\n      <td>...</td>\n      <td>...</td>\n      <td>...</td>\n      <td>...</td>\n    </tr>\n    <tr>\n      <th>15611</th>\n      <td>317627.0</td>\n      <td>2520890.0</td>\n      <td>Boston Scientific Corporation, Q3 2013 Earning...</td>\n      <td>2013-10-24</td>\n      <td>Boston Scientific Corporation</td>\n      <td>178.0</td>\n      <td>Yes. We thought it was important to support th...</td>\n    </tr>\n    <tr>\n      <th>15612</th>\n      <td>317627.0</td>\n      <td>2520890.0</td>\n      <td>Boston Scientific Corporation, Q3 2013 Earning...</td>\n      <td>2013-10-24</td>\n      <td>Boston Scientific Corporation</td>\n      <td>41.0</td>\n      <td>And just one quick question on Vessix. Can you...</td>\n    </tr>\n    <tr>\n      <th>15613</th>\n      <td>317627.0</td>\n      <td>2520890.0</td>\n      <td>Boston Scientific Corporation, Q3 2013 Earning...</td>\n      <td>2013-10-24</td>\n      <td>Boston Scientific Corporation</td>\n      <td>36.0</td>\n      <td>We are not publicizing the details of the IDE ...</td>\n    </tr>\n    <tr>\n      <th>15614</th>\n      <td>317627.0</td>\n      <td>2520890.0</td>\n      <td>Boston Scientific Corporation, Q3 2013 Earning...</td>\n      <td>2013-10-24</td>\n      <td>Boston Scientific Corporation</td>\n      <td>40.0</td>\n      <td>Okay. With that, we would like to conclude the...</td>\n    </tr>\n    <tr>\n      <th>15615</th>\n      <td>317627.0</td>\n      <td>2520890.0</td>\n      <td>Boston Scientific Corporation, Q3 2013 Earning...</td>\n      <td>2013-10-24</td>\n      <td>Boston Scientific Corporation</td>\n      <td>72.0</td>\n      <td>Ladies and gentlemen, this conference will be ...</td>\n    </tr>\n  </tbody>\n</table>\n<p>515616 rows × 7 columns</p>\n</div>"
     },
     "execution_count": 17,
     "metadata": {},
     "output_type": "execute_result"
    }
   ],
   "source": [
    "transcripts_2013 = WRDSpuller(2013)\n",
    "transcripts_2013 #can delete"
   ]
  },
  {
   "cell_type": "code",
   "execution_count": 18,
   "id": "d2512bf1",
   "metadata": {},
   "outputs": [
    {
     "data": {
      "text/plain": "       companyid  transcriptid  \\\n0       289030.0      565393.0   \n1       289030.0      565393.0   \n2       289030.0      565393.0   \n3       289030.0      565393.0   \n4       289030.0      565393.0   \n...          ...           ...   \n11398   319404.0     2511489.0   \n11399   319404.0     2511489.0   \n11400   319404.0     2511489.0   \n11401   319404.0     2511489.0   \n11402   319404.0     2511489.0   \n\n                                                headline mostimportantdateutc  \\\n0      Micron Technology Inc., Q1 2014 Earnings Call,...           2014-01-07   \n1      Micron Technology Inc., Q1 2014 Earnings Call,...           2014-01-07   \n2      Micron Technology Inc., Q1 2014 Earnings Call,...           2014-01-07   \n3      Micron Technology Inc., Q1 2014 Earnings Call,...           2014-01-07   \n4      Micron Technology Inc., Q1 2014 Earnings Call,...           2014-01-07   \n...                                                  ...                  ...   \n11398  Old Dominion Freight Line Inc., Q3 2014 Earnin...           2014-10-30   \n11399  Old Dominion Freight Line Inc., Q3 2014 Earnin...           2014-10-30   \n11400  Old Dominion Freight Line Inc., Q3 2014 Earnin...           2014-10-30   \n11401  Old Dominion Freight Line Inc., Q3 2014 Earnin...           2014-10-30   \n11402  Old Dominion Freight Line Inc., Q3 2014 Earnin...           2014-10-30   \n\n                           companyname  word_count  \\\n0              Micron Technology, Inc.        57.0   \n1              Micron Technology, Inc.       211.0   \n2              Micron Technology, Inc.       175.0   \n3              Micron Technology, Inc.        14.0   \n4              Micron Technology, Inc.       690.0   \n...                                ...         ...   \n11398  Old Dominion Freight Line, Inc.        23.0   \n11399  Old Dominion Freight Line, Inc.        73.0   \n11400  Old Dominion Freight Line, Inc.        21.0   \n11401  Old Dominion Freight Line, Inc.        46.0   \n11402  Old Dominion Freight Line, Inc.        12.0   \n\n                                           componenttext  \n0      Good afternoon. My name is Saeed, and I'll be ...  \n1      Thank you very much, and welcome to Micron Tec...  \n2      During the course of this meeting, we may make...  \n3      And now I'd like to turn the call over to Mark...  \n4      Thanks, Kipp. I'd like to start today with an ...  \n...                                                  ...  \n11398  So the conclusion is the acceleration in LTL v...  \n11399  No, not at all. We're -- we focus on all of th...  \n11400  And with no further questions, I'd like to tur...  \n11401  Ladies and gentlemen, as we thank you for your...  \n11402  And this does conclude today's conference. Tha...  \n\n[511403 rows x 7 columns]",
      "text/html": "<div>\n<style scoped>\n    .dataframe tbody tr th:only-of-type {\n        vertical-align: middle;\n    }\n\n    .dataframe tbody tr th {\n        vertical-align: top;\n    }\n\n    .dataframe thead th {\n        text-align: right;\n    }\n</style>\n<table border=\"1\" class=\"dataframe\">\n  <thead>\n    <tr style=\"text-align: right;\">\n      <th></th>\n      <th>companyid</th>\n      <th>transcriptid</th>\n      <th>headline</th>\n      <th>mostimportantdateutc</th>\n      <th>companyname</th>\n      <th>word_count</th>\n      <th>componenttext</th>\n    </tr>\n  </thead>\n  <tbody>\n    <tr>\n      <th>0</th>\n      <td>289030.0</td>\n      <td>565393.0</td>\n      <td>Micron Technology Inc., Q1 2014 Earnings Call,...</td>\n      <td>2014-01-07</td>\n      <td>Micron Technology, Inc.</td>\n      <td>57.0</td>\n      <td>Good afternoon. My name is Saeed, and I'll be ...</td>\n    </tr>\n    <tr>\n      <th>1</th>\n      <td>289030.0</td>\n      <td>565393.0</td>\n      <td>Micron Technology Inc., Q1 2014 Earnings Call,...</td>\n      <td>2014-01-07</td>\n      <td>Micron Technology, Inc.</td>\n      <td>211.0</td>\n      <td>Thank you very much, and welcome to Micron Tec...</td>\n    </tr>\n    <tr>\n      <th>2</th>\n      <td>289030.0</td>\n      <td>565393.0</td>\n      <td>Micron Technology Inc., Q1 2014 Earnings Call,...</td>\n      <td>2014-01-07</td>\n      <td>Micron Technology, Inc.</td>\n      <td>175.0</td>\n      <td>During the course of this meeting, we may make...</td>\n    </tr>\n    <tr>\n      <th>3</th>\n      <td>289030.0</td>\n      <td>565393.0</td>\n      <td>Micron Technology Inc., Q1 2014 Earnings Call,...</td>\n      <td>2014-01-07</td>\n      <td>Micron Technology, Inc.</td>\n      <td>14.0</td>\n      <td>And now I'd like to turn the call over to Mark...</td>\n    </tr>\n    <tr>\n      <th>4</th>\n      <td>289030.0</td>\n      <td>565393.0</td>\n      <td>Micron Technology Inc., Q1 2014 Earnings Call,...</td>\n      <td>2014-01-07</td>\n      <td>Micron Technology, Inc.</td>\n      <td>690.0</td>\n      <td>Thanks, Kipp. I'd like to start today with an ...</td>\n    </tr>\n    <tr>\n      <th>...</th>\n      <td>...</td>\n      <td>...</td>\n      <td>...</td>\n      <td>...</td>\n      <td>...</td>\n      <td>...</td>\n      <td>...</td>\n    </tr>\n    <tr>\n      <th>11398</th>\n      <td>319404.0</td>\n      <td>2511489.0</td>\n      <td>Old Dominion Freight Line Inc., Q3 2014 Earnin...</td>\n      <td>2014-10-30</td>\n      <td>Old Dominion Freight Line, Inc.</td>\n      <td>23.0</td>\n      <td>So the conclusion is the acceleration in LTL v...</td>\n    </tr>\n    <tr>\n      <th>11399</th>\n      <td>319404.0</td>\n      <td>2511489.0</td>\n      <td>Old Dominion Freight Line Inc., Q3 2014 Earnin...</td>\n      <td>2014-10-30</td>\n      <td>Old Dominion Freight Line, Inc.</td>\n      <td>73.0</td>\n      <td>No, not at all. We're -- we focus on all of th...</td>\n    </tr>\n    <tr>\n      <th>11400</th>\n      <td>319404.0</td>\n      <td>2511489.0</td>\n      <td>Old Dominion Freight Line Inc., Q3 2014 Earnin...</td>\n      <td>2014-10-30</td>\n      <td>Old Dominion Freight Line, Inc.</td>\n      <td>21.0</td>\n      <td>And with no further questions, I'd like to tur...</td>\n    </tr>\n    <tr>\n      <th>11401</th>\n      <td>319404.0</td>\n      <td>2511489.0</td>\n      <td>Old Dominion Freight Line Inc., Q3 2014 Earnin...</td>\n      <td>2014-10-30</td>\n      <td>Old Dominion Freight Line, Inc.</td>\n      <td>46.0</td>\n      <td>Ladies and gentlemen, as we thank you for your...</td>\n    </tr>\n    <tr>\n      <th>11402</th>\n      <td>319404.0</td>\n      <td>2511489.0</td>\n      <td>Old Dominion Freight Line Inc., Q3 2014 Earnin...</td>\n      <td>2014-10-30</td>\n      <td>Old Dominion Freight Line, Inc.</td>\n      <td>12.0</td>\n      <td>And this does conclude today's conference. Tha...</td>\n    </tr>\n  </tbody>\n</table>\n<p>511403 rows × 7 columns</p>\n</div>"
     },
     "execution_count": 18,
     "metadata": {},
     "output_type": "execute_result"
    }
   ],
   "source": [
    "transcripts_2014 = WRDSpuller(2014)\n",
    "transcripts_2014 # can delete"
   ]
  },
  {
   "cell_type": "code",
   "execution_count": 19,
   "id": "52ce9eb6",
   "metadata": {},
   "outputs": [
    {
     "name": "stdout",
     "output_type": "stream",
     "text": [
      "Successfully pulled out for year 2016\n",
      "Successfully pulled out for year 2017\n",
      "Successfully pulled out for year 2018\n",
      "Successfully pulled out for year 2019\n",
      "Successfully pulled out for year 2020\n",
      "Successfully pulled out for year 2021\n",
      "Successfully pulled out for year 2022\n",
      "Successfully pulled out for year 2023\n"
     ]
    }
   ],
   "source": [
    "for i in range(2012, 2024):\n",
    "    year_variable = \"WRDSpuller_\" + str(i)\n",
    "    exec(year_variable + \" = WRDSpuller(i)\")\n",
    "    print(\"Successfully pulled out for year\", i)"
   ]
  },
  {
   "cell_type": "code",
   "execution_count": 36,
   "id": "899bb599",
   "metadata": {},
   "outputs": [
    {
     "name": "stdout",
     "output_type": "stream",
     "text": [
      "Successfully pulled out for year 2003\n",
      "Successfully pulled out for year 2004\n",
      "Successfully pulled out for year 2005\n",
      "Successfully pulled out for year 2006\n",
      "Successfully pulled out for year 2007\n",
      "Successfully pulled out for year 2008\n",
      "Successfully pulled out for year 2009\n",
      "Successfully pulled out for year 2010\n",
      "Successfully pulled out for year 2011\n"
     ]
    }
   ],
   "source": [
    "for i in range(2003, 2013):\n",
    "    year_variable = \"WRDSpuller_\" + str(i)\n",
    "    exec(year_variable + \" = WRDSpuller(i)\")\n",
    "    print(\"Successfully pulled out for year\", i)"
   ]
  },
  {
   "cell_type": "code",
   "execution_count": null,
   "outputs": [],
   "source": [
    "transcripts_2013 = WRDSpuller(2013)\n",
    "transcripts_2013 # can delete"
   ],
   "metadata": {
    "collapsed": false
   }
  }
 ],
 "metadata": {
  "kernelspec": {
   "display_name": "Python 3 (ipykernel)",
   "language": "python",
   "name": "python3"
  },
  "language_info": {
   "codemirror_mode": {
    "name": "ipython",
    "version": 3
   },
   "file_extension": ".py",
   "mimetype": "text/x-python",
   "name": "python",
   "nbconvert_exporter": "python",
   "pygments_lexer": "ipython3",
   "version": "3.10.10"
  }
 },
 "nbformat": 4,
 "nbformat_minor": 5
}
