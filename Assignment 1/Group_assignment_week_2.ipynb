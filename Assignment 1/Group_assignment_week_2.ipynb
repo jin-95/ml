{
 "nbformat": 4,
 "nbformat_minor": 0,
 "metadata": {
  "colab": {
   "provenance": []
  },
  "kernelspec": {
   "name": "python3",
   "display_name": "Python 3"
  },
  "language_info": {
   "name": "python"
  }
 },
 "cells": [
  {
   "cell_type": "markdown",
   "source": [
    "## Generate synthetic data for linear regression\n",
    "\n",
    "Create a function that generates a synthetic dataset for linear regression. The function should take the number of samples, the slope, the intercept, and noise as arguments, and return a NumPy array of input values (X) and corresponding output values (Y)."
   ],
   "metadata": {
    "id": "fm7qH8v5aVE1"
   }
  },
  {
   "cell_type": "markdown",
   "source": [
    "$Y=\\beta_{0}+\\beta_{1}X+\\epsilon$"
   ],
   "metadata": {
    "collapsed": false
   }
  },
  {
   "cell_type": "code",
   "source": [
    "import numpy as np\n",
    "\n",
    "def generate_synthetic_data(n_samples, slope, intercept, noise_std_dev,seed_value):\n",
    "    # Generate X values as a column vector\n",
    "    np.random.seed(seed_value)\n",
    "    X = np.random.rand(n_samples, 1)\n",
    "    # Generate error terms as a column vector\n",
    "    epsilon=np.random.randn(n_samples, 1)\n",
    "\n",
    "    # Generate Y values with noise\n",
    "    Y = slope * X + intercept + noise_std_dev *epsilon\n",
    "\n",
    "    # Return X and Y as a numpy array\n",
    "    return X,Y"
   ],
   "metadata": {
    "id": "D6FjrDAHb9Pz"
   },
   "execution_count": 1,
   "outputs": []
  },
  {
   "cell_type": "code",
   "execution_count": 2,
   "outputs": [],
   "source": [
    "#create a data of 100 observations\n",
    "X, Y = generate_synthetic_data(100, 2, 5, 1,2023)"
   ],
   "metadata": {
    "collapsed": false
   }
  },
  {
   "cell_type": "markdown",
   "source": [
    "## Implement simple linear regression using the normal equation\n",
    "\n",
    "Implement simple linear regression using the normal equation, and fit a model to the synthetic data generated in Exercise 1."
   ],
   "metadata": {
    "id": "wBSgJ45xa7uk"
   }
  },
  {
   "cell_type": "code",
   "source": [
    "def normal_equation(X, Y):\n",
    "    #add constant term for X\n",
    "    X = np.hstack((np.ones((X.shape[0], 1)), X))\n",
    "    #closed form solution\n",
    "    coefficients= np.linalg.inv(X.T@X)@(X.T@Y)\n",
    "    alpha=round(coefficients[0][0],4)\n",
    "    beta=round(coefficients[1:][0][0],4)\n",
    "    return alpha,beta"
   ],
   "metadata": {
    "id": "scqrYzrHanYd"
   },
   "execution_count": 3,
   "outputs": []
  },
  {
   "cell_type": "code",
   "execution_count": 4,
   "outputs": [
    {
     "name": "stdout",
     "output_type": "stream",
     "text": [
      "4.8741\n",
      "2.2771\n"
     ]
    }
   ],
   "source": [
    "intercept_estimate,slope_estimate = normal_equation(X, Y)\n",
    "print(intercept_estimate,slope_estimate,sep='\\n')"
   ],
   "metadata": {
    "collapsed": false
   }
  },
  {
   "cell_type": "markdown",
   "source": [
    "## Use scikit-learn for linear regression\n",
    "\n",
    "Use the scikit-learn library to fit a linear regression model to the synthetic data generated in Exercise 1, and compare the results with the models obtained in Exercises 2."
   ],
   "metadata": {
    "id": "Bzit6j8NbG_P"
   }
  },
  {
   "cell_type": "code",
   "execution_count": 5,
   "outputs": [],
   "source": [
    "from sklearn.linear_model import LinearRegression\n",
    "\n",
    "def sklearn_linear_regression(X, Y):\n",
    "    # Your code here\n",
    "    reg = LinearRegression().fit(X, Y)\n",
    "    intercept_estimate = reg.intercept_[0].round(4)\n",
    "    slope_estimate = reg.coef_[0][0].round(4)\n",
    "    Y_pred=reg.predict(X)\n",
    "    return intercept_estimate, slope_estimate,Y_pred\n"
   ],
   "metadata": {
    "collapsed": false
   }
  },
  {
   "cell_type": "code",
   "execution_count": 6,
   "outputs": [
    {
     "name": "stdout",
     "output_type": "stream",
     "text": [
      "4.8741\n",
      "2.2771\n"
     ]
    }
   ],
   "source": [
    "intercept_estimate_sklearn, slope_estimate_sklearn,Y_pred_sklearn = sklearn_linear_regression(X, Y)\n",
    "print(intercept_estimate_sklearn,slope_estimate_sklearn,sep='\\n')\n",
    "#sk learn provides same answer as closed form solution"
   ],
   "metadata": {
    "collapsed": false
   }
  },
  {
   "cell_type": "markdown",
   "source": [
    "## Evaluate model performance\n",
    "\n",
    "Create a function that calculates the Mean Squared Error (MSE) and R-squared score for a given set of true output values (Y) and predicted output values (Y_pred)."
   ],
   "metadata": {
    "id": "1nlK3--wbYqr"
   }
  },
  {
   "cell_type": "code",
   "source": [
    "from sklearn import metrics\n",
    "\n",
    "def evaluate_model(Y, Y_pred):\n",
    "\n",
    "    mse = metrics.mean_squared_error(Y, Y_pred).round(4)\n",
    "    #rmse = np.sqrt(metrics.mean_squared_error(Y, Y_pred))\n",
    "    r2=metrics.r2_score(Y,Y_pred).round(4)\n",
    "    return mse, r2"
   ],
   "metadata": {
    "id": "yBJx2708bVXL"
   },
   "execution_count": 7,
   "outputs": []
  },
  {
   "cell_type": "code",
   "source": [
    "mse, r2 = evaluate_model(Y, Y_pred_sklearn)\n",
    "print(mse, r2,sep='\\n')"
   ],
   "metadata": {
    "id": "XEM5ZYIZbeFQ"
   },
   "execution_count": 8,
   "outputs": [
    {
     "name": "stdout",
     "output_type": "stream",
     "text": [
      "0.954\n",
      "0.2839\n"
     ]
    }
   ]
  },
  {
   "cell_type": "code",
   "execution_count": 9,
   "outputs": [],
   "source": [
    "import matplotlib.pyplot as plt\n",
    "def plot_linear_regression(X,Y_pred):\n",
    "\n",
    "    #set figure size\n",
    "    plt.figure(figsize=(12,8))\n",
    "\n",
    "    # Plot the scatter plot of X and Y\n",
    "    plt.scatter(X, Y, color='blue')\n",
    "\n",
    "    # Plot the linear regression line\n",
    "    plt.plot(X, Y_pred, color='red')\n",
    "\n",
    "    # Add axis labels and a title to the plot\n",
    "    plt.xlabel('X')\n",
    "    plt.ylabel('Y')\n",
    "    plt.title('Linear Regression')\n",
    "\n",
    "    # Show the plot\n",
    "    plt.show()"
   ],
   "metadata": {
    "collapsed": false
   }
  },
  {
   "cell_type": "code",
   "execution_count": 10,
   "outputs": [
    {
     "data": {
      "text/plain": "<Figure size 1200x800 with 1 Axes>",
      "image/png": "[encoded data removed]"
     },
     "metadata": {},
     "output_type": "display_data"
    }
   ],
   "source": [
    "#Visual Representation of Linear Regression Line\n",
    "plot_linear_regression(X, Y_pred_sklearn )"
   ],
   "metadata": {
    "collapsed": false
   }
  },
  {
   "cell_type": "code",
   "execution_count": 10,
   "outputs": [],
   "source": [],
   "metadata": {
    "collapsed": false
   }
  }
 ]
}
