{
 "cells": [
  {
   "cell_type": "markdown",
   "id": "0489c370",
   "metadata": {},
   "source": [
    "## Case Study: Advertising Data Set"
   ]
  },
  {
   "cell_type": "code",
   "execution_count": 1,
   "id": "2970b647",
   "metadata": {},
   "outputs": [],
   "source": [
    "# imports\n",
    "import numpy as np\n",
    "import pandas as pd\n",
    "import seaborn as sns\n",
    "import matplotlib.pyplot as plt\n",
    "import sklearn.preprocessing\n",
    "from sklearn.linear_model import LinearRegression\n",
    "from sklearn import metrics\n",
    "from sklearn.model_selection import train_test_split\n",
    "\n",
    "# allow plots to appear directly in the notebook\n",
    "%matplotlib inline\n",
    "sns.set()"
   ]
  },
  {
   "cell_type": "markdown",
   "id": "d2865105",
   "metadata": {},
   "source": [
    "### Read data into a DataFrame\n",
    "\n",
    "Use pandas.read_csv() to load data into a dataframe. \n",
    "\n",
    "The data can be a file on your computer or even a file from an online source."
   ]
  },
  {
   "cell_type": "code",
   "execution_count": 2,
   "id": "17955293",
   "metadata": {},
   "outputs": [],
   "source": [
    "data=pd.read_csv('Advertising.csv',index_col=0)"
   ]
  },
  {
   "cell_type": "markdown",
   "id": "1cc89c33",
   "metadata": {},
   "source": [
    "What are the input variables?\n",
    "- TV: advertising dollars spent on TV for a single product in a given market \n",
    "- Radio: advertising dollars spent on Radio\n",
    "- Newspaper: advertising dollars spent on Newspaper\n",
    "\n",
    "All above are in thousands of dollars.\n",
    "\n",
    "What is the target variable?\n",
    "- Sales: sales of a single product in a given market (in thousands of widgets)"
   ]
  },
  {
   "cell_type": "markdown",
   "id": "518b2fcd",
   "metadata": {},
   "source": [
    "### Exploratory Data Analysis"
   ]
  },
  {
   "cell_type": "markdown",
   "id": "42f7cccd",
   "metadata": {},
   "source": [
    "Show the shape of the DataFrame"
   ]
  },
  {
   "cell_type": "code",
   "execution_count": 3,
   "id": "1450ee65",
   "metadata": {},
   "outputs": [
    {
     "data": {
      "text/plain": "(200, 4)"
     },
     "execution_count": 3,
     "metadata": {},
     "output_type": "execute_result"
    }
   ],
   "source": [
    "data.shape"
   ]
  },
  {
   "cell_type": "markdown",
   "id": "65b1237d",
   "metadata": {},
   "source": [
    "Get a high level overview of the data: column name, column types and any potential missing values."
   ]
  },
  {
   "cell_type": "code",
   "execution_count": 4,
   "id": "dfd250bd",
   "metadata": {},
   "outputs": [
    {
     "name": "stdout",
     "output_type": "stream",
     "text": [
      "TV: no missing values\n",
      "Radio: no missing values\n",
      "Newspaper: no missing values\n",
      "Sales: no missing values\n"
     ]
    }
   ],
   "source": [
    "for col, missing_count in data.isna().sum().items():\n",
    "    if missing_count == 0:\n",
    "        print(f\"{col}: no missing values\")\n",
    "    else:\n",
    "        print(f\"{col}: {missing_count} missing values\")\n"
   ]
  },
  {
   "cell_type": "code",
   "execution_count": 5,
   "id": "ef566c36",
   "metadata": {},
   "outputs": [
    {
     "name": "stdout",
     "output_type": "stream",
     "text": [
      "<class 'pandas.core.frame.DataFrame'>\n",
      "Int64Index: 200 entries, 1 to 200\n",
      "Data columns (total 4 columns):\n",
      " #   Column     Non-Null Count  Dtype  \n",
      "---  ------     --------------  -----  \n",
      " 0   TV         200 non-null    float64\n",
      " 1   Radio      200 non-null    float64\n",
      " 2   Newspaper  200 non-null    float64\n",
      " 3   Sales      200 non-null    float64\n",
      "dtypes: float64(4)\n",
      "memory usage: 7.8 KB\n"
     ]
    }
   ],
   "source": [
    "data.info()"
   ]
  },
  {
   "cell_type": "markdown",
   "id": "79e251a1",
   "metadata": {},
   "source": [
    "Get a high level summary of each numerical column"
   ]
  },
  {
   "cell_type": "code",
   "execution_count": 6,
   "id": "8392589f",
   "metadata": {},
   "outputs": [
    {
     "data": {
      "text/plain": "               TV       Radio   Newspaper       Sales\ncount  200.000000  200.000000  200.000000  200.000000\nmean   147.042500   23.264000   30.554000   14.022500\nstd     85.854236   14.846809   21.778621    5.217457\nmin      0.700000    0.000000    0.300000    1.600000\n25%     74.375000    9.975000   12.750000   10.375000\n50%    149.750000   22.900000   25.750000   12.900000\n75%    218.825000   36.525000   45.100000   17.400000\nmax    296.400000   49.600000  114.000000   27.000000",
      "text/html": "<div>\n<style scoped>\n    .dataframe tbody tr th:only-of-type {\n        vertical-align: middle;\n    }\n\n    .dataframe tbody tr th {\n        vertical-align: top;\n    }\n\n    .dataframe thead th {\n        text-align: right;\n    }\n</style>\n<table border=\"1\" class=\"dataframe\">\n  <thead>\n    <tr style=\"text-align: right;\">\n      <th></th>\n      <th>TV</th>\n      <th>Radio</th>\n      <th>Newspaper</th>\n      <th>Sales</th>\n    </tr>\n  </thead>\n  <tbody>\n    <tr>\n      <th>count</th>\n      <td>200.000000</td>\n      <td>200.000000</td>\n      <td>200.000000</td>\n      <td>200.000000</td>\n    </tr>\n    <tr>\n      <th>mean</th>\n      <td>147.042500</td>\n      <td>23.264000</td>\n      <td>30.554000</td>\n      <td>14.022500</td>\n    </tr>\n    <tr>\n      <th>std</th>\n      <td>85.854236</td>\n      <td>14.846809</td>\n      <td>21.778621</td>\n      <td>5.217457</td>\n    </tr>\n    <tr>\n      <th>min</th>\n      <td>0.700000</td>\n      <td>0.000000</td>\n      <td>0.300000</td>\n      <td>1.600000</td>\n    </tr>\n    <tr>\n      <th>25%</th>\n      <td>74.375000</td>\n      <td>9.975000</td>\n      <td>12.750000</td>\n      <td>10.375000</td>\n    </tr>\n    <tr>\n      <th>50%</th>\n      <td>149.750000</td>\n      <td>22.900000</td>\n      <td>25.750000</td>\n      <td>12.900000</td>\n    </tr>\n    <tr>\n      <th>75%</th>\n      <td>218.825000</td>\n      <td>36.525000</td>\n      <td>45.100000</td>\n      <td>17.400000</td>\n    </tr>\n    <tr>\n      <th>max</th>\n      <td>296.400000</td>\n      <td>49.600000</td>\n      <td>114.000000</td>\n      <td>27.000000</td>\n    </tr>\n  </tbody>\n</table>\n</div>"
     },
     "execution_count": 6,
     "metadata": {},
     "output_type": "execute_result"
    }
   ],
   "source": [
    "data.describe()"
   ]
  },
  {
   "cell_type": "markdown",
   "id": "b93d858b",
   "metadata": {},
   "source": [
    "Any missing values or no illogical values (i.e negative quantities)? If not, this is a clean data set."
   ]
  },
  {
   "cell_type": "markdown",
   "id": "99f1a2b2",
   "metadata": {},
   "source": [
    "### Simple Linear Regression"
   ]
  },
  {
   "cell_type": "markdown",
   "id": "ac0f3dd1",
   "metadata": {},
   "source": [
    "#### Relationship between Sales and Newspaper spend\n",
    "\n",
    "$$y = \\beta_0 + \\beta_1x$$\n",
    "- $y$ is the target variable, i.e. the sales\n",
    "- $x$ corresponds to the input variable, i.e. Newspaper spend\n",
    "- $\\beta_0$ is the intercept with the y-axis\n",
    "- $\\beta_1$ is the coefficient for the input variable"
   ]
  },
  {
   "cell_type": "markdown",
   "id": "67962d6e",
   "metadata": {},
   "source": [
    "Prepare the data for linear regression - only Sales and Newspaper columns"
   ]
  },
  {
   "cell_type": "code",
   "execution_count": 7,
   "id": "493ca03a",
   "metadata": {},
   "outputs": [
    {
     "data": {
      "text/plain": "array([[69.2],\n       [45.1],\n       [69.3],\n       [58.5],\n       [58.4]])"
     },
     "metadata": {},
     "output_type": "display_data"
    },
    {
     "data": {
      "text/plain": "1    22.1\n2    10.4\n3     9.3\n4    18.5\n5    12.9\nName: Sales, dtype: float64"
     },
     "metadata": {},
     "output_type": "display_data"
    }
   ],
   "source": [
    "# create x and y\n",
    "feature_cols = ['Newspaper']\n",
    "x_orig = data.loc[:,feature_cols].values\n",
    "# feature_cols must be a list of column names, even if just 1 col\n",
    "# x for linear regression must be 2D array (x cannot be 1D flat array)\n",
    "display(x_orig[:5])\n",
    "\n",
    "y = data.loc[:,\"Sales\"]\n",
    "display(y[:5])"
   ]
  },
  {
   "cell_type": "markdown",
   "id": "05ae46a9",
   "metadata": {},
   "source": [
    "#### Use LinearRegression model \n",
    "\n",
    "Objective: minimize the **sum of squared residuals (SSR)**\n",
    "$$\n",
    "\\min~\\text{SSR} = \\min\\sum\\limits_{i=1}^nu_i^2 = \\min\\sum\\limits_{i=1}^n(y_i - \\hat{y}_i)^2. \n",
    "$$"
   ]
  },
  {
   "cell_type": "code",
   "execution_count": 8,
   "id": "ee3e3e41",
   "metadata": {},
   "outputs": [
    {
     "data": {
      "text/plain": "      TV  Radio  Newspaper  Sales\n1  230.1   37.8       69.2   22.1\n2   44.5   39.3       45.1   10.4\n3   17.2   45.9       69.3    9.3\n4  151.5   41.3       58.5   18.5\n5  180.8   10.8       58.4   12.9",
      "text/html": "<div>\n<style scoped>\n    .dataframe tbody tr th:only-of-type {\n        vertical-align: middle;\n    }\n\n    .dataframe tbody tr th {\n        vertical-align: top;\n    }\n\n    .dataframe thead th {\n        text-align: right;\n    }\n</style>\n<table border=\"1\" class=\"dataframe\">\n  <thead>\n    <tr style=\"text-align: right;\">\n      <th></th>\n      <th>TV</th>\n      <th>Radio</th>\n      <th>Newspaper</th>\n      <th>Sales</th>\n    </tr>\n  </thead>\n  <tbody>\n    <tr>\n      <th>1</th>\n      <td>230.1</td>\n      <td>37.8</td>\n      <td>69.2</td>\n      <td>22.1</td>\n    </tr>\n    <tr>\n      <th>2</th>\n      <td>44.5</td>\n      <td>39.3</td>\n      <td>45.1</td>\n      <td>10.4</td>\n    </tr>\n    <tr>\n      <th>3</th>\n      <td>17.2</td>\n      <td>45.9</td>\n      <td>69.3</td>\n      <td>9.3</td>\n    </tr>\n    <tr>\n      <th>4</th>\n      <td>151.5</td>\n      <td>41.3</td>\n      <td>58.5</td>\n      <td>18.5</td>\n    </tr>\n    <tr>\n      <th>5</th>\n      <td>180.8</td>\n      <td>10.8</td>\n      <td>58.4</td>\n      <td>12.9</td>\n    </tr>\n  </tbody>\n</table>\n</div>"
     },
     "execution_count": 8,
     "metadata": {},
     "output_type": "execute_result"
    }
   ],
   "source": [
    "data.head()"
   ]
  },
  {
   "cell_type": "code",
   "execution_count": 9,
   "id": "39315931",
   "metadata": {},
   "outputs": [
    {
     "data": {
      "text/plain": "(200, 1)"
     },
     "execution_count": 9,
     "metadata": {},
     "output_type": "execute_result"
    }
   ],
   "source": [
    "x_orig.shape"
   ]
  },
  {
   "cell_type": "code",
   "execution_count": 10,
   "id": "3811867e",
   "metadata": {},
   "outputs": [
    {
     "data": {
      "text/plain": "(200,)"
     },
     "execution_count": 10,
     "metadata": {},
     "output_type": "execute_result"
    }
   ],
   "source": [
    "y.shape"
   ]
  },
  {
   "cell_type": "code",
   "execution_count": 11,
   "id": "36052967",
   "metadata": {},
   "outputs": [
    {
     "data": {
      "text/plain": "(12.35140706927817, 0.054693098472273105)"
     },
     "execution_count": 11,
     "metadata": {},
     "output_type": "execute_result"
    }
   ],
   "source": [
    "# create LinearRegression object and fit\n",
    "def normal_equation(X, Y):\n",
    "    #add constant term for X\n",
    "    X = np.hstack((np.ones((X.shape[0], 1)), X))\n",
    "    #closed form solution\n",
    "    coefficients= np.linalg.inv(X.T@X)@(X.T@Y)\n",
    "    alpha=coefficients[0]\n",
    "    beta=coefficients[1:][0]\n",
    "    return alpha,beta\n",
    "\n",
    "# print the results\n",
    "normal_equation(x_orig,y)"
   ]
  },
  {
   "cell_type": "markdown",
   "id": "ba2899a1",
   "metadata": {},
   "source": [
    "#### Using the Model for Prediction\n",
    "\n",
    "Let's say that there were 2 new markets where the Newspaper advertising spend was **\\$100,000** and **\\$200,000**. What would we predict for the Sales in that market?\n",
    "\n",
    "$$y_1 = 12.3514 + 0.05469 \\times 100$$\n",
    "$$y_2 = 12.3514 + 0.05469 \\times 200$$\n",
    "\n",
    "\n",
    "$$y_1=17.8204$$\n",
    "$$y_2=23.2894$$"
   ]
  },
  {
   "cell_type": "code",
   "execution_count": 12,
   "id": "c011a03a",
   "metadata": {},
   "outputs": [
    {
     "data": {
      "text/plain": "(2, 2)"
     },
     "execution_count": 12,
     "metadata": {},
     "output_type": "execute_result"
    }
   ],
   "source": [
    "newspaper_spending=np.array([[1,1],[100,200]]).T\n",
    "newspaper_spending.shape"
   ]
  },
  {
   "cell_type": "code",
   "execution_count": 13,
   "id": "e5d35f93",
   "metadata": {},
   "outputs": [
    {
     "data": {
      "text/plain": "array([[12.35140707],\n       [ 0.0546931 ]])"
     },
     "execution_count": 13,
     "metadata": {},
     "output_type": "execute_result"
    }
   ],
   "source": [
    "np.array(normal_equation(x_orig,y)).reshape(2,1)"
   ]
  },
  {
   "cell_type": "code",
   "execution_count": 14,
   "id": "a8377e48",
   "metadata": {},
   "outputs": [
    {
     "name": "stdout",
     "output_type": "stream",
     "text": [
      "[17.82071692 23.29002676]\n"
     ]
    }
   ],
   "source": [
    "sales_spending=newspaper_spending@np.array(normal_equation(x_orig,y))\n",
    "print(sales_spending)"
   ]
  },
  {
   "cell_type": "code",
   "execution_count": 15,
   "id": "4335a91b",
   "metadata": {},
   "outputs": [],
   "source": [
    "# x must be 2D array with multiple rows and 1 column; x cannot be 1D array\n"
   ]
  },
  {
   "cell_type": "markdown",
   "id": "0dde4d2f",
   "metadata": {},
   "source": [
    "#### How Well Does the Model Fit the data?\n",
    "Let's feed the original Newspaper column back to the trained linear model to get the predicted y value by the model"
   ]
  },
  {
   "cell_type": "code",
   "execution_count": 16,
   "id": "436052b2",
   "metadata": {},
   "outputs": [
    {
     "data": {
      "text/plain": "array([16.13616948, 14.81806581, 16.14163879, 15.55095333, 15.54548402,\n       16.45338945, 13.63669488, 12.98584701, 12.40610017, 13.51090076,\n       13.67498005, 12.57017946, 15.95568226, 12.74519738, 14.8672896 ,\n       15.24467198, 18.5864203 , 15.40328196, 13.35229077, 13.39604525,\n       15.27201853, 13.63669488, 15.06418475, 13.78436625, 13.35229077,\n       13.41792249, 13.04054011, 13.60387902, 13.60387902, 14.58288549,\n       14.71414892, 14.46256067, 13.99220002, 12.367815  , 12.756136  ,\n       12.81629841, 12.62487256, 14.85088167, 14.27113483, 14.10158622,\n       14.07970898, 14.46802998, 12.44985465, 13.79530487, 14.71961823,\n       14.07423967, 14.30395068, 13.36322939, 15.08059268, 14.36411309,\n       14.24378828, 12.54830222, 14.51725377, 15.56189195, 13.22102733,\n       15.63299298, 14.61570135, 13.2593125 , 14.41333688, 12.86005289,\n       13.52183938, 15.34311956, 13.84452866, 12.8108291 , 13.93203762,\n       12.40063086, 12.47173189, 12.90927667, 12.95303115, 13.83905935,\n       14.46802998, 14.08517829, 13.40698387, 14.06330105, 13.06788666,\n       17.24097007, 13.48355421, 13.12804907, 12.86552219, 13.61481764,\n       13.57106317, 14.3695824 , 14.12893277, 14.29848137, 14.2000338 ,\n       15.94474364, 13.22649664, 15.80801089, 16.3658805 , 15.16263233,\n       12.86005289, 14.15627932, 15.57829988, 16.30571809, 12.94756184,\n       15.24467198, 12.67409635, 13.55465524, 15.15169371, 14.86182029,\n       15.07512337, 17.86994071, 13.52183938, 13.33041353, 12.64128049,\n       15.57829988, 13.97579209, 13.62028695, 13.75155039, 12.65221911,\n       15.44156713, 13.62028695, 12.48267051, 12.93662322, 14.23831897,\n       15.23373336, 13.75155039, 13.16086493, 16.68310047, 13.57106317,\n       14.87822822, 15.10793923, 13.20461941, 13.02960149, 16.40963498,\n       13.76795832, 15.11887785, 12.85458358, 12.52642498, 14.70867961,\n       12.82723703, 14.7032103 , 12.46626258, 14.81806581, 15.93927433,\n       12.81629841, 12.86005289, 15.61658505, 13.47261559, 12.44438534,\n       13.05694804, 16.48620531, 14.4242755 , 14.23284966, 14.4789686 ,\n       12.84364496, 12.82723703, 14.77431133, 13.00225494, 13.4780849 ,\n       14.37505171, 15.01496096, 13.12804907, 14.41333688, 12.8709915 ,\n       12.66315773, 15.11340854, 13.68044936, 14.82353512, 14.24378828,\n       14.03048519, 15.04777682, 13.75155039, 12.756136  , 12.6467498 ,\n       16.98938182, 13.532778  , 13.41245318, 15.50172954, 12.7014429 ,\n       13.35776008, 14.94385994, 13.28118974, 13.05147873, 13.06788666,\n       14.63757859, 13.46167697, 14.27660414, 13.6476335 , 13.3140056 ,\n       12.80535979, 13.84999797, 13.97579209, 16.27837154, 13.99220002,\n       13.4233918 , 13.80624349, 13.34682146, 12.55377153, 13.63122557,\n       12.66862704, 12.67956566, 14.07970898, 12.54830222, 12.67956566,\n       13.10617183, 12.79442117, 12.7014429 , 15.97209019, 12.82723703])"
     },
     "execution_count": 16,
     "metadata": {},
     "output_type": "execute_result"
    }
   ],
   "source": [
    "y_pred =np.hstack((np.ones((x_orig.shape[0], 1)), x_orig))@np.array(normal_equation(x_orig,y))\n",
    "y_pred"
   ]
  },
  {
   "cell_type": "code",
   "execution_count": 19,
   "id": "4efcdb56",
   "metadata": {},
   "outputs": [],
   "source": [
    "from sklearn import metrics\n",
    "\n",
    "def evaluate_model(Y, Y_pred):\n",
    "\n",
    "    mse = metrics.mean_squared_error(Y, Y_pred).round(4)\n",
    "    rmse = np.sqrt(metrics.mean_squared_error(Y, Y_pred)).round(4)\n",
    "    r2=metrics.r2_score(Y,Y_pred).round(4)\n",
    "    return mse, rmse,r2"
   ]
  },
  {
   "cell_type": "code",
   "execution_count": 20,
   "id": "17c68486",
   "metadata": {},
   "outputs": [
    {
     "data": {
      "text/plain": "(25.674, 5.067, 0.0521)"
     },
     "execution_count": 20,
     "metadata": {},
     "output_type": "execute_result"
    }
   ],
   "source": [
    "evaluate_model(y,y_pred)"
   ]
  },
  {
   "cell_type": "markdown",
   "id": "568ad4c9",
   "metadata": {},
   "source": [
    "Use a plot to check if the prediction (linear model) fits the original data (Newspaper spend vs. Sales) well"
   ]
  },
  {
   "cell_type": "code",
   "execution_count": 21,
   "id": "df22799d",
   "metadata": {},
   "outputs": [
    {
     "data": {
      "text/plain": "<AxesSubplot:xlabel='Newspaper', ylabel='Sales'>"
     },
     "execution_count": 21,
     "metadata": {},
     "output_type": "execute_result"
    },
    {
     "data": {
      "text/plain": "<Figure size 640x480 with 1 Axes>",
      "image/png": "[encoded data removed]"
     },
     "metadata": {},
     "output_type": "display_data"
    }
   ],
   "source": [
    "# Plot the original data set on a scatterplot\n",
    "sns.scatterplot(x=data['Newspaper'], y=y)\n",
    "\n",
    "# plot the linear fit as a lineplot\n",
    "sns.lineplot(x=data['Newspaper'], y=y_pred, color=\"orange\")"
   ]
  },
  {
   "cell_type": "markdown",
   "id": "c465914e",
   "metadata": {},
   "source": [
    "#### Mean Squared Error (MSE) and Root Mean Squared Error (RMSE) "
   ]
  },
  {
   "cell_type": "code",
   "execution_count": 22,
   "id": "dfa402a3",
   "metadata": {},
   "outputs": [
    {
     "name": "stdout",
     "output_type": "stream",
     "text": [
      "25.674 5.067\n"
     ]
    }
   ],
   "source": [
    "mse,rmse,r2=evaluate_model(y,y_pred)\n",
    "print(mse,rmse)"
   ]
  },
  {
   "cell_type": "markdown",
   "id": "ae00e565",
   "metadata": {},
   "source": [
    "#### R-Squared\n",
    "\n",
    "$$\n",
    "  R^2 = 1 - \\frac{\\sum_i (y_i - \\hat{y}_i)^2}{\\sum_i (y_i - \\bar{y})^2}\n",
    "  $$\n",
    "\n"
   ]
  },
  {
   "cell_type": "code",
   "execution_count": 23,
   "id": "ab7f8983",
   "metadata": {},
   "outputs": [
    {
     "name": "stdout",
     "output_type": "stream",
     "text": [
      "0.0521\n"
     ]
    }
   ],
   "source": [
    "print(r2)"
   ]
  },
  {
   "cell_type": "markdown",
   "id": "fcdecd88",
   "metadata": {},
   "source": [
    "### Multiple Linear Regression"
   ]
  },
  {
   "cell_type": "markdown",
   "id": "1d635752",
   "metadata": {},
   "source": [
    "Let's now consider all input variables, TV, Newspaper, Radio"
   ]
  },
  {
   "cell_type": "code",
   "execution_count": 24,
   "id": "84171cec",
   "metadata": {},
   "outputs": [
    {
     "data": {
      "text/plain": "        TV  Radio  Newspaper  Sales\n1    230.1   37.8       69.2   22.1\n2     44.5   39.3       45.1   10.4\n3     17.2   45.9       69.3    9.3\n4    151.5   41.3       58.5   18.5\n5    180.8   10.8       58.4   12.9\n..     ...    ...        ...    ...\n196   38.2    3.7       13.8    7.6\n197   94.2    4.9        8.1    9.7\n198  177.0    9.3        6.4   12.8\n199  283.6   42.0       66.2   25.5\n200  232.1    8.6        8.7   13.4\n\n[200 rows x 4 columns]",
      "text/html": "<div>\n<style scoped>\n    .dataframe tbody tr th:only-of-type {\n        vertical-align: middle;\n    }\n\n    .dataframe tbody tr th {\n        vertical-align: top;\n    }\n\n    .dataframe thead th {\n        text-align: right;\n    }\n</style>\n<table border=\"1\" class=\"dataframe\">\n  <thead>\n    <tr style=\"text-align: right;\">\n      <th></th>\n      <th>TV</th>\n      <th>Radio</th>\n      <th>Newspaper</th>\n      <th>Sales</th>\n    </tr>\n  </thead>\n  <tbody>\n    <tr>\n      <th>1</th>\n      <td>230.1</td>\n      <td>37.8</td>\n      <td>69.2</td>\n      <td>22.1</td>\n    </tr>\n    <tr>\n      <th>2</th>\n      <td>44.5</td>\n      <td>39.3</td>\n      <td>45.1</td>\n      <td>10.4</td>\n    </tr>\n    <tr>\n      <th>3</th>\n      <td>17.2</td>\n      <td>45.9</td>\n      <td>69.3</td>\n      <td>9.3</td>\n    </tr>\n    <tr>\n      <th>4</th>\n      <td>151.5</td>\n      <td>41.3</td>\n      <td>58.5</td>\n      <td>18.5</td>\n    </tr>\n    <tr>\n      <th>5</th>\n      <td>180.8</td>\n      <td>10.8</td>\n      <td>58.4</td>\n      <td>12.9</td>\n    </tr>\n    <tr>\n      <th>...</th>\n      <td>...</td>\n      <td>...</td>\n      <td>...</td>\n      <td>...</td>\n    </tr>\n    <tr>\n      <th>196</th>\n      <td>38.2</td>\n      <td>3.7</td>\n      <td>13.8</td>\n      <td>7.6</td>\n    </tr>\n    <tr>\n      <th>197</th>\n      <td>94.2</td>\n      <td>4.9</td>\n      <td>8.1</td>\n      <td>9.7</td>\n    </tr>\n    <tr>\n      <th>198</th>\n      <td>177.0</td>\n      <td>9.3</td>\n      <td>6.4</td>\n      <td>12.8</td>\n    </tr>\n    <tr>\n      <th>199</th>\n      <td>283.6</td>\n      <td>42.0</td>\n      <td>66.2</td>\n      <td>25.5</td>\n    </tr>\n    <tr>\n      <th>200</th>\n      <td>232.1</td>\n      <td>8.6</td>\n      <td>8.7</td>\n      <td>13.4</td>\n    </tr>\n  </tbody>\n</table>\n<p>200 rows × 4 columns</p>\n</div>"
     },
     "execution_count": 24,
     "metadata": {},
     "output_type": "execute_result"
    }
   ],
   "source": [
    "data"
   ]
  },
  {
   "cell_type": "code",
   "execution_count": 25,
   "id": "3fd8f049",
   "metadata": {},
   "outputs": [
    {
     "data": {
      "text/plain": "(2.938889369459396, 0.045764645455397636)"
     },
     "execution_count": 25,
     "metadata": {},
     "output_type": "execute_result"
    }
   ],
   "source": [
    "x_all = data.loc[:,'TV':'Newspaper']\n",
    "y = data['Sales']\n",
    "normal_equation(x_all,y)"
   ]
  },
  {
   "cell_type": "code",
   "execution_count": 26,
   "id": "2ad5cabc",
   "metadata": {},
   "outputs": [
    {
     "data": {
      "text/plain": "           Newspaper     Sales\nNewspaper   1.000000  0.228299\nSales       0.228299  1.000000",
      "text/html": "<div>\n<style scoped>\n    .dataframe tbody tr th:only-of-type {\n        vertical-align: middle;\n    }\n\n    .dataframe tbody tr th {\n        vertical-align: top;\n    }\n\n    .dataframe thead th {\n        text-align: right;\n    }\n</style>\n<table border=\"1\" class=\"dataframe\">\n  <thead>\n    <tr style=\"text-align: right;\">\n      <th></th>\n      <th>Newspaper</th>\n      <th>Sales</th>\n    </tr>\n  </thead>\n  <tbody>\n    <tr>\n      <th>Newspaper</th>\n      <td>1.000000</td>\n      <td>0.228299</td>\n    </tr>\n    <tr>\n      <th>Sales</th>\n      <td>0.228299</td>\n      <td>1.000000</td>\n    </tr>\n  </tbody>\n</table>\n</div>"
     },
     "execution_count": 26,
     "metadata": {},
     "output_type": "execute_result"
    }
   ],
   "source": [
    "data.loc[:, ['Newspaper','Sales']].corr()"
   ]
  },
  {
   "cell_type": "markdown",
   "id": "a0cadbb0",
   "metadata": {},
   "source": [
    "### Dealing with categorical variables"
   ]
  },
  {
   "cell_type": "code",
   "execution_count": 27,
   "id": "c2d3d5e3",
   "metadata": {},
   "outputs": [
    {
     "data": {
      "text/plain": "                  name    price  unit_price  district_code segment    type  \\\n0             SEASCAPE  4388000        2028              4     CCR  Resale   \n1  COMMONWEALTH TOWERS  1300000        1887              3     RCR  Resale   \n2          THE TRILINQ  1755000        1304              5     OCR  Resale   \n3            THE CREST  2085000        2201              3     RCR  Resale   \n4        THE ANCHORAGE  1848888        1468              3     RCR  Resale   \n\n   area     level  remaining_years    date  \n0  2164  06 to 10             87.0  Nov-19  \n1   689  16 to 20             93.0  Nov-19  \n2  1346  06 to 10             92.0  Nov-19  \n3   947  01 to 05             92.0  Nov-19  \n4  1259  01 to 05            999.0  Nov-19  ",
      "text/html": "<div>\n<style scoped>\n    .dataframe tbody tr th:only-of-type {\n        vertical-align: middle;\n    }\n\n    .dataframe tbody tr th {\n        vertical-align: top;\n    }\n\n    .dataframe thead th {\n        text-align: right;\n    }\n</style>\n<table border=\"1\" class=\"dataframe\">\n  <thead>\n    <tr style=\"text-align: right;\">\n      <th></th>\n      <th>name</th>\n      <th>price</th>\n      <th>unit_price</th>\n      <th>district_code</th>\n      <th>segment</th>\n      <th>type</th>\n      <th>area</th>\n      <th>level</th>\n      <th>remaining_years</th>\n      <th>date</th>\n    </tr>\n  </thead>\n  <tbody>\n    <tr>\n      <th>0</th>\n      <td>SEASCAPE</td>\n      <td>4388000</td>\n      <td>2028</td>\n      <td>4</td>\n      <td>CCR</td>\n      <td>Resale</td>\n      <td>2164</td>\n      <td>06 to 10</td>\n      <td>87.0</td>\n      <td>Nov-19</td>\n    </tr>\n    <tr>\n      <th>1</th>\n      <td>COMMONWEALTH TOWERS</td>\n      <td>1300000</td>\n      <td>1887</td>\n      <td>3</td>\n      <td>RCR</td>\n      <td>Resale</td>\n      <td>689</td>\n      <td>16 to 20</td>\n      <td>93.0</td>\n      <td>Nov-19</td>\n    </tr>\n    <tr>\n      <th>2</th>\n      <td>THE TRILINQ</td>\n      <td>1755000</td>\n      <td>1304</td>\n      <td>5</td>\n      <td>OCR</td>\n      <td>Resale</td>\n      <td>1346</td>\n      <td>06 to 10</td>\n      <td>92.0</td>\n      <td>Nov-19</td>\n    </tr>\n    <tr>\n      <th>3</th>\n      <td>THE CREST</td>\n      <td>2085000</td>\n      <td>2201</td>\n      <td>3</td>\n      <td>RCR</td>\n      <td>Resale</td>\n      <td>947</td>\n      <td>01 to 05</td>\n      <td>92.0</td>\n      <td>Nov-19</td>\n    </tr>\n    <tr>\n      <th>4</th>\n      <td>THE ANCHORAGE</td>\n      <td>1848888</td>\n      <td>1468</td>\n      <td>3</td>\n      <td>RCR</td>\n      <td>Resale</td>\n      <td>1259</td>\n      <td>01 to 05</td>\n      <td>999.0</td>\n      <td>Nov-19</td>\n    </tr>\n  </tbody>\n</table>\n</div>"
     },
     "execution_count": 27,
     "metadata": {},
     "output_type": "execute_result"
    }
   ],
   "source": [
    "data=pd.read_csv('condo.csv')\n",
    "data.head()"
   ]
  },
  {
   "cell_type": "markdown",
   "id": "8620409b",
   "metadata": {},
   "source": [
    "**_For student’s own exploration_**\n",
    "\n",
    "Option 1: Use pandas.get_dummies()"
   ]
  },
  {
   "cell_type": "code",
   "execution_count": 28,
   "id": "b5165045",
   "metadata": {},
   "outputs": [
    {
     "data": {
      "text/plain": "                  name    price  unit_price  district_code segment    type  \\\n0             SEASCAPE  4388000        2028              4     CCR  Resale   \n1  COMMONWEALTH TOWERS  1300000        1887              3     RCR  Resale   \n2          THE TRILINQ  1755000        1304              5     OCR  Resale   \n3            THE CREST  2085000        2201              3     RCR  Resale   \n4        THE ANCHORAGE  1848888        1468              3     RCR  Resale   \n\n   area     level  remaining_years    date  New Sale  Resale  \n0  2164  06 to 10             87.0  Nov-19         0       1  \n1   689  16 to 20             93.0  Nov-19         0       1  \n2  1346  06 to 10             92.0  Nov-19         0       1  \n3   947  01 to 05             92.0  Nov-19         0       1  \n4  1259  01 to 05            999.0  Nov-19         0       1  ",
      "text/html": "<div>\n<style scoped>\n    .dataframe tbody tr th:only-of-type {\n        vertical-align: middle;\n    }\n\n    .dataframe tbody tr th {\n        vertical-align: top;\n    }\n\n    .dataframe thead th {\n        text-align: right;\n    }\n</style>\n<table border=\"1\" class=\"dataframe\">\n  <thead>\n    <tr style=\"text-align: right;\">\n      <th></th>\n      <th>name</th>\n      <th>price</th>\n      <th>unit_price</th>\n      <th>district_code</th>\n      <th>segment</th>\n      <th>type</th>\n      <th>area</th>\n      <th>level</th>\n      <th>remaining_years</th>\n      <th>date</th>\n      <th>New Sale</th>\n      <th>Resale</th>\n    </tr>\n  </thead>\n  <tbody>\n    <tr>\n      <th>0</th>\n      <td>SEASCAPE</td>\n      <td>4388000</td>\n      <td>2028</td>\n      <td>4</td>\n      <td>CCR</td>\n      <td>Resale</td>\n      <td>2164</td>\n      <td>06 to 10</td>\n      <td>87.0</td>\n      <td>Nov-19</td>\n      <td>0</td>\n      <td>1</td>\n    </tr>\n    <tr>\n      <th>1</th>\n      <td>COMMONWEALTH TOWERS</td>\n      <td>1300000</td>\n      <td>1887</td>\n      <td>3</td>\n      <td>RCR</td>\n      <td>Resale</td>\n      <td>689</td>\n      <td>16 to 20</td>\n      <td>93.0</td>\n      <td>Nov-19</td>\n      <td>0</td>\n      <td>1</td>\n    </tr>\n    <tr>\n      <th>2</th>\n      <td>THE TRILINQ</td>\n      <td>1755000</td>\n      <td>1304</td>\n      <td>5</td>\n      <td>OCR</td>\n      <td>Resale</td>\n      <td>1346</td>\n      <td>06 to 10</td>\n      <td>92.0</td>\n      <td>Nov-19</td>\n      <td>0</td>\n      <td>1</td>\n    </tr>\n    <tr>\n      <th>3</th>\n      <td>THE CREST</td>\n      <td>2085000</td>\n      <td>2201</td>\n      <td>3</td>\n      <td>RCR</td>\n      <td>Resale</td>\n      <td>947</td>\n      <td>01 to 05</td>\n      <td>92.0</td>\n      <td>Nov-19</td>\n      <td>0</td>\n      <td>1</td>\n    </tr>\n    <tr>\n      <th>4</th>\n      <td>THE ANCHORAGE</td>\n      <td>1848888</td>\n      <td>1468</td>\n      <td>3</td>\n      <td>RCR</td>\n      <td>Resale</td>\n      <td>1259</td>\n      <td>01 to 05</td>\n      <td>999.0</td>\n      <td>Nov-19</td>\n      <td>0</td>\n      <td>1</td>\n    </tr>\n  </tbody>\n</table>\n</div>"
     },
     "execution_count": 28,
     "metadata": {},
     "output_type": "execute_result"
    }
   ],
   "source": [
    "type_dummies=pd.get_dummies(data.type)\n",
    "data = pd.concat([data, type_dummies], axis=1)\n",
    "data.head()"
   ]
  },
  {
   "cell_type": "markdown",
   "id": "42c800d3",
   "metadata": {},
   "source": [
    "Option 2: Use scikit-learn OneHotEncoder\n",
    "    \n",
    "https://scikit-learn.org/stable/modules/generated/sklearn.preprocessing.OneHotEncoder.html"
   ]
  },
  {
   "cell_type": "code",
   "execution_count": 29,
   "outputs": [
    {
     "name": "stdout",
     "output_type": "stream",
     "text": [
      "(32168, 1) (32168,)\n"
     ]
    }
   ],
   "source": [
    "import sklearn\n",
    "onehotencoder=sklearn.preprocessing.OneHotEncoder()\n",
    "encoded_data = onehotencoder.fit_transform(data[['type']]).toarray()\n",
    "New_Sale, Resale = encoded_data[:, :-1], encoded_data[:, -1]\n",
    "print(New_Sale.shape,Resale.shape)"
   ],
   "metadata": {
    "collapsed": false
   }
  },
  {
   "cell_type": "markdown",
   "id": "af56fde5",
   "metadata": {},
   "source": [
    "## Case Study: Condo Data Set"
   ]
  },
  {
   "cell_type": "markdown",
   "id": "29321d81",
   "metadata": {},
   "source": [
    "### Ordinary Least Square (OLS) model"
   ]
  },
  {
   "cell_type": "code",
   "execution_count": 30,
   "id": "619ea929",
   "metadata": {},
   "outputs": [],
   "source": [
    "import statsmodels.formula.api as smf"
   ]
  },
  {
   "cell_type": "code",
   "execution_count": 31,
   "id": "94eb4de0",
   "metadata": {},
   "outputs": [],
   "source": [
    "d5_condo = data.loc[(data['district_code']==5) & \n",
    "                    (data['area']<1500) & \n",
    "                    (data['remaining_years']<100)]"
   ]
  },
  {
   "cell_type": "code",
   "execution_count": 32,
   "id": "a23916a6",
   "metadata": {},
   "outputs": [
    {
     "data": {
      "text/plain": "                    name    price  unit_price  district_code segment    type  \\\n2            THE TRILINQ  1755000        1304              5     OCR  Resale   \n6           BLUE HORIZON   990000        1022              5     OCR  Resale   \n7         DOVER PARKVIEW  1088000        1162              5     RCR  Resale   \n10  WESTCOVE CONDOMINIUM   970000         834              5     OCR  Resale   \n14           FABER CREST   950000         919              5     OCR  Resale   \n\n    area     level  remaining_years    date  New Sale  Resale  \n2   1346  06 to 10             92.0  Nov-19         0       1  \n6    969  21 to 25             80.0  Oct-19         0       1  \n7    936  06 to 10             73.0  Oct-19         0       1  \n10  1163  01 to 05             75.0  Oct-19         0       1  \n14  1033  01 to 05             76.0  Oct-19         0       1  ",
      "text/html": "<div>\n<style scoped>\n    .dataframe tbody tr th:only-of-type {\n        vertical-align: middle;\n    }\n\n    .dataframe tbody tr th {\n        vertical-align: top;\n    }\n\n    .dataframe thead th {\n        text-align: right;\n    }\n</style>\n<table border=\"1\" class=\"dataframe\">\n  <thead>\n    <tr style=\"text-align: right;\">\n      <th></th>\n      <th>name</th>\n      <th>price</th>\n      <th>unit_price</th>\n      <th>district_code</th>\n      <th>segment</th>\n      <th>type</th>\n      <th>area</th>\n      <th>level</th>\n      <th>remaining_years</th>\n      <th>date</th>\n      <th>New Sale</th>\n      <th>Resale</th>\n    </tr>\n  </thead>\n  <tbody>\n    <tr>\n      <th>2</th>\n      <td>THE TRILINQ</td>\n      <td>1755000</td>\n      <td>1304</td>\n      <td>5</td>\n      <td>OCR</td>\n      <td>Resale</td>\n      <td>1346</td>\n      <td>06 to 10</td>\n      <td>92.0</td>\n      <td>Nov-19</td>\n      <td>0</td>\n      <td>1</td>\n    </tr>\n    <tr>\n      <th>6</th>\n      <td>BLUE HORIZON</td>\n      <td>990000</td>\n      <td>1022</td>\n      <td>5</td>\n      <td>OCR</td>\n      <td>Resale</td>\n      <td>969</td>\n      <td>21 to 25</td>\n      <td>80.0</td>\n      <td>Oct-19</td>\n      <td>0</td>\n      <td>1</td>\n    </tr>\n    <tr>\n      <th>7</th>\n      <td>DOVER PARKVIEW</td>\n      <td>1088000</td>\n      <td>1162</td>\n      <td>5</td>\n      <td>RCR</td>\n      <td>Resale</td>\n      <td>936</td>\n      <td>06 to 10</td>\n      <td>73.0</td>\n      <td>Oct-19</td>\n      <td>0</td>\n      <td>1</td>\n    </tr>\n    <tr>\n      <th>10</th>\n      <td>WESTCOVE CONDOMINIUM</td>\n      <td>970000</td>\n      <td>834</td>\n      <td>5</td>\n      <td>OCR</td>\n      <td>Resale</td>\n      <td>1163</td>\n      <td>01 to 05</td>\n      <td>75.0</td>\n      <td>Oct-19</td>\n      <td>0</td>\n      <td>1</td>\n    </tr>\n    <tr>\n      <th>14</th>\n      <td>FABER CREST</td>\n      <td>950000</td>\n      <td>919</td>\n      <td>5</td>\n      <td>OCR</td>\n      <td>Resale</td>\n      <td>1033</td>\n      <td>01 to 05</td>\n      <td>76.0</td>\n      <td>Oct-19</td>\n      <td>0</td>\n      <td>1</td>\n    </tr>\n  </tbody>\n</table>\n</div>"
     },
     "execution_count": 32,
     "metadata": {},
     "output_type": "execute_result"
    }
   ],
   "source": [
    "d5_condo.head()"
   ]
  },
  {
   "cell_type": "markdown",
   "id": "f16964b0",
   "metadata": {},
   "source": [
    "#### Categorical variable 'type' with 2 values"
   ]
  },
  {
   "cell_type": "code",
   "execution_count": 33,
   "id": "a6c604cf",
   "metadata": {},
   "outputs": [
    {
     "name": "stdout",
     "output_type": "stream",
     "text": [
      "                            OLS Regression Results                            \n",
      "==============================================================================\n",
      "Dep. Variable:                  price   R-squared:                       0.824\n",
      "Model:                            OLS   Adj. R-squared:                  0.824\n",
      "Method:                 Least Squares   F-statistic:                     3271.\n",
      "Date:                Tue, 18 Apr 2023   Prob (F-statistic):               0.00\n",
      "Time:                        02:38:18   Log-Likelihood:                -18424.\n",
      "No. Observations:                1402   AIC:                         3.685e+04\n",
      "Df Residuals:                    1399   BIC:                         3.687e+04\n",
      "Df Model:                           2                                         \n",
      "Covariance Type:            nonrobust                                         \n",
      "==================================================================================\n",
      "                     coef    std err          t      P>|t|      [0.025      0.975]\n",
      "----------------------------------------------------------------------------------\n",
      "Intercept       1.887e+05   1.17e+04     16.087      0.000    1.66e+05    2.12e+05\n",
      "type[T.Resale] -1.614e+05   7465.490    -21.624      0.000   -1.76e+05   -1.47e+05\n",
      "area            1024.6680     12.803     80.035      0.000     999.553    1049.783\n",
      "==============================================================================\n",
      "Omnibus:                       74.849   Durbin-Watson:                   1.960\n",
      "Prob(Omnibus):                  0.000   Jarque-Bera (JB):              242.179\n",
      "Skew:                           0.163   Prob(JB):                     2.58e-53\n",
      "Kurtosis:                       5.010   Cond. No.                     3.54e+03\n",
      "==============================================================================\n",
      "\n",
      "Notes:\n",
      "[1] Standard Errors assume that the covariance matrix of the errors is correctly specified.\n",
      "[2] The condition number is large, 3.54e+03. This might indicate that there are\n",
      "strong multicollinearity or other numerical problems.\n"
     ]
    }
   ],
   "source": [
    "d5_model=smf.ols('price~area+type',data=d5_condo)\n",
    "result = d5_model.fit()\n",
    "print(result.summary())"
   ]
  },
  {
   "cell_type": "markdown",
   "id": "207d601e",
   "metadata": {},
   "source": [
    "#### Categorical variable 'segment' with more than 2 values"
   ]
  },
  {
   "cell_type": "code",
   "execution_count": 33,
   "id": "2b2d43aa",
   "metadata": {},
   "outputs": [],
   "source": []
  },
  {
   "cell_type": "markdown",
   "id": "d9bc63ec",
   "metadata": {},
   "source": [
    "#### Interaction terms"
   ]
  },
  {
   "cell_type": "code",
   "execution_count": 33,
   "id": "3533fcac",
   "metadata": {},
   "outputs": [],
   "source": []
  },
  {
   "cell_type": "markdown",
   "id": "630a9f9a",
   "metadata": {},
   "source": [
    "#### How to treat numbers as categorical variables"
   ]
  },
  {
   "cell_type": "code",
   "execution_count": 34,
   "id": "ee94d04d",
   "metadata": {},
   "outputs": [
    {
     "ename": "NameError",
     "evalue": "name 'small_condo' is not defined",
     "output_type": "error",
     "traceback": [
      "\u001B[1;31m---------------------------------------------------------------------------\u001B[0m",
      "\u001B[1;31mNameError\u001B[0m                                 Traceback (most recent call last)",
      "\u001B[1;32m~\\AppData\\Local\\Temp\\ipykernel_23404\\2595121041.py\u001B[0m in \u001B[0;36m<module>\u001B[1;34m\u001B[0m\n\u001B[1;32m----> 1\u001B[1;33m \u001B[0msmall_condo_model\u001B[0m \u001B[1;33m=\u001B[0m \u001B[0msmf\u001B[0m\u001B[1;33m.\u001B[0m\u001B[0mols\u001B[0m\u001B[1;33m(\u001B[0m\u001B[1;34m'price ~ district_code + area'\u001B[0m\u001B[1;33m,\u001B[0m \u001B[0mdata\u001B[0m\u001B[1;33m=\u001B[0m\u001B[0msmall_condo\u001B[0m\u001B[1;33m)\u001B[0m\u001B[1;33m\u001B[0m\u001B[1;33m\u001B[0m\u001B[0m\n\u001B[0m\u001B[0;32m      2\u001B[0m \u001B[0mresult\u001B[0m \u001B[1;33m=\u001B[0m \u001B[0msmall_condo_model\u001B[0m\u001B[1;33m.\u001B[0m\u001B[0mfit\u001B[0m\u001B[1;33m(\u001B[0m\u001B[1;33m)\u001B[0m\u001B[1;33m\u001B[0m\u001B[1;33m\u001B[0m\u001B[0m\n\u001B[0;32m      3\u001B[0m \u001B[0mprint\u001B[0m\u001B[1;33m(\u001B[0m\u001B[0mresult\u001B[0m\u001B[1;33m.\u001B[0m\u001B[0msummary\u001B[0m\u001B[1;33m(\u001B[0m\u001B[1;33m)\u001B[0m\u001B[1;33m)\u001B[0m\u001B[1;33m\u001B[0m\u001B[1;33m\u001B[0m\u001B[0m\n",
      "\u001B[1;31mNameError\u001B[0m: name 'small_condo' is not defined"
     ]
    }
   ],
   "source": [
    "small_condo_model = smf.ols('price ~ district_code + area', data=small_condo)\n",
    "result = small_condo_model.fit()\n",
    "print(result.summary())"
   ]
  },
  {
   "cell_type": "code",
   "execution_count": 34,
   "id": "dfc3a03e",
   "metadata": {},
   "outputs": [],
   "source": []
  },
  {
   "cell_type": "markdown",
   "id": "195396a0",
   "metadata": {},
   "source": [
    "## Case Study: Wage Data Set"
   ]
  },
  {
   "cell_type": "markdown",
   "id": "87eb9940",
   "metadata": {},
   "source": [
    "### OLS with nonlinear terms"
   ]
  },
  {
   "cell_type": "code",
   "execution_count": 35,
   "id": "2ccfdabb",
   "metadata": {},
   "outputs": [
    {
     "data": {
      "text/plain": "    wage  educ  exper  female  married\n0   3.10  11.0    2.0     1.0      0.0\n1   3.24  12.0   22.0     1.0      1.0\n7   5.00  12.0    5.0     1.0      0.0\n8   3.60  12.0   26.0     1.0      0.0\n10  6.25  16.0    8.0     1.0      0.0",
      "text/html": "<div>\n<style scoped>\n    .dataframe tbody tr th:only-of-type {\n        vertical-align: middle;\n    }\n\n    .dataframe tbody tr th {\n        vertical-align: top;\n    }\n\n    .dataframe thead th {\n        text-align: right;\n    }\n</style>\n<table border=\"1\" class=\"dataframe\">\n  <thead>\n    <tr style=\"text-align: right;\">\n      <th></th>\n      <th>wage</th>\n      <th>educ</th>\n      <th>exper</th>\n      <th>female</th>\n      <th>married</th>\n    </tr>\n  </thead>\n  <tbody>\n    <tr>\n      <th>0</th>\n      <td>3.10</td>\n      <td>11.0</td>\n      <td>2.0</td>\n      <td>1.0</td>\n      <td>0.0</td>\n    </tr>\n    <tr>\n      <th>1</th>\n      <td>3.24</td>\n      <td>12.0</td>\n      <td>22.0</td>\n      <td>1.0</td>\n      <td>1.0</td>\n    </tr>\n    <tr>\n      <th>7</th>\n      <td>5.00</td>\n      <td>12.0</td>\n      <td>5.0</td>\n      <td>1.0</td>\n      <td>0.0</td>\n    </tr>\n    <tr>\n      <th>8</th>\n      <td>3.60</td>\n      <td>12.0</td>\n      <td>26.0</td>\n      <td>1.0</td>\n      <td>0.0</td>\n    </tr>\n    <tr>\n      <th>10</th>\n      <td>6.25</td>\n      <td>16.0</td>\n      <td>8.0</td>\n      <td>1.0</td>\n      <td>0.0</td>\n    </tr>\n  </tbody>\n</table>\n</div>"
     },
     "execution_count": 35,
     "metadata": {},
     "output_type": "execute_result"
    }
   ],
   "source": [
    "wage = pd.read_csv('wage.csv')\n",
    "wage_female = wage.loc[wage['female']==1]\n",
    "wage_female.head()"
   ]
  },
  {
   "cell_type": "markdown",
   "id": "30b1eec4",
   "metadata": {},
   "source": [
    "Can the relationship be fitted to a straight line?"
   ]
  },
  {
   "cell_type": "code",
   "execution_count": 36,
   "id": "80a70576",
   "metadata": {},
   "outputs": [
    {
     "data": {
      "text/plain": "<Figure size 450x350 with 1 Axes>",
      "image/png": "[encoded data removed]"
     },
     "metadata": {},
     "output_type": "display_data"
    }
   ],
   "source": [
    "plt.figure(figsize=(4.5, 3.5))\n",
    "plt.scatter(wage_female['exper'], wage_female['wage'], \n",
    "            c='b', alpha=0.3)\n",
    "\n",
    "plt.xlabel('Working experience (years)', fontsize=13)\n",
    "plt.ylabel('Hourly wage (Dollars)', fontsize=13)\n",
    "plt.show()"
   ]
  },
  {
   "cell_type": "markdown",
   "id": "f20f55bb",
   "metadata": {},
   "source": [
    "Let's try Model 1\n",
    "$$\n",
    "y_{wage} = \\beta_0 + \\beta_1 x_{exper}\n",
    "$$\n"
   ]
  },
  {
   "cell_type": "code",
   "execution_count": 37,
   "id": "8a43b482",
   "metadata": {},
   "outputs": [
    {
     "name": "stdout",
     "output_type": "stream",
     "text": [
      "                            OLS Regression Results                            \n",
      "==============================================================================\n",
      "Dep. Variable:                   wage   R-squared:                       0.000\n",
      "Model:                            OLS   Adj. R-squared:                 -0.004\n",
      "Method:                 Least Squares   F-statistic:                   0.01564\n",
      "Date:                Tue, 18 Apr 2023   Prob (F-statistic):              0.901\n",
      "Time:                        02:39:02   Log-Likelihood:                -590.91\n",
      "No. Observations:                 252   AIC:                             1186.\n",
      "Df Residuals:                     250   BIC:                             1193.\n",
      "Df Model:                           1                                         \n",
      "Covariance Type:            nonrobust                                         \n",
      "==============================================================================\n",
      "                 coef    std err          t      P>|t|      [0.025      0.975]\n",
      "------------------------------------------------------------------------------\n",
      "Intercept      4.6117      0.250     18.441      0.000       4.119       5.104\n",
      "exper         -0.0015      0.012     -0.125      0.901      -0.025       0.022\n",
      "==============================================================================\n",
      "Omnibus:                      180.041   Durbin-Watson:                   1.964\n",
      "Prob(Omnibus):                  0.000   Jarque-Bera (JB):             1843.760\n",
      "Skew:                           2.815   Prob(JB):                         0.00\n",
      "Kurtosis:                      14.996   Cond. No.                         33.5\n",
      "==============================================================================\n",
      "\n",
      "Notes:\n",
      "[1] Standard Errors assume that the covariance matrix of the errors is correctly specified.\n"
     ]
    }
   ],
   "source": [
    "model1 = smf.ols('wage ~ exper', data=wage_female)\n",
    "result1 = model1.fit()\n",
    "print(result1.summary())"
   ]
  },
  {
   "cell_type": "markdown",
   "id": "9dc6c58c",
   "metadata": {},
   "source": [
    "Let's try Model 2 \n",
    "\n",
    "$$\n",
    "y_{wage} = \\beta_0 + \\beta_1 x_{exper} + \\beta_2 \\sqrt{x_{exper}}\n",
    "$$\n",
    "   "
   ]
  },
  {
   "cell_type": "code",
   "execution_count": 38,
   "id": "cfea88e0",
   "metadata": {},
   "outputs": [
    {
     "name": "stdout",
     "output_type": "stream",
     "text": [
      "                            OLS Regression Results                            \n",
      "==============================================================================\n",
      "Dep. Variable:                   wage   R-squared:                       0.052\n",
      "Model:                            OLS   Adj. R-squared:                  0.045\n",
      "Method:                 Least Squares   F-statistic:                     6.850\n",
      "Date:                Tue, 18 Apr 2023   Prob (F-statistic):            0.00127\n",
      "Time:                        02:39:03   Log-Likelihood:                -584.17\n",
      "No. Observations:                 252   AIC:                             1174.\n",
      "Df Residuals:                     249   BIC:                             1185.\n",
      "Df Model:                           2                                         \n",
      "Covariance Type:            nonrobust                                         \n",
      "==================================================================================\n",
      "                     coef    std err          t      P>|t|      [0.025      0.975]\n",
      "----------------------------------------------------------------------------------\n",
      "Intercept          1.9159      0.769      2.493      0.013       0.402       3.430\n",
      "exper             -0.2067      0.057     -3.649      0.000      -0.318      -0.095\n",
      "np.sqrt(exper)     1.6542      0.447      3.699      0.000       0.773       2.535\n",
      "==============================================================================\n",
      "Omnibus:                      177.203   Durbin-Watson:                   1.938\n",
      "Prob(Omnibus):                  0.000   Jarque-Bera (JB):             1807.206\n",
      "Skew:                           2.754   Prob(JB):                         0.00\n",
      "Kurtosis:                      14.907   Cond. No.                         123.\n",
      "==============================================================================\n",
      "\n",
      "Notes:\n",
      "[1] Standard Errors assume that the covariance matrix of the errors is correctly specified.\n"
     ]
    }
   ],
   "source": [
    "model2 = smf.ols('wage ~ exper + np.sqrt(exper)',\n",
    "data=wage_female)\n",
    "result2 = model2.fit()\n",
    "print(result2.summary())"
   ]
  },
  {
   "cell_type": "markdown",
   "id": "88f4b7ad",
   "metadata": {},
   "source": [
    "Let's try Model 3\n",
    "\n",
    "$$\n",
    "log(y_{wage}) = \\beta_0 + \\beta_1 x_{exper} + \\beta_2 \\sqrt{x_{exper}}\n",
    "$$\n",
    "   "
   ]
  },
  {
   "cell_type": "code",
   "execution_count": 39,
   "id": "5a634dfd",
   "metadata": {},
   "outputs": [
    {
     "name": "stdout",
     "output_type": "stream",
     "text": [
      "                            OLS Regression Results                            \n",
      "==============================================================================\n",
      "Dep. Variable:           np.log(wage)   R-squared:                       0.064\n",
      "Model:                            OLS   Adj. R-squared:                  0.056\n",
      "Method:                 Least Squares   F-statistic:                     8.463\n",
      "Date:                Tue, 18 Apr 2023   Prob (F-statistic):           0.000278\n",
      "Time:                        02:39:04   Log-Likelihood:                -144.31\n",
      "No. Observations:                 252   AIC:                             294.6\n",
      "Df Residuals:                     249   BIC:                             305.2\n",
      "Df Model:                           2                                         \n",
      "Covariance Type:            nonrobust                                         \n",
      "==================================================================================\n",
      "                     coef    std err          t      P>|t|      [0.025      0.975]\n",
      "----------------------------------------------------------------------------------\n",
      "Intercept          0.8830      0.134      6.582      0.000       0.619       1.147\n",
      "exper             -0.0389      0.010     -3.939      0.000      -0.058      -0.019\n",
      "np.sqrt(exper)     0.3198      0.078      4.097      0.000       0.166       0.474\n",
      "==============================================================================\n",
      "Omnibus:                       22.126   Durbin-Watson:                   2.111\n",
      "Prob(Omnibus):                  0.000   Jarque-Bera (JB):               61.688\n",
      "Skew:                           0.316   Prob(JB):                     4.02e-14\n",
      "Kurtosis:                       5.340   Cond. No.                         123.\n",
      "==============================================================================\n",
      "\n",
      "Notes:\n",
      "[1] Standard Errors assume that the covariance matrix of the errors is correctly specified.\n"
     ]
    }
   ],
   "source": [
    "model3 = smf.ols('np.log(wage) ~ exper + np.sqrt(exper)',\n",
    "data=wage_female)\n",
    "result2 = model3.fit()\n",
    "print(result2.summary())"
   ]
  },
  {
   "cell_type": "markdown",
   "id": "7d5a2a0d",
   "metadata": {},
   "source": [
    "## Coding exercise"
   ]
  },
  {
   "cell_type": "markdown",
   "id": "811a5489",
   "metadata": {},
   "source": [
    "Load insurance.csv first with pd.read_csv()"
   ]
  },
  {
   "cell_type": "code",
   "execution_count": 40,
   "id": "9073948d",
   "metadata": {},
   "outputs": [],
   "source": [
    "insurance_data=pd.read_csv('insurance.csv')"
   ]
  },
  {
   "cell_type": "markdown",
   "id": "ee638713",
   "metadata": {},
   "source": [
    "Questions for exploration:\n",
    "\n",
    "- Which variable is the y?\n",
    "- Which variables are categorical? Which ones are numerical?\n",
    "- Any interaction terms?\n",
    "- Any non-linear terms?"
   ]
  },
  {
   "cell_type": "code",
   "execution_count": 41,
   "id": "fdba6fc6",
   "metadata": {},
   "outputs": [
    {
     "data": {
      "text/plain": "   age  sex     bmi  children  smoker  region      charges\n0   19    0  27.900         0       1       3  16884.92400\n1   18    1  33.770         1       0       2   1725.55230\n2   28    1  33.000         3       0       2   4449.46200\n3   33    1  22.705         0       0       1  21984.47061\n4   32    1  28.880         0       0       1   3866.85520",
      "text/html": "<div>\n<style scoped>\n    .dataframe tbody tr th:only-of-type {\n        vertical-align: middle;\n    }\n\n    .dataframe tbody tr th {\n        vertical-align: top;\n    }\n\n    .dataframe thead th {\n        text-align: right;\n    }\n</style>\n<table border=\"1\" class=\"dataframe\">\n  <thead>\n    <tr style=\"text-align: right;\">\n      <th></th>\n      <th>age</th>\n      <th>sex</th>\n      <th>bmi</th>\n      <th>children</th>\n      <th>smoker</th>\n      <th>region</th>\n      <th>charges</th>\n    </tr>\n  </thead>\n  <tbody>\n    <tr>\n      <th>0</th>\n      <td>19</td>\n      <td>0</td>\n      <td>27.900</td>\n      <td>0</td>\n      <td>1</td>\n      <td>3</td>\n      <td>16884.92400</td>\n    </tr>\n    <tr>\n      <th>1</th>\n      <td>18</td>\n      <td>1</td>\n      <td>33.770</td>\n      <td>1</td>\n      <td>0</td>\n      <td>2</td>\n      <td>1725.55230</td>\n    </tr>\n    <tr>\n      <th>2</th>\n      <td>28</td>\n      <td>1</td>\n      <td>33.000</td>\n      <td>3</td>\n      <td>0</td>\n      <td>2</td>\n      <td>4449.46200</td>\n    </tr>\n    <tr>\n      <th>3</th>\n      <td>33</td>\n      <td>1</td>\n      <td>22.705</td>\n      <td>0</td>\n      <td>0</td>\n      <td>1</td>\n      <td>21984.47061</td>\n    </tr>\n    <tr>\n      <th>4</th>\n      <td>32</td>\n      <td>1</td>\n      <td>28.880</td>\n      <td>0</td>\n      <td>0</td>\n      <td>1</td>\n      <td>3866.85520</td>\n    </tr>\n  </tbody>\n</table>\n</div>"
     },
     "execution_count": 41,
     "metadata": {},
     "output_type": "execute_result"
    }
   ],
   "source": [
    "insurance_data.head()\n",
    "#based on the column variables, charge should be the predicted variable while the rest of the columns will be the explainatory variable\n",
    "#sex, regions and smoker are categorical while bmi, children,age are numerical\n"
   ]
  },
  {
   "cell_type": "code",
   "execution_count": 42,
   "id": "6515f7c2",
   "metadata": {},
   "outputs": [
    {
     "data": {
      "text/plain": "<Figure size 2000x500 with 6 Axes>",
      "image/png": "[encoded data removed]"
     },
     "metadata": {},
     "output_type": "display_data"
    }
   ],
   "source": [
    "# Create a figure and a grid of subplots\n",
    "fig, axs = plt.subplots(nrows=1, ncols=len(insurance_data.columns[:-1]), figsize=(20, 5))\n",
    "\n",
    "# Iterate over the columns of the DataFrame and plot a linear subplot for each column\n",
    "for i, col in enumerate(insurance_data.columns[:-1]):\n",
    "    axs[i].scatter(insurance_data[col],insurance_data['charges'])\n",
    "    axs[i].set_xlabel('Index')\n",
    "    axs[i].set_ylabel(col)\n",
    "    axs[i].set_title(f'{col} vs charges')\n",
    "\n",
    "# Adjust the layout of the subplots and show the figure\n",
    "fig.tight_layout()\n",
    "plt.show()"
   ]
  },
  {
   "cell_type": "code",
   "execution_count": 43,
   "id": "fcfb1917",
   "metadata": {},
   "outputs": [
    {
     "data": {
      "text/plain": "     age  sex     bmi  children  smoker  region\n0     19    0  27.900         0       1       3\n1     18    1  33.770         1       0       2\n2     28    1  33.000         3       0       2\n3     33    1  22.705         0       0       1\n4     32    1  28.880         0       0       1\n..   ...  ...     ...       ...     ...     ...\n343   63    1  36.765         0       0       0\n344   49    0  41.470         4       0       2\n345   34    0  29.260         3       0       2\n346   33    1  35.750         2       0       2\n347   46    1  33.345         1       0       0\n\n[348 rows x 6 columns]",
      "text/html": "<div>\n<style scoped>\n    .dataframe tbody tr th:only-of-type {\n        vertical-align: middle;\n    }\n\n    .dataframe tbody tr th {\n        vertical-align: top;\n    }\n\n    .dataframe thead th {\n        text-align: right;\n    }\n</style>\n<table border=\"1\" class=\"dataframe\">\n  <thead>\n    <tr style=\"text-align: right;\">\n      <th></th>\n      <th>age</th>\n      <th>sex</th>\n      <th>bmi</th>\n      <th>children</th>\n      <th>smoker</th>\n      <th>region</th>\n    </tr>\n  </thead>\n  <tbody>\n    <tr>\n      <th>0</th>\n      <td>19</td>\n      <td>0</td>\n      <td>27.900</td>\n      <td>0</td>\n      <td>1</td>\n      <td>3</td>\n    </tr>\n    <tr>\n      <th>1</th>\n      <td>18</td>\n      <td>1</td>\n      <td>33.770</td>\n      <td>1</td>\n      <td>0</td>\n      <td>2</td>\n    </tr>\n    <tr>\n      <th>2</th>\n      <td>28</td>\n      <td>1</td>\n      <td>33.000</td>\n      <td>3</td>\n      <td>0</td>\n      <td>2</td>\n    </tr>\n    <tr>\n      <th>3</th>\n      <td>33</td>\n      <td>1</td>\n      <td>22.705</td>\n      <td>0</td>\n      <td>0</td>\n      <td>1</td>\n    </tr>\n    <tr>\n      <th>4</th>\n      <td>32</td>\n      <td>1</td>\n      <td>28.880</td>\n      <td>0</td>\n      <td>0</td>\n      <td>1</td>\n    </tr>\n    <tr>\n      <th>...</th>\n      <td>...</td>\n      <td>...</td>\n      <td>...</td>\n      <td>...</td>\n      <td>...</td>\n      <td>...</td>\n    </tr>\n    <tr>\n      <th>343</th>\n      <td>63</td>\n      <td>1</td>\n      <td>36.765</td>\n      <td>0</td>\n      <td>0</td>\n      <td>0</td>\n    </tr>\n    <tr>\n      <th>344</th>\n      <td>49</td>\n      <td>0</td>\n      <td>41.470</td>\n      <td>4</td>\n      <td>0</td>\n      <td>2</td>\n    </tr>\n    <tr>\n      <th>345</th>\n      <td>34</td>\n      <td>0</td>\n      <td>29.260</td>\n      <td>3</td>\n      <td>0</td>\n      <td>2</td>\n    </tr>\n    <tr>\n      <th>346</th>\n      <td>33</td>\n      <td>1</td>\n      <td>35.750</td>\n      <td>2</td>\n      <td>0</td>\n      <td>2</td>\n    </tr>\n    <tr>\n      <th>347</th>\n      <td>46</td>\n      <td>1</td>\n      <td>33.345</td>\n      <td>1</td>\n      <td>0</td>\n      <td>0</td>\n    </tr>\n  </tbody>\n</table>\n<p>348 rows × 6 columns</p>\n</div>"
     },
     "execution_count": 43,
     "metadata": {},
     "output_type": "execute_result"
    }
   ],
   "source": [
    "insurance_data[insurance_data.columns[:-1]]"
   ]
  },
  {
   "cell_type": "code",
   "execution_count": 44,
   "outputs": [
    {
     "name": "stdout",
     "output_type": "stream",
     "text": [
      "Index(['age', 'sex', 'bmi', 'children', 'smoker', 'region', 'age^2', 'age sex',\n",
      "       'age bmi', 'age children', 'age smoker', 'age region', 'sex^2',\n",
      "       'sex bmi', 'sex children', 'sex smoker', 'sex region', 'bmi^2',\n",
      "       'bmi children', 'bmi smoker', 'bmi region', 'children^2',\n",
      "       'children smoker', 'children region', 'smoker^2', 'smoker region',\n",
      "       'region^2'],\n",
      "      dtype='object')\n"
     ]
    },
    {
     "name": "stderr",
     "output_type": "stream",
     "text": [
      "C:\\Users\\final\\anaconda3\\lib\\site-packages\\sklearn\\utils\\deprecation.py:87: FutureWarning: Function get_feature_names is deprecated; get_feature_names is deprecated in 1.0 and will be removed in 1.2. Please use get_feature_names_out instead.\n",
      "  warnings.warn(msg, category=FutureWarning)\n"
     ]
    }
   ],
   "source": [
    "from sklearn.preprocessing import PolynomialFeatures\n",
    "from sklearn.linear_model import LinearRegression\n",
    "from sklearn.metrics import mean_squared_error\n",
    "from scipy import stats\n",
    "\n",
    "#non-manual way to create interactive terms\n",
    "poly = PolynomialFeatures(degree=2, include_bias=False)\n",
    "\n",
    "#using all the columns except charges to create interactive terms\n",
    "X_poly = poly.fit_transform(insurance_data[insurance_data.columns[:-1]])\n",
    "\n",
    "#Generate column names for the new features\n",
    "feature_names = poly.get_feature_names(input_features=insurance_data[insurance_data.columns[:-1]].columns)\n",
    "\n",
    "# Convert X_poly to a pandas DataFrame with column names\n",
    "X_poly_df = pd.DataFrame(X_poly, columns=feature_names)\n",
    "print(X_poly_df.columns)\n"
   ],
   "metadata": {
    "collapsed": false
   }
  },
  {
   "cell_type": "code",
   "execution_count": 45,
   "outputs": [
    {
     "name": "stderr",
     "output_type": "stream",
     "text": [
      "C:\\Users\\final\\AppData\\Local\\Temp\\ipykernel_23404\\3280713869.py:8: RuntimeWarning: invalid value encountered in sqrt\n",
      "  se = np.sqrt(variance * mse)\n"
     ]
    },
    {
     "data": {
      "text/plain": "      Variable  t-statistic   p-value\n3     children     2.654955  0.008672\n19  bmi smoker    15.155599  0.000000",
      "text/html": "<div>\n<style scoped>\n    .dataframe tbody tr th:only-of-type {\n        vertical-align: middle;\n    }\n\n    .dataframe tbody tr th {\n        vertical-align: top;\n    }\n\n    .dataframe thead th {\n        text-align: right;\n    }\n</style>\n<table border=\"1\" class=\"dataframe\">\n  <thead>\n    <tr style=\"text-align: right;\">\n      <th></th>\n      <th>Variable</th>\n      <th>t-statistic</th>\n      <th>p-value</th>\n    </tr>\n  </thead>\n  <tbody>\n    <tr>\n      <th>3</th>\n      <td>children</td>\n      <td>2.654955</td>\n      <td>0.008672</td>\n    </tr>\n    <tr>\n      <th>19</th>\n      <td>bmi smoker</td>\n      <td>15.155599</td>\n      <td>0.000000</td>\n    </tr>\n  </tbody>\n</table>\n</div>"
     },
     "execution_count": 45,
     "metadata": {},
     "output_type": "execute_result"
    }
   ],
   "source": [
    "#model\n",
    "model = LinearRegression()\n",
    "model.fit(X_poly_df, insurance_data['charges'])\n",
    "\n",
    "# Compute the standard error of the coefficients\n",
    "mse = mean_squared_error(insurance_data['charges'], model.predict(X_poly_df))\n",
    "variance = np.linalg.inv(np.dot(X_poly_df.T, X_poly_df)).diagonal()\n",
    "se = np.sqrt(variance * mse)\n",
    "\n",
    "# Compute the t-statistics and p-values for the coefficients\n",
    "t_stats = model.coef_ / se\n",
    "p_values = 2 * (1 - stats.t.cdf(abs(t_stats), len(y) - X_poly_df.shape[1]))\n",
    "model_assessment=pd.DataFrame({'Variable': X_poly_df.columns, 't-statistic': t_stats, 'p-value': p_values})\n",
    "\n",
    "#filtering out statistically significant explanatory  variables\n",
    "model_assessment[model_assessment['p-value']<0.05]"
   ],
   "metadata": {
    "collapsed": false
   }
  },
  {
   "cell_type": "code",
   "execution_count": null,
   "outputs": [],
   "source": [],
   "metadata": {
    "collapsed": false
   }
  }
 ],
 "metadata": {
  "kernelspec": {
   "display_name": "Python 3 (ipykernel)",
   "language": "python",
   "name": "python3"
  },
  "language_info": {
   "codemirror_mode": {
    "name": "ipython",
    "version": 3
   },
   "file_extension": ".py",
   "mimetype": "text/x-python",
   "name": "python",
   "nbconvert_exporter": "python",
   "pygments_lexer": "ipython3",
   "version": "3.9.13"
  }
 },
 "nbformat": 4,
 "nbformat_minor": 5
}
