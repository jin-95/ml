{
 "cells": [
  {
   "cell_type": "markdown",
   "id": "0489c370",
   "metadata": {},
   "source": [
    "## Case Study: Advertising Data Set"
   ]
  },
  {
   "cell_type": "code",
   "execution_count": 1,
   "id": "2970b647",
   "metadata": {},
   "outputs": [],
   "source": [
    "# imports\n",
    "import numpy as np\n",
    "import pandas as pd\n",
    "import seaborn as sns\n",
    "import matplotlib.pyplot as plt\n",
    "from sklearn.linear_model import LinearRegression\n",
    "from sklearn import metrics\n",
    "from sklearn.model_selection import train_test_split\n",
    "\n",
    "# allow plots to appear directly in the notebook\n",
    "%matplotlib inline\n",
    "sns.set()"
   ]
  },
  {
   "cell_type": "markdown",
   "id": "d2865105",
   "metadata": {},
   "source": [
    "### Read data into a DataFrame\n",
    "\n",
    "Use pandas.read_csv() to load data into a dataframe. \n",
    "\n",
    "The data can be a file on your computer or even a file from an online source."
   ]
  },
  {
   "cell_type": "code",
   "execution_count": 2,
   "id": "17955293",
   "metadata": {},
   "outputs": [],
   "source": [
    "data=pd.read_csv('Advertising.csv',index_col=0)"
   ]
  },
  {
   "cell_type": "markdown",
   "id": "1cc89c33",
   "metadata": {},
   "source": [
    "What are the input variables?\n",
    "- TV: advertising dollars spent on TV for a single product in a given market \n",
    "- Radio: advertising dollars spent on Radio\n",
    "- Newspaper: advertising dollars spent on Newspaper\n",
    "\n",
    "All above are in thousands of dollars.\n",
    "\n",
    "What is the target variable?\n",
    "- Sales: sales of a single product in a given market (in thousands of widgets)"
   ]
  },
  {
   "cell_type": "markdown",
   "id": "518b2fcd",
   "metadata": {},
   "source": [
    "### Exploratory Data Analysis"
   ]
  },
  {
   "cell_type": "markdown",
   "id": "42f7cccd",
   "metadata": {},
   "source": [
    "Show the shape of the DataFrame"
   ]
  },
  {
   "cell_type": "code",
   "execution_count": 3,
   "id": "1450ee65",
   "metadata": {},
   "outputs": [
    {
     "data": {
      "text/plain": [
       "(200, 4)"
      ]
     },
     "execution_count": 3,
     "metadata": {},
     "output_type": "execute_result"
    }
   ],
   "source": [
    "data.shape"
   ]
  },
  {
   "cell_type": "markdown",
   "id": "65b1237d",
   "metadata": {},
   "source": [
    "Get a high level overview of the data: column name, column types and any potential missing values."
   ]
  },
  {
   "cell_type": "code",
   "execution_count": 4,
   "id": "dfd250bd",
   "metadata": {},
   "outputs": [
    {
     "data": {
      "text/plain": [
       "TV           0\n",
       "Radio        0\n",
       "Newspaper    0\n",
       "Sales        0\n",
       "dtype: int64"
      ]
     },
     "execution_count": 4,
     "metadata": {},
     "output_type": "execute_result"
    }
   ],
   "source": [
    "data.isna().sum()"
   ]
  },
  {
   "cell_type": "markdown",
   "id": "79e251a1",
   "metadata": {},
   "source": [
    "Get a high level summary of each numerical column"
   ]
  },
  {
   "cell_type": "code",
   "execution_count": 5,
   "id": "8392589f",
   "metadata": {},
   "outputs": [
    {
     "data": {
      "text/html": [
       "<div>\n",
       "<style scoped>\n",
       "    .dataframe tbody tr th:only-of-type {\n",
       "        vertical-align: middle;\n",
       "    }\n",
       "\n",
       "    .dataframe tbody tr th {\n",
       "        vertical-align: top;\n",
       "    }\n",
       "\n",
       "    .dataframe thead th {\n",
       "        text-align: right;\n",
       "    }\n",
       "</style>\n",
       "<table border=\"1\" class=\"dataframe\">\n",
       "  <thead>\n",
       "    <tr style=\"text-align: right;\">\n",
       "      <th></th>\n",
       "      <th>TV</th>\n",
       "      <th>Radio</th>\n",
       "      <th>Newspaper</th>\n",
       "      <th>Sales</th>\n",
       "    </tr>\n",
       "  </thead>\n",
       "  <tbody>\n",
       "    <tr>\n",
       "      <th>count</th>\n",
       "      <td>200.000000</td>\n",
       "      <td>200.000000</td>\n",
       "      <td>200.000000</td>\n",
       "      <td>200.000000</td>\n",
       "    </tr>\n",
       "    <tr>\n",
       "      <th>mean</th>\n",
       "      <td>147.042500</td>\n",
       "      <td>23.264000</td>\n",
       "      <td>30.554000</td>\n",
       "      <td>14.022500</td>\n",
       "    </tr>\n",
       "    <tr>\n",
       "      <th>std</th>\n",
       "      <td>85.854236</td>\n",
       "      <td>14.846809</td>\n",
       "      <td>21.778621</td>\n",
       "      <td>5.217457</td>\n",
       "    </tr>\n",
       "    <tr>\n",
       "      <th>min</th>\n",
       "      <td>0.700000</td>\n",
       "      <td>0.000000</td>\n",
       "      <td>0.300000</td>\n",
       "      <td>1.600000</td>\n",
       "    </tr>\n",
       "    <tr>\n",
       "      <th>25%</th>\n",
       "      <td>74.375000</td>\n",
       "      <td>9.975000</td>\n",
       "      <td>12.750000</td>\n",
       "      <td>10.375000</td>\n",
       "    </tr>\n",
       "    <tr>\n",
       "      <th>50%</th>\n",
       "      <td>149.750000</td>\n",
       "      <td>22.900000</td>\n",
       "      <td>25.750000</td>\n",
       "      <td>12.900000</td>\n",
       "    </tr>\n",
       "    <tr>\n",
       "      <th>75%</th>\n",
       "      <td>218.825000</td>\n",
       "      <td>36.525000</td>\n",
       "      <td>45.100000</td>\n",
       "      <td>17.400000</td>\n",
       "    </tr>\n",
       "    <tr>\n",
       "      <th>max</th>\n",
       "      <td>296.400000</td>\n",
       "      <td>49.600000</td>\n",
       "      <td>114.000000</td>\n",
       "      <td>27.000000</td>\n",
       "    </tr>\n",
       "  </tbody>\n",
       "</table>\n",
       "</div>"
      ],
      "text/plain": [
       "               TV       Radio   Newspaper       Sales\n",
       "count  200.000000  200.000000  200.000000  200.000000\n",
       "mean   147.042500   23.264000   30.554000   14.022500\n",
       "std     85.854236   14.846809   21.778621    5.217457\n",
       "min      0.700000    0.000000    0.300000    1.600000\n",
       "25%     74.375000    9.975000   12.750000   10.375000\n",
       "50%    149.750000   22.900000   25.750000   12.900000\n",
       "75%    218.825000   36.525000   45.100000   17.400000\n",
       "max    296.400000   49.600000  114.000000   27.000000"
      ]
     },
     "execution_count": 5,
     "metadata": {},
     "output_type": "execute_result"
    }
   ],
   "source": [
    "data.describe()"
   ]
  },
  {
   "cell_type": "markdown",
   "id": "b93d858b",
   "metadata": {},
   "source": [
    "Any missing values or no illogical values (i.e negative quantities)? If not, this is a clean data set."
   ]
  },
  {
   "cell_type": "markdown",
   "id": "99f1a2b2",
   "metadata": {},
   "source": [
    "### Simple Linear Regression"
   ]
  },
  {
   "cell_type": "markdown",
   "id": "ac0f3dd1",
   "metadata": {},
   "source": [
    "#### Relationship between Sales and Newspaper spend\n",
    "\n",
    "$$y = \\beta_0 + \\beta_1x$$\n",
    "- $y$ is the target variable, i.e. the sales\n",
    "- $x$ corresponds to the input variable, i.e. Newspaper spend\n",
    "- $\\beta_0$ is the intercept with the y-axis\n",
    "- $\\beta_1$ is the coefficient for the input variable"
   ]
  },
  {
   "cell_type": "markdown",
   "id": "67962d6e",
   "metadata": {},
   "source": [
    "Prepare the data for linear regression - only Sales and Newspaper columns"
   ]
  },
  {
   "cell_type": "code",
   "execution_count": 6,
   "id": "493ca03a",
   "metadata": {},
   "outputs": [
    {
     "data": {
      "text/html": [
       "<div>\n",
       "<style scoped>\n",
       "    .dataframe tbody tr th:only-of-type {\n",
       "        vertical-align: middle;\n",
       "    }\n",
       "\n",
       "    .dataframe tbody tr th {\n",
       "        vertical-align: top;\n",
       "    }\n",
       "\n",
       "    .dataframe thead th {\n",
       "        text-align: right;\n",
       "    }\n",
       "</style>\n",
       "<table border=\"1\" class=\"dataframe\">\n",
       "  <thead>\n",
       "    <tr style=\"text-align: right;\">\n",
       "      <th></th>\n",
       "      <th>Newspaper</th>\n",
       "    </tr>\n",
       "  </thead>\n",
       "  <tbody>\n",
       "    <tr>\n",
       "      <th>1</th>\n",
       "      <td>69.2</td>\n",
       "    </tr>\n",
       "    <tr>\n",
       "      <th>2</th>\n",
       "      <td>45.1</td>\n",
       "    </tr>\n",
       "    <tr>\n",
       "      <th>3</th>\n",
       "      <td>69.3</td>\n",
       "    </tr>\n",
       "    <tr>\n",
       "      <th>4</th>\n",
       "      <td>58.5</td>\n",
       "    </tr>\n",
       "    <tr>\n",
       "      <th>5</th>\n",
       "      <td>58.4</td>\n",
       "    </tr>\n",
       "  </tbody>\n",
       "</table>\n",
       "</div>"
      ],
      "text/plain": [
       "   Newspaper\n",
       "1       69.2\n",
       "2       45.1\n",
       "3       69.3\n",
       "4       58.5\n",
       "5       58.4"
      ]
     },
     "metadata": {},
     "output_type": "display_data"
    },
    {
     "data": {
      "text/plain": [
       "1    22.1\n",
       "2    10.4\n",
       "3     9.3\n",
       "4    18.5\n",
       "5    12.9\n",
       "Name: Sales, dtype: float64"
      ]
     },
     "metadata": {},
     "output_type": "display_data"
    }
   ],
   "source": [
    "# create x and y\n",
    "feature_cols = ['Newspaper']\n",
    "x_orig = data.loc[:,feature_cols]\n",
    "# feature_cols must be a list of column names, even if just 1 col\n",
    "# x for linear regression must be 2D array (x cannot be 1D flat array)\n",
    "display(x_orig[:5])\n",
    "\n",
    "y = data.loc[:,\"Sales\"]\n",
    "display(y[:5])"
   ]
  },
  {
   "cell_type": "markdown",
   "id": "05ae46a9",
   "metadata": {},
   "source": [
    "#### Use LinearRegression model \n",
    "\n",
    "Objective: minimize the **sum of squared residuals (SSR)**\n",
    "$$\n",
    "\\min~\\text{SSR} = \\min\\sum\\limits_{i=1}^nu_i^2 = \\min\\sum\\limits_{i=1}^n(y_i - \\hat{y}_i)^2. \n",
    "$$"
   ]
  },
  {
   "cell_type": "code",
   "execution_count": 7,
   "id": "65dea57e",
   "metadata": {},
   "outputs": [
    {
     "data": {
      "text/html": [
       "<div>\n",
       "<style scoped>\n",
       "    .dataframe tbody tr th:only-of-type {\n",
       "        vertical-align: middle;\n",
       "    }\n",
       "\n",
       "    .dataframe tbody tr th {\n",
       "        vertical-align: top;\n",
       "    }\n",
       "\n",
       "    .dataframe thead th {\n",
       "        text-align: right;\n",
       "    }\n",
       "</style>\n",
       "<table border=\"1\" class=\"dataframe\">\n",
       "  <thead>\n",
       "    <tr style=\"text-align: right;\">\n",
       "      <th></th>\n",
       "      <th>TV</th>\n",
       "      <th>Radio</th>\n",
       "      <th>Newspaper</th>\n",
       "      <th>Sales</th>\n",
       "    </tr>\n",
       "  </thead>\n",
       "  <tbody>\n",
       "    <tr>\n",
       "      <th>1</th>\n",
       "      <td>230.1</td>\n",
       "      <td>37.8</td>\n",
       "      <td>69.2</td>\n",
       "      <td>22.1</td>\n",
       "    </tr>\n",
       "    <tr>\n",
       "      <th>2</th>\n",
       "      <td>44.5</td>\n",
       "      <td>39.3</td>\n",
       "      <td>45.1</td>\n",
       "      <td>10.4</td>\n",
       "    </tr>\n",
       "    <tr>\n",
       "      <th>3</th>\n",
       "      <td>17.2</td>\n",
       "      <td>45.9</td>\n",
       "      <td>69.3</td>\n",
       "      <td>9.3</td>\n",
       "    </tr>\n",
       "    <tr>\n",
       "      <th>4</th>\n",
       "      <td>151.5</td>\n",
       "      <td>41.3</td>\n",
       "      <td>58.5</td>\n",
       "      <td>18.5</td>\n",
       "    </tr>\n",
       "    <tr>\n",
       "      <th>5</th>\n",
       "      <td>180.8</td>\n",
       "      <td>10.8</td>\n",
       "      <td>58.4</td>\n",
       "      <td>12.9</td>\n",
       "    </tr>\n",
       "  </tbody>\n",
       "</table>\n",
       "</div>"
      ],
      "text/plain": [
       "      TV  Radio  Newspaper  Sales\n",
       "1  230.1   37.8       69.2   22.1\n",
       "2   44.5   39.3       45.1   10.4\n",
       "3   17.2   45.9       69.3    9.3\n",
       "4  151.5   41.3       58.5   18.5\n",
       "5  180.8   10.8       58.4   12.9"
      ]
     },
     "execution_count": 7,
     "metadata": {},
     "output_type": "execute_result"
    }
   ],
   "source": [
    "data.head()"
   ]
  },
  {
   "cell_type": "code",
   "execution_count": 8,
   "id": "1b7517d8",
   "metadata": {},
   "outputs": [
    {
     "data": {
      "text/plain": [
       "(200, 1)"
      ]
     },
     "execution_count": 8,
     "metadata": {},
     "output_type": "execute_result"
    }
   ],
   "source": [
    "x_orig.shape"
   ]
  },
  {
   "cell_type": "code",
   "execution_count": 9,
   "id": "98ca9c01",
   "metadata": {},
   "outputs": [
    {
     "data": {
      "text/plain": [
       "(200,)"
      ]
     },
     "execution_count": 9,
     "metadata": {},
     "output_type": "execute_result"
    }
   ],
   "source": [
    "y.shape"
   ]
  },
  {
   "cell_type": "code",
   "execution_count": 10,
   "id": "36052967",
   "metadata": {},
   "outputs": [
    {
     "data": {
      "text/plain": [
       "(12.35140706927817, array([0.0546931]))"
      ]
     },
     "execution_count": 10,
     "metadata": {},
     "output_type": "execute_result"
    }
   ],
   "source": [
    "# create LinearRegression object and fit\n",
    "def normal_equation(X, Y):\n",
    "    #add constant term for X\n",
    "    X = np.hstack((np.ones((X.shape[0], 1)), X))\n",
    "    #closed form solution\n",
    "    coefficients= np.linalg.inv(X.T@X)@(X.T@Y)\n",
    "    alpha=coefficients[0]\n",
    "    beta=coefficients[1:]\n",
    "    return alpha,beta\n",
    "\n",
    "# print the results\n",
    "normal_equation(x_orig,y)"
   ]
  },
  {
   "cell_type": "markdown",
   "id": "ba2899a1",
   "metadata": {},
   "source": [
    "#### Using the Model for Prediction\n",
    "\n",
    "Let's say that there were 2 new markets where the Newspaper advertising spend was **\\$100,000** and **\\$200,000**. What would we predict for the Sales in that market?\n",
    "\n",
    "$$y_1 = 12.3514 + 0.05469 \\times 100$$\n",
    "$$y_2 = 12.3514 + 0.05469 \\times 200$$\n",
    "\n",
    "\n",
    "$$y_1=17.8204$$\n",
    "$$y_2=23.2894$$"
   ]
  },
  {
   "cell_type": "code",
   "execution_count": 11,
   "id": "c51e5eb0",
   "metadata": {},
   "outputs": [
    {
     "data": {
      "text/plain": [
       "(2, 2)"
      ]
     },
     "execution_count": 11,
     "metadata": {},
     "output_type": "execute_result"
    }
   ],
   "source": [
    "newspaper_spending=np.array([[1,1],[100,200]]).T\n",
    "newspaper_spending.shape"
   ]
  },
  {
   "cell_type": "code",
   "execution_count": 12,
   "id": "6be38ce2",
   "metadata": {},
   "outputs": [
    {
     "name": "stderr",
     "output_type": "stream",
     "text": [
      "C:\\Users\\final\\AppData\\Local\\Temp\\ipykernel_29892\\2693249468.py:1: VisibleDeprecationWarning: Creating an ndarray from ragged nested sequences (which is a list-or-tuple of lists-or-tuples-or ndarrays with different lengths or shapes) is deprecated. If you meant to do this, you must specify 'dtype=object' when creating the ndarray.\n",
      "  np.array(normal_equation(x_orig,y)).reshape(2,1)\n"
     ]
    },
    {
     "data": {
      "text/plain": [
       "array([[12.35140706927817],\n",
       "       [array([0.0546931])]], dtype=object)"
      ]
     },
     "execution_count": 12,
     "metadata": {},
     "output_type": "execute_result"
    }
   ],
   "source": [
    "np.array(normal_equation(x_orig,y)).reshape(2,1)"
   ]
  },
  {
   "cell_type": "code",
   "execution_count": 13,
   "id": "d8f7cfb7",
   "metadata": {},
   "outputs": [
    {
     "name": "stdout",
     "output_type": "stream",
     "text": [
      "[array([17.82071692]) array([23.29002676])]\n"
     ]
    },
    {
     "name": "stderr",
     "output_type": "stream",
     "text": [
      "C:\\Users\\final\\AppData\\Local\\Temp\\ipykernel_29892\\855461680.py:1: VisibleDeprecationWarning: Creating an ndarray from ragged nested sequences (which is a list-or-tuple of lists-or-tuples-or ndarrays with different lengths or shapes) is deprecated. If you meant to do this, you must specify 'dtype=object' when creating the ndarray.\n",
      "  sales_spending=newspaper_spending@np.array(normal_equation(x_orig,y))\n"
     ]
    }
   ],
   "source": [
    "sales_spending=newspaper_spending@np.array(normal_equation(x_orig,y))\n",
    "print(sales_spending)"
   ]
  },
  {
   "cell_type": "code",
   "execution_count": 14,
   "id": "4335a91b",
   "metadata": {},
   "outputs": [],
   "source": [
    "# x must be 2D array with multiple rows and 1 column; x cannot be 1D array\n"
   ]
  },
  {
   "cell_type": "markdown",
   "id": "0dde4d2f",
   "metadata": {},
   "source": [
    "#### How Well Does the Model Fit the data?\n",
    "Let's feed the original Newspaper column back to the trained linear model to get the predicted y value by the model"
   ]
  },
  {
   "cell_type": "code",
   "execution_count": 15,
   "id": "436052b2",
   "metadata": {},
   "outputs": [
    {
     "name": "stderr",
     "output_type": "stream",
     "text": [
      "C:\\Users\\final\\AppData\\Local\\Temp\\ipykernel_29892\\572284524.py:1: VisibleDeprecationWarning: Creating an ndarray from ragged nested sequences (which is a list-or-tuple of lists-or-tuples-or ndarrays with different lengths or shapes) is deprecated. If you meant to do this, you must specify 'dtype=object' when creating the ndarray.\n",
      "  y_pred =np.hstack((np.ones((x_orig.shape[0], 1)), x_orig))@np.array(normal_equation(x_orig,y))\n"
     ]
    },
    {
     "data": {
      "text/plain": [
       "array([array([16.13616948]), array([14.81806581]), array([16.14163879]),\n",
       "       array([15.55095333]), array([15.54548402]), array([16.45338945]),\n",
       "       array([13.63669488]), array([12.98584701]), array([12.40610017]),\n",
       "       array([13.51090076]), array([13.67498005]), array([12.57017946]),\n",
       "       array([15.95568226]), array([12.74519738]), array([14.8672896]),\n",
       "       array([15.24467198]), array([18.5864203]), array([15.40328196]),\n",
       "       array([13.35229077]), array([13.39604525]), array([15.27201853]),\n",
       "       array([13.63669488]), array([15.06418475]), array([13.78436625]),\n",
       "       array([13.35229077]), array([13.41792249]), array([13.04054011]),\n",
       "       array([13.60387902]), array([13.60387902]), array([14.58288549]),\n",
       "       array([14.71414892]), array([14.46256067]), array([13.99220002]),\n",
       "       array([12.367815]), array([12.756136]), array([12.81629841]),\n",
       "       array([12.62487256]), array([14.85088167]), array([14.27113483]),\n",
       "       array([14.10158622]), array([14.07970898]), array([14.46802998]),\n",
       "       array([12.44985465]), array([13.79530487]), array([14.71961823]),\n",
       "       array([14.07423967]), array([14.30395068]), array([13.36322939]),\n",
       "       array([15.08059268]), array([14.36411309]), array([14.24378828]),\n",
       "       array([12.54830222]), array([14.51725377]), array([15.56189195]),\n",
       "       array([13.22102733]), array([15.63299298]), array([14.61570135]),\n",
       "       array([13.2593125]), array([14.41333688]), array([12.86005289]),\n",
       "       array([13.52183938]), array([15.34311956]), array([13.84452866]),\n",
       "       array([12.8108291]), array([13.93203762]), array([12.40063086]),\n",
       "       array([12.47173189]), array([12.90927667]), array([12.95303115]),\n",
       "       array([13.83905935]), array([14.46802998]), array([14.08517829]),\n",
       "       array([13.40698387]), array([14.06330105]), array([13.06788666]),\n",
       "       array([17.24097007]), array([13.48355421]), array([13.12804907]),\n",
       "       array([12.86552219]), array([13.61481764]), array([13.57106317]),\n",
       "       array([14.3695824]), array([14.12893277]), array([14.29848137]),\n",
       "       array([14.2000338]), array([15.94474364]), array([13.22649664]),\n",
       "       array([15.80801089]), array([16.3658805]), array([15.16263233]),\n",
       "       array([12.86005289]), array([14.15627932]), array([15.57829988]),\n",
       "       array([16.30571809]), array([12.94756184]), array([15.24467198]),\n",
       "       array([12.67409635]), array([13.55465524]), array([15.15169371]),\n",
       "       array([14.86182029]), array([15.07512337]), array([17.86994071]),\n",
       "       array([13.52183938]), array([13.33041353]), array([12.64128049]),\n",
       "       array([15.57829988]), array([13.97579209]), array([13.62028695]),\n",
       "       array([13.75155039]), array([12.65221911]), array([15.44156713]),\n",
       "       array([13.62028695]), array([12.48267051]), array([12.93662322]),\n",
       "       array([14.23831897]), array([15.23373336]), array([13.75155039]),\n",
       "       array([13.16086493]), array([16.68310047]), array([13.57106317]),\n",
       "       array([14.87822822]), array([15.10793923]), array([13.20461941]),\n",
       "       array([13.02960149]), array([16.40963498]), array([13.76795832]),\n",
       "       array([15.11887785]), array([12.85458358]), array([12.52642498]),\n",
       "       array([14.70867961]), array([12.82723703]), array([14.7032103]),\n",
       "       array([12.46626258]), array([14.81806581]), array([15.93927433]),\n",
       "       array([12.81629841]), array([12.86005289]), array([15.61658505]),\n",
       "       array([13.47261559]), array([12.44438534]), array([13.05694804]),\n",
       "       array([16.48620531]), array([14.4242755]), array([14.23284966]),\n",
       "       array([14.4789686]), array([12.84364496]), array([12.82723703]),\n",
       "       array([14.77431133]), array([13.00225494]), array([13.4780849]),\n",
       "       array([14.37505171]), array([15.01496096]), array([13.12804907]),\n",
       "       array([14.41333688]), array([12.8709915]), array([12.66315773]),\n",
       "       array([15.11340854]), array([13.68044936]), array([14.82353512]),\n",
       "       array([14.24378828]), array([14.03048519]), array([15.04777682]),\n",
       "       array([13.75155039]), array([12.756136]), array([12.6467498]),\n",
       "       array([16.98938182]), array([13.532778]), array([13.41245318]),\n",
       "       array([15.50172954]), array([12.7014429]), array([13.35776008]),\n",
       "       array([14.94385994]), array([13.28118974]), array([13.05147873]),\n",
       "       array([13.06788666]), array([14.63757859]), array([13.46167697]),\n",
       "       array([14.27660414]), array([13.6476335]), array([13.3140056]),\n",
       "       array([12.80535979]), array([13.84999797]), array([13.97579209]),\n",
       "       array([16.27837154]), array([13.99220002]), array([13.4233918]),\n",
       "       array([13.80624349]), array([13.34682146]), array([12.55377153]),\n",
       "       array([13.63122557]), array([12.66862704]), array([12.67956566]),\n",
       "       array([14.07970898]), array([12.54830222]), array([12.67956566]),\n",
       "       array([13.10617183]), array([12.79442117]), array([12.7014429]),\n",
       "       array([15.97209019]), array([12.82723703])], dtype=object)"
      ]
     },
     "execution_count": 15,
     "metadata": {},
     "output_type": "execute_result"
    }
   ],
   "source": [
    "y_pred =np.hstack((np.ones((x_orig.shape[0], 1)), x_orig))@np.array(normal_equation(x_orig,y))\n",
    "y_pred"
   ]
  },
  {
   "cell_type": "code",
   "execution_count": 16,
   "id": "ab7e2482",
   "metadata": {},
   "outputs": [],
   "source": [
    "from sklearn import metrics\n",
    "\n",
    "def evaluate_model(Y, Y_pred):\n",
    "    mse = metrics.mean_squared_error(Y, Y_pred)\n",
    "    r2 = np.sqrt(metrics.mean_squared_error(Y, Y_pred))\n",
    "    return mse, r2"
   ]
  },
  {
   "cell_type": "code",
   "execution_count": 17,
   "id": "086a9072",
   "metadata": {},
   "outputs": [
    {
     "data": {
      "text/plain": [
       "(25.674022720559698, 5.066953988399707)"
      ]
     },
     "execution_count": 17,
     "metadata": {},
     "output_type": "execute_result"
    }
   ],
   "source": [
    "evaluate_model(y,y_pred)"
   ]
  },
  {
   "cell_type": "markdown",
   "id": "568ad4c9",
   "metadata": {},
   "source": [
    "Use a plot to check if the prediction (linear model) fits the original data (Newspaper spend vs. Sales) well"
   ]
  },
  {
   "cell_type": "code",
   "execution_count": 18,
   "id": "71bc88d8",
   "metadata": {},
   "outputs": [
    {
     "data": {
      "text/plain": [
       "(200,)"
      ]
     },
     "execution_count": 18,
     "metadata": {},
     "output_type": "execute_result"
    }
   ],
   "source": [
    "data['Newspaper'].shape"
   ]
  },
  {
   "cell_type": "code",
   "execution_count": 19,
   "id": "bd7560a8",
   "metadata": {},
   "outputs": [
    {
     "data": {
      "text/plain": [
       "(200,)"
      ]
     },
     "execution_count": 19,
     "metadata": {},
     "output_type": "execute_result"
    }
   ],
   "source": [
    "y.shape"
   ]
  },
  {
   "cell_type": "code",
   "execution_count": 20,
   "id": "0c867f1c",
   "metadata": {},
   "outputs": [
    {
     "data": {
      "text/plain": [
       "(200,)"
      ]
     },
     "execution_count": 20,
     "metadata": {},
     "output_type": "execute_result"
    }
   ],
   "source": [
    "data['Newspaper'].shape"
   ]
  },
  {
   "cell_type": "code",
   "execution_count": 21,
   "id": "dbbf1bc5",
   "metadata": {},
   "outputs": [
    {
     "data": {
      "text/plain": [
       "array([16.13616948])"
      ]
     },
     "execution_count": 21,
     "metadata": {},
     "output_type": "execute_result"
    }
   ],
   "source": [
    "y_pred[0]"
   ]
  },
  {
   "cell_type": "code",
   "execution_count": 22,
   "id": "47562332",
   "metadata": {},
   "outputs": [
    {
     "data": {
      "text/plain": [
       "1      16.136169\n",
       "2      14.818066\n",
       "3      16.141639\n",
       "4      15.550953\n",
       "5      15.545484\n",
       "         ...    \n",
       "196    13.106172\n",
       "197    12.794421\n",
       "198    12.701443\n",
       "199    15.972090\n",
       "200    12.827237\n",
       "Name: y_pred, Length: 200, dtype: float64"
      ]
     },
     "execution_count": 22,
     "metadata": {},
     "output_type": "execute_result"
    }
   ],
   "source": [
    "data['y_pred']=np.squeeze(y_pred)\n",
    "data['y_pred']=data['y_pred'].apply(lambda x: x[0])\n",
    "data['y_pred']"
   ]
  },
  {
   "cell_type": "code",
   "execution_count": 23,
   "id": "df22799d",
   "metadata": {},
   "outputs": [
    {
     "data": {
      "text/plain": [
       "<AxesSubplot:xlabel='Newspaper', ylabel='Sales'>"
      ]
     },
     "execution_count": 23,
     "metadata": {},
     "output_type": "execute_result"
    },
    {
     "data": {
      "image/png": "[encoded data removed]",
      "text/plain": [
       "<Figure size 640x480 with 1 Axes>"
      ]
     },
     "metadata": {},
     "output_type": "display_data"
    }
   ],
   "source": [
    "# Plot the original data set on a scatterplot\n",
    "sns.scatterplot(x=data['Newspaper'], y=y)\n",
    "\n",
    "# plot the linear fit as a lineplot\n",
    "sns.lineplot(x=data['Newspaper'], y=data['y_pred'], color=\"orange\")"
   ]
  },
  {
   "cell_type": "markdown",
   "id": "c465914e",
   "metadata": {},
   "source": [
    "#### Mean Squared Error (MSE) and Root Mean Squared Error (RMSE) "
   ]
  },
  {
   "cell_type": "code",
   "execution_count": 24,
   "id": "dfa402a3",
   "metadata": {},
   "outputs": [
    {
     "name": "stdout",
     "output_type": "stream",
     "text": [
      "25.674022720559698\n"
     ]
    }
   ],
   "source": [
    "mse=evaluate_model(y,y_pred)[0]\n",
    "print(mse)"
   ]
  },
  {
   "cell_type": "markdown",
   "id": "ae00e565",
   "metadata": {},
   "source": [
    "#### R-Squared\n",
    "\n",
    "$$\n",
    "  R^2 = 1 - \\frac{\\sum_i (y_i - \\hat{y}_i)^2}{\\sum_i (y_i - \\bar{y})^2}\n",
    "  $$\n",
    "\n"
   ]
  },
  {
   "cell_type": "code",
   "execution_count": 25,
   "id": "ab7f8983",
   "metadata": {},
   "outputs": [
    {
     "name": "stdout",
     "output_type": "stream",
     "text": [
      "5.066953988399707\n"
     ]
    }
   ],
   "source": [
    "r2=evaluate_model(y,y_pred)[1]\n",
    "print(r2)"
   ]
  },
  {
   "cell_type": "markdown",
   "id": "fcdecd88",
   "metadata": {},
   "source": [
    "### Multiple Linear Regression"
   ]
  },
  {
   "cell_type": "markdown",
   "id": "1d635752",
   "metadata": {},
   "source": [
    "Let's now consider all input variables, TV, Newspaper, Radio"
   ]
  },
  {
   "cell_type": "code",
   "execution_count": 26,
   "id": "02b04cef",
   "metadata": {},
   "outputs": [
    {
     "data": {
      "text/html": [
       "<div>\n",
       "<style scoped>\n",
       "    .dataframe tbody tr th:only-of-type {\n",
       "        vertical-align: middle;\n",
       "    }\n",
       "\n",
       "    .dataframe tbody tr th {\n",
       "        vertical-align: top;\n",
       "    }\n",
       "\n",
       "    .dataframe thead th {\n",
       "        text-align: right;\n",
       "    }\n",
       "</style>\n",
       "<table border=\"1\" class=\"dataframe\">\n",
       "  <thead>\n",
       "    <tr style=\"text-align: right;\">\n",
       "      <th></th>\n",
       "      <th>TV</th>\n",
       "      <th>Radio</th>\n",
       "      <th>Newspaper</th>\n",
       "      <th>Sales</th>\n",
       "      <th>y_pred</th>\n",
       "    </tr>\n",
       "  </thead>\n",
       "  <tbody>\n",
       "    <tr>\n",
       "      <th>1</th>\n",
       "      <td>230.1</td>\n",
       "      <td>37.8</td>\n",
       "      <td>69.2</td>\n",
       "      <td>22.1</td>\n",
       "      <td>16.136169</td>\n",
       "    </tr>\n",
       "    <tr>\n",
       "      <th>2</th>\n",
       "      <td>44.5</td>\n",
       "      <td>39.3</td>\n",
       "      <td>45.1</td>\n",
       "      <td>10.4</td>\n",
       "      <td>14.818066</td>\n",
       "    </tr>\n",
       "    <tr>\n",
       "      <th>3</th>\n",
       "      <td>17.2</td>\n",
       "      <td>45.9</td>\n",
       "      <td>69.3</td>\n",
       "      <td>9.3</td>\n",
       "      <td>16.141639</td>\n",
       "    </tr>\n",
       "    <tr>\n",
       "      <th>4</th>\n",
       "      <td>151.5</td>\n",
       "      <td>41.3</td>\n",
       "      <td>58.5</td>\n",
       "      <td>18.5</td>\n",
       "      <td>15.550953</td>\n",
       "    </tr>\n",
       "    <tr>\n",
       "      <th>5</th>\n",
       "      <td>180.8</td>\n",
       "      <td>10.8</td>\n",
       "      <td>58.4</td>\n",
       "      <td>12.9</td>\n",
       "      <td>15.545484</td>\n",
       "    </tr>\n",
       "    <tr>\n",
       "      <th>...</th>\n",
       "      <td>...</td>\n",
       "      <td>...</td>\n",
       "      <td>...</td>\n",
       "      <td>...</td>\n",
       "      <td>...</td>\n",
       "    </tr>\n",
       "    <tr>\n",
       "      <th>196</th>\n",
       "      <td>38.2</td>\n",
       "      <td>3.7</td>\n",
       "      <td>13.8</td>\n",
       "      <td>7.6</td>\n",
       "      <td>13.106172</td>\n",
       "    </tr>\n",
       "    <tr>\n",
       "      <th>197</th>\n",
       "      <td>94.2</td>\n",
       "      <td>4.9</td>\n",
       "      <td>8.1</td>\n",
       "      <td>9.7</td>\n",
       "      <td>12.794421</td>\n",
       "    </tr>\n",
       "    <tr>\n",
       "      <th>198</th>\n",
       "      <td>177.0</td>\n",
       "      <td>9.3</td>\n",
       "      <td>6.4</td>\n",
       "      <td>12.8</td>\n",
       "      <td>12.701443</td>\n",
       "    </tr>\n",
       "    <tr>\n",
       "      <th>199</th>\n",
       "      <td>283.6</td>\n",
       "      <td>42.0</td>\n",
       "      <td>66.2</td>\n",
       "      <td>25.5</td>\n",
       "      <td>15.972090</td>\n",
       "    </tr>\n",
       "    <tr>\n",
       "      <th>200</th>\n",
       "      <td>232.1</td>\n",
       "      <td>8.6</td>\n",
       "      <td>8.7</td>\n",
       "      <td>13.4</td>\n",
       "      <td>12.827237</td>\n",
       "    </tr>\n",
       "  </tbody>\n",
       "</table>\n",
       "<p>200 rows × 5 columns</p>\n",
       "</div>"
      ],
      "text/plain": [
       "        TV  Radio  Newspaper  Sales     y_pred\n",
       "1    230.1   37.8       69.2   22.1  16.136169\n",
       "2     44.5   39.3       45.1   10.4  14.818066\n",
       "3     17.2   45.9       69.3    9.3  16.141639\n",
       "4    151.5   41.3       58.5   18.5  15.550953\n",
       "5    180.8   10.8       58.4   12.9  15.545484\n",
       "..     ...    ...        ...    ...        ...\n",
       "196   38.2    3.7       13.8    7.6  13.106172\n",
       "197   94.2    4.9        8.1    9.7  12.794421\n",
       "198  177.0    9.3        6.4   12.8  12.701443\n",
       "199  283.6   42.0       66.2   25.5  15.972090\n",
       "200  232.1    8.6        8.7   13.4  12.827237\n",
       "\n",
       "[200 rows x 5 columns]"
      ]
     },
     "execution_count": 26,
     "metadata": {},
     "output_type": "execute_result"
    }
   ],
   "source": [
    "data"
   ]
  },
  {
   "cell_type": "code",
   "execution_count": 38,
   "id": "3fd8f049",
   "metadata": {},
   "outputs": [
    {
     "data": {
      "text/plain": [
       "(2.9210999124051327, array([0.04575482, 0.18799423]))"
      ]
     },
     "execution_count": 38,
     "metadata": {},
     "output_type": "execute_result"
    }
   ],
   "source": [
    "x_all = data.iloc[:,:2]\n",
    "y = data['Sales']\n",
    "normal_equation(x_all,y)"
   ]
  },
  {
   "cell_type": "code",
   "execution_count": 29,
   "id": "2ad5cabc",
   "metadata": {},
   "outputs": [
    {
     "data": {
      "text/html": [
       "<div>\n",
       "<style scoped>\n",
       "    .dataframe tbody tr th:only-of-type {\n",
       "        vertical-align: middle;\n",
       "    }\n",
       "\n",
       "    .dataframe tbody tr th {\n",
       "        vertical-align: top;\n",
       "    }\n",
       "\n",
       "    .dataframe thead th {\n",
       "        text-align: right;\n",
       "    }\n",
       "</style>\n",
       "<table border=\"1\" class=\"dataframe\">\n",
       "  <thead>\n",
       "    <tr style=\"text-align: right;\">\n",
       "      <th></th>\n",
       "      <th>Newspaper</th>\n",
       "      <th>Sales</th>\n",
       "    </tr>\n",
       "  </thead>\n",
       "  <tbody>\n",
       "    <tr>\n",
       "      <th>Newspaper</th>\n",
       "      <td>1.000000</td>\n",
       "      <td>0.228299</td>\n",
       "    </tr>\n",
       "    <tr>\n",
       "      <th>Sales</th>\n",
       "      <td>0.228299</td>\n",
       "      <td>1.000000</td>\n",
       "    </tr>\n",
       "  </tbody>\n",
       "</table>\n",
       "</div>"
      ],
      "text/plain": [
       "           Newspaper     Sales\n",
       "Newspaper   1.000000  0.228299\n",
       "Sales       0.228299  1.000000"
      ]
     },
     "execution_count": 29,
     "metadata": {},
     "output_type": "execute_result"
    }
   ],
   "source": [
    "data.loc[:, ['Newspaper','Sales']].corr()"
   ]
  },
  {
   "cell_type": "markdown",
   "id": "a0cadbb0",
   "metadata": {},
   "source": [
    "### Dealing with categorical variables"
   ]
  },
  {
   "cell_type": "code",
   "execution_count": null,
   "id": "c2d3d5e3",
   "metadata": {},
   "outputs": [],
   "source": []
  },
  {
   "cell_type": "markdown",
   "id": "8620409b",
   "metadata": {},
   "source": [
    "**_For student’s own exploration_**\n",
    "\n",
    "Option 1: Use pandas.get_dummies()"
   ]
  },
  {
   "cell_type": "code",
   "execution_count": 65,
   "id": "617caf5c",
   "metadata": {},
   "outputs": [],
   "source": [
    "data=pd.read_csv('condo.csv')\n",
    "type_dummies=pd.get_dummies(data.type)\n",
    "data = pd.concat([data, type_dummies], axis=1)"
   ]
  },
  {
   "cell_type": "code",
   "execution_count": 64,
   "id": "962d3539",
   "metadata": {},
   "outputs": [
    {
     "data": {
      "text/html": [
       "<div>\n",
       "<style scoped>\n",
       "    .dataframe tbody tr th:only-of-type {\n",
       "        vertical-align: middle;\n",
       "    }\n",
       "\n",
       "    .dataframe tbody tr th {\n",
       "        vertical-align: top;\n",
       "    }\n",
       "\n",
       "    .dataframe thead th {\n",
       "        text-align: right;\n",
       "    }\n",
       "</style>\n",
       "<table border=\"1\" class=\"dataframe\">\n",
       "  <thead>\n",
       "    <tr style=\"text-align: right;\">\n",
       "      <th></th>\n",
       "      <th>name</th>\n",
       "      <th>price</th>\n",
       "      <th>unit_price</th>\n",
       "      <th>district_code</th>\n",
       "      <th>segment</th>\n",
       "      <th>type</th>\n",
       "      <th>area</th>\n",
       "      <th>level</th>\n",
       "      <th>remaining_years</th>\n",
       "      <th>date</th>\n",
       "      <th>New Sale</th>\n",
       "      <th>Resale</th>\n",
       "    </tr>\n",
       "  </thead>\n",
       "  <tbody>\n",
       "    <tr>\n",
       "      <th>0</th>\n",
       "      <td>SEASCAPE</td>\n",
       "      <td>4388000</td>\n",
       "      <td>2028</td>\n",
       "      <td>4</td>\n",
       "      <td>CCR</td>\n",
       "      <td>Resale</td>\n",
       "      <td>2164</td>\n",
       "      <td>06 to 10</td>\n",
       "      <td>87.0</td>\n",
       "      <td>Nov-19</td>\n",
       "      <td>0</td>\n",
       "      <td>1</td>\n",
       "    </tr>\n",
       "    <tr>\n",
       "      <th>1</th>\n",
       "      <td>COMMONWEALTH TOWERS</td>\n",
       "      <td>1300000</td>\n",
       "      <td>1887</td>\n",
       "      <td>3</td>\n",
       "      <td>RCR</td>\n",
       "      <td>Resale</td>\n",
       "      <td>689</td>\n",
       "      <td>16 to 20</td>\n",
       "      <td>93.0</td>\n",
       "      <td>Nov-19</td>\n",
       "      <td>0</td>\n",
       "      <td>1</td>\n",
       "    </tr>\n",
       "    <tr>\n",
       "      <th>2</th>\n",
       "      <td>THE TRILINQ</td>\n",
       "      <td>1755000</td>\n",
       "      <td>1304</td>\n",
       "      <td>5</td>\n",
       "      <td>OCR</td>\n",
       "      <td>Resale</td>\n",
       "      <td>1346</td>\n",
       "      <td>06 to 10</td>\n",
       "      <td>92.0</td>\n",
       "      <td>Nov-19</td>\n",
       "      <td>0</td>\n",
       "      <td>1</td>\n",
       "    </tr>\n",
       "    <tr>\n",
       "      <th>3</th>\n",
       "      <td>THE CREST</td>\n",
       "      <td>2085000</td>\n",
       "      <td>2201</td>\n",
       "      <td>3</td>\n",
       "      <td>RCR</td>\n",
       "      <td>Resale</td>\n",
       "      <td>947</td>\n",
       "      <td>01 to 05</td>\n",
       "      <td>92.0</td>\n",
       "      <td>Nov-19</td>\n",
       "      <td>0</td>\n",
       "      <td>1</td>\n",
       "    </tr>\n",
       "    <tr>\n",
       "      <th>4</th>\n",
       "      <td>THE ANCHORAGE</td>\n",
       "      <td>1848888</td>\n",
       "      <td>1468</td>\n",
       "      <td>3</td>\n",
       "      <td>RCR</td>\n",
       "      <td>Resale</td>\n",
       "      <td>1259</td>\n",
       "      <td>01 to 05</td>\n",
       "      <td>999.0</td>\n",
       "      <td>Nov-19</td>\n",
       "      <td>0</td>\n",
       "      <td>1</td>\n",
       "    </tr>\n",
       "    <tr>\n",
       "      <th>...</th>\n",
       "      <td>...</td>\n",
       "      <td>...</td>\n",
       "      <td>...</td>\n",
       "      <td>...</td>\n",
       "      <td>...</td>\n",
       "      <td>...</td>\n",
       "      <td>...</td>\n",
       "      <td>...</td>\n",
       "      <td>...</td>\n",
       "      <td>...</td>\n",
       "      <td>...</td>\n",
       "      <td>...</td>\n",
       "    </tr>\n",
       "    <tr>\n",
       "      <th>32163</th>\n",
       "      <td>SKIES MILTONIA</td>\n",
       "      <td>1268000</td>\n",
       "      <td>1178</td>\n",
       "      <td>27</td>\n",
       "      <td>OCR</td>\n",
       "      <td>Resale</td>\n",
       "      <td>1076</td>\n",
       "      <td>11 to 15</td>\n",
       "      <td>95.0</td>\n",
       "      <td>Nov-16</td>\n",
       "      <td>0</td>\n",
       "      <td>1</td>\n",
       "    </tr>\n",
       "    <tr>\n",
       "      <th>32164</th>\n",
       "      <td>SYMPHONY SUITES</td>\n",
       "      <td>824000</td>\n",
       "      <td>1034</td>\n",
       "      <td>27</td>\n",
       "      <td>OCR</td>\n",
       "      <td>New Sale</td>\n",
       "      <td>797</td>\n",
       "      <td>06 to 10</td>\n",
       "      <td>97.0</td>\n",
       "      <td>Nov-16</td>\n",
       "      <td>1</td>\n",
       "      <td>0</td>\n",
       "    </tr>\n",
       "    <tr>\n",
       "      <th>32165</th>\n",
       "      <td>SELETARIS</td>\n",
       "      <td>1250000</td>\n",
       "      <td>754</td>\n",
       "      <td>27</td>\n",
       "      <td>OCR</td>\n",
       "      <td>Resale</td>\n",
       "      <td>1658</td>\n",
       "      <td>01 to 05</td>\n",
       "      <td>999.0</td>\n",
       "      <td>Nov-16</td>\n",
       "      <td>0</td>\n",
       "      <td>1</td>\n",
       "    </tr>\n",
       "    <tr>\n",
       "      <th>32166</th>\n",
       "      <td>RIVERBANK @ FERNVALE</td>\n",
       "      <td>1082000</td>\n",
       "      <td>1026</td>\n",
       "      <td>28</td>\n",
       "      <td>OCR</td>\n",
       "      <td>New Sale</td>\n",
       "      <td>1055</td>\n",
       "      <td>16 to 20</td>\n",
       "      <td>96.0</td>\n",
       "      <td>Nov-16</td>\n",
       "      <td>1</td>\n",
       "      <td>0</td>\n",
       "    </tr>\n",
       "    <tr>\n",
       "      <th>32167</th>\n",
       "      <td>THE ESTUARY</td>\n",
       "      <td>610000</td>\n",
       "      <td>1012</td>\n",
       "      <td>27</td>\n",
       "      <td>OCR</td>\n",
       "      <td>Resale</td>\n",
       "      <td>603</td>\n",
       "      <td>01 to 05</td>\n",
       "      <td>91.0</td>\n",
       "      <td>Nov-16</td>\n",
       "      <td>0</td>\n",
       "      <td>1</td>\n",
       "    </tr>\n",
       "  </tbody>\n",
       "</table>\n",
       "<p>32168 rows × 12 columns</p>\n",
       "</div>"
      ],
      "text/plain": [
       "                       name    price  unit_price  district_code segment  \\\n",
       "0                  SEASCAPE  4388000        2028              4     CCR   \n",
       "1       COMMONWEALTH TOWERS  1300000        1887              3     RCR   \n",
       "2               THE TRILINQ  1755000        1304              5     OCR   \n",
       "3                 THE CREST  2085000        2201              3     RCR   \n",
       "4             THE ANCHORAGE  1848888        1468              3     RCR   \n",
       "...                     ...      ...         ...            ...     ...   \n",
       "32163        SKIES MILTONIA  1268000        1178             27     OCR   \n",
       "32164       SYMPHONY SUITES   824000        1034             27     OCR   \n",
       "32165             SELETARIS  1250000         754             27     OCR   \n",
       "32166  RIVERBANK @ FERNVALE  1082000        1026             28     OCR   \n",
       "32167           THE ESTUARY   610000        1012             27     OCR   \n",
       "\n",
       "           type  area     level  remaining_years    date  New Sale  Resale  \n",
       "0        Resale  2164  06 to 10             87.0  Nov-19         0       1  \n",
       "1        Resale   689  16 to 20             93.0  Nov-19         0       1  \n",
       "2        Resale  1346  06 to 10             92.0  Nov-19         0       1  \n",
       "3        Resale   947  01 to 05             92.0  Nov-19         0       1  \n",
       "4        Resale  1259  01 to 05            999.0  Nov-19         0       1  \n",
       "...         ...   ...       ...              ...     ...       ...     ...  \n",
       "32163    Resale  1076  11 to 15             95.0  Nov-16         0       1  \n",
       "32164  New Sale   797  06 to 10             97.0  Nov-16         1       0  \n",
       "32165    Resale  1658  01 to 05            999.0  Nov-16         0       1  \n",
       "32166  New Sale  1055  16 to 20             96.0  Nov-16         1       0  \n",
       "32167    Resale   603  01 to 05             91.0  Nov-16         0       1  \n",
       "\n",
       "[32168 rows x 12 columns]"
      ]
     },
     "execution_count": 64,
     "metadata": {},
     "output_type": "execute_result"
    }
   ],
   "source": [
    "data"
   ]
  },
  {
   "cell_type": "markdown",
   "id": "42c800d3",
   "metadata": {},
   "source": [
    "Option 2: Use scikit-learn OneHotEncoder\n",
    "    \n",
    "https://scikit-learn.org/stable/modules/generated/sklearn.preprocessing.OneHotEncoder.html"
   ]
  },
  {
   "cell_type": "markdown",
   "id": "af56fde5",
   "metadata": {},
   "source": [
    "## Case Study: Condo Data Set"
   ]
  },
  {
   "cell_type": "markdown",
   "id": "29321d81",
   "metadata": {},
   "source": [
    "### Ordinary Least Square (OLS) model"
   ]
  },
  {
   "cell_type": "code",
   "execution_count": 45,
   "id": "619ea929",
   "metadata": {},
   "outputs": [],
   "source": [
    "import statsmodels.formula.api as smf"
   ]
  },
  {
   "cell_type": "code",
   "execution_count": 47,
   "id": "94eb4de0",
   "metadata": {},
   "outputs": [],
   "source": [
    "d5_condo = data.loc[(data['district_code']==5) & \n",
    "                    (data['area']<1500) & \n",
    "                    (data['remaining_years']<100)]"
   ]
  },
  {
   "cell_type": "code",
   "execution_count": 49,
   "id": "191fb5a9",
   "metadata": {},
   "outputs": [
    {
     "data": {
      "text/html": [
       "<div>\n",
       "<style scoped>\n",
       "    .dataframe tbody tr th:only-of-type {\n",
       "        vertical-align: middle;\n",
       "    }\n",
       "\n",
       "    .dataframe tbody tr th {\n",
       "        vertical-align: top;\n",
       "    }\n",
       "\n",
       "    .dataframe thead th {\n",
       "        text-align: right;\n",
       "    }\n",
       "</style>\n",
       "<table border=\"1\" class=\"dataframe\">\n",
       "  <thead>\n",
       "    <tr style=\"text-align: right;\">\n",
       "      <th></th>\n",
       "      <th>name</th>\n",
       "      <th>price</th>\n",
       "      <th>unit_price</th>\n",
       "      <th>district_code</th>\n",
       "      <th>segment</th>\n",
       "      <th>type</th>\n",
       "      <th>area</th>\n",
       "      <th>level</th>\n",
       "      <th>remaining_years</th>\n",
       "      <th>date</th>\n",
       "    </tr>\n",
       "  </thead>\n",
       "  <tbody>\n",
       "    <tr>\n",
       "      <th>2</th>\n",
       "      <td>THE TRILINQ</td>\n",
       "      <td>1755000</td>\n",
       "      <td>1304</td>\n",
       "      <td>5</td>\n",
       "      <td>OCR</td>\n",
       "      <td>Resale</td>\n",
       "      <td>1346</td>\n",
       "      <td>06 to 10</td>\n",
       "      <td>92.0</td>\n",
       "      <td>Nov-19</td>\n",
       "    </tr>\n",
       "    <tr>\n",
       "      <th>6</th>\n",
       "      <td>BLUE HORIZON</td>\n",
       "      <td>990000</td>\n",
       "      <td>1022</td>\n",
       "      <td>5</td>\n",
       "      <td>OCR</td>\n",
       "      <td>Resale</td>\n",
       "      <td>969</td>\n",
       "      <td>21 to 25</td>\n",
       "      <td>80.0</td>\n",
       "      <td>Oct-19</td>\n",
       "    </tr>\n",
       "    <tr>\n",
       "      <th>7</th>\n",
       "      <td>DOVER PARKVIEW</td>\n",
       "      <td>1088000</td>\n",
       "      <td>1162</td>\n",
       "      <td>5</td>\n",
       "      <td>RCR</td>\n",
       "      <td>Resale</td>\n",
       "      <td>936</td>\n",
       "      <td>06 to 10</td>\n",
       "      <td>73.0</td>\n",
       "      <td>Oct-19</td>\n",
       "    </tr>\n",
       "    <tr>\n",
       "      <th>10</th>\n",
       "      <td>WESTCOVE CONDOMINIUM</td>\n",
       "      <td>970000</td>\n",
       "      <td>834</td>\n",
       "      <td>5</td>\n",
       "      <td>OCR</td>\n",
       "      <td>Resale</td>\n",
       "      <td>1163</td>\n",
       "      <td>01 to 05</td>\n",
       "      <td>75.0</td>\n",
       "      <td>Oct-19</td>\n",
       "    </tr>\n",
       "    <tr>\n",
       "      <th>14</th>\n",
       "      <td>FABER CREST</td>\n",
       "      <td>950000</td>\n",
       "      <td>919</td>\n",
       "      <td>5</td>\n",
       "      <td>OCR</td>\n",
       "      <td>Resale</td>\n",
       "      <td>1033</td>\n",
       "      <td>01 to 05</td>\n",
       "      <td>76.0</td>\n",
       "      <td>Oct-19</td>\n",
       "    </tr>\n",
       "  </tbody>\n",
       "</table>\n",
       "</div>"
      ],
      "text/plain": [
       "                    name    price  unit_price  district_code segment    type  \\\n",
       "2            THE TRILINQ  1755000        1304              5     OCR  Resale   \n",
       "6           BLUE HORIZON   990000        1022              5     OCR  Resale   \n",
       "7         DOVER PARKVIEW  1088000        1162              5     RCR  Resale   \n",
       "10  WESTCOVE CONDOMINIUM   970000         834              5     OCR  Resale   \n",
       "14           FABER CREST   950000         919              5     OCR  Resale   \n",
       "\n",
       "    area     level  remaining_years    date  \n",
       "2   1346  06 to 10             92.0  Nov-19  \n",
       "6    969  21 to 25             80.0  Oct-19  \n",
       "7    936  06 to 10             73.0  Oct-19  \n",
       "10  1163  01 to 05             75.0  Oct-19  \n",
       "14  1033  01 to 05             76.0  Oct-19  "
      ]
     },
     "execution_count": 49,
     "metadata": {},
     "output_type": "execute_result"
    }
   ],
   "source": [
    "d5_condo.head()"
   ]
  },
  {
   "cell_type": "markdown",
   "id": "f16964b0",
   "metadata": {},
   "source": [
    "#### Categorical variable 'type' with 2 values"
   ]
  },
  {
   "cell_type": "code",
   "execution_count": 51,
   "id": "a6c604cf",
   "metadata": {},
   "outputs": [
    {
     "data": {
      "text/plain": [
       "array(['New Sale', 'Resale'], dtype=object)"
      ]
     },
     "execution_count": 51,
     "metadata": {},
     "output_type": "execute_result"
    }
   ],
   "source": [
    "np.unique(d5_condo['type'])"
   ]
  },
  {
   "cell_type": "markdown",
   "id": "207d601e",
   "metadata": {},
   "source": [
    "#### Categorical variable 'segment' with more than 2 values"
   ]
  },
  {
   "cell_type": "code",
   "execution_count": 52,
   "id": "2b2d43aa",
   "metadata": {},
   "outputs": [
    {
     "data": {
      "text/html": [
       "<div>\n",
       "<style scoped>\n",
       "    .dataframe tbody tr th:only-of-type {\n",
       "        vertical-align: middle;\n",
       "    }\n",
       "\n",
       "    .dataframe tbody tr th {\n",
       "        vertical-align: top;\n",
       "    }\n",
       "\n",
       "    .dataframe thead th {\n",
       "        text-align: right;\n",
       "    }\n",
       "</style>\n",
       "<table border=\"1\" class=\"dataframe\">\n",
       "  <thead>\n",
       "    <tr style=\"text-align: right;\">\n",
       "      <th></th>\n",
       "      <th>name</th>\n",
       "      <th>price</th>\n",
       "      <th>unit_price</th>\n",
       "      <th>district_code</th>\n",
       "      <th>segment</th>\n",
       "      <th>type</th>\n",
       "      <th>area</th>\n",
       "      <th>level</th>\n",
       "      <th>remaining_years</th>\n",
       "      <th>date</th>\n",
       "    </tr>\n",
       "  </thead>\n",
       "  <tbody>\n",
       "    <tr>\n",
       "      <th>1</th>\n",
       "      <td>COMMONWEALTH TOWERS</td>\n",
       "      <td>1300000</td>\n",
       "      <td>1887</td>\n",
       "      <td>3</td>\n",
       "      <td>RCR</td>\n",
       "      <td>Resale</td>\n",
       "      <td>689</td>\n",
       "      <td>16 to 20</td>\n",
       "      <td>93.0</td>\n",
       "      <td>Nov-19</td>\n",
       "    </tr>\n",
       "    <tr>\n",
       "      <th>2</th>\n",
       "      <td>THE TRILINQ</td>\n",
       "      <td>1755000</td>\n",
       "      <td>1304</td>\n",
       "      <td>5</td>\n",
       "      <td>OCR</td>\n",
       "      <td>Resale</td>\n",
       "      <td>1346</td>\n",
       "      <td>06 to 10</td>\n",
       "      <td>92.0</td>\n",
       "      <td>Nov-19</td>\n",
       "    </tr>\n",
       "    <tr>\n",
       "      <th>3</th>\n",
       "      <td>THE CREST</td>\n",
       "      <td>2085000</td>\n",
       "      <td>2201</td>\n",
       "      <td>3</td>\n",
       "      <td>RCR</td>\n",
       "      <td>Resale</td>\n",
       "      <td>947</td>\n",
       "      <td>01 to 05</td>\n",
       "      <td>92.0</td>\n",
       "      <td>Nov-19</td>\n",
       "    </tr>\n",
       "    <tr>\n",
       "      <th>4</th>\n",
       "      <td>THE ANCHORAGE</td>\n",
       "      <td>1848888</td>\n",
       "      <td>1468</td>\n",
       "      <td>3</td>\n",
       "      <td>RCR</td>\n",
       "      <td>Resale</td>\n",
       "      <td>1259</td>\n",
       "      <td>01 to 05</td>\n",
       "      <td>999.0</td>\n",
       "      <td>Nov-19</td>\n",
       "    </tr>\n",
       "    <tr>\n",
       "      <th>6</th>\n",
       "      <td>BLUE HORIZON</td>\n",
       "      <td>990000</td>\n",
       "      <td>1022</td>\n",
       "      <td>5</td>\n",
       "      <td>OCR</td>\n",
       "      <td>Resale</td>\n",
       "      <td>969</td>\n",
       "      <td>21 to 25</td>\n",
       "      <td>80.0</td>\n",
       "      <td>Oct-19</td>\n",
       "    </tr>\n",
       "    <tr>\n",
       "      <th>7</th>\n",
       "      <td>DOVER PARKVIEW</td>\n",
       "      <td>1088000</td>\n",
       "      <td>1162</td>\n",
       "      <td>5</td>\n",
       "      <td>RCR</td>\n",
       "      <td>Resale</td>\n",
       "      <td>936</td>\n",
       "      <td>06 to 10</td>\n",
       "      <td>73.0</td>\n",
       "      <td>Oct-19</td>\n",
       "    </tr>\n",
       "    <tr>\n",
       "      <th>8</th>\n",
       "      <td>CARIBBEAN AT KEPPEL BAY</td>\n",
       "      <td>1470000</td>\n",
       "      <td>1751</td>\n",
       "      <td>4</td>\n",
       "      <td>RCR</td>\n",
       "      <td>Resale</td>\n",
       "      <td>840</td>\n",
       "      <td>06 to 10</td>\n",
       "      <td>79.0</td>\n",
       "      <td>Oct-19</td>\n",
       "    </tr>\n",
       "    <tr>\n",
       "      <th>10</th>\n",
       "      <td>WESTCOVE CONDOMINIUM</td>\n",
       "      <td>970000</td>\n",
       "      <td>834</td>\n",
       "      <td>5</td>\n",
       "      <td>OCR</td>\n",
       "      <td>Resale</td>\n",
       "      <td>1163</td>\n",
       "      <td>01 to 05</td>\n",
       "      <td>75.0</td>\n",
       "      <td>Oct-19</td>\n",
       "    </tr>\n",
       "    <tr>\n",
       "      <th>12</th>\n",
       "      <td>REFLECTIONS AT KEPPEL BAY</td>\n",
       "      <td>2056000</td>\n",
       "      <td>1661</td>\n",
       "      <td>4</td>\n",
       "      <td>RCR</td>\n",
       "      <td>Resale</td>\n",
       "      <td>1238</td>\n",
       "      <td>06 to 10</td>\n",
       "      <td>86.0</td>\n",
       "      <td>Oct-19</td>\n",
       "    </tr>\n",
       "    <tr>\n",
       "      <th>13</th>\n",
       "      <td>COMMONWEALTH TOWERS</td>\n",
       "      <td>1300000</td>\n",
       "      <td>1887</td>\n",
       "      <td>3</td>\n",
       "      <td>RCR</td>\n",
       "      <td>Resale</td>\n",
       "      <td>689</td>\n",
       "      <td>16 to 20</td>\n",
       "      <td>93.0</td>\n",
       "      <td>Oct-19</td>\n",
       "    </tr>\n",
       "  </tbody>\n",
       "</table>\n",
       "</div>"
      ],
      "text/plain": [
       "                         name    price  unit_price  district_code segment  \\\n",
       "1         COMMONWEALTH TOWERS  1300000        1887              3     RCR   \n",
       "2                 THE TRILINQ  1755000        1304              5     OCR   \n",
       "3                   THE CREST  2085000        2201              3     RCR   \n",
       "4               THE ANCHORAGE  1848888        1468              3     RCR   \n",
       "6                BLUE HORIZON   990000        1022              5     OCR   \n",
       "7              DOVER PARKVIEW  1088000        1162              5     RCR   \n",
       "8     CARIBBEAN AT KEPPEL BAY  1470000        1751              4     RCR   \n",
       "10       WESTCOVE CONDOMINIUM   970000         834              5     OCR   \n",
       "12  REFLECTIONS AT KEPPEL BAY  2056000        1661              4     RCR   \n",
       "13        COMMONWEALTH TOWERS  1300000        1887              3     RCR   \n",
       "\n",
       "      type  area     level  remaining_years    date  \n",
       "1   Resale   689  16 to 20             93.0  Nov-19  \n",
       "2   Resale  1346  06 to 10             92.0  Nov-19  \n",
       "3   Resale   947  01 to 05             92.0  Nov-19  \n",
       "4   Resale  1259  01 to 05            999.0  Nov-19  \n",
       "6   Resale   969  21 to 25             80.0  Oct-19  \n",
       "7   Resale   936  06 to 10             73.0  Oct-19  \n",
       "8   Resale   840  06 to 10             79.0  Oct-19  \n",
       "10  Resale  1163  01 to 05             75.0  Oct-19  \n",
       "12  Resale  1238  06 to 10             86.0  Oct-19  \n",
       "13  Resale   689  16 to 20             93.0  Oct-19  "
      ]
     },
     "execution_count": 52,
     "metadata": {},
     "output_type": "execute_result"
    }
   ],
   "source": [
    "small_condo = data.loc[data['area'] < 1500]\n",
    "small_condo.head(10)"
   ]
  },
  {
   "cell_type": "code",
   "execution_count": 54,
   "id": "5a134b2b",
   "metadata": {},
   "outputs": [
    {
     "data": {
      "text/plain": [
       "array(['CCR', 'OCR', 'RCR'], dtype=object)"
      ]
     },
     "execution_count": 54,
     "metadata": {},
     "output_type": "execute_result"
    }
   ],
   "source": [
    "np.unique(small_condo['segment'])"
   ]
  },
  {
   "cell_type": "markdown",
   "id": "d9bc63ec",
   "metadata": {},
   "source": [
    "#### Interaction terms"
   ]
  },
  {
   "cell_type": "code",
   "execution_count": null,
   "id": "3533fcac",
   "metadata": {},
   "outputs": [],
   "source": []
  },
  {
   "cell_type": "markdown",
   "id": "630a9f9a",
   "metadata": {},
   "source": [
    "#### How to treat numbers as categorical variables"
   ]
  },
  {
   "cell_type": "code",
   "execution_count": 55,
   "id": "ee94d04d",
   "metadata": {},
   "outputs": [
    {
     "name": "stdout",
     "output_type": "stream",
     "text": [
      "                            OLS Regression Results                            \n",
      "==============================================================================\n",
      "Dep. Variable:                  price   R-squared:                       0.448\n",
      "Model:                            OLS   Adj. R-squared:                  0.448\n",
      "Method:                 Least Squares   F-statistic:                 1.075e+04\n",
      "Date:                Mon, 17 Apr 2023   Prob (F-statistic):               0.00\n",
      "Time:                        20:27:08   Log-Likelihood:            -3.7747e+05\n",
      "No. Observations:               26480   AIC:                         7.550e+05\n",
      "Df Residuals:                   26477   BIC:                         7.550e+05\n",
      "Df Model:                           2                                         \n",
      "Covariance Type:            nonrobust                                         \n",
      "=================================================================================\n",
      "                    coef    std err          t      P>|t|      [0.025      0.975]\n",
      "---------------------------------------------------------------------------------\n",
      "Intercept      7.477e+05   9347.102     79.991      0.000    7.29e+05    7.66e+05\n",
      "district_code -2.798e+04    338.519    -82.662      0.000   -2.86e+04   -2.73e+04\n",
      "area            999.3194      7.989    125.080      0.000     983.660    1014.979\n",
      "==============================================================================\n",
      "Omnibus:                    10241.560   Durbin-Watson:                   1.149\n",
      "Prob(Omnibus):                  0.000   Jarque-Bera (JB):            66089.417\n",
      "Skew:                           1.726   Prob(JB):                         0.00\n",
      "Kurtosis:                       9.927   Cond. No.                     4.08e+03\n",
      "==============================================================================\n",
      "\n",
      "Notes:\n",
      "[1] Standard Errors assume that the covariance matrix of the errors is correctly specified.\n",
      "[2] The condition number is large, 4.08e+03. This might indicate that there are\n",
      "strong multicollinearity or other numerical problems.\n"
     ]
    }
   ],
   "source": [
    "small_condo_model = smf.ols('price ~ district_code + area', data=small_condo)\n",
    "result = small_condo_model.fit()\n",
    "print(result.summary())"
   ]
  },
  {
   "cell_type": "code",
   "execution_count": null,
   "id": "dfc3a03e",
   "metadata": {},
   "outputs": [],
   "source": []
  },
  {
   "cell_type": "markdown",
   "id": "195396a0",
   "metadata": {},
   "source": [
    "## Case Study: Wage Data Set"
   ]
  },
  {
   "cell_type": "markdown",
   "id": "87eb9940",
   "metadata": {},
   "source": [
    "### OLS with nonlinear terms"
   ]
  },
  {
   "cell_type": "code",
   "execution_count": null,
   "id": "2ccfdabb",
   "metadata": {},
   "outputs": [],
   "source": [
    "wage = pd.read_csv('wage.csv')\n",
    "wage_female = wage.loc[wage['female']==1]\n",
    "wage_female.head()"
   ]
  },
  {
   "cell_type": "markdown",
   "id": "30b1eec4",
   "metadata": {},
   "source": [
    "Can the relationship be fitted to a straight line?"
   ]
  },
  {
   "cell_type": "code",
   "execution_count": null,
   "id": "80a70576",
   "metadata": {},
   "outputs": [],
   "source": [
    "plt.figure(figsize=(4.5, 3.5))\n",
    "plt.scatter(wage_female['exper'], wage_female['wage'], \n",
    "            c='b', alpha=0.3)\n",
    "\n",
    "plt.xlabel('Working experience (years)', fontsize=13)\n",
    "plt.ylabel('Hourly wage (Dollars)', fontsize=13)\n",
    "plt.show()"
   ]
  },
  {
   "cell_type": "markdown",
   "id": "f20f55bb",
   "metadata": {},
   "source": [
    "Let's try Model 1\n",
    "$$\n",
    "y_{wage} = \\beta_0 + \\beta_1 x_{exper}\n",
    "$$\n",
    "   "
   ]
  },
  {
   "cell_type": "code",
   "execution_count": null,
   "id": "8a43b482",
   "metadata": {},
   "outputs": [],
   "source": []
  },
  {
   "cell_type": "markdown",
   "id": "9dc6c58c",
   "metadata": {},
   "source": [
    "Let's try Model 2 \n",
    "\n",
    "$$\n",
    "y_{wage} = \\beta_0 + \\beta_1 x_{exper} + \\beta_2 \\sqrt{x_{exper}}\n",
    "$$\n",
    "   "
   ]
  },
  {
   "cell_type": "code",
   "execution_count": null,
   "id": "cfea88e0",
   "metadata": {},
   "outputs": [],
   "source": []
  },
  {
   "cell_type": "markdown",
   "id": "88f4b7ad",
   "metadata": {},
   "source": [
    "Let's try Model 3\n",
    "\n",
    "$$\n",
    "log(y_{wage}) = \\beta_0 + \\beta_1 x_{exper} + \\beta_2 \\sqrt{x_{exper}}\n",
    "$$\n",
    "   "
   ]
  },
  {
   "cell_type": "code",
   "execution_count": null,
   "id": "5a634dfd",
   "metadata": {},
   "outputs": [],
   "source": []
  },
  {
   "cell_type": "markdown",
   "id": "7d5a2a0d",
   "metadata": {},
   "source": [
    "## Coding exercise"
   ]
  },
  {
   "cell_type": "markdown",
   "id": "811a5489",
   "metadata": {},
   "source": [
    "Load insurance.csv first with pd.read_csv()"
   ]
  },
  {
   "cell_type": "code",
   "execution_count": null,
   "id": "9073948d",
   "metadata": {},
   "outputs": [],
   "source": [
    "insurance_data=pd.read_csv('insurance.csv')"
   ]
  },
  {
   "cell_type": "markdown",
   "id": "ee638713",
   "metadata": {},
   "source": [
    "Questions for exploration:\n",
    "\n",
    "- Which variable is the y?\n",
    "- Which variables are categorical? Which ones are numerical?\n",
    "- Any interaction terms?\n",
    "- Any non-linear terms?"
   ]
  },
  {
   "cell_type": "code",
   "execution_count": 58,
   "id": "baf28c89",
   "metadata": {},
   "outputs": [],
   "source": [
    "import wrds"
   ]
  },
  {
   "cell_type": "code",
   "execution_count": null,
   "id": "c8a66622",
   "metadata": {},
   "outputs": [],
   "source": [
    "db=wrds.Connection()"
   ]
  },
  {
   "cell_type": "code",
   "execution_count": null,
   "id": "fdba6fc6",
   "metadata": {},
   "outputs": [],
   "source": []
  },
  {
   "cell_type": "code",
   "execution_count": null,
   "id": "6515f7c2",
   "metadata": {},
   "outputs": [],
   "source": []
  },
  {
   "cell_type": "code",
   "execution_count": null,
   "id": "ba9ab680",
   "metadata": {},
   "outputs": [],
   "source": []
  },
  {
   "cell_type": "code",
   "execution_count": null,
   "id": "6d87ffb0",
   "metadata": {},
   "outputs": [],
   "source": []
  },
  {
   "cell_type": "code",
   "execution_count": null,
   "id": "831a6dba",
   "metadata": {},
   "outputs": [],
   "source": []
  },
  {
   "cell_type": "code",
   "execution_count": null,
   "id": "fcfb1917",
   "metadata": {},
   "outputs": [],
   "source": []
  }
 ],
 "metadata": {
  "kernelspec": {
   "display_name": "Python 3 (ipykernel)",
   "language": "python",
   "name": "python3"
  },
  "language_info": {
   "codemirror_mode": {
    "name": "ipython",
    "version": 3
   },
   "file_extension": ".py",
   "mimetype": "text/x-python",
   "name": "python",
   "nbconvert_exporter": "python",
   "pygments_lexer": "ipython3",
   "version": "3.9.13"
  }
 },
 "nbformat": 4,
 "nbformat_minor": 5
}
