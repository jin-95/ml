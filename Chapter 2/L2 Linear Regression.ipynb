{
 "cells": [
  {
   "cell_type": "markdown",
   "id": "0489c370",
   "metadata": {},
   "source": [
    "## Case Study: Advertising Data"
   ]
  },
  {
   "cell_type": "code",
   "execution_count": 1,
   "id": "2970b647",
   "metadata": {},
   "outputs": [],
   "source": [
    "# imports\n",
    "import numpy as np\n",
    "import pandas as pd\n",
    "import seaborn as sns\n",
    "import matplotlib.pyplot as plt\n",
    "from sklearn.linear_model import LinearRegression\n",
    "from sklearn import metrics\n",
    "from sklearn.model_selection import train_test_split\n",
    "\n",
    "# allow plots to appear directly in the notebook\n",
    "%matplotlib inline\n",
    "sns.set()"
   ]
  },
  {
   "cell_type": "markdown",
   "id": "d2865105",
   "metadata": {},
   "source": [
    "### Read data into a DataFrame\n",
    "\n",
    "Use pandas.read_csv() to load data into a dataframe. \n",
    "\n",
    "The data can be a file on your computer or even a file from an online source."
   ]
  },
  {
   "cell_type": "code",
   "execution_count": null,
   "id": "17955293",
   "metadata": {},
   "outputs": [],
   "source": [
    "data = pd.read_csv('Advertising.csv', index_col=0)   \n",
    "#index_col=0 sets the first col in csv file as row index\n",
    "data.head()"
   ]
  },
  {
   "cell_type": "markdown",
   "id": "1cc89c33",
   "metadata": {},
   "source": [
    "What are the input variables?\n",
    "- TV: advertising dollars spent on TV for a single product in a given market \n",
    "- Radio: advertising dollars spent on Radio\n",
    "- Newspaper: advertising dollars spent on Newspaper\n",
    "\n",
    "All above are in thousands of dollars.\n",
    "\n",
    "What is the target variable?\n",
    "- Sales: sales of a single product in a given market (in thousands of widgets)"
   ]
  },
  {
   "cell_type": "markdown",
   "id": "518b2fcd",
   "metadata": {},
   "source": [
    "### Exploratory Data Analysis"
   ]
  },
  {
   "cell_type": "markdown",
   "id": "42f7cccd",
   "metadata": {},
   "source": [
    "Show the shape of the DataFrame"
   ]
  },
  {
   "cell_type": "code",
   "execution_count": null,
   "id": "1450ee65",
   "metadata": {},
   "outputs": [],
   "source": [
    "data.shape"
   ]
  },
  {
   "cell_type": "markdown",
   "id": "65b1237d",
   "metadata": {},
   "source": [
    "Get a high level overview of the data: column name, column types and any potential missing values."
   ]
  },
  {
   "cell_type": "code",
   "execution_count": null,
   "id": "dfd250bd",
   "metadata": {},
   "outputs": [],
   "source": [
    "data.info()"
   ]
  },
  {
   "cell_type": "markdown",
   "id": "79e251a1",
   "metadata": {},
   "source": [
    "Get a high level summary of each numerical column"
   ]
  },
  {
   "cell_type": "code",
   "execution_count": null,
   "id": "8392589f",
   "metadata": {},
   "outputs": [],
   "source": [
    "data.describe()"
   ]
  },
  {
   "cell_type": "markdown",
   "id": "b93d858b",
   "metadata": {},
   "source": [
    "Any missing values or no illogical values (i.e negative quantities)? If not, this is a clean data set."
   ]
  },
  {
   "cell_type": "markdown",
   "id": "99f1a2b2",
   "metadata": {},
   "source": [
    "### Simple Linear Regression"
   ]
  },
  {
   "cell_type": "markdown",
   "id": "ac0f3dd1",
   "metadata": {},
   "source": [
    "#### Relationship between sales and Newspaper spend\n",
    "\n",
    "$$y = \\beta_0 + \\beta_1x$$\n",
    "- $y$ is the target variable, i.e. the sales\n",
    "- $x$ corresponds to the input variable, i.e. Newspaper spend\n",
    "- $\\beta_0$ is the intercept with the y-axis\n",
    "- $\\beta_1$ is the coefficient for the input variable"
   ]
  },
  {
   "cell_type": "markdown",
   "id": "67962d6e",
   "metadata": {},
   "source": [
    "Prepare the data"
   ]
  },
  {
   "cell_type": "code",
   "execution_count": null,
   "id": "493ca03a",
   "metadata": {},
   "outputs": [],
   "source": [
    "# create x and y\n",
    "feature_cols = ['Newspaper']\n",
    "x_orig = data.loc[:,feature_cols].values \n",
    "# feature_cols must be a list of column names, even if just 1 col\n",
    "# x for linear regression must be 2D array (x cannot be 1D flat array)\n",
    "display(x_orig[:5])\n",
    "\n",
    "y = data.loc[:,\"Sales\"]\n",
    "\n",
    "y = data['Sales'] #alternative\n",
    "\n",
    "display(y[:5])"
   ]
  },
  {
   "cell_type": "markdown",
   "id": "05ae46a9",
   "metadata": {},
   "source": [
    "#### Use LinearRegression model \n",
    "\n",
    "Objective: minimize the **sum of squared residuals (SSR)**\n",
    "$$\n",
    "\\min~\\text{SSR} = \\min\\sum\\limits_{i=1}^nu_i^2 = \\min\\sum\\limits_{i=1}^n(y_i - \\hat{y}_i)^2. \n",
    "$$"
   ]
  },
  {
   "cell_type": "code",
   "execution_count": null,
   "id": "36052967",
   "metadata": {},
   "outputs": [],
   "source": [
    "# create LinearRegression object and fit\n",
    "lm = LinearRegression()\n",
    "lm.fit(x_orig, y)\n",
    "\n",
    "# print the results\n",
    "print(lm.intercept_)\n",
    "print(lm.coef_)"
   ]
  },
  {
   "cell_type": "markdown",
   "id": "ba2899a1",
   "metadata": {},
   "source": [
    "#### Using the Model for Prediction\n",
    "\n",
    "Let's say that there were 2 new markets where the Newspaper advertising spend was **\\$100,000** and **\\$200,000**. What would we predict for the Sales in that market?\n",
    "\n",
    "$$y_1 = 12.3514 + 0.05469 \\times 100$$\n",
    "$$y_2 = 12.3514 + 0.05469 \\times 200$$"
   ]
  },
  {
   "cell_type": "code",
   "execution_count": null,
   "id": "4335a91b",
   "metadata": {},
   "outputs": [],
   "source": [
    "x_new = np.array([  [100],[200]   ]) \n",
    "# x must be 2D array with multiple rows and 1 column; x cannot be 1D array\n",
    "y_pred = lm.predict(x_new)\n",
    "y_pred"
   ]
  },
  {
   "cell_type": "markdown",
   "id": "0dde4d2f",
   "metadata": {},
   "source": [
    "#### How Well Does the Model Fit the data?\n",
    "Let's feed the original Newspaper column back to the trained linear model to get the predicted y value by the model"
   ]
  },
  {
   "cell_type": "code",
   "execution_count": null,
   "id": "436052b2",
   "metadata": {},
   "outputs": [],
   "source": [
    "y_pred = lm.predict(x_orig)"
   ]
  },
  {
   "cell_type": "markdown",
   "id": "568ad4c9",
   "metadata": {},
   "source": [
    "Use a plot to check if the prediction (linear model) fits the original data (Newspaper spend vs. Sales) well"
   ]
  },
  {
   "cell_type": "code",
   "execution_count": null,
   "id": "df22799d",
   "metadata": {},
   "outputs": [],
   "source": [
    "# Plot the original data set on a scatterplot\n",
    "sns.scatterplot(x=data['Newspaper'], y=y)\n",
    "\n",
    "# plot the linear fit as a lineplot\n",
    "sns.lineplot(x=data['Newspaper'], y=y_pred, color=\"orange\")"
   ]
  },
  {
   "cell_type": "markdown",
   "id": "c465914e",
   "metadata": {},
   "source": [
    "#### Mean Squared Error (MSE) and Root Mean Squared Error (RMSE) "
   ]
  },
  {
   "cell_type": "code",
   "execution_count": null,
   "id": "dfa402a3",
   "metadata": {},
   "outputs": [],
   "source": [
    "from sklearn.metrics import mean_squared_error\n",
    "mse = mean_squared_error(y, y_pred)\n",
    "print(\"MSE:\", mse, \"RMSE:\", np.sqrt(mse))"
   ]
  },
  {
   "cell_type": "markdown",
   "id": "ae00e565",
   "metadata": {},
   "source": [
    "#### R-Squared\n",
    "\n",
    "$$\n",
    "  R^2 = 1 - \\frac{\\sum_i (y_i - \\hat{y}_i)^2}{\\sum_i (y_i - \\bar{y})^2}\n",
    "  $$\n",
    "\n"
   ]
  },
  {
   "cell_type": "code",
   "execution_count": null,
   "id": "ab7f8983",
   "metadata": {},
   "outputs": [],
   "source": [
    "lm.score(x_orig, y)"
   ]
  },
  {
   "cell_type": "markdown",
   "id": "fcdecd88",
   "metadata": {},
   "source": [
    "### Multiple Linear Regression"
   ]
  },
  {
   "cell_type": "markdown",
   "id": "1d635752",
   "metadata": {},
   "source": [
    "Let's now consider all input variables, TV, Newspaper, Radio"
   ]
  },
  {
   "cell_type": "code",
   "execution_count": null,
   "id": "3fd8f049",
   "metadata": {},
   "outputs": [],
   "source": [
    "x_all = data.loc[:, 'TV':'Newspaper']\n",
    "y = data.loc[:,\"Sales\"]\n",
    "\n",
    "# create a LinearRegression model\n",
    "lm_all_sklearn = LinearRegression()\n",
    "\n",
    "lm_all_sklearn.fit(x_all, y)\n",
    "print(lm_all_sklearn.intercept_)\n",
    "print(lm_all_sklearn.coef_)\n",
    "\n",
    "#R2 score\n",
    "lm_all_sklearn.score(x_all,y)"
   ]
  },
  {
   "cell_type": "code",
   "execution_count": null,
   "id": "2ad5cabc",
   "metadata": {},
   "outputs": [],
   "source": [
    "data.loc[:, ['Newspaper','Sales']].corr()"
   ]
  },
  {
   "cell_type": "markdown",
   "id": "a0cadbb0",
   "metadata": {},
   "source": [
    "### Dealing with categorical variables"
   ]
  },
  {
   "cell_type": "code",
   "execution_count": null,
   "id": "c2d3d5e3",
   "metadata": {},
   "outputs": [],
   "source": [
    "data = pd.read_csv('condo.csv')\n",
    "data.head()"
   ]
  },
  {
   "cell_type": "markdown",
   "id": "8620409b",
   "metadata": {},
   "source": [
    "**_For student’s own exploration_**\n",
    "\n",
    "Option 1: Use pandas.get_dummies()"
   ]
  },
  {
   "cell_type": "code",
   "execution_count": null,
   "id": "962d3539",
   "metadata": {},
   "outputs": [],
   "source": [
    "type_dummies = pd.get_dummies(data.type) \n",
    "data = pd.concat([data, type_dummies], axis=1) \n",
    "data"
   ]
  },
  {
   "cell_type": "markdown",
   "id": "42c800d3",
   "metadata": {},
   "source": [
    "Option 2: Use scikit-learn OneHotEncoder\n",
    "    \n",
    "https://scikit-learn.org/stable/modules/generated/sklearn.preprocessing.OneHotEncoder.html"
   ]
  },
  {
   "cell_type": "markdown",
   "id": "af56fde5",
   "metadata": {},
   "source": [
    "## Case Study: Condo Data"
   ]
  },
  {
   "cell_type": "markdown",
   "id": "29321d81",
   "metadata": {},
   "source": [
    "### Ordinary Least Square (OLS) model"
   ]
  },
  {
   "cell_type": "code",
   "execution_count": 2,
   "id": "619ea929",
   "metadata": {},
   "outputs": [],
   "source": [
    "import statsmodels.formula.api as smf"
   ]
  },
  {
   "cell_type": "code",
   "execution_count": null,
   "id": "94eb4de0",
   "metadata": {},
   "outputs": [],
   "source": [
    "d5_condo = data.loc[(data['district_code']==5) & \n",
    "            (data['area']<1500) & \n",
    "            (data['remaining_years']<100)]"
   ]
  },
  {
   "cell_type": "markdown",
   "id": "f16964b0",
   "metadata": {},
   "source": [
    "#### Categorical variable 'type' with 2 values"
   ]
  },
  {
   "cell_type": "code",
   "execution_count": null,
   "id": "a6c604cf",
   "metadata": {},
   "outputs": [],
   "source": [
    "d5_model = smf.ols('price ~ area + type', data=d5_condo)\n",
    "result = d5_model.fit()\n",
    "print(result.summary())"
   ]
  },
  {
   "cell_type": "markdown",
   "id": "207d601e",
   "metadata": {},
   "source": [
    "#### Categorical variable 'segment' with more than 2 values"
   ]
  },
  {
   "cell_type": "code",
   "execution_count": null,
   "id": "2b2d43aa",
   "metadata": {},
   "outputs": [],
   "source": [
    "small_condo = data.loc[data['area'] < 1500]\n",
    "small_condo_model = smf.ols('price ~ segment + area', data=small_condo)\n",
    "result = small_condo_model.fit()\n",
    "print(result.summary())"
   ]
  },
  {
   "cell_type": "markdown",
   "id": "d9bc63ec",
   "metadata": {},
   "source": [
    "#### Interaction terms"
   ]
  },
  {
   "cell_type": "code",
   "execution_count": null,
   "id": "3533fcac",
   "metadata": {},
   "outputs": [],
   "source": [
    "d5_model = smf.ols('price ~ type * area', d5_condo)\n",
    "result = d5_model.fit()\n",
    "print(result.summary())"
   ]
  },
  {
   "cell_type": "markdown",
   "id": "630a9f9a",
   "metadata": {},
   "source": [
    "#### How to treat numbers as categorical variables"
   ]
  },
  {
   "cell_type": "code",
   "execution_count": null,
   "id": "ee94d04d",
   "metadata": {},
   "outputs": [],
   "source": [
    "small_condo_model = smf.ols('price ~ district_code + area', data=small_condo)\n",
    "result = small_condo_model.fit()\n",
    "print(result.summary())"
   ]
  },
  {
   "cell_type": "code",
   "execution_count": null,
   "id": "dfc3a03e",
   "metadata": {},
   "outputs": [],
   "source": [
    "small_condo_model = smf.ols('price ~ C(district_code) + area', data=small_condo)\n",
    "result = small_condo_model.fit()\n",
    "print(result.summary())"
   ]
  },
  {
   "cell_type": "markdown",
   "id": "195396a0",
   "metadata": {},
   "source": [
    "## Case Study: Wage Data"
   ]
  },
  {
   "cell_type": "markdown",
   "id": "87eb9940",
   "metadata": {},
   "source": [
    "### OLS with nonlinear terms"
   ]
  },
  {
   "cell_type": "code",
   "execution_count": null,
   "id": "2ccfdabb",
   "metadata": {},
   "outputs": [],
   "source": [
    "wage = pd.read_csv('wage.csv')\n",
    "wage_female = wage.loc[wage['female']==1]\n",
    "wage_female.head()"
   ]
  },
  {
   "cell_type": "markdown",
   "id": "30b1eec4",
   "metadata": {},
   "source": [
    "Can the relationship be fitted to a straight line?"
   ]
  },
  {
   "cell_type": "code",
   "execution_count": null,
   "id": "80a70576",
   "metadata": {},
   "outputs": [],
   "source": [
    "plt.figure(figsize=(4.5, 3.5))\n",
    "plt.scatter(wage_female['exper'], wage_female['wage'], \n",
    "            c='b', alpha=0.3)\n",
    "\n",
    "plt.xlabel('Working experience (years)', fontsize=13)\n",
    "plt.ylabel('Hourly wage (Dollars)', fontsize=13)\n",
    "plt.show()"
   ]
  },
  {
   "cell_type": "markdown",
   "id": "f20f55bb",
   "metadata": {},
   "source": [
    "Let's try Model 1\n",
    "$$\n",
    "y_{wage} = \\beta_0 + \\beta_1 x_{exper}\n",
    "$$\n",
    "   "
   ]
  },
  {
   "cell_type": "code",
   "execution_count": null,
   "id": "8a43b482",
   "metadata": {},
   "outputs": [],
   "source": [
    "model1 = smf.ols('wage ~ exper', data=wage_female)\n",
    "result1 = model1.fit()\n",
    "print(result1.summary())"
   ]
  },
  {
   "cell_type": "markdown",
   "id": "9dc6c58c",
   "metadata": {},
   "source": [
    "Let's try Model 2 \n",
    "\n",
    "$$\n",
    "y_{wage} = \\beta_0 + \\beta_1 x_{exper} + \\beta_2 \\sqrt{x_{exper}}\n",
    "$$\n",
    "   "
   ]
  },
  {
   "cell_type": "code",
   "execution_count": null,
   "id": "cfea88e0",
   "metadata": {},
   "outputs": [],
   "source": [
    "model2 = smf.ols('wage ~ exper + np.sqrt(exper)', data=wage_female)\n",
    "result2 = model2.fit()\n",
    "print(result2.summary())"
   ]
  },
  {
   "cell_type": "markdown",
   "id": "88f4b7ad",
   "metadata": {},
   "source": [
    "Let's try Model 3\n",
    "\n",
    "$$\n",
    "log(y_{wage}) = \\beta_0 + \\beta_1 x_{exper} + \\beta_2 \\sqrt{x_{exper}}\n",
    "$$\n",
    "   "
   ]
  },
  {
   "cell_type": "code",
   "execution_count": null,
   "id": "5a634dfd",
   "metadata": {},
   "outputs": [],
   "source": [
    "model3 = smf.ols('np.log(wage) ~ exper + np.sqrt(exper)', data=wage_female)\n",
    "result3 = model3.fit()\n",
    "print(result3.summary())"
   ]
  },
  {
   "cell_type": "markdown",
   "id": "7d5a2a0d",
   "metadata": {},
   "source": [
    "## Coding exercise"
   ]
  },
  {
   "cell_type": "code",
   "execution_count": 3,
   "id": "9073948d",
   "metadata": {},
   "outputs": [
    {
     "data": {
      "text/html": [
       "<div>\n",
       "<style scoped>\n",
       "    .dataframe tbody tr th:only-of-type {\n",
       "        vertical-align: middle;\n",
       "    }\n",
       "\n",
       "    .dataframe tbody tr th {\n",
       "        vertical-align: top;\n",
       "    }\n",
       "\n",
       "    .dataframe thead th {\n",
       "        text-align: right;\n",
       "    }\n",
       "</style>\n",
       "<table border=\"1\" class=\"dataframe\">\n",
       "  <thead>\n",
       "    <tr style=\"text-align: right;\">\n",
       "      <th></th>\n",
       "      <th>age</th>\n",
       "      <th>sex</th>\n",
       "      <th>bmi</th>\n",
       "      <th>children</th>\n",
       "      <th>smoker</th>\n",
       "      <th>region</th>\n",
       "      <th>charges</th>\n",
       "    </tr>\n",
       "  </thead>\n",
       "  <tbody>\n",
       "    <tr>\n",
       "      <th>0</th>\n",
       "      <td>19</td>\n",
       "      <td>0</td>\n",
       "      <td>27.900</td>\n",
       "      <td>0</td>\n",
       "      <td>1</td>\n",
       "      <td>3</td>\n",
       "      <td>16884.92400</td>\n",
       "    </tr>\n",
       "    <tr>\n",
       "      <th>1</th>\n",
       "      <td>18</td>\n",
       "      <td>1</td>\n",
       "      <td>33.770</td>\n",
       "      <td>1</td>\n",
       "      <td>0</td>\n",
       "      <td>2</td>\n",
       "      <td>1725.55230</td>\n",
       "    </tr>\n",
       "    <tr>\n",
       "      <th>2</th>\n",
       "      <td>28</td>\n",
       "      <td>1</td>\n",
       "      <td>33.000</td>\n",
       "      <td>3</td>\n",
       "      <td>0</td>\n",
       "      <td>2</td>\n",
       "      <td>4449.46200</td>\n",
       "    </tr>\n",
       "    <tr>\n",
       "      <th>3</th>\n",
       "      <td>33</td>\n",
       "      <td>1</td>\n",
       "      <td>22.705</td>\n",
       "      <td>0</td>\n",
       "      <td>0</td>\n",
       "      <td>1</td>\n",
       "      <td>21984.47061</td>\n",
       "    </tr>\n",
       "    <tr>\n",
       "      <th>4</th>\n",
       "      <td>32</td>\n",
       "      <td>1</td>\n",
       "      <td>28.880</td>\n",
       "      <td>0</td>\n",
       "      <td>0</td>\n",
       "      <td>1</td>\n",
       "      <td>3866.85520</td>\n",
       "    </tr>\n",
       "  </tbody>\n",
       "</table>\n",
       "</div>"
      ],
      "text/plain": [
       "   age  sex     bmi  children  smoker  region      charges\n",
       "0   19    0  27.900         0       1       3  16884.92400\n",
       "1   18    1  33.770         1       0       2   1725.55230\n",
       "2   28    1  33.000         3       0       2   4449.46200\n",
       "3   33    1  22.705         0       0       1  21984.47061\n",
       "4   32    1  28.880         0       0       1   3866.85520"
      ]
     },
     "execution_count": 3,
     "metadata": {},
     "output_type": "execute_result"
    }
   ],
   "source": [
    "data = pd.read_csv('insurance.csv')  \n",
    "data.head()"
   ]
  },
  {
   "cell_type": "markdown",
   "id": "ee638713",
   "metadata": {},
   "source": [
    "Questions for exploration:\n",
    "\n",
    "- Which variable is the target variable y?\n",
    "- Which input variables are categorical? Which ones are numerical?\n",
    "- Any interaction terms?\n",
    "- Any non-linear terms?"
   ]
  },
  {
   "cell_type": "code",
   "execution_count": null,
   "id": "baf28c89",
   "metadata": {},
   "outputs": [],
   "source": [
    "model = smf.ols('charges ~ age + sex + bmi + children + smoker + region', data=data)\n",
    "result = model.fit()\n",
    "print(result.summary())"
   ]
  },
  {
   "cell_type": "code",
   "execution_count": null,
   "id": "c8a66622",
   "metadata": {},
   "outputs": [],
   "source": [
    "model = smf.ols('charges ~ age + C(sex) * bmi + children + C(smoker) + C(region)', data=data)\n",
    "result = model.fit()\n",
    "print(result.summary())"
   ]
  },
  {
   "cell_type": "code",
   "execution_count": null,
   "id": "fdba6fc6",
   "metadata": {},
   "outputs": [],
   "source": [
    "model = smf.ols('charges ~ age + C(sex) * bmi + children + C(smoker) + C(region)', data=data)\n",
    "result = model.fit()\n",
    "print(result.summary())"
   ]
  },
  {
   "cell_type": "code",
   "execution_count": null,
   "id": "6515f7c2",
   "metadata": {},
   "outputs": [],
   "source": [
    "model = smf.ols('charges ~ age + C(sex) * bmi + children + C(smoker) * bmi + C(region)', data=data)\n",
    "result = model.fit()\n",
    "print(result.summary())"
   ]
  },
  {
   "cell_type": "code",
   "execution_count": null,
   "id": "ba9ab680",
   "metadata": {},
   "outputs": [],
   "source": [
    "model = smf.ols('charges ~ C(sex) * age + C(sex) * bmi + children + C(smoker) * bmi + C(region)', data=data)\n",
    "result = model.fit()\n",
    "print(result.summary())"
   ]
  },
  {
   "cell_type": "code",
   "execution_count": null,
   "id": "6d87ffb0",
   "metadata": {},
   "outputs": [],
   "source": [
    "# making children categorical variable is as good as introducing a few binary variables\n",
    "# R2 increases as we introduce more variables\n",
    "# shall we make children a categorical variable?\n",
    "\n",
    "model = smf.ols('charges ~ C(sex) * age + C(sex) * bmi + C(children) + C(smoker) * bmi + C(region)', data=data)\n",
    "result = model.fit()\n",
    "print(result.summary())"
   ]
  },
  {
   "cell_type": "code",
   "execution_count": null,
   "id": "831a6dba",
   "metadata": {},
   "outputs": [],
   "source": [
    "data.describe() #maybe charges have outliers\n",
    "# shall we make 'charges' a log term?"
   ]
  },
  {
   "cell_type": "code",
   "execution_count": null,
   "id": "fcfb1917",
   "metadata": {},
   "outputs": [],
   "source": [
    "model = smf.ols('np.log(charges) ~ C(sex) * age + C(sex) * bmi + children + C(smoker) * bmi + C(region)', data=data)\n",
    "result = model.fit()\n",
    "print(result.summary())"
   ]
  }
 ],
 "metadata": {
  "kernelspec": {
   "display_name": "Python 3 (ipykernel)",
   "language": "python",
   "name": "python3"
  },
  "language_info": {
   "codemirror_mode": {
    "name": "ipython",
    "version": 3
   },
   "file_extension": ".py",
   "mimetype": "text/x-python",
   "name": "python",
   "nbconvert_exporter": "python",
   "pygments_lexer": "ipython3",
   "version": "3.8.8"
  }
 },
 "nbformat": 4,
 "nbformat_minor": 5
}
