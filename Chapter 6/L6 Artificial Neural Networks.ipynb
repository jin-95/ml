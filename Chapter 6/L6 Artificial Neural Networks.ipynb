{
 "cells": [
  {
   "cell_type": "markdown",
   "id": "954b3ea9",
   "metadata": {},
   "source": [
    "# Artificial Neural Networks"
   ]
  },
  {
   "cell_type": "markdown",
   "id": "a17c38b5",
   "metadata": {},
   "source": [
    "**Run this cell first** to import all the needed class and functions"
   ]
  },
  {
   "cell_type": "code",
   "execution_count": 1,
   "id": "1d69d8c4",
   "metadata": {},
   "outputs": [],
   "source": [
    "from sklearn.neural_network import MLPClassifier, MLPRegressor \n",
    "from sklearn.preprocessing import StandardScaler\n",
    "import matplotlib.pyplot as plt\n",
    "import pandas as pd\n",
    "import numpy as np"
   ]
  },
  {
   "cell_type": "markdown",
   "id": "cdd8427e",
   "metadata": {},
   "source": [
    "### Classification using ANN"
   ]
  },
  {
   "cell_type": "markdown",
   "id": "5ffa08a6",
   "metadata": {},
   "source": [
    "**Run this cell first** to import all the needed class and functions"
   ]
  },
  {
   "cell_type": "code",
   "execution_count": 2,
   "id": "67bbc817",
   "metadata": {},
   "outputs": [],
   "source": [
    "from sklearn.neural_network import MLPClassifier, MLPRegressor \n",
    "from sklearn.preprocessing import StandardScaler\n",
    "import matplotlib.pyplot as plt\n",
    "import pandas as pd\n",
    "import numpy as np"
   ]
  },
  {
   "cell_type": "markdown",
   "id": "a351e84c",
   "metadata": {},
   "source": [
    "#### Load data set for classifier"
   ]
  },
  {
   "cell_type": "code",
   "execution_count": 3,
   "id": "dd780162",
   "metadata": {},
   "outputs": [
    {
     "data": {
      "text/html": [
       "<div>\n",
       "<style scoped>\n",
       "    .dataframe tbody tr th:only-of-type {\n",
       "        vertical-align: middle;\n",
       "    }\n",
       "\n",
       "    .dataframe tbody tr th {\n",
       "        vertical-align: top;\n",
       "    }\n",
       "\n",
       "    .dataframe thead th {\n",
       "        text-align: right;\n",
       "    }\n",
       "</style>\n",
       "<table border=\"1\" class=\"dataframe\">\n",
       "  <thead>\n",
       "    <tr style=\"text-align: right;\">\n",
       "      <th></th>\n",
       "      <th>User ID</th>\n",
       "      <th>Gender</th>\n",
       "      <th>Age</th>\n",
       "      <th>EstimatedSalary</th>\n",
       "      <th>Purchased</th>\n",
       "    </tr>\n",
       "  </thead>\n",
       "  <tbody>\n",
       "    <tr>\n",
       "      <th>0</th>\n",
       "      <td>15624510</td>\n",
       "      <td>Male</td>\n",
       "      <td>19</td>\n",
       "      <td>19000</td>\n",
       "      <td>0</td>\n",
       "    </tr>\n",
       "    <tr>\n",
       "      <th>1</th>\n",
       "      <td>15810944</td>\n",
       "      <td>Male</td>\n",
       "      <td>35</td>\n",
       "      <td>20000</td>\n",
       "      <td>0</td>\n",
       "    </tr>\n",
       "    <tr>\n",
       "      <th>2</th>\n",
       "      <td>15668575</td>\n",
       "      <td>Female</td>\n",
       "      <td>26</td>\n",
       "      <td>43000</td>\n",
       "      <td>0</td>\n",
       "    </tr>\n",
       "    <tr>\n",
       "      <th>3</th>\n",
       "      <td>15603246</td>\n",
       "      <td>Female</td>\n",
       "      <td>27</td>\n",
       "      <td>57000</td>\n",
       "      <td>0</td>\n",
       "    </tr>\n",
       "    <tr>\n",
       "      <th>4</th>\n",
       "      <td>15804002</td>\n",
       "      <td>Male</td>\n",
       "      <td>19</td>\n",
       "      <td>76000</td>\n",
       "      <td>0</td>\n",
       "    </tr>\n",
       "  </tbody>\n",
       "</table>\n",
       "</div>"
      ],
      "text/plain": [
       "    User ID  Gender  Age  EstimatedSalary  Purchased\n",
       "0  15624510    Male   19            19000          0\n",
       "1  15810944    Male   35            20000          0\n",
       "2  15668575  Female   26            43000          0\n",
       "3  15603246  Female   27            57000          0\n",
       "4  15804002    Male   19            76000          0"
      ]
     },
     "execution_count": 3,
     "metadata": {},
     "output_type": "execute_result"
    }
   ],
   "source": [
    "data = pd.read_csv('Social_Network_Ads.csv')\n",
    "data.head()"
   ]
  },
  {
   "cell_type": "code",
   "execution_count": 4,
   "id": "160ec9e8",
   "metadata": {
    "scrolled": true
   },
   "outputs": [
    {
     "name": "stdout",
     "output_type": "stream",
     "text": [
      "<class 'pandas.core.frame.DataFrame'>\n",
      "RangeIndex: 400 entries, 0 to 399\n",
      "Data columns (total 5 columns):\n",
      " #   Column           Non-Null Count  Dtype \n",
      "---  ------           --------------  ----- \n",
      " 0   User ID          400 non-null    int64 \n",
      " 1   Gender           400 non-null    object\n",
      " 2   Age              400 non-null    int64 \n",
      " 3   EstimatedSalary  400 non-null    int64 \n",
      " 4   Purchased        400 non-null    int64 \n",
      "dtypes: int64(4), object(1)\n",
      "memory usage: 15.8+ KB\n"
     ]
    }
   ],
   "source": [
    "data.info()"
   ]
  },
  {
   "cell_type": "markdown",
   "id": "24a69df0",
   "metadata": {},
   "source": [
    "Prepare x and y, train and test set"
   ]
  },
  {
   "cell_type": "code",
   "execution_count": 5,
   "id": "1b35027d",
   "metadata": {},
   "outputs": [],
   "source": [
    "y = data.loc[:,\"Purchased\"]\n",
    "x_orig = data.loc[:, \"Gender\":\"EstimatedSalary\"]\n",
    "x_encoded = x_orig.copy() \n",
    "x_encoded.loc[:,\"Gender\"] = (x_encoded.loc[:,\"Gender\"] == \"Female\").astype(int)\n",
    "x_encoded.head()\n",
    "x_encoded.loc[:,\"EstimatedSalary\"] = x_encoded.loc[:,\"EstimatedSalary\"] / 1000\n",
    "\n",
    "from sklearn.model_selection import train_test_split\n",
    "x_train, x_test, y_train, y_test = train_test_split(x_encoded, y, test_size=0.3, random_state=12345)"
   ]
  },
  {
   "cell_type": "code",
   "execution_count": null,
   "id": "7db384f2",
   "metadata": {},
   "outputs": [],
   "source": []
  },
  {
   "cell_type": "markdown",
   "id": "2183e7da",
   "metadata": {},
   "source": [
    "#### Exercise\n",
    "Refer to documentation https://scikit-learn.org/stable/modules/generated/sklearn.neural_network.MLPClassifier.html\n",
    "\n",
    "Use the right parameters to \n",
    "- set no. of hidden layers and no. of nodes for each hidden layer\n",
    "- set activation function as sigmoid (logistic)\n",
    "- set learning rate ${\\eta}$\n",
    "- set algorithm as stochastic gradient descent\n",
    "- set random_state to a fixed value to get the same results on repeated runs"
   ]
  },
  {
   "cell_type": "code",
   "execution_count": 20,
   "id": "63bb0e02",
   "metadata": {},
   "outputs": [
    {
     "data": {
      "text/plain": [
       "MLPClassifier(activation='logistic', hidden_layer_sizes=(5,),\n",
       "              learning_rate_init=0.1, random_state=1, solver='sgd')"
      ]
     },
     "execution_count": 20,
     "metadata": {},
     "output_type": "execute_result"
    }
   ],
   "source": [
    "clf = MLPClassifier(solver='sgd',\n",
    "                    activation='logistic',\n",
    "                    hidden_layer_sizes=(5,), #(10,) means only 1 element in the tuple\n",
    "                    learning_rate_init=0.1,\n",
    "                    random_state=1,\n",
    "                    max_iter=200)\n",
    "clf.fit(x_train, y_train)"
   ]
  },
  {
   "cell_type": "markdown",
   "id": "91d60ef2",
   "metadata": {},
   "source": [
    "#### Check performance of model\n",
    "\n",
    "Predict y ('Purchased') for the test set"
   ]
  },
  {
   "cell_type": "code",
   "execution_count": 21,
   "id": "f708f8d1",
   "metadata": {},
   "outputs": [
    {
     "data": {
      "text/plain": [
       "array([0, 0, 1, 0, 0, 0, 0, 1, 0, 0, 0, 0, 0, 0, 0, 0, 0, 0, 0, 1, 0, 0,\n",
       "       0, 0, 1, 1, 0, 0, 0, 0, 1, 1, 0, 0, 1, 0, 0, 1, 0, 0, 0, 0, 0, 0,\n",
       "       0, 0, 0, 0, 0, 1, 1, 1, 0, 0, 1, 0, 0, 0, 0, 0, 0, 0, 0, 0, 1, 0,\n",
       "       0, 0, 0, 0, 0, 1, 0, 0, 0, 1, 0, 0, 0, 0, 0, 0, 0, 0, 0, 0, 0, 0,\n",
       "       0, 0, 1, 0, 0, 0, 0, 1, 0, 0, 0, 0, 0, 0, 0, 1, 1, 0, 0, 0, 1, 0,\n",
       "       1, 0, 0, 0, 0, 0, 0, 0, 0, 0], dtype=int64)"
      ]
     },
     "execution_count": 21,
     "metadata": {},
     "output_type": "execute_result"
    }
   ],
   "source": [
    "y_pred = clf.predict(x_test)\n",
    "y_pred"
   ]
  },
  {
   "cell_type": "markdown",
   "id": "b30d514a",
   "metadata": {},
   "source": [
    "Use score() for the accuracy rate on the given test data set with known y"
   ]
  },
  {
   "cell_type": "code",
   "execution_count": 22,
   "id": "9495d8b6",
   "metadata": {
    "scrolled": true
   },
   "outputs": [
    {
     "data": {
      "text/plain": [
       "0.6833333333333333"
      ]
     },
     "execution_count": 22,
     "metadata": {},
     "output_type": "execute_result"
    }
   ],
   "source": [
    "clf.score(x_test, y_test)"
   ]
  },
  {
   "cell_type": "markdown",
   "id": "140ae064",
   "metadata": {},
   "source": [
    "#### Exercise\n",
    "- Try different no. of nodes in one single hidden layer\n",
    "- OR\n",
    "- Increase the number of hidden layers\n",
    "\n",
    "See if the accuracy score is improved.\n",
    "\n",
    "NOTE: if the ANN is too complicated, you might need to increase `max_iter` to allow the model to converge before running out of max iterations"
   ]
  },
  {
   "cell_type": "markdown",
   "id": "71a91b22",
   "metadata": {},
   "source": [
    "#### Loss curve\n",
    "Use loss_curve_ to see how the training reduces the loss with each additional observation in each iteration"
   ]
  },
  {
   "cell_type": "code",
   "execution_count": 23,
   "id": "75684065",
   "metadata": {},
   "outputs": [
    {
     "data": {
      "text/plain": [
       "[<matplotlib.lines.Line2D at 0x1aa000d6f10>]"
      ]
     },
     "execution_count": 23,
     "metadata": {},
     "output_type": "execute_result"
    },
    {
     "data": {
      "image/png": "[encoded data removed]",
      "text/plain": [
       "<Figure size 432x288 with 1 Axes>"
      ]
     },
     "metadata": {
      "needs_background": "light"
     },
     "output_type": "display_data"
    }
   ],
   "source": [
    "plt.plot(clf.loss_curve_)"
   ]
  },
  {
   "cell_type": "markdown",
   "id": "1229dfd6",
   "metadata": {},
   "source": [
    "#### Display weights"
   ]
  },
  {
   "cell_type": "code",
   "execution_count": 24,
   "id": "17a1afd7",
   "metadata": {
    "scrolled": true
   },
   "outputs": [
    {
     "name": "stdout",
     "output_type": "stream",
     "text": [
      "[array([[-0.082982  ,  0.20917217, -0.49980715, -0.23527232, -0.35342061],\n",
      "       [-0.40823098, -0.92539363, -0.1525979 , -0.572529  ,  0.02247643],\n",
      "       [-0.08145329, -0.83077469, -0.29423211,  0.71945716, -0.4825451 ]]), array([[ 0.34714895],\n",
      "       [ 0.31549814],\n",
      "       [-0.21575755],\n",
      "       [-1.00596663],\n",
      "       [ 0.43310401]])]\n"
     ]
    }
   ],
   "source": [
    "print(clf.coefs_)"
   ]
  },
  {
   "cell_type": "markdown",
   "id": "f8989f2c",
   "metadata": {},
   "source": [
    "#### Exercise\n",
    "If we created a MLPClassifier with `hidden_layer_sizes=(5,)`\n",
    "- How many input nodes in the input layer?\n",
    "- How many output nodes in the output layer?\n",
    "- How many weights from input layer to hidden layer?\n",
    "- How many weights from hidden layer to output layer?"
   ]
  },
  {
   "cell_type": "markdown",
   "id": "df008466",
   "metadata": {},
   "source": [
    "Write down your answers in this markdown cell\n",
    "- 3 input nodes, since 3 input variables\n",
    "- 1 output node, since only 1 target variable\n",
    "- 3 nodes to 5 nodes, hence 15 weights\n",
    "- 5 nodes to 1 node, hence 5 weights"
   ]
  },
  {
   "cell_type": "markdown",
   "id": "dda8bd35",
   "metadata": {},
   "source": [
    "#### Exercise\n",
    "How to retrieve the weight of bias term of input layer and hidden layer(s)?"
   ]
  },
  {
   "cell_type": "code",
   "execution_count": 25,
   "id": "01c2daa8",
   "metadata": {},
   "outputs": [
    {
     "name": "stdout",
     "output_type": "stream",
     "text": [
      "[array([ 0.17043835, -0.10059872,  0.0587634 , -0.2034475 , -0.30253429]), array([0.13738869])]\n"
     ]
    }
   ],
   "source": [
    "print(clf.intercepts_)"
   ]
  },
  {
   "cell_type": "markdown",
   "id": "a31064a4",
   "metadata": {},
   "source": [
    "#### Exercise\n",
    "If we created a MLPClassifier with `hidden_layer_sizes=(5,)`\n",
    "- How many weights from bias in input layer to hidden layer?\n",
    "- How many weights from bias in hidden layer to output layer?"
   ]
  },
  {
   "cell_type": "markdown",
   "id": "4c7f3226",
   "metadata": {},
   "source": [
    "Write down your answers in this markdown cell\n",
    "- 1 bias term in input layer is connected with 5 nodes in hidden layer, hence 5 weights\n",
    "- 1 bias term in hidden layer is connected with 1 node in output layer, hence 1 weight"
   ]
  },
  {
   "cell_type": "markdown",
   "id": "5edc2768",
   "metadata": {},
   "source": [
    "### Regression using ANN"
   ]
  },
  {
   "cell_type": "markdown",
   "id": "0f8d49fe",
   "metadata": {},
   "source": [
    "#### Install tensorflow library"
   ]
  },
  {
   "cell_type": "code",
   "execution_count": null,
   "id": "d71de54c",
   "metadata": {},
   "outputs": [],
   "source": [
    "!pip install tensorflow"
   ]
  },
  {
   "cell_type": "markdown",
   "id": "a29f9999",
   "metadata": {},
   "source": [
    "#### Load data set for regression\n",
    "\n",
    "Dataset: House Sales in King County, USA\n",
    "\n",
    "https://www.kaggle.com/datasets/harlfoxem/housesalesprediction"
   ]
  },
  {
   "cell_type": "code",
   "execution_count": 26,
   "id": "6cb10c39",
   "metadata": {
    "scrolled": true
   },
   "outputs": [
    {
     "data": {
      "text/html": [
       "<div>\n",
       "<style scoped>\n",
       "    .dataframe tbody tr th:only-of-type {\n",
       "        vertical-align: middle;\n",
       "    }\n",
       "\n",
       "    .dataframe tbody tr th {\n",
       "        vertical-align: top;\n",
       "    }\n",
       "\n",
       "    .dataframe thead th {\n",
       "        text-align: right;\n",
       "    }\n",
       "</style>\n",
       "<table border=\"1\" class=\"dataframe\">\n",
       "  <thead>\n",
       "    <tr style=\"text-align: right;\">\n",
       "      <th></th>\n",
       "      <th>id</th>\n",
       "      <th>date</th>\n",
       "      <th>price</th>\n",
       "      <th>bedrooms</th>\n",
       "      <th>bathrooms</th>\n",
       "      <th>sqft_living</th>\n",
       "      <th>sqft_lot</th>\n",
       "      <th>floors</th>\n",
       "      <th>waterfront</th>\n",
       "      <th>view</th>\n",
       "      <th>...</th>\n",
       "      <th>grade</th>\n",
       "      <th>sqft_above</th>\n",
       "      <th>sqft_basement</th>\n",
       "      <th>yr_built</th>\n",
       "      <th>yr_renovated</th>\n",
       "      <th>zipcode</th>\n",
       "      <th>lat</th>\n",
       "      <th>long</th>\n",
       "      <th>sqft_living15</th>\n",
       "      <th>sqft_lot15</th>\n",
       "    </tr>\n",
       "  </thead>\n",
       "  <tbody>\n",
       "    <tr>\n",
       "      <th>0</th>\n",
       "      <td>7129300520</td>\n",
       "      <td>20141013T000000</td>\n",
       "      <td>221900.0</td>\n",
       "      <td>3</td>\n",
       "      <td>1.00</td>\n",
       "      <td>1180</td>\n",
       "      <td>5650</td>\n",
       "      <td>1.0</td>\n",
       "      <td>0</td>\n",
       "      <td>0</td>\n",
       "      <td>...</td>\n",
       "      <td>7</td>\n",
       "      <td>1180</td>\n",
       "      <td>0</td>\n",
       "      <td>1955</td>\n",
       "      <td>0</td>\n",
       "      <td>98178</td>\n",
       "      <td>47.5112</td>\n",
       "      <td>-122.257</td>\n",
       "      <td>1340</td>\n",
       "      <td>5650</td>\n",
       "    </tr>\n",
       "    <tr>\n",
       "      <th>1</th>\n",
       "      <td>6414100192</td>\n",
       "      <td>20141209T000000</td>\n",
       "      <td>538000.0</td>\n",
       "      <td>3</td>\n",
       "      <td>2.25</td>\n",
       "      <td>2570</td>\n",
       "      <td>7242</td>\n",
       "      <td>2.0</td>\n",
       "      <td>0</td>\n",
       "      <td>0</td>\n",
       "      <td>...</td>\n",
       "      <td>7</td>\n",
       "      <td>2170</td>\n",
       "      <td>400</td>\n",
       "      <td>1951</td>\n",
       "      <td>1991</td>\n",
       "      <td>98125</td>\n",
       "      <td>47.7210</td>\n",
       "      <td>-122.319</td>\n",
       "      <td>1690</td>\n",
       "      <td>7639</td>\n",
       "    </tr>\n",
       "    <tr>\n",
       "      <th>2</th>\n",
       "      <td>5631500400</td>\n",
       "      <td>20150225T000000</td>\n",
       "      <td>180000.0</td>\n",
       "      <td>2</td>\n",
       "      <td>1.00</td>\n",
       "      <td>770</td>\n",
       "      <td>10000</td>\n",
       "      <td>1.0</td>\n",
       "      <td>0</td>\n",
       "      <td>0</td>\n",
       "      <td>...</td>\n",
       "      <td>6</td>\n",
       "      <td>770</td>\n",
       "      <td>0</td>\n",
       "      <td>1933</td>\n",
       "      <td>0</td>\n",
       "      <td>98028</td>\n",
       "      <td>47.7379</td>\n",
       "      <td>-122.233</td>\n",
       "      <td>2720</td>\n",
       "      <td>8062</td>\n",
       "    </tr>\n",
       "    <tr>\n",
       "      <th>3</th>\n",
       "      <td>2487200875</td>\n",
       "      <td>20141209T000000</td>\n",
       "      <td>604000.0</td>\n",
       "      <td>4</td>\n",
       "      <td>3.00</td>\n",
       "      <td>1960</td>\n",
       "      <td>5000</td>\n",
       "      <td>1.0</td>\n",
       "      <td>0</td>\n",
       "      <td>0</td>\n",
       "      <td>...</td>\n",
       "      <td>7</td>\n",
       "      <td>1050</td>\n",
       "      <td>910</td>\n",
       "      <td>1965</td>\n",
       "      <td>0</td>\n",
       "      <td>98136</td>\n",
       "      <td>47.5208</td>\n",
       "      <td>-122.393</td>\n",
       "      <td>1360</td>\n",
       "      <td>5000</td>\n",
       "    </tr>\n",
       "    <tr>\n",
       "      <th>4</th>\n",
       "      <td>1954400510</td>\n",
       "      <td>20150218T000000</td>\n",
       "      <td>510000.0</td>\n",
       "      <td>3</td>\n",
       "      <td>2.00</td>\n",
       "      <td>1680</td>\n",
       "      <td>8080</td>\n",
       "      <td>1.0</td>\n",
       "      <td>0</td>\n",
       "      <td>0</td>\n",
       "      <td>...</td>\n",
       "      <td>8</td>\n",
       "      <td>1680</td>\n",
       "      <td>0</td>\n",
       "      <td>1987</td>\n",
       "      <td>0</td>\n",
       "      <td>98074</td>\n",
       "      <td>47.6168</td>\n",
       "      <td>-122.045</td>\n",
       "      <td>1800</td>\n",
       "      <td>7503</td>\n",
       "    </tr>\n",
       "  </tbody>\n",
       "</table>\n",
       "<p>5 rows × 21 columns</p>\n",
       "</div>"
      ],
      "text/plain": [
       "           id             date     price  bedrooms  bathrooms  sqft_living  \\\n",
       "0  7129300520  20141013T000000  221900.0         3       1.00         1180   \n",
       "1  6414100192  20141209T000000  538000.0         3       2.25         2570   \n",
       "2  5631500400  20150225T000000  180000.0         2       1.00          770   \n",
       "3  2487200875  20141209T000000  604000.0         4       3.00         1960   \n",
       "4  1954400510  20150218T000000  510000.0         3       2.00         1680   \n",
       "\n",
       "   sqft_lot  floors  waterfront  view  ...  grade  sqft_above  sqft_basement  \\\n",
       "0      5650     1.0           0     0  ...      7        1180              0   \n",
       "1      7242     2.0           0     0  ...      7        2170            400   \n",
       "2     10000     1.0           0     0  ...      6         770              0   \n",
       "3      5000     1.0           0     0  ...      7        1050            910   \n",
       "4      8080     1.0           0     0  ...      8        1680              0   \n",
       "\n",
       "   yr_built  yr_renovated  zipcode      lat     long  sqft_living15  \\\n",
       "0      1955             0    98178  47.5112 -122.257           1340   \n",
       "1      1951          1991    98125  47.7210 -122.319           1690   \n",
       "2      1933             0    98028  47.7379 -122.233           2720   \n",
       "3      1965             0    98136  47.5208 -122.393           1360   \n",
       "4      1987             0    98074  47.6168 -122.045           1800   \n",
       "\n",
       "   sqft_lot15  \n",
       "0        5650  \n",
       "1        7639  \n",
       "2        8062  \n",
       "3        5000  \n",
       "4        7503  \n",
       "\n",
       "[5 rows x 21 columns]"
      ]
     },
     "metadata": {},
     "output_type": "display_data"
    }
   ],
   "source": [
    "house = pd.read_csv('house_prices.csv')\n",
    "display(house.head())\n",
    "# condo = condo.head(200)"
   ]
  },
  {
   "cell_type": "code",
   "execution_count": 28,
   "id": "cab46fc0",
   "metadata": {
    "scrolled": false
   },
   "outputs": [
    {
     "name": "stdout",
     "output_type": "stream",
     "text": [
      "<class 'pandas.core.frame.DataFrame'>\n",
      "RangeIndex: 21613 entries, 0 to 21612\n",
      "Data columns (total 21 columns):\n",
      " #   Column         Non-Null Count  Dtype  \n",
      "---  ------         --------------  -----  \n",
      " 0   id             21613 non-null  int64  \n",
      " 1   date           21613 non-null  object \n",
      " 2   price          21613 non-null  float64\n",
      " 3   bedrooms       21613 non-null  int64  \n",
      " 4   bathrooms      21613 non-null  float64\n",
      " 5   sqft_living    21613 non-null  int64  \n",
      " 6   sqft_lot       21613 non-null  int64  \n",
      " 7   floors         21613 non-null  float64\n",
      " 8   waterfront     21613 non-null  int64  \n",
      " 9   view           21613 non-null  int64  \n",
      " 10  condition      21613 non-null  int64  \n",
      " 11  grade          21613 non-null  int64  \n",
      " 12  sqft_above     21613 non-null  int64  \n",
      " 13  sqft_basement  21613 non-null  int64  \n",
      " 14  yr_built       21613 non-null  int64  \n",
      " 15  yr_renovated   21613 non-null  int64  \n",
      " 16  zipcode        21613 non-null  int64  \n",
      " 17  lat            21613 non-null  float64\n",
      " 18  long           21613 non-null  float64\n",
      " 19  sqft_living15  21613 non-null  int64  \n",
      " 20  sqft_lot15     21613 non-null  int64  \n",
      "dtypes: float64(5), int64(15), object(1)\n",
      "memory usage: 3.5+ MB\n"
     ]
    }
   ],
   "source": [
    "house.info()"
   ]
  },
  {
   "cell_type": "markdown",
   "id": "cbd6f740",
   "metadata": {},
   "source": [
    "Prepare x and y, train and test set"
   ]
  },
  {
   "cell_type": "code",
   "execution_count": 27,
   "id": "59085971",
   "metadata": {},
   "outputs": [],
   "source": [
    "x = house.loc[:, 'bedrooms':'sqft_basement']\n",
    "# x = pd.concat([condo.loc[:, 'bedrooms':'sqft_basement'],condo.loc[:, 'sqft_living15':'sqft_lot15']], axis=1)\n",
    "y = house['price']\n",
    "\n",
    "x_train, x_test, y_train, y_test = train_test_split(x, y, test_size=0.2, random_state=1)"
   ]
  },
  {
   "cell_type": "code",
   "execution_count": null,
   "id": "2cc8edad",
   "metadata": {
    "scrolled": true
   },
   "outputs": [],
   "source": [
    "x_train.head()"
   ]
  },
  {
   "cell_type": "code",
   "execution_count": null,
   "id": "1a944191",
   "metadata": {},
   "outputs": [],
   "source": [
    "x_test.head()"
   ]
  },
  {
   "cell_type": "markdown",
   "id": "8d3de09c",
   "metadata": {},
   "source": [
    "Perform standardization on all input variables of training set, then use the same scaler on the test set"
   ]
  },
  {
   "cell_type": "code",
   "execution_count": 29,
   "id": "510299ac",
   "metadata": {},
   "outputs": [],
   "source": [
    "sc = StandardScaler()\n",
    "scaler = sc.fit(x_train)\n",
    "x_train_scaled = scaler.fit_transform(x_train)\n",
    "x_test_scaled = scaler.transform(x_test)"
   ]
  },
  {
   "cell_type": "markdown",
   "id": "76662d9b",
   "metadata": {},
   "source": [
    "#### Run ANN with MLPRegressor class \n",
    "\n",
    "Use MLPRegressor class from sklearn library first and see if the calculation converges to a solution"
   ]
  },
  {
   "cell_type": "code",
   "execution_count": 30,
   "id": "0c442a25",
   "metadata": {
    "scrolled": true
   },
   "outputs": [
    {
     "name": "stderr",
     "output_type": "stream",
     "text": [
      "C:\\Users\\hbisx\\anaconda3\\lib\\site-packages\\sklearn\\neural_network\\_multilayer_perceptron.py:699: UserWarning: Training interrupted by user.\n",
      "  warnings.warn(\"Training interrupted by user.\")\n"
     ]
    },
    {
     "data": {
      "text/plain": [
       "MLPRegressor(hidden_layer_sizes=(150, 100, 50), learning_rate='adaptive',\n",
       "             learning_rate_init=0.01, max_iter=300, solver='sgd')"
      ]
     },
     "execution_count": 30,
     "metadata": {},
     "output_type": "execute_result"
    }
   ],
   "source": [
    "model = MLPRegressor(hidden_layer_sizes=(150,100,50),\n",
    "                    max_iter = 300, \n",
    "                    activation = 'relu',\n",
    "                    learning_rate = 'adaptive',\n",
    "                    learning_rate_init = 0.01,\n",
    "                    solver = 'sgd')\n",
    "\n",
    "model.fit(x_train_scaled, y_train)"
   ]
  },
  {
   "cell_type": "markdown",
   "id": "7954daab",
   "metadata": {},
   "source": [
    "#### Run ANN with tensorflow library"
   ]
  },
  {
   "cell_type": "markdown",
   "id": "4581d9ed",
   "metadata": {},
   "source": [
    "Refer to official documentation \n",
    "- https://www.tensorflow.org/api_docs/python/tf/keras/Sequential\n",
    "- https://www.tensorflow.org/api_docs/python/tf/keras/layers/Dense"
   ]
  },
  {
   "cell_type": "markdown",
   "id": "2d98231b",
   "metadata": {},
   "source": [
    "#### Exercise\n",
    "\n",
    "- Add 4 layers of 19 nodes in each layer to the model\n",
    "- activation function is ReLU"
   ]
  },
  {
   "cell_type": "code",
   "execution_count": 31,
   "id": "9cfbdb4d",
   "metadata": {},
   "outputs": [
    {
     "name": "stdout",
     "output_type": "stream",
     "text": [
      "Epoch 1/400\n",
      "136/136 [==============================] - 2s 3ms/step - loss: 373523185664.0000\n",
      "Epoch 2/400\n",
      "136/136 [==============================] - 0s 3ms/step - loss: 312157536256.0000\n",
      "Epoch 3/400\n",
      "136/136 [==============================] - 0s 3ms/step - loss: 215350263808.0000\n",
      "Epoch 4/400\n",
      "136/136 [==============================] - 0s 3ms/step - loss: 85616476160.0000\n",
      "Epoch 5/400\n",
      "136/136 [==============================] - 0s 3ms/step - loss: 65413582848.0000\n",
      "Epoch 6/400\n",
      "136/136 [==============================] - 0s 3ms/step - loss: 64928964608.0000\n",
      "Epoch 7/400\n",
      "136/136 [==============================] - 0s 3ms/step - loss: 64599433216.0000\n",
      "Epoch 8/400\n",
      "136/136 [==============================] - 0s 3ms/step - loss: 64419385344.0000\n",
      "Epoch 9/400\n",
      "136/136 [==============================] - 0s 3ms/step - loss: 64226447360.0000\n",
      "Epoch 10/400\n",
      "136/136 [==============================] - 0s 3ms/step - loss: 64067596288.0000\n",
      "Epoch 11/400\n",
      "136/136 [==============================] - 0s 3ms/step - loss: 64071708672.0000\n",
      "Epoch 12/400\n",
      "136/136 [==============================] - 0s 3ms/step - loss: 63977320448.0000\n",
      "Epoch 13/400\n",
      "136/136 [==============================] - 0s 3ms/step - loss: 64008519680.0000\n",
      "Epoch 14/400\n",
      "136/136 [==============================] - 0s 3ms/step - loss: 63857025024.0000\n",
      "Epoch 15/400\n",
      "136/136 [==============================] - 0s 3ms/step - loss: 63830867968.0000\n",
      "Epoch 16/400\n",
      "136/136 [==============================] - 0s 3ms/step - loss: 63818133504.0000\n",
      "Epoch 17/400\n",
      "136/136 [==============================] - 0s 3ms/step - loss: 63947620352.0000\n",
      "Epoch 18/400\n",
      "136/136 [==============================] - 0s 3ms/step - loss: 63783030784.0000\n",
      "Epoch 19/400\n",
      "136/136 [==============================] - 0s 3ms/step - loss: 63776940032.0000\n",
      "Epoch 20/400\n",
      "136/136 [==============================] - 0s 3ms/step - loss: 63848566784.0000\n",
      "Epoch 21/400\n",
      "136/136 [==============================] - 0s 3ms/step - loss: 63812333568.0000\n",
      "Epoch 22/400\n",
      "136/136 [==============================] - 0s 3ms/step - loss: 63723261952.0000\n",
      "Epoch 23/400\n",
      "136/136 [==============================] - 0s 3ms/step - loss: 63745019904.0000\n",
      "Epoch 24/400\n",
      "136/136 [==============================] - 0s 3ms/step - loss: 63821533184.0000\n",
      "Epoch 25/400\n",
      "136/136 [==============================] - 0s 3ms/step - loss: 63748747264.0000\n",
      "Epoch 26/400\n",
      "136/136 [==============================] - 0s 3ms/step - loss: 63816404992.0000\n",
      "Epoch 27/400\n",
      "136/136 [==============================] - 0s 3ms/step - loss: 63801954304.0000\n",
      "Epoch 28/400\n",
      "136/136 [==============================] - 0s 3ms/step - loss: 63714541568.0000\n",
      "Epoch 29/400\n",
      "136/136 [==============================] - 0s 3ms/step - loss: 63655788544.0000\n",
      "Epoch 30/400\n",
      "136/136 [==============================] - 0s 3ms/step - loss: 63704698880.0000\n",
      "Epoch 31/400\n",
      "136/136 [==============================] - 0s 3ms/step - loss: 63765225472.0000\n",
      "Epoch 32/400\n",
      "136/136 [==============================] - 0s 3ms/step - loss: 63771254784.0000\n",
      "Epoch 33/400\n",
      "136/136 [==============================] - 0s 3ms/step - loss: 63725748224.0000\n",
      "Epoch 34/400\n",
      "136/136 [==============================] - 0s 3ms/step - loss: 63734681600.0000\n",
      "Epoch 35/400\n",
      "136/136 [==============================] - 0s 3ms/step - loss: 63812833280.0000\n",
      "Epoch 36/400\n",
      "136/136 [==============================] - 0s 3ms/step - loss: 63650983936.0000\n",
      "Epoch 37/400\n",
      "136/136 [==============================] - 0s 3ms/step - loss: 63734005760.0000\n",
      "Epoch 38/400\n",
      "136/136 [==============================] - 0s 3ms/step - loss: 63676968960.0000\n",
      "Epoch 39/400\n",
      "136/136 [==============================] - 0s 3ms/step - loss: 63631228928.0000\n",
      "Epoch 40/400\n",
      "136/136 [==============================] - 0s 3ms/step - loss: 63633317888.0000\n",
      "Epoch 41/400\n",
      "136/136 [==============================] - 0s 3ms/step - loss: 63821942784.0000\n",
      "Epoch 42/400\n",
      "136/136 [==============================] - 0s 3ms/step - loss: 63729881088.0000\n",
      "Epoch 43/400\n",
      "136/136 [==============================] - 0s 3ms/step - loss: 63566766080.0000\n",
      "Epoch 44/400\n",
      "136/136 [==============================] - 0s 3ms/step - loss: 63674626048.0000\n",
      "Epoch 45/400\n",
      "136/136 [==============================] - 0s 3ms/step - loss: 63601422336.0000\n",
      "Epoch 46/400\n",
      "136/136 [==============================] - 0s 3ms/step - loss: 63638863872.0000\n",
      "Epoch 47/400\n",
      "136/136 [==============================] - 0s 3ms/step - loss: 63672995840.0000\n",
      "Epoch 48/400\n",
      "136/136 [==============================] - 0s 3ms/step - loss: 63613460480.0000\n",
      "Epoch 49/400\n",
      "136/136 [==============================] - 0s 2ms/step - loss: 63613038592.0000\n",
      "Epoch 50/400\n",
      "136/136 [==============================] - 0s 3ms/step - loss: 63607164928.0000\n",
      "Epoch 51/400\n",
      "136/136 [==============================] - 0s 3ms/step - loss: 63626457088.0000\n",
      "Epoch 52/400\n",
      "136/136 [==============================] - 0s 3ms/step - loss: 63540400128.0000\n",
      "Epoch 53/400\n",
      "136/136 [==============================] - 0s 3ms/step - loss: 63618646016.0000\n",
      "Epoch 54/400\n",
      "136/136 [==============================] - 0s 3ms/step - loss: 63667236864.0000\n",
      "Epoch 55/400\n",
      "136/136 [==============================] - 0s 3ms/step - loss: 63534211072.0000\n",
      "Epoch 56/400\n",
      "136/136 [==============================] - 0s 3ms/step - loss: 63676272640.0000\n",
      "Epoch 57/400\n",
      "136/136 [==============================] - 0s 3ms/step - loss: 63697096704.0000\n",
      "Epoch 58/400\n",
      "136/136 [==============================] - 1s 4ms/step - loss: 63557640192.0000\n",
      "Epoch 59/400\n",
      "136/136 [==============================] - 0s 3ms/step - loss: 63453863936.0000\n",
      "Epoch 60/400\n",
      "136/136 [==============================] - 0s 3ms/step - loss: 63733653504.0000\n",
      "Epoch 61/400\n",
      "136/136 [==============================] - 0s 3ms/step - loss: 63715688448.0000\n",
      "Epoch 62/400\n",
      "136/136 [==============================] - 0s 3ms/step - loss: 63568388096.0000\n",
      "Epoch 63/400\n",
      "136/136 [==============================] - 0s 3ms/step - loss: 63652483072.0000\n",
      "Epoch 64/400\n",
      "136/136 [==============================] - 0s 3ms/step - loss: 63579537408.0000\n",
      "Epoch 65/400\n",
      "136/136 [==============================] - 0s 3ms/step - loss: 63626452992.0000\n",
      "Epoch 66/400\n",
      "136/136 [==============================] - 0s 3ms/step - loss: 63605813248.0000\n",
      "Epoch 67/400\n",
      "136/136 [==============================] - 0s 3ms/step - loss: 63630307328.0000\n",
      "Epoch 68/400\n",
      "136/136 [==============================] - 0s 3ms/step - loss: 63827992576.0000\n",
      "Epoch 69/400\n",
      "136/136 [==============================] - 0s 3ms/step - loss: 63512657920.0000\n",
      "Epoch 70/400\n",
      "136/136 [==============================] - 0s 3ms/step - loss: 63612264448.0000\n",
      "Epoch 71/400\n",
      "136/136 [==============================] - 0s 3ms/step - loss: 63511834624.0000\n",
      "Epoch 72/400\n",
      "136/136 [==============================] - 0s 3ms/step - loss: 63505670144.0000\n",
      "Epoch 73/400\n",
      "136/136 [==============================] - 0s 3ms/step - loss: 63448567808.0000\n",
      "Epoch 74/400\n",
      "136/136 [==============================] - 0s 3ms/step - loss: 63694712832.0000\n",
      "Epoch 75/400\n",
      "136/136 [==============================] - 0s 3ms/step - loss: 63617536000.0000\n",
      "Epoch 76/400\n",
      "136/136 [==============================] - 0s 3ms/step - loss: 63723618304.0000\n",
      "Epoch 77/400\n",
      "136/136 [==============================] - 0s 3ms/step - loss: 63610474496.0000\n",
      "Epoch 78/400\n",
      "136/136 [==============================] - 0s 3ms/step - loss: 63508758528.0000\n",
      "Epoch 79/400\n",
      "136/136 [==============================] - 0s 3ms/step - loss: 63483969536.0000\n",
      "Epoch 80/400\n",
      "136/136 [==============================] - 0s 3ms/step - loss: 63609536512.0000\n",
      "Epoch 81/400\n",
      "136/136 [==============================] - 0s 3ms/step - loss: 63654084608.0000\n",
      "Epoch 82/400\n",
      "136/136 [==============================] - 0s 3ms/step - loss: 63478902784.0000\n",
      "Epoch 83/400\n",
      "136/136 [==============================] - 0s 3ms/step - loss: 63691735040.0000\n",
      "Epoch 84/400\n",
      "136/136 [==============================] - 0s 3ms/step - loss: 63562555392.0000\n",
      "Epoch 85/400\n",
      "136/136 [==============================] - 0s 3ms/step - loss: 63565905920.0000\n",
      "Epoch 86/400\n",
      "136/136 [==============================] - 0s 3ms/step - loss: 63485751296.0000\n",
      "Epoch 87/400\n",
      "136/136 [==============================] - 0s 3ms/step - loss: 63534477312.0000\n",
      "Epoch 88/400\n",
      "136/136 [==============================] - 0s 3ms/step - loss: 63476699136.0000\n",
      "Epoch 89/400\n"
     ]
    },
    {
     "name": "stdout",
     "output_type": "stream",
     "text": [
      "136/136 [==============================] - 0s 3ms/step - loss: 63579725824.0000\n",
      "Epoch 90/400\n",
      "136/136 [==============================] - 0s 3ms/step - loss: 63444209664.0000\n",
      "Epoch 91/400\n",
      "136/136 [==============================] - 0s 3ms/step - loss: 63380041728.0000\n",
      "Epoch 92/400\n",
      "136/136 [==============================] - 0s 3ms/step - loss: 63660630016.0000\n",
      "Epoch 93/400\n",
      "136/136 [==============================] - 0s 3ms/step - loss: 63988731904.0000\n",
      "Epoch 94/400\n",
      "136/136 [==============================] - 0s 3ms/step - loss: 63392108544.0000\n",
      "Epoch 95/400\n",
      "136/136 [==============================] - 0s 3ms/step - loss: 63405862912.0000\n",
      "Epoch 96/400\n",
      "136/136 [==============================] - 0s 3ms/step - loss: 63330086912.0000\n",
      "Epoch 97/400\n",
      "136/136 [==============================] - 0s 3ms/step - loss: 63572426752.0000\n",
      "Epoch 98/400\n",
      "136/136 [==============================] - 0s 3ms/step - loss: 63439962112.0000\n",
      "Epoch 99/400\n",
      "136/136 [==============================] - 0s 3ms/step - loss: 63401504768.0000\n",
      "Epoch 100/400\n",
      "136/136 [==============================] - 0s 3ms/step - loss: 63506030592.0000\n",
      "Epoch 101/400\n",
      "136/136 [==============================] - 0s 3ms/step - loss: 63327260672.0000\n",
      "Epoch 102/400\n",
      "136/136 [==============================] - 0s 3ms/step - loss: 63365656576.0000\n",
      "Epoch 103/400\n",
      "136/136 [==============================] - 0s 3ms/step - loss: 63508664320.0000\n",
      "Epoch 104/400\n",
      "136/136 [==============================] - 0s 3ms/step - loss: 63383535616.0000\n",
      "Epoch 105/400\n",
      "136/136 [==============================] - 0s 3ms/step - loss: 63451009024.0000\n",
      "Epoch 106/400\n",
      "136/136 [==============================] - 0s 3ms/step - loss: 63407239168.0000\n",
      "Epoch 107/400\n",
      "136/136 [==============================] - 0s 3ms/step - loss: 63536205824.0000\n",
      "Epoch 108/400\n",
      "136/136 [==============================] - 0s 3ms/step - loss: 63388299264.0000\n",
      "Epoch 109/400\n",
      "136/136 [==============================] - 0s 3ms/step - loss: 63357632512.0000\n",
      "Epoch 110/400\n",
      "136/136 [==============================] - 0s 3ms/step - loss: 63368314880.0000\n",
      "Epoch 111/400\n",
      "136/136 [==============================] - 0s 3ms/step - loss: 63420469248.0000\n",
      "Epoch 112/400\n",
      "136/136 [==============================] - 0s 3ms/step - loss: 63433203712.0000\n",
      "Epoch 113/400\n",
      "136/136 [==============================] - 0s 3ms/step - loss: 63348359168.0000\n",
      "Epoch 114/400\n",
      "136/136 [==============================] - 0s 3ms/step - loss: 63409868800.0000\n",
      "Epoch 115/400\n",
      "136/136 [==============================] - 0s 3ms/step - loss: 63538233344.0000\n",
      "Epoch 116/400\n",
      "136/136 [==============================] - 0s 3ms/step - loss: 63398719488.0000\n",
      "Epoch 117/400\n",
      "136/136 [==============================] - 0s 3ms/step - loss: 63327461376.0000\n",
      "Epoch 118/400\n",
      "136/136 [==============================] - 0s 3ms/step - loss: 64713248768.0000\n",
      "Epoch 119/400\n",
      "136/136 [==============================] - 0s 4ms/step - loss: 63534755840.0000\n",
      "Epoch 120/400\n",
      "136/136 [==============================] - 0s 3ms/step - loss: 63433662464.0000\n",
      "Epoch 121/400\n",
      "136/136 [==============================] - 0s 3ms/step - loss: 63370842112.0000\n",
      "Epoch 122/400\n",
      "136/136 [==============================] - 0s 3ms/step - loss: 63414161408.0000\n",
      "Epoch 123/400\n",
      "136/136 [==============================] - 0s 3ms/step - loss: 63263461376.0000\n",
      "Epoch 124/400\n",
      "136/136 [==============================] - 0s 3ms/step - loss: 63323004928.0000\n",
      "Epoch 125/400\n",
      "136/136 [==============================] - 0s 3ms/step - loss: 63353851904.0000\n",
      "Epoch 126/400\n",
      "136/136 [==============================] - 0s 3ms/step - loss: 63457320960.0000\n",
      "Epoch 127/400\n",
      "136/136 [==============================] - 0s 3ms/step - loss: 63543177216.0000\n",
      "Epoch 128/400\n",
      "136/136 [==============================] - 0s 3ms/step - loss: 63358197760.0000\n",
      "Epoch 129/400\n",
      "136/136 [==============================] - 0s 3ms/step - loss: 63493992448.0000\n",
      "Epoch 130/400\n",
      "136/136 [==============================] - 0s 4ms/step - loss: 63246602240.0000\n",
      "Epoch 131/400\n",
      "136/136 [==============================] - 0s 3ms/step - loss: 63482081280.0000\n",
      "Epoch 132/400\n",
      "136/136 [==============================] - 0s 4ms/step - loss: 63313784832.0000\n",
      "Epoch 133/400\n",
      "136/136 [==============================] - 0s 3ms/step - loss: 63485194240.0000\n",
      "Epoch 134/400\n",
      "136/136 [==============================] - 0s 3ms/step - loss: 63482736640.0000\n",
      "Epoch 135/400\n",
      "136/136 [==============================] - 0s 3ms/step - loss: 63291719680.0000\n",
      "Epoch 136/400\n",
      "136/136 [==============================] - 0s 3ms/step - loss: 63319519232.0000\n",
      "Epoch 137/400\n",
      "136/136 [==============================] - 0s 3ms/step - loss: 63284498432.0000\n",
      "Epoch 138/400\n",
      "136/136 [==============================] - 0s 3ms/step - loss: 63255830528.0000\n",
      "Epoch 139/400\n",
      "136/136 [==============================] - 0s 3ms/step - loss: 63322472448.0000\n",
      "Epoch 140/400\n",
      "136/136 [==============================] - 0s 3ms/step - loss: 63389487104.0000\n",
      "Epoch 141/400\n",
      "136/136 [==============================] - 0s 3ms/step - loss: 63184510976.0000\n",
      "Epoch 142/400\n",
      "136/136 [==============================] - 0s 3ms/step - loss: 63405563904.0000\n",
      "Epoch 143/400\n",
      "136/136 [==============================] - 0s 3ms/step - loss: 63227314176.0000\n",
      "Epoch 144/400\n",
      "136/136 [==============================] - 0s 3ms/step - loss: 63173128192.0000\n",
      "Epoch 145/400\n",
      "136/136 [==============================] - 0s 3ms/step - loss: 63275556864.0000\n",
      "Epoch 146/400\n",
      "136/136 [==============================] - 0s 3ms/step - loss: 63301890048.0000\n",
      "Epoch 147/400\n",
      "136/136 [==============================] - 0s 3ms/step - loss: 63223615488.0000\n",
      "Epoch 148/400\n",
      "136/136 [==============================] - 0s 3ms/step - loss: 63259734016.0000\n",
      "Epoch 149/400\n",
      "136/136 [==============================] - 0s 3ms/step - loss: 63193726976.0000\n",
      "Epoch 150/400\n",
      "136/136 [==============================] - 0s 3ms/step - loss: 63293202432.0000\n",
      "Epoch 151/400\n",
      "136/136 [==============================] - 0s 3ms/step - loss: 63237275648.0000\n",
      "Epoch 152/400\n",
      "136/136 [==============================] - 0s 3ms/step - loss: 63398121472.0000\n",
      "Epoch 153/400\n",
      "136/136 [==============================] - 0s 3ms/step - loss: 63266115584.0000\n",
      "Epoch 154/400\n",
      "136/136 [==============================] - 0s 3ms/step - loss: 63273857024.0000\n",
      "Epoch 155/400\n",
      "136/136 [==============================] - 0s 3ms/step - loss: 63220211712.0000\n",
      "Epoch 156/400\n",
      "136/136 [==============================] - 0s 3ms/step - loss: 63150944256.0000\n",
      "Epoch 157/400\n",
      "136/136 [==============================] - 0s 3ms/step - loss: 63269216256.0000\n",
      "Epoch 158/400\n",
      "136/136 [==============================] - 0s 3ms/step - loss: 63262007296.0000\n",
      "Epoch 159/400\n",
      "136/136 [==============================] - 0s 3ms/step - loss: 63174180864.0000\n",
      "Epoch 160/400\n",
      "136/136 [==============================] - 0s 3ms/step - loss: 63277522944.0000\n",
      "Epoch 161/400\n",
      "136/136 [==============================] - 0s 3ms/step - loss: 63285846016.0000\n",
      "Epoch 162/400\n",
      "136/136 [==============================] - 0s 3ms/step - loss: 63279489024.0000\n",
      "Epoch 163/400\n",
      "136/136 [==============================] - 0s 3ms/step - loss: 63162408960.0000\n",
      "Epoch 164/400\n",
      "136/136 [==============================] - 0s 3ms/step - loss: 63255158784.0000\n",
      "Epoch 165/400\n",
      "136/136 [==============================] - 0s 3ms/step - loss: 63336767488.0000\n",
      "Epoch 166/400\n",
      "136/136 [==============================] - 0s 3ms/step - loss: 63255080960.0000\n",
      "Epoch 167/400\n",
      "136/136 [==============================] - 0s 3ms/step - loss: 63173955584.0000\n",
      "Epoch 168/400\n",
      "136/136 [==============================] - 0s 3ms/step - loss: 63058231296.0000\n",
      "Epoch 169/400\n",
      "136/136 [==============================] - 0s 3ms/step - loss: 63060811776.0000\n",
      "Epoch 170/400\n",
      "136/136 [==============================] - 0s 3ms/step - loss: 63210098688.0000\n",
      "Epoch 171/400\n",
      "136/136 [==============================] - 0s 3ms/step - loss: 63097888768.0000\n",
      "Epoch 172/400\n",
      "136/136 [==============================] - 0s 3ms/step - loss: 63138889728.0000\n",
      "Epoch 173/400\n",
      "136/136 [==============================] - 0s 3ms/step - loss: 63073406976.0000\n",
      "Epoch 174/400\n",
      "136/136 [==============================] - 0s 3ms/step - loss: 63222030336.0000\n",
      "Epoch 175/400\n",
      "136/136 [==============================] - 0s 3ms/step - loss: 63082205184.0000\n",
      "Epoch 176/400\n"
     ]
    },
    {
     "name": "stdout",
     "output_type": "stream",
     "text": [
      "136/136 [==============================] - 0s 3ms/step - loss: 63305310208.0000\n",
      "Epoch 177/400\n",
      "136/136 [==============================] - 0s 3ms/step - loss: 63054946304.0000\n",
      "Epoch 178/400\n",
      "136/136 [==============================] - 0s 3ms/step - loss: 63117365248.0000\n",
      "Epoch 179/400\n",
      "136/136 [==============================] - 0s 3ms/step - loss: 62995611648.0000\n",
      "Epoch 180/400\n",
      "136/136 [==============================] - 0s 3ms/step - loss: 63255461888.0000\n",
      "Epoch 181/400\n",
      "136/136 [==============================] - 0s 3ms/step - loss: 63144865792.0000\n",
      "Epoch 182/400\n",
      "136/136 [==============================] - 0s 3ms/step - loss: 63026221056.0000\n",
      "Epoch 183/400\n",
      "136/136 [==============================] - 0s 3ms/step - loss: 63129456640.0000\n",
      "Epoch 184/400\n",
      "136/136 [==============================] - 0s 3ms/step - loss: 63085273088.0000\n",
      "Epoch 185/400\n",
      "136/136 [==============================] - 0s 3ms/step - loss: 63098982400.0000\n",
      "Epoch 186/400\n",
      "136/136 [==============================] - 0s 3ms/step - loss: 63003193344.0000\n",
      "Epoch 187/400\n",
      "136/136 [==============================] - 0s 3ms/step - loss: 62967418880.0000\n",
      "Epoch 188/400\n",
      "136/136 [==============================] - 0s 3ms/step - loss: 62978469888.0000\n",
      "Epoch 189/400\n",
      "136/136 [==============================] - 0s 3ms/step - loss: 62987272192.0000\n",
      "Epoch 190/400\n",
      "136/136 [==============================] - 0s 3ms/step - loss: 63031422976.0000\n",
      "Epoch 191/400\n",
      "136/136 [==============================] - 0s 3ms/step - loss: 62957047808.0000\n",
      "Epoch 192/400\n",
      "136/136 [==============================] - 0s 3ms/step - loss: 63145115648.0000\n",
      "Epoch 193/400\n",
      "136/136 [==============================] - 0s 3ms/step - loss: 63055400960.0000\n",
      "Epoch 194/400\n",
      "136/136 [==============================] - 1s 4ms/step - loss: 62893539328.0000\n",
      "Epoch 195/400\n",
      "136/136 [==============================] - 0s 3ms/step - loss: 62904213504.0000\n",
      "Epoch 196/400\n",
      "136/136 [==============================] - 0s 3ms/step - loss: 62877208576.0000\n",
      "Epoch 197/400\n",
      "136/136 [==============================] - 0s 3ms/step - loss: 63014408192.0000\n",
      "Epoch 198/400\n",
      "136/136 [==============================] - 0s 3ms/step - loss: 62926921728.0000\n",
      "Epoch 199/400\n",
      "136/136 [==============================] - 0s 3ms/step - loss: 62897451008.0000\n",
      "Epoch 200/400\n",
      "136/136 [==============================] - 0s 2ms/step - loss: 62893871104.0000\n",
      "Epoch 201/400\n",
      "136/136 [==============================] - 0s 3ms/step - loss: 62966325248.0000\n",
      "Epoch 202/400\n",
      "136/136 [==============================] - 0s 3ms/step - loss: 62960435200.0000\n",
      "Epoch 203/400\n",
      "136/136 [==============================] - 0s 3ms/step - loss: 63107031040.0000\n",
      "Epoch 204/400\n",
      "136/136 [==============================] - 0s 3ms/step - loss: 63048519680.0000\n",
      "Epoch 205/400\n",
      "136/136 [==============================] - 0s 3ms/step - loss: 62872993792.0000\n",
      "Epoch 206/400\n",
      "136/136 [==============================] - 0s 3ms/step - loss: 62816866304.0000\n",
      "Epoch 207/400\n",
      "136/136 [==============================] - 0s 3ms/step - loss: 62971392000.0000\n",
      "Epoch 208/400\n",
      "136/136 [==============================] - 0s 3ms/step - loss: 62784643072.0000\n",
      "Epoch 209/400\n",
      "136/136 [==============================] - 0s 4ms/step - loss: 63113760768.0000\n",
      "Epoch 210/400\n",
      "136/136 [==============================] - 0s 3ms/step - loss: 62769344512.0000\n",
      "Epoch 211/400\n",
      "136/136 [==============================] - 0s 3ms/step - loss: 62635180032.0000\n",
      "Epoch 212/400\n",
      "136/136 [==============================] - 0s 3ms/step - loss: 62594912256.0000\n",
      "Epoch 213/400\n",
      "136/136 [==============================] - 0s 3ms/step - loss: 62538293248.0000\n",
      "Epoch 214/400\n",
      "136/136 [==============================] - 0s 3ms/step - loss: 62531125248.0000\n",
      "Epoch 215/400\n",
      "136/136 [==============================] - 0s 3ms/step - loss: 62651334656.0000\n",
      "Epoch 216/400\n",
      "136/136 [==============================] - 0s 3ms/step - loss: 62476169216.0000\n",
      "Epoch 217/400\n",
      "136/136 [==============================] - 0s 3ms/step - loss: 62524297216.0000\n",
      "Epoch 218/400\n",
      "136/136 [==============================] - 0s 3ms/step - loss: 62342184960.0000\n",
      "Epoch 219/400\n",
      "136/136 [==============================] - 0s 3ms/step - loss: 62554361856.0000\n",
      "Epoch 220/400\n",
      "136/136 [==============================] - 1s 4ms/step - loss: 62386348032.0000\n",
      "Epoch 221/400\n",
      "136/136 [==============================] - 0s 3ms/step - loss: 62393872384.0000\n",
      "Epoch 222/400\n",
      "136/136 [==============================] - 0s 3ms/step - loss: 62333313024.0000\n",
      "Epoch 223/400\n",
      "136/136 [==============================] - 0s 3ms/step - loss: 62818758656.0000\n",
      "Epoch 224/400\n",
      "136/136 [==============================] - 0s 3ms/step - loss: 62272172032.0000\n",
      "Epoch 225/400\n",
      "136/136 [==============================] - 0s 3ms/step - loss: 62221811712.0000\n",
      "Epoch 226/400\n",
      "136/136 [==============================] - 0s 2ms/step - loss: 62157004800.0000\n",
      "Epoch 227/400\n",
      "136/136 [==============================] - 0s 3ms/step - loss: 62180896768.0000\n",
      "Epoch 228/400\n",
      "136/136 [==============================] - 0s 3ms/step - loss: 62129524736.0000\n",
      "Epoch 229/400\n",
      "136/136 [==============================] - 0s 3ms/step - loss: 62098722816.0000\n",
      "Epoch 230/400\n",
      "136/136 [==============================] - 0s 3ms/step - loss: 62113923072.0000\n",
      "Epoch 231/400\n",
      "136/136 [==============================] - 0s 3ms/step - loss: 62015954944.0000\n",
      "Epoch 232/400\n",
      "136/136 [==============================] - 0s 3ms/step - loss: 61957156864.0000\n",
      "Epoch 233/400\n",
      "136/136 [==============================] - 0s 3ms/step - loss: 62222524416.0000\n",
      "Epoch 234/400\n",
      "136/136 [==============================] - 0s 3ms/step - loss: 62041661440.0000\n",
      "Epoch 235/400\n",
      "136/136 [==============================] - 0s 3ms/step - loss: 62039810048.0000\n",
      "Epoch 236/400\n",
      "136/136 [==============================] - 0s 2ms/step - loss: 61860286464.0000\n",
      "Epoch 237/400\n",
      "136/136 [==============================] - 0s 2ms/step - loss: 61974609920.0000\n",
      "Epoch 238/400\n",
      "136/136 [==============================] - 0s 2ms/step - loss: 61983653888.0000\n",
      "Epoch 239/400\n",
      "136/136 [==============================] - 0s 2ms/step - loss: 61765853184.0000\n",
      "Epoch 240/400\n",
      "136/136 [==============================] - 0s 3ms/step - loss: 61808656384.0000\n",
      "Epoch 241/400\n",
      "136/136 [==============================] - 0s 3ms/step - loss: 61934350336.0000\n",
      "Epoch 242/400\n",
      "136/136 [==============================] - 0s 2ms/step - loss: 61796864000.0000\n",
      "Epoch 243/400\n",
      "136/136 [==============================] - 0s 3ms/step - loss: 61867454464.0000\n",
      "Epoch 244/400\n",
      "136/136 [==============================] - 0s 3ms/step - loss: 61786296320.0000\n",
      "Epoch 245/400\n",
      "136/136 [==============================] - 0s 2ms/step - loss: 61895471104.0000\n",
      "Epoch 246/400\n",
      "136/136 [==============================] - 0s 3ms/step - loss: 61761646592.0000\n",
      "Epoch 247/400\n",
      "136/136 [==============================] - 0s 2ms/step - loss: 61765742592.0000\n",
      "Epoch 248/400\n",
      "136/136 [==============================] - 0s 2ms/step - loss: 61662838784.0000\n",
      "Epoch 249/400\n",
      "136/136 [==============================] - 0s 2ms/step - loss: 61833662464.0000\n",
      "Epoch 250/400\n",
      "136/136 [==============================] - 0s 2ms/step - loss: 61707386880.0000\n",
      "Epoch 251/400\n",
      "136/136 [==============================] - 0s 2ms/step - loss: 61663547392.0000\n",
      "Epoch 252/400\n",
      "136/136 [==============================] - 0s 2ms/step - loss: 61566062592.0000\n",
      "Epoch 253/400\n",
      "136/136 [==============================] - 0s 2ms/step - loss: 61701591040.0000\n",
      "Epoch 254/400\n",
      "136/136 [==============================] - 0s 2ms/step - loss: 61711970304.0000\n",
      "Epoch 255/400\n",
      "136/136 [==============================] - 0s 2ms/step - loss: 61678788608.0000\n",
      "Epoch 256/400\n",
      "136/136 [==============================] - 0s 2ms/step - loss: 61582876672.0000\n",
      "Epoch 257/400\n",
      "136/136 [==============================] - 0s 2ms/step - loss: 61657776128.0000\n",
      "Epoch 258/400\n",
      "136/136 [==============================] - 0s 3ms/step - loss: 61733609472.0000\n",
      "Epoch 259/400\n",
      "136/136 [==============================] - 0s 2ms/step - loss: 61595181056.0000\n",
      "Epoch 260/400\n",
      "136/136 [==============================] - 0s 3ms/step - loss: 61493460992.0000\n",
      "Epoch 261/400\n",
      "136/136 [==============================] - 0s 2ms/step - loss: 61980774400.0000\n",
      "Epoch 262/400\n",
      "136/136 [==============================] - 0s 2ms/step - loss: 61398102016.0000\n",
      "Epoch 263/400\n"
     ]
    },
    {
     "name": "stdout",
     "output_type": "stream",
     "text": [
      "136/136 [==============================] - 0s 3ms/step - loss: 61651230720.0000\n",
      "Epoch 264/400\n",
      "136/136 [==============================] - 0s 2ms/step - loss: 61556584448.0000\n",
      "Epoch 265/400\n",
      "136/136 [==============================] - 0s 2ms/step - loss: 61640409088.0000\n",
      "Epoch 266/400\n",
      "136/136 [==============================] - 0s 3ms/step - loss: 61426110464.0000\n",
      "Epoch 267/400\n",
      "136/136 [==============================] - 0s 2ms/step - loss: 61606510592.0000\n",
      "Epoch 268/400\n",
      "136/136 [==============================] - 0s 3ms/step - loss: 61646712832.0000\n",
      "Epoch 269/400\n",
      "136/136 [==============================] - 0s 3ms/step - loss: 61478957056.0000\n",
      "Epoch 270/400\n",
      "136/136 [==============================] - 0s 3ms/step - loss: 61447929856.0000\n",
      "Epoch 271/400\n",
      "136/136 [==============================] - 0s 2ms/step - loss: 61508988928.0000\n",
      "Epoch 272/400\n",
      "136/136 [==============================] - 0s 2ms/step - loss: 61322600448.0000\n",
      "Epoch 273/400\n",
      "136/136 [==============================] - 0s 2ms/step - loss: 61568151552.0000\n",
      "Epoch 274/400\n",
      "136/136 [==============================] - 0s 2ms/step - loss: 61475487744.0000\n",
      "Epoch 275/400\n",
      "136/136 [==============================] - 0s 2ms/step - loss: 61847498752.0000\n",
      "Epoch 276/400\n",
      "136/136 [==============================] - 0s 2ms/step - loss: 61339316224.0000\n",
      "Epoch 277/400\n",
      "136/136 [==============================] - 0s 2ms/step - loss: 61345079296.0000\n",
      "Epoch 278/400\n",
      "136/136 [==============================] - 0s 2ms/step - loss: 61425889280.0000\n",
      "Epoch 279/400\n",
      "136/136 [==============================] - 0s 2ms/step - loss: 61403488256.0000\n",
      "Epoch 280/400\n",
      "136/136 [==============================] - 0s 2ms/step - loss: 61379145728.0000\n",
      "Epoch 281/400\n",
      "136/136 [==============================] - 0s 2ms/step - loss: 61473603584.0000\n",
      "Epoch 282/400\n",
      "136/136 [==============================] - 0s 2ms/step - loss: 61563346944.0000\n",
      "Epoch 283/400\n",
      "136/136 [==============================] - 0s 2ms/step - loss: 61537103872.0000\n",
      "Epoch 284/400\n",
      "136/136 [==============================] - 0s 2ms/step - loss: 61165162496.0000\n",
      "Epoch 285/400\n",
      "136/136 [==============================] - 0s 2ms/step - loss: 61292847104.0000\n",
      "Epoch 286/400\n",
      "136/136 [==============================] - 0s 2ms/step - loss: 61253332992.0000\n",
      "Epoch 287/400\n",
      "136/136 [==============================] - 0s 2ms/step - loss: 61506236416.0000\n",
      "Epoch 288/400\n",
      "136/136 [==============================] - 0s 2ms/step - loss: 61751361536.0000\n",
      "Epoch 289/400\n",
      "136/136 [==============================] - 0s 2ms/step - loss: 61204369408.0000\n",
      "Epoch 290/400\n",
      "136/136 [==============================] - 0s 2ms/step - loss: 61380476928.0000\n",
      "Epoch 291/400\n",
      "136/136 [==============================] - 0s 2ms/step - loss: 61192962048.0000\n",
      "Epoch 292/400\n",
      "136/136 [==============================] - 0s 2ms/step - loss: 61192474624.0000\n",
      "Epoch 293/400\n",
      "136/136 [==============================] - 0s 2ms/step - loss: 61233127424.0000\n",
      "Epoch 294/400\n",
      "136/136 [==============================] - 0s 2ms/step - loss: 61062049792.0000\n",
      "Epoch 295/400\n",
      "136/136 [==============================] - 0s 2ms/step - loss: 61165195264.0000\n",
      "Epoch 296/400\n",
      "136/136 [==============================] - 0s 2ms/step - loss: 61317869568.0000\n",
      "Epoch 297/400\n",
      "136/136 [==============================] - 0s 2ms/step - loss: 61127012352.0000\n",
      "Epoch 298/400\n",
      "136/136 [==============================] - 0s 2ms/step - loss: 61196652544.0000\n",
      "Epoch 299/400\n",
      "136/136 [==============================] - 0s 2ms/step - loss: 61026598912.0000\n",
      "Epoch 300/400\n",
      "136/136 [==============================] - 0s 2ms/step - loss: 60971474944.0000\n",
      "Epoch 301/400\n",
      "136/136 [==============================] - 0s 2ms/step - loss: 61251956736.0000\n",
      "Epoch 302/400\n",
      "136/136 [==============================] - 0s 2ms/step - loss: 60930854912.0000\n",
      "Epoch 303/400\n",
      "136/136 [==============================] - 0s 2ms/step - loss: 60955193344.0000\n",
      "Epoch 304/400\n",
      "136/136 [==============================] - 0s 2ms/step - loss: 61019824128.0000\n",
      "Epoch 305/400\n",
      "136/136 [==============================] - 0s 2ms/step - loss: 61035347968.0000\n",
      "Epoch 306/400\n",
      "136/136 [==============================] - 0s 3ms/step - loss: 60916801536.0000\n",
      "Epoch 307/400\n",
      "136/136 [==============================] - 0s 3ms/step - loss: 60909686784.0000\n",
      "Epoch 308/400\n",
      "136/136 [==============================] - 0s 2ms/step - loss: 60812111872.0000\n",
      "Epoch 309/400\n",
      "136/136 [==============================] - 0s 2ms/step - loss: 60834271232.0000\n",
      "Epoch 310/400\n",
      "136/136 [==============================] - 0s 2ms/step - loss: 60904906752.0000\n",
      "Epoch 311/400\n",
      "136/136 [==============================] - 0s 2ms/step - loss: 60798996480.0000\n",
      "Epoch 312/400\n",
      "136/136 [==============================] - 0s 2ms/step - loss: 61052067840.0000\n",
      "Epoch 313/400\n",
      "136/136 [==============================] - 0s 2ms/step - loss: 60746964992.0000\n",
      "Epoch 314/400\n",
      "136/136 [==============================] - 0s 2ms/step - loss: 60783575040.0000\n",
      "Epoch 315/400\n",
      "136/136 [==============================] - 0s 3ms/step - loss: 61063507968.0000\n",
      "Epoch 316/400\n",
      "136/136 [==============================] - 0s 3ms/step - loss: 60808073216.0000\n",
      "Epoch 317/400\n",
      "136/136 [==============================] - 0s 2ms/step - loss: 60681662464.0000\n",
      "Epoch 318/400\n",
      "136/136 [==============================] - 0s 2ms/step - loss: 60670066688.0000\n",
      "Epoch 319/400\n",
      "136/136 [==============================] - 0s 2ms/step - loss: 60660744192.0000\n",
      "Epoch 320/400\n",
      "136/136 [==============================] - 0s 2ms/step - loss: 60736593920.0000\n",
      "Epoch 321/400\n",
      "136/136 [==============================] - 0s 2ms/step - loss: 60739121152.0000\n",
      "Epoch 322/400\n",
      "136/136 [==============================] - 0s 2ms/step - loss: 60605644800.0000\n",
      "Epoch 323/400\n",
      "136/136 [==============================] - 0s 2ms/step - loss: 60853723136.0000\n",
      "Epoch 324/400\n",
      "136/136 [==============================] - 0s 2ms/step - loss: 60497133568.0000\n",
      "Epoch 325/400\n",
      "136/136 [==============================] - 0s 2ms/step - loss: 60471070720.0000\n",
      "Epoch 326/400\n",
      "136/136 [==============================] - 0s 2ms/step - loss: 60816916480.0000\n",
      "Epoch 327/400\n",
      "136/136 [==============================] - 0s 2ms/step - loss: 61487423488.0000\n",
      "Epoch 328/400\n",
      "136/136 [==============================] - 0s 2ms/step - loss: 60553949184.0000\n",
      "Epoch 329/400\n",
      "136/136 [==============================] - 0s 2ms/step - loss: 60329340928.0000\n",
      "Epoch 330/400\n",
      "136/136 [==============================] - 0s 2ms/step - loss: 60296347648.0000\n",
      "Epoch 331/400\n",
      "136/136 [==============================] - 0s 2ms/step - loss: 60482043904.0000\n",
      "Epoch 332/400\n",
      "136/136 [==============================] - 0s 2ms/step - loss: 60392382464.0000\n",
      "Epoch 333/400\n",
      "136/136 [==============================] - 0s 2ms/step - loss: 60323549184.0000\n",
      "Epoch 334/400\n",
      "136/136 [==============================] - 0s 2ms/step - loss: 60329164800.0000\n",
      "Epoch 335/400\n",
      "136/136 [==============================] - 0s 2ms/step - loss: 60270628864.0000\n",
      "Epoch 336/400\n",
      "136/136 [==============================] - 0s 2ms/step - loss: 60160131072.0000\n",
      "Epoch 337/400\n",
      "136/136 [==============================] - 0s 2ms/step - loss: 60419780608.0000\n",
      "Epoch 338/400\n",
      "136/136 [==============================] - 0s 2ms/step - loss: 60314853376.0000\n",
      "Epoch 339/400\n",
      "136/136 [==============================] - 0s 2ms/step - loss: 60170117120.0000\n",
      "Epoch 340/400\n",
      "136/136 [==============================] - 0s 2ms/step - loss: 59998195712.0000\n",
      "Epoch 341/400\n",
      "136/136 [==============================] - 0s 2ms/step - loss: 59923193856.0000\n",
      "Epoch 342/400\n",
      "136/136 [==============================] - 0s 2ms/step - loss: 60223909888.0000\n",
      "Epoch 343/400\n",
      "136/136 [==============================] - 0s 2ms/step - loss: 59974406144.0000\n",
      "Epoch 344/400\n",
      "136/136 [==============================] - 0s 2ms/step - loss: 59902623744.0000\n",
      "Epoch 345/400\n",
      "136/136 [==============================] - 0s 2ms/step - loss: 60052762624.0000\n",
      "Epoch 346/400\n",
      "136/136 [==============================] - 0s 2ms/step - loss: 60200132608.0000\n",
      "Epoch 347/400\n",
      "136/136 [==============================] - 0s 2ms/step - loss: 59874951168.0000\n",
      "Epoch 348/400\n",
      "136/136 [==============================] - 0s 2ms/step - loss: 59994263552.0000\n",
      "Epoch 349/400\n",
      "136/136 [==============================] - 0s 2ms/step - loss: 59571818496.0000\n",
      "Epoch 350/400\n"
     ]
    },
    {
     "name": "stdout",
     "output_type": "stream",
     "text": [
      "136/136 [==============================] - 0s 2ms/step - loss: 59847888896.0000\n",
      "Epoch 351/400\n",
      "136/136 [==============================] - 0s 2ms/step - loss: 59870478336.0000\n",
      "Epoch 352/400\n",
      "136/136 [==============================] - 0s 2ms/step - loss: 59663851520.0000\n",
      "Epoch 353/400\n",
      "136/136 [==============================] - 0s 2ms/step - loss: 59417645056.0000\n",
      "Epoch 354/400\n",
      "136/136 [==============================] - 0s 2ms/step - loss: 59537965056.0000\n",
      "Epoch 355/400\n",
      "136/136 [==============================] - 0s 2ms/step - loss: 59361943552.0000\n",
      "Epoch 356/400\n",
      "136/136 [==============================] - 0s 2ms/step - loss: 59507044352.0000\n",
      "Epoch 357/400\n",
      "136/136 [==============================] - 0s 2ms/step - loss: 59941048320.0000\n",
      "Epoch 358/400\n",
      "136/136 [==============================] - 0s 2ms/step - loss: 59391668224.0000\n",
      "Epoch 359/400\n",
      "136/136 [==============================] - 0s 2ms/step - loss: 59565821952.0000\n",
      "Epoch 360/400\n",
      "136/136 [==============================] - 0s 2ms/step - loss: 59128487936.0000\n",
      "Epoch 361/400\n",
      "136/136 [==============================] - 0s 2ms/step - loss: 58867810304.0000\n",
      "Epoch 362/400\n",
      "136/136 [==============================] - 0s 2ms/step - loss: 59623710720.0000\n",
      "Epoch 363/400\n",
      "136/136 [==============================] - 0s 2ms/step - loss: 59099627520.0000\n",
      "Epoch 364/400\n",
      "136/136 [==============================] - 0s 2ms/step - loss: 58844278784.0000\n",
      "Epoch 365/400\n",
      "136/136 [==============================] - 0s 2ms/step - loss: 58750189568.0000\n",
      "Epoch 366/400\n",
      "136/136 [==============================] - 0s 2ms/step - loss: 59557040128.0000\n",
      "Epoch 367/400\n",
      "136/136 [==============================] - 0s 2ms/step - loss: 58588966912.0000\n",
      "Epoch 368/400\n",
      "136/136 [==============================] - 0s 2ms/step - loss: 62068117504.0000\n",
      "Epoch 369/400\n",
      "136/136 [==============================] - 0s 2ms/step - loss: 58451267584.0000\n",
      "Epoch 370/400\n",
      "136/136 [==============================] - 0s 2ms/step - loss: 58419630080.0000\n",
      "Epoch 371/400\n",
      "136/136 [==============================] - 0s 2ms/step - loss: 58393079808.0000\n",
      "Epoch 372/400\n",
      "136/136 [==============================] - 0s 2ms/step - loss: 58185105408.0000\n",
      "Epoch 373/400\n",
      "136/136 [==============================] - 0s 2ms/step - loss: 58243407872.0000\n",
      "Epoch 374/400\n",
      "136/136 [==============================] - 0s 2ms/step - loss: 58091278336.0000\n",
      "Epoch 375/400\n",
      "136/136 [==============================] - 0s 3ms/step - loss: 58218848256.0000\n",
      "Epoch 376/400\n",
      "136/136 [==============================] - 0s 3ms/step - loss: 58008231936.0000\n",
      "Epoch 377/400\n",
      "136/136 [==============================] - 0s 2ms/step - loss: 57789251584.0000\n",
      "Epoch 378/400\n",
      "136/136 [==============================] - 0s 2ms/step - loss: 57879433216.0000\n",
      "Epoch 379/400\n",
      "136/136 [==============================] - 0s 2ms/step - loss: 57503199232.0000\n",
      "Epoch 380/400\n",
      "136/136 [==============================] - 0s 2ms/step - loss: 57467084800.0000\n",
      "Epoch 381/400\n",
      "136/136 [==============================] - 0s 2ms/step - loss: 57450340352.0000\n",
      "Epoch 382/400\n",
      "136/136 [==============================] - 0s 2ms/step - loss: 57380667392.0000\n",
      "Epoch 383/400\n",
      "136/136 [==============================] - 0s 2ms/step - loss: 57051873280.0000\n",
      "Epoch 384/400\n",
      "136/136 [==============================] - 0s 2ms/step - loss: 56771186688.0000\n",
      "Epoch 385/400\n",
      "136/136 [==============================] - 0s 2ms/step - loss: 56704962560.0000\n",
      "Epoch 386/400\n",
      "136/136 [==============================] - 0s 2ms/step - loss: 56785866752.0000\n",
      "Epoch 387/400\n",
      "136/136 [==============================] - 0s 2ms/step - loss: 56609673216.0000\n",
      "Epoch 388/400\n",
      "136/136 [==============================] - 0s 2ms/step - loss: 57452290048.0000\n",
      "Epoch 389/400\n",
      "136/136 [==============================] - 0s 2ms/step - loss: 56143421440.0000\n",
      "Epoch 390/400\n",
      "136/136 [==============================] - 0s 2ms/step - loss: 56468119552.0000\n",
      "Epoch 391/400\n",
      "136/136 [==============================] - 0s 2ms/step - loss: 56089812992.0000\n",
      "Epoch 392/400\n",
      "136/136 [==============================] - 0s 2ms/step - loss: 55711326208.0000\n",
      "Epoch 393/400\n",
      "136/136 [==============================] - 0s 2ms/step - loss: 55908864000.0000\n",
      "Epoch 394/400\n",
      "136/136 [==============================] - 0s 2ms/step - loss: 55817195520.0000\n",
      "Epoch 395/400\n",
      "136/136 [==============================] - 0s 2ms/step - loss: 55370244096.0000\n",
      "Epoch 396/400\n",
      "136/136 [==============================] - 0s 2ms/step - loss: 55573540864.0000\n",
      "Epoch 397/400\n",
      "136/136 [==============================] - 0s 2ms/step - loss: 55556128768.0000\n",
      "Epoch 398/400\n",
      "136/136 [==============================] - 0s 2ms/step - loss: 55617249280.0000\n",
      "Epoch 399/400\n",
      "136/136 [==============================] - 0s 2ms/step - loss: 55642447872.0000\n",
      "Epoch 400/400\n",
      "136/136 [==============================] - 0s 2ms/step - loss: 55865073664.0000\n"
     ]
    },
    {
     "data": {
      "text/plain": [
       "<keras.callbacks.History at 0x1aa090710d0>"
      ]
     },
     "execution_count": 31,
     "metadata": {},
     "output_type": "execute_result"
    }
   ],
   "source": [
    "from tensorflow.keras import Input\n",
    "from tensorflow.keras.models import Sequential\n",
    "from tensorflow.keras.layers import Dense\n",
    "\n",
    "model = Sequential()\n",
    "model.add(Input(shape=(11,)))\n",
    "\n",
    "model.add(Dense(19,activation='logistic'))\n",
    "model.add(Dense(19,activation='relu'))\n",
    "model.add(Dense(19,activation='relu'))\n",
    "model.add(Dense(19,activation='relu'))\n",
    "\n",
    "model.add(Dense(1))\n",
    "\n",
    "model.compile(optimizer='adam',loss='mse')\n",
    "\n",
    "model.fit(x=x_train,\n",
    "          y=y_train,\n",
    "          batch_size=128, epochs=400)"
   ]
  },
  {
   "cell_type": "markdown",
   "id": "def40fad",
   "metadata": {},
   "source": [
    "#### Exercise\n",
    "Understand how batch_size and epochs work. Write down comments here\n",
    "\n",
    "One Epoch\n",
    "- An entire data set goes forward and backward through the ANN ONCE\n",
    "- Passing the entire dataset through ANN once is not enough, i.e. we need to pass the full dataset through the same ANN **multiple times**!\n",
    "\n",
    "Batch Size\n",
    "- Total number of training observations (rows) in a single batch\n",
    "- divide dataset into batches "
   ]
  },
  {
   "attachments": {
    "image.png": {
     "image/png": "[encoded data removed]"
    }
   },
   "cell_type": "markdown",
   "id": "ada7e9e8",
   "metadata": {},
   "source": [
    "<div>\n",
    "<img src=\"attachment:image.png\" width=\"400\"/>\n",
    "</div>"
   ]
  },
  {
   "cell_type": "markdown",
   "id": "2c1f8f9d",
   "metadata": {},
   "source": [
    "#### Check performance of model\n",
    "\n",
    "Predict y ('Price') for the test set"
   ]
  },
  {
   "cell_type": "code",
   "execution_count": 32,
   "id": "c200ee0d",
   "metadata": {
    "scrolled": true
   },
   "outputs": [
    {
     "name": "stdout",
     "output_type": "stream",
     "text": [
      "136/136 [==============================] - 1s 2ms/step\n"
     ]
    },
    {
     "data": {
      "text/plain": [
       "array([[ 679828.75],\n",
       "       [ 390320.75],\n",
       "       [ 510720.2 ],\n",
       "       ...,\n",
       "       [ 444249.4 ],\n",
       "       [1317392.4 ],\n",
       "       [ 350806.56]], dtype=float32)"
      ]
     },
     "execution_count": 32,
     "metadata": {},
     "output_type": "execute_result"
    }
   ],
   "source": [
    "y_pred = model.predict(x_test)\n",
    "y_pred"
   ]
  },
  {
   "cell_type": "markdown",
   "id": "c04c4b64",
   "metadata": {},
   "source": [
    "Use MSE to check performance"
   ]
  },
  {
   "cell_type": "code",
   "execution_count": 33,
   "id": "633e2398",
   "metadata": {},
   "outputs": [
    {
     "name": "stdout",
     "output_type": "stream",
     "text": [
      "272979.6396614062\n",
      "0.5687908632639744\n"
     ]
    }
   ],
   "source": [
    "from sklearn.metrics import mean_squared_error, mean_absolute_error, explained_variance_score\n",
    "print(np.sqrt(mean_squared_error(y_test, y_pred)))\n",
    "print(explained_variance_score(y_test, y_pred))"
   ]
  },
  {
   "cell_type": "markdown",
   "id": "e74bfb37",
   "metadata": {},
   "source": [
    "# Recurrent Neural Networks (RNN) "
   ]
  },
  {
   "cell_type": "code",
   "execution_count": null,
   "id": "a6b0b7c1",
   "metadata": {},
   "outputs": [],
   "source": [
    "!pip install yfinance"
   ]
  },
  {
   "cell_type": "code",
   "execution_count": 34,
   "id": "6c2ad364",
   "metadata": {},
   "outputs": [],
   "source": [
    "import yfinance as yf\n",
    "\n",
    "# For time stamps\n",
    "from datetime import datetime"
   ]
  },
  {
   "cell_type": "code",
   "execution_count": 35,
   "id": "ed4c428e",
   "metadata": {},
   "outputs": [
    {
     "name": "stdout",
     "output_type": "stream",
     "text": [
      "[*********************100%***********************]  1 of 1 completed\n"
     ]
    }
   ],
   "source": [
    "end = datetime.now()\n",
    "start = datetime(end.year - 1, end.month, end.day)\n",
    "\n",
    "apple = yf.download(\"AAPL\", start, end)"
   ]
  },
  {
   "cell_type": "code",
   "execution_count": 36,
   "id": "c1583ec9",
   "metadata": {},
   "outputs": [
    {
     "data": {
      "text/html": [
       "<div>\n",
       "<style scoped>\n",
       "    .dataframe tbody tr th:only-of-type {\n",
       "        vertical-align: middle;\n",
       "    }\n",
       "\n",
       "    .dataframe tbody tr th {\n",
       "        vertical-align: top;\n",
       "    }\n",
       "\n",
       "    .dataframe thead th {\n",
       "        text-align: right;\n",
       "    }\n",
       "</style>\n",
       "<table border=\"1\" class=\"dataframe\">\n",
       "  <thead>\n",
       "    <tr style=\"text-align: right;\">\n",
       "      <th></th>\n",
       "      <th>Open</th>\n",
       "      <th>High</th>\n",
       "      <th>Low</th>\n",
       "      <th>Close</th>\n",
       "      <th>Adj Close</th>\n",
       "      <th>Volume</th>\n",
       "    </tr>\n",
       "    <tr>\n",
       "      <th>Date</th>\n",
       "      <th></th>\n",
       "      <th></th>\n",
       "      <th></th>\n",
       "      <th></th>\n",
       "      <th></th>\n",
       "      <th></th>\n",
       "    </tr>\n",
       "  </thead>\n",
       "  <tbody>\n",
       "    <tr>\n",
       "      <th>2021-05-17</th>\n",
       "      <td>126.820000</td>\n",
       "      <td>126.930000</td>\n",
       "      <td>125.169998</td>\n",
       "      <td>126.269997</td>\n",
       "      <td>125.552681</td>\n",
       "      <td>74244600</td>\n",
       "    </tr>\n",
       "    <tr>\n",
       "      <th>2021-05-18</th>\n",
       "      <td>126.559998</td>\n",
       "      <td>126.989998</td>\n",
       "      <td>124.779999</td>\n",
       "      <td>124.849998</td>\n",
       "      <td>124.140755</td>\n",
       "      <td>63342900</td>\n",
       "    </tr>\n",
       "    <tr>\n",
       "      <th>2021-05-19</th>\n",
       "      <td>123.160004</td>\n",
       "      <td>124.919998</td>\n",
       "      <td>122.860001</td>\n",
       "      <td>124.690002</td>\n",
       "      <td>123.981667</td>\n",
       "      <td>92612000</td>\n",
       "    </tr>\n",
       "    <tr>\n",
       "      <th>2021-05-20</th>\n",
       "      <td>125.230003</td>\n",
       "      <td>127.720001</td>\n",
       "      <td>125.099998</td>\n",
       "      <td>127.309998</td>\n",
       "      <td>126.586784</td>\n",
       "      <td>76857100</td>\n",
       "    </tr>\n",
       "    <tr>\n",
       "      <th>2021-05-21</th>\n",
       "      <td>127.820000</td>\n",
       "      <td>128.000000</td>\n",
       "      <td>125.209999</td>\n",
       "      <td>125.430000</td>\n",
       "      <td>124.717461</td>\n",
       "      <td>79295400</td>\n",
       "    </tr>\n",
       "  </tbody>\n",
       "</table>\n",
       "</div>"
      ],
      "text/plain": [
       "                  Open        High         Low       Close   Adj Close  \\\n",
       "Date                                                                     \n",
       "2021-05-17  126.820000  126.930000  125.169998  126.269997  125.552681   \n",
       "2021-05-18  126.559998  126.989998  124.779999  124.849998  124.140755   \n",
       "2021-05-19  123.160004  124.919998  122.860001  124.690002  123.981667   \n",
       "2021-05-20  125.230003  127.720001  125.099998  127.309998  126.586784   \n",
       "2021-05-21  127.820000  128.000000  125.209999  125.430000  124.717461   \n",
       "\n",
       "              Volume  \n",
       "Date                  \n",
       "2021-05-17  74244600  \n",
       "2021-05-18  63342900  \n",
       "2021-05-19  92612000  \n",
       "2021-05-20  76857100  \n",
       "2021-05-21  79295400  "
      ]
     },
     "execution_count": 36,
     "metadata": {},
     "output_type": "execute_result"
    }
   ],
   "source": [
    "apple.head()"
   ]
  },
  {
   "cell_type": "code",
   "execution_count": 37,
   "id": "7ea4a8b2",
   "metadata": {
    "scrolled": false
   },
   "outputs": [
    {
     "data": {
      "text/plain": [
       "Text(0.5, 1.0, 'Closing Price of Apple')"
      ]
     },
     "execution_count": 37,
     "metadata": {},
     "output_type": "execute_result"
    },
    {
     "data": {
      "image/png": "[encoded data removed]",
      "text/plain": [
       "<Figure size 432x288 with 1 Axes>"
      ]
     },
     "metadata": {
      "needs_background": "light"
     },
     "output_type": "display_data"
    }
   ],
   "source": [
    "apple['Adj Close'].plot()\n",
    "plt.ylabel('Adj Close')\n",
    "plt.xlabel('Date')\n",
    "plt.title(\"Closing Price of Apple\")"
   ]
  },
  {
   "cell_type": "code",
   "execution_count": 38,
   "id": "90320e41",
   "metadata": {
    "scrolled": false
   },
   "outputs": [],
   "source": [
    "timeseries = apple['Adj Close'].values\n",
    "\n",
    "from sklearn.preprocessing import MinMaxScaler\n",
    "\n",
    "scaler = MinMaxScaler(feature_range=(0,1))\n",
    "timeseries_scaled = scaler.fit_transform(timeseries.reshape(-1,1))\n",
    "\n",
    "# timeseries_scaled"
   ]
  },
  {
   "cell_type": "markdown",
   "id": "00ceaf39",
   "metadata": {},
   "source": [
    "#### Split the data into 80% train vs 20% test\n",
    "Create train set"
   ]
  },
  {
   "cell_type": "code",
   "execution_count": 40,
   "id": "74fc8e54",
   "metadata": {
    "scrolled": true
   },
   "outputs": [
    {
     "data": {
      "text/plain": [
       "array([[0.04626411, 0.02219999, 0.01948858, ..., 0.38670453, 0.38585594,\n",
       "        0.37753992],\n",
       "       [0.02219999, 0.01948858, 0.06388882, ..., 0.38585594, 0.37753992,\n",
       "        0.3819524 ],\n",
       "       [0.01948858, 0.06388882, 0.03202906, ..., 0.37753992, 0.3819524 ,\n",
       "        0.43337798],\n",
       "       ...,\n",
       "       [0.7163236 , 0.8159245 , 0.8822124 , ..., 0.71649967, 0.68382435,\n",
       "        0.74100641],\n",
       "       [0.8159245 , 0.8822124 , 0.87337391, ..., 0.68382435, 0.74100641,\n",
       "        0.7353901 ],\n",
       "       [0.8822124 , 0.87337391, 0.95648839, ..., 0.74100641, 0.7353901 ,\n",
       "        0.68331358]])"
      ]
     },
     "execution_count": 40,
     "metadata": {},
     "output_type": "execute_result"
    }
   ],
   "source": [
    "train_size = int(len(timeseries_scaled) * 0.8)\n",
    "\n",
    "x_train = []\n",
    "y_train = []\n",
    "\n",
    "for i in range(60, train_size):\n",
    "    x_train.append(timeseries_scaled[i-60:i, 0])\n",
    "    y_train.append(timeseries_scaled[i, 0])\n",
    "        \n",
    "# Convert the x_train and y_train to numpy arrays \n",
    "x_train = np.array(x_train)\n",
    "y_train = np.array(y_train)\n",
    "\n",
    "x_train"
   ]
  },
  {
   "cell_type": "markdown",
   "id": "6ef0dd43",
   "metadata": {},
   "source": [
    "Reshape each row of x_train to 2D (1 column only)"
   ]
  },
  {
   "cell_type": "code",
   "execution_count": 41,
   "id": "0b8fec1c",
   "metadata": {
    "scrolled": true
   },
   "outputs": [
    {
     "data": {
      "text/plain": [
       "array([[[0.04626411],\n",
       "        [0.02219999],\n",
       "        [0.01948858],\n",
       "        ...,\n",
       "        [0.38670453],\n",
       "        [0.38585594],\n",
       "        [0.37753992]],\n",
       "\n",
       "       [[0.02219999],\n",
       "        [0.01948858],\n",
       "        [0.06388882],\n",
       "        ...,\n",
       "        [0.38585594],\n",
       "        [0.37753992],\n",
       "        [0.3819524 ]],\n",
       "\n",
       "       [[0.01948858],\n",
       "        [0.06388882],\n",
       "        [0.03202906],\n",
       "        ...,\n",
       "        [0.37753992],\n",
       "        [0.3819524 ],\n",
       "        [0.43337798]],\n",
       "\n",
       "       ...,\n",
       "\n",
       "       [[0.7163236 ],\n",
       "        [0.8159245 ],\n",
       "        [0.8822124 ],\n",
       "        ...,\n",
       "        [0.71649967],\n",
       "        [0.68382435],\n",
       "        [0.74100641]],\n",
       "\n",
       "       [[0.8159245 ],\n",
       "        [0.8822124 ],\n",
       "        [0.87337391],\n",
       "        ...,\n",
       "        [0.68382435],\n",
       "        [0.74100641],\n",
       "        [0.7353901 ]],\n",
       "\n",
       "       [[0.8822124 ],\n",
       "        [0.87337391],\n",
       "        [0.95648839],\n",
       "        ...,\n",
       "        [0.74100641],\n",
       "        [0.7353901 ],\n",
       "        [0.68331358]]])"
      ]
     },
     "execution_count": 41,
     "metadata": {},
     "output_type": "execute_result"
    }
   ],
   "source": [
    "x_train = np.reshape(x_train, (x_train.shape[0], x_train.shape[1], 1))\n",
    "x_train"
   ]
  },
  {
   "cell_type": "markdown",
   "id": "c603aea6",
   "metadata": {},
   "source": [
    "Create test set"
   ]
  },
  {
   "cell_type": "code",
   "execution_count": 42,
   "id": "e469a1cc",
   "metadata": {},
   "outputs": [],
   "source": [
    "test_data = timeseries_scaled[train_size - 60:]\n",
    "x_test = []\n",
    "y_test = timeseries[train_size:]\n",
    "for i in range(60, len(test_data)):\n",
    "    x_test.append(test_data[i-60:i, 0])\n",
    "    \n",
    "# Convert the data to a numpy array\n",
    "x_test = np.array(x_test)\n",
    "\n",
    "# Reshape the test set\n",
    "x_test = np.reshape(x_test, (x_test.shape[0], x_test.shape[1], 1 ))"
   ]
  },
  {
   "cell_type": "markdown",
   "id": "ae8ee465",
   "metadata": {},
   "source": [
    "#### Train the RNN"
   ]
  },
  {
   "cell_type": "code",
   "execution_count": 43,
   "id": "3cb90fc4",
   "metadata": {},
   "outputs": [
    {
     "name": "stdout",
     "output_type": "stream",
     "text": [
      "Epoch 1/50\n",
      "2/2 [==============================] - 6s 99ms/step - loss: 0.4348\n",
      "Epoch 2/50\n",
      "2/2 [==============================] - 0s 148ms/step - loss: 0.0635\n",
      "Epoch 3/50\n",
      "2/2 [==============================] - 0s 96ms/step - loss: 0.0697\n",
      "Epoch 4/50\n",
      "2/2 [==============================] - 0s 93ms/step - loss: 0.0455\n",
      "Epoch 5/50\n",
      "2/2 [==============================] - 0s 97ms/step - loss: 0.0118\n",
      "Epoch 6/50\n",
      "2/2 [==============================] - 0s 159ms/step - loss: 0.0225\n",
      "Epoch 7/50\n",
      "2/2 [==============================] - 0s 126ms/step - loss: 0.0316\n",
      "Epoch 8/50\n",
      "2/2 [==============================] - 0s 176ms/step - loss: 0.0269\n",
      "Epoch 9/50\n",
      "2/2 [==============================] - 0s 126ms/step - loss: 0.0161\n",
      "Epoch 10/50\n",
      "2/2 [==============================] - 0s 161ms/step - loss: 0.0099\n",
      "Epoch 11/50\n",
      "2/2 [==============================] - 0s 105ms/step - loss: 0.0118\n",
      "Epoch 12/50\n",
      "2/2 [==============================] - 0s 161ms/step - loss: 0.0156\n",
      "Epoch 13/50\n",
      "2/2 [==============================] - 0s 107ms/step - loss: 0.0152\n",
      "Epoch 14/50\n",
      "2/2 [==============================] - 0s 100ms/step - loss: 0.0114\n",
      "Epoch 15/50\n",
      "2/2 [==============================] - 0s 118ms/step - loss: 0.0096\n",
      "Epoch 16/50\n",
      "2/2 [==============================] - 0s 106ms/step - loss: 0.0098\n",
      "Epoch 17/50\n",
      "2/2 [==============================] - 0s 110ms/step - loss: 0.0110\n",
      "Epoch 18/50\n",
      "2/2 [==============================] - 0s 155ms/step - loss: 0.0111\n",
      "Epoch 19/50\n",
      "2/2 [==============================] - 0s 102ms/step - loss: 0.0101\n",
      "Epoch 20/50\n",
      "2/2 [==============================] - 0s 126ms/step - loss: 0.0091\n",
      "Epoch 21/50\n",
      "2/2 [==============================] - 0s 104ms/step - loss: 0.0088\n",
      "Epoch 22/50\n",
      "2/2 [==============================] - 0s 145ms/step - loss: 0.0091\n",
      "Epoch 23/50\n",
      "2/2 [==============================] - 0s 118ms/step - loss: 0.0093\n",
      "Epoch 24/50\n",
      "2/2 [==============================] - 0s 106ms/step - loss: 0.0089\n",
      "Epoch 25/50\n",
      "2/2 [==============================] - 0s 96ms/step - loss: 0.0085\n",
      "Epoch 26/50\n",
      "2/2 [==============================] - 0s 171ms/step - loss: 0.0084\n",
      "Epoch 27/50\n",
      "2/2 [==============================] - 0s 145ms/step - loss: 0.0085\n",
      "Epoch 28/50\n",
      "2/2 [==============================] - 0s 98ms/step - loss: 0.0085\n",
      "Epoch 29/50\n",
      "2/2 [==============================] - 0s 141ms/step - loss: 0.0083\n",
      "Epoch 30/50\n",
      "2/2 [==============================] - 0s 164ms/step - loss: 0.0080\n",
      "Epoch 31/50\n",
      "2/2 [==============================] - 0s 99ms/step - loss: 0.0080\n",
      "Epoch 32/50\n",
      "2/2 [==============================] - 0s 116ms/step - loss: 0.0080\n",
      "Epoch 33/50\n",
      "2/2 [==============================] - 0s 110ms/step - loss: 0.0080\n",
      "Epoch 34/50\n",
      "2/2 [==============================] - 0s 110ms/step - loss: 0.0079\n",
      "Epoch 35/50\n",
      "2/2 [==============================] - 0s 148ms/step - loss: 0.0077\n",
      "Epoch 36/50\n",
      "2/2 [==============================] - 0s 98ms/step - loss: 0.0077\n",
      "Epoch 37/50\n",
      "2/2 [==============================] - 0s 103ms/step - loss: 0.0077\n",
      "Epoch 38/50\n",
      "2/2 [==============================] - 0s 107ms/step - loss: 0.0077\n",
      "Epoch 39/50\n",
      "2/2 [==============================] - 0s 102ms/step - loss: 0.0076\n",
      "Epoch 40/50\n",
      "2/2 [==============================] - 0s 100ms/step - loss: 0.0075\n",
      "Epoch 41/50\n",
      "2/2 [==============================] - 0s 169ms/step - loss: 0.0074\n",
      "Epoch 42/50\n",
      "2/2 [==============================] - 0s 132ms/step - loss: 0.0074\n",
      "Epoch 43/50\n",
      "2/2 [==============================] - 0s 122ms/step - loss: 0.0074\n",
      "Epoch 44/50\n",
      "2/2 [==============================] - 0s 171ms/step - loss: 0.0073\n",
      "Epoch 45/50\n",
      "2/2 [==============================] - 0s 114ms/step - loss: 0.0073\n",
      "Epoch 46/50\n",
      "2/2 [==============================] - 0s 101ms/step - loss: 0.0072\n",
      "Epoch 47/50\n",
      "2/2 [==============================] - 0s 166ms/step - loss: 0.0072\n",
      "Epoch 48/50\n",
      "2/2 [==============================] - 0s 160ms/step - loss: 0.0072\n",
      "Epoch 49/50\n",
      "2/2 [==============================] - 0s 98ms/step - loss: 0.0071\n",
      "Epoch 50/50\n",
      "2/2 [==============================] - 0s 108ms/step - loss: 0.0071\n"
     ]
    },
    {
     "data": {
      "text/plain": [
       "<keras.callbacks.History at 0x1aa0cdd5df0>"
      ]
     },
     "execution_count": 43,
     "metadata": {},
     "output_type": "execute_result"
    }
   ],
   "source": [
    "from keras.layers import LSTM\n",
    "\n",
    "model = Sequential()\n",
    "model.add(LSTM(128, return_sequences=True, input_shape= (x_train.shape[1], 1)))\n",
    "model.add(LSTM(64, return_sequences=False))\n",
    "model.add(Dense(25))\n",
    "model.add(Dense(1))\n",
    "\n",
    "model.compile(optimizer='adam', loss='mean_squared_error')\n",
    "model.fit(x_train, y_train, batch_size=100, epochs=50)"
   ]
  },
  {
   "cell_type": "markdown",
   "id": "cd7aa556",
   "metadata": {},
   "source": [
    "#### Get the models predicted price values and RMSE to check performance"
   ]
  },
  {
   "cell_type": "code",
   "execution_count": 44,
   "id": "618c5a17",
   "metadata": {
    "scrolled": true
   },
   "outputs": [
    {
     "name": "stdout",
     "output_type": "stream",
     "text": [
      "2/2 [==============================] - 2s 25ms/step\n",
      "7.259150374715251\n"
     ]
    }
   ],
   "source": [
    "y_pred = model.predict(x_test)\n",
    "y_pred = scaler.inverse_transform(y_pred)\n",
    "\n",
    "print(np.sqrt(mean_squared_error(y_test, y_pred)))\n"
   ]
  },
  {
   "cell_type": "markdown",
   "id": "374a9d7e",
   "metadata": {},
   "source": [
    "#### Visualize the actual stock fluctuation vs. the prediction"
   ]
  },
  {
   "cell_type": "code",
   "execution_count": 45,
   "id": "e0b23923",
   "metadata": {},
   "outputs": [
    {
     "data": {
      "image/png": "[encoded data removed]",
      "text/plain": [
       "<Figure size 1152x432 with 1 Axes>"
      ]
     },
     "metadata": {
      "needs_background": "light"
     },
     "output_type": "display_data"
    }
   ],
   "source": [
    "train = apple.iloc[:train_size]\n",
    "test = apple.iloc[train_size:].copy()\n",
    "test['Predictions'] = y_pred\n",
    "\n",
    "plt.figure(figsize=(16,6))\n",
    "plt.title('Apple stock prediction')\n",
    "plt.xlabel('Date', fontsize=18)\n",
    "plt.ylabel('Close Price USD ($)', fontsize=18)\n",
    "plt.plot(train['Close'])\n",
    "plt.plot(test[['Close', 'Predictions']])\n",
    "plt.legend(['Train', 'Test Actual', 'Test Predictions'], loc='lower right', fontsize=14)\n",
    "plt.show()"
   ]
  },
  {
   "cell_type": "code",
   "execution_count": null,
   "id": "6cda1591",
   "metadata": {},
   "outputs": [],
   "source": []
  }
 ],
 "metadata": {
  "kernelspec": {
   "display_name": "Python 3 (ipykernel)",
   "language": "python",
   "name": "python3"
  },
  "language_info": {
   "codemirror_mode": {
    "name": "ipython",
    "version": 3
   },
   "file_extension": ".py",
   "mimetype": "text/x-python",
   "name": "python",
   "nbconvert_exporter": "python",
   "pygments_lexer": "ipython3",
   "version": "3.8.8"
  }
 },
 "nbformat": 4,
 "nbformat_minor": 5
}
