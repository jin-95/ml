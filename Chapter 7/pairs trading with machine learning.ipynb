{
 "nbformat": 4,
 "nbformat_minor": 0,
 "metadata": {
  "colab": {
   "provenance": []
  },
  "kernelspec": {
   "name": "python3",
   "display_name": "Python 3"
  },
  "language_info": {
   "name": "python"
  }
 },
 "cells": [
  {
   "cell_type": "code",
   "source": [
    "!pip install yfinance\n",
    "!pip install torchsummary"
   ],
   "metadata": {
    "id": "bivQzfDYjbR1",
    "colab": {
     "base_uri": "https://localhost:8080/"
    },
    "outputId": "f8554876-7dbd-482a-a950-7f04e6508d0b"
   },
   "execution_count": 2,
   "outputs": [
    {
     "name": "stdout",
     "output_type": "stream",
     "text": [
      "Collecting yfinance\n",
      "  Downloading yfinance-0.2.18-py2.py3-none-any.whl (60 kB)\n",
      "     ---------------------------------------- 0.0/60.3 kB ? eta -:--:--\n",
      "     --------------------------------- ------ 51.2/60.3 kB 1.3 MB/s eta 0:00:01\n",
      "     -------------------------------------- 60.3/60.3 kB 538.6 kB/s eta 0:00:00\n",
      "Requirement already satisfied: lxml>=4.9.1 in c:\\users\\final\\anaconda3\\envs\\sem 3\\lib\\site-packages (from yfinance) (4.9.2)\n",
      "Requirement already satisfied: pytz>=2022.5 in c:\\users\\final\\anaconda3\\envs\\sem 3\\lib\\site-packages (from yfinance) (2022.7)\n",
      "Requirement already satisfied: numpy>=1.16.5 in c:\\users\\final\\anaconda3\\envs\\sem 3\\lib\\site-packages (from yfinance) (1.24.2)\n",
      "Requirement already satisfied: pandas>=1.3.0 in c:\\users\\final\\anaconda3\\envs\\sem 3\\lib\\site-packages (from yfinance) (2.0.2)\n",
      "Requirement already satisfied: cryptography>=3.3.2 in c:\\users\\final\\anaconda3\\envs\\sem 3\\lib\\site-packages (from yfinance) (39.0.1)\n",
      "Requirement already satisfied: requests>=2.26 in c:\\users\\final\\anaconda3\\envs\\sem 3\\lib\\site-packages (from yfinance) (2.28.1)\n",
      "Collecting frozendict>=2.3.4\n",
      "  Downloading frozendict-2.3.8-cp310-cp310-win_amd64.whl (35 kB)\n",
      "Collecting appdirs>=1.4.4\n",
      "  Downloading appdirs-1.4.4-py2.py3-none-any.whl (9.6 kB)\n",
      "Requirement already satisfied: beautifulsoup4>=4.11.1 in c:\\users\\final\\anaconda3\\envs\\sem 3\\lib\\site-packages (from yfinance) (4.12.0)\n",
      "Collecting html5lib>=1.1\n",
      "  Downloading html5lib-1.1-py2.py3-none-any.whl (112 kB)\n",
      "     ---------------------------------------- 0.0/112.2 kB ? eta -:--:--\n",
      "     ---------------------------------- --- 102.4/112.2 kB 3.0 MB/s eta 0:00:01\n",
      "     -------------------------------------- 112.2/112.2 kB 1.1 MB/s eta 0:00:00\n",
      "Collecting multitasking>=0.0.7\n",
      "  Using cached multitasking-0.0.11-py3-none-any.whl (8.5 kB)\n",
      "Requirement already satisfied: soupsieve>1.2 in c:\\users\\final\\anaconda3\\envs\\sem 3\\lib\\site-packages (from beautifulsoup4>=4.11.1->yfinance) (2.4)\n",
      "Requirement already satisfied: cffi>=1.12 in c:\\users\\final\\anaconda3\\envs\\sem 3\\lib\\site-packages (from cryptography>=3.3.2->yfinance) (1.15.1)\n",
      "Requirement already satisfied: six>=1.9 in c:\\users\\final\\anaconda3\\envs\\sem 3\\lib\\site-packages (from html5lib>=1.1->yfinance) (1.16.0)\n",
      "Requirement already satisfied: webencodings in c:\\users\\final\\anaconda3\\envs\\sem 3\\lib\\site-packages (from html5lib>=1.1->yfinance) (0.5.1)\n",
      "Requirement already satisfied: tzdata>=2022.1 in c:\\users\\final\\anaconda3\\envs\\sem 3\\lib\\site-packages (from pandas>=1.3.0->yfinance) (2023.3)\n",
      "Requirement already satisfied: python-dateutil>=2.8.2 in c:\\users\\final\\anaconda3\\envs\\sem 3\\lib\\site-packages (from pandas>=1.3.0->yfinance) (2.8.2)\n",
      "Requirement already satisfied: urllib3<1.27,>=1.21.1 in c:\\users\\final\\anaconda3\\envs\\sem 3\\lib\\site-packages (from requests>=2.26->yfinance) (1.26.15)\n",
      "Requirement already satisfied: charset-normalizer<3,>=2 in c:\\users\\final\\anaconda3\\envs\\sem 3\\lib\\site-packages (from requests>=2.26->yfinance) (2.0.4)\n",
      "Requirement already satisfied: idna<4,>=2.5 in c:\\users\\final\\anaconda3\\envs\\sem 3\\lib\\site-packages (from requests>=2.26->yfinance) (3.4)\n",
      "Requirement already satisfied: certifi>=2017.4.17 in c:\\users\\final\\anaconda3\\envs\\sem 3\\lib\\site-packages (from requests>=2.26->yfinance) (2022.12.7)\n",
      "Requirement already satisfied: pycparser in c:\\users\\final\\anaconda3\\envs\\sem 3\\lib\\site-packages (from cffi>=1.12->cryptography>=3.3.2->yfinance) (2.21)\n",
      "Installing collected packages: multitasking, appdirs, html5lib, frozendict, yfinance\n",
      "Successfully installed appdirs-1.4.4 frozendict-2.3.8 html5lib-1.1 multitasking-0.0.11 yfinance-0.2.18\n",
      "Collecting torchsummary\n",
      "  Using cached torchsummary-1.5.1-py3-none-any.whl (2.8 kB)\n",
      "Installing collected packages: torchsummary\n",
      "Successfully installed torchsummary-1.5.1\n"
     ]
    }
   ]
  },
  {
   "cell_type": "code",
   "source": [
    "import os\n",
    "import random\n",
    "import numpy as np\n",
    "import yfinance as yf\n",
    "import pandas as pd\n",
    "from statsmodels.tsa.stattools import adfuller\n",
    "from statsmodels.regression.linear_model import OLS\n",
    "import statsmodels.api as sm\n",
    "from matplotlib import pyplot as plt\n",
    "%matplotlib inline\n",
    "\n",
    "SEED = 8\n",
    "# random.seed(SEED)\n",
    "# np.random.seed(SEED)"
   ],
   "metadata": {
    "id": "c0pPCIOIXLxv"
   },
   "execution_count": 4,
   "outputs": []
  },
  {
   "cell_type": "markdown",
   "source": [
    "# Data preprocessing"
   ],
   "metadata": {
    "id": "7lYR6jSbX33s"
   }
  },
  {
   "cell_type": "code",
   "source": [
    "# download data from yfinance\n",
    "stocks = ['GOOG','MSFT']\n",
    "start_date  = \"2022-01-01\"\n",
    "end_date  = \"2022-12-31\"\n",
    "df = yf.download(stocks, start=start_date, end=end_date)['Adj Close']\n",
    "df.head()"
   ],
   "metadata": {
    "colab": {
     "base_uri": "https://localhost:8080/",
     "height": 255
    },
    "id": "5UDbtiTnXRh-",
    "outputId": "85368d06-60a7-4ed4-9945-f3fdafa783eb"
   },
   "execution_count": 5,
   "outputs": [
    {
     "name": "stdout",
     "output_type": "stream",
     "text": [
      "[*********************100%***********************]  2 of 2 completed\n"
     ]
    },
    {
     "data": {
      "text/plain": "                  GOOG        MSFT\nDate                              \n2022-01-03  145.074493  330.092255\n2022-01-04  144.416504  324.432098\n2022-01-05  137.653503  311.977875\n2022-01-06  137.550995  309.512634\n2022-01-07  137.004501  309.670410",
      "text/html": "<div>\n<style scoped>\n    .dataframe tbody tr th:only-of-type {\n        vertical-align: middle;\n    }\n\n    .dataframe tbody tr th {\n        vertical-align: top;\n    }\n\n    .dataframe thead th {\n        text-align: right;\n    }\n</style>\n<table border=\"1\" class=\"dataframe\">\n  <thead>\n    <tr style=\"text-align: right;\">\n      <th></th>\n      <th>GOOG</th>\n      <th>MSFT</th>\n    </tr>\n    <tr>\n      <th>Date</th>\n      <th></th>\n      <th></th>\n    </tr>\n  </thead>\n  <tbody>\n    <tr>\n      <th>2022-01-03</th>\n      <td>145.074493</td>\n      <td>330.092255</td>\n    </tr>\n    <tr>\n      <th>2022-01-04</th>\n      <td>144.416504</td>\n      <td>324.432098</td>\n    </tr>\n    <tr>\n      <th>2022-01-05</th>\n      <td>137.653503</td>\n      <td>311.977875</td>\n    </tr>\n    <tr>\n      <th>2022-01-06</th>\n      <td>137.550995</td>\n      <td>309.512634</td>\n    </tr>\n    <tr>\n      <th>2022-01-07</th>\n      <td>137.004501</td>\n      <td>309.670410</td>\n    </tr>\n  </tbody>\n</table>\n</div>"
     },
     "execution_count": 5,
     "metadata": {},
     "output_type": "execute_result"
    }
   ]
  },
  {
   "cell_type": "code",
   "source": [
    "# Calculate the spread between the two assets\n",
    "spread = np.log(df[stocks[0]]) - np.log(df[stocks[1]])\n",
    "\n",
    "plt.plot(spread, label='Spread using difference of log price')\n",
    "plt.legend()\n",
    "plt.show()"
   ],
   "metadata": {
    "colab": {
     "base_uri": "https://localhost:8080/",
     "height": 265
    },
    "id": "qG3sk8G0X6If",
    "outputId": "6b1548a2-5d3d-4161-c849-b9359f3cac61"
   },
   "execution_count": 6,
   "outputs": [
    {
     "data": {
      "text/plain": "<Figure size 640x480 with 1 Axes>",
      "image/png": "[encoded data removed]"
     },
     "metadata": {},
     "output_type": "display_data"
    }
   ]
  },
  {
   "cell_type": "markdown",
   "source": [
    "# Feature engineering"
   ],
   "metadata": {
    "id": "taqActl_XvSN"
   }
  },
  {
   "cell_type": "code",
   "source": [
    "# Define additional features\n",
    "asset1_returns = np.log(df[stocks[0]]).diff()\n",
    "asset2_returns = np.log(df[stocks[1]]).diff()\n",
    "spread_ma5 = spread.rolling(5).mean()\n",
    "asset1_volatility = asset1_returns.rolling(20).std()\n",
    "asset2_volatility = asset2_returns.rolling(20).std()"
   ],
   "metadata": {
    "id": "rT2mEA6UXi_L"
   },
   "execution_count": 7,
   "outputs": []
  },
  {
   "cell_type": "code",
   "source": [
    "# Combine the features into a single DataFrame\n",
    "X = pd.DataFrame({'Asset1Returns': asset1_returns,\n",
    "                  'Asset2Returns': asset2_returns,\n",
    "                  'SpreadMA5': spread_ma5,\n",
    "                  'Asset1Volatility': asset1_volatility,\n",
    "                  'Asset2Volatility': asset2_volatility})\n",
    "X = X.fillna(0)\n",
    "y = spread"
   ],
   "metadata": {
    "id": "sro79D7EAIyg"
   },
   "execution_count": 8,
   "outputs": []
  },
  {
   "cell_type": "code",
   "source": [
    "# Split the data into training and test sets\n",
    "train_size = int(len(spread) * 0.8)\n",
    "train_X = X[:train_size]\n",
    "test_X = X[train_size:]\n",
    "train_y = y[:train_size]\n",
    "test_y = y[train_size:]"
   ],
   "metadata": {
    "id": "elvx9KTZAVjd"
   },
   "execution_count": 9,
   "outputs": []
  },
  {
   "cell_type": "code",
   "source": [
    "test_X.head()"
   ],
   "metadata": {
    "colab": {
     "base_uri": "https://localhost:8080/",
     "height": 238
    },
    "id": "gpG6EhsxMIAA",
    "outputId": "cca7005c-a719-4dcf-ac0f-21130fbce03a"
   },
   "execution_count": 10,
   "outputs": [
    {
     "data": {
      "text/plain": "            Asset1Returns  Asset2Returns  SpreadMA5  Asset1Volatility  \\\nDate                                                                    \n2022-10-19      -0.010908      -0.008506  -0.848473          0.019570   \n2022-10-20       0.002390      -0.001396  -0.848459          0.019536   \n2022-10-21       0.009406       0.024966  -0.851326          0.019354   \n2022-10-24       0.014576       0.020967  -0.855048          0.019545   \n2022-10-25       0.018856       0.013697  -0.858130          0.019759   \n\n            Asset2Volatility  \nDate                          \n2022-10-19          0.023562  \n2022-10-20          0.023467  \n2022-10-21          0.023983  \n2022-10-24          0.024385  \n2022-10-25          0.024470  ",
      "text/html": "<div>\n<style scoped>\n    .dataframe tbody tr th:only-of-type {\n        vertical-align: middle;\n    }\n\n    .dataframe tbody tr th {\n        vertical-align: top;\n    }\n\n    .dataframe thead th {\n        text-align: right;\n    }\n</style>\n<table border=\"1\" class=\"dataframe\">\n  <thead>\n    <tr style=\"text-align: right;\">\n      <th></th>\n      <th>Asset1Returns</th>\n      <th>Asset2Returns</th>\n      <th>SpreadMA5</th>\n      <th>Asset1Volatility</th>\n      <th>Asset2Volatility</th>\n    </tr>\n    <tr>\n      <th>Date</th>\n      <th></th>\n      <th></th>\n      <th></th>\n      <th></th>\n      <th></th>\n    </tr>\n  </thead>\n  <tbody>\n    <tr>\n      <th>2022-10-19</th>\n      <td>-0.010908</td>\n      <td>-0.008506</td>\n      <td>-0.848473</td>\n      <td>0.019570</td>\n      <td>0.023562</td>\n    </tr>\n    <tr>\n      <th>2022-10-20</th>\n      <td>0.002390</td>\n      <td>-0.001396</td>\n      <td>-0.848459</td>\n      <td>0.019536</td>\n      <td>0.023467</td>\n    </tr>\n    <tr>\n      <th>2022-10-21</th>\n      <td>0.009406</td>\n      <td>0.024966</td>\n      <td>-0.851326</td>\n      <td>0.019354</td>\n      <td>0.023983</td>\n    </tr>\n    <tr>\n      <th>2022-10-24</th>\n      <td>0.014576</td>\n      <td>0.020967</td>\n      <td>-0.855048</td>\n      <td>0.019545</td>\n      <td>0.024385</td>\n    </tr>\n    <tr>\n      <th>2022-10-25</th>\n      <td>0.018856</td>\n      <td>0.013697</td>\n      <td>-0.858130</td>\n      <td>0.019759</td>\n      <td>0.024470</td>\n    </tr>\n  </tbody>\n</table>\n</div>"
     },
     "execution_count": 10,
     "metadata": {},
     "output_type": "execute_result"
    }
   ]
  },
  {
   "cell_type": "markdown",
   "source": [
    "# Modeling training"
   ],
   "metadata": {
    "id": "OizTOtsIAqa7"
   }
  },
  {
   "cell_type": "code",
   "source": [
    "# SVM\n",
    "from sklearn.svm import SVR\n",
    "from sklearn.metrics import mean_squared_error\n",
    "\n",
    "svm_model = SVR(kernel='linear')\n",
    "svm_model.fit(train_X, train_y)\n",
    "train_pred = svm_model.predict(train_X)\n",
    "print(\"training rmse: \", np.sqrt(mean_squared_error(train_y, train_pred)))\n",
    "test_pred = svm_model.predict(test_X)\n",
    "print(\"test rmse: \", np.sqrt(mean_squared_error(test_y, test_pred)))\n"
   ],
   "metadata": {
    "colab": {
     "base_uri": "https://localhost:8080/"
    },
    "id": "-ygHSEQWAnYx",
    "outputId": "6a8b9420-326d-4ef5-c5a8-c9ec8e8f6322"
   },
   "execution_count": 17,
   "outputs": [
    {
     "name": "stdout",
     "output_type": "stream",
     "text": [
      "training rmse:  0.039616024799279656\n",
      "test rmse:  0.12296536629715764\n"
     ]
    }
   ]
  },
  {
   "cell_type": "code",
   "source": [
    "import torch\n",
    "\n",
    "def score_fn(model, type=\"non_neural_net\"):\n",
    "    # Generate predicted spread using the SVM model\n",
    "    if type == \"non_neural_net\":\n",
    "        test_pred = model.predict(test_X)\n",
    "    else:\n",
    "        test_pred = model(torch.Tensor(test_X.values)).detach().numpy()\n",
    "    # Calculate z-score of the actual and predicted spread\n",
    "    zscore = (spread - test_pred.mean()) / test_pred.std()\n",
    "    # set the threshold values for entry and exit signals\n",
    "    entry_threshold = 2.0\n",
    "    exit_threshold = 1.0\n",
    "    # initialize the daily positions to be zeros\n",
    "    stock1_position = pd.Series(data=0, index=zscore.index)\n",
    "    stock2_position = pd.Series(data=0, index=zscore.index)\n",
    "    # generate daily entry and exit signals for each stock\n",
    "    for i in range(1, len(zscore)):\n",
    "        # zscore<-2 and no existing long position for stock 1\n",
    "        if zscore[i] < -entry_threshold and stock1_position[i-1] == 0:\n",
    "            stock1_position[i] = 1 # long stock 1\n",
    "            stock2_position[i] = -1 # short stock 2\n",
    "        # zscore>2 and no existing short position for stock 2\n",
    "        elif zscore[i] > entry_threshold and stock2_position[i-1] == 0:\n",
    "            stock1_position[i] = -1 # short stock 1\n",
    "            stock2_position[i] = 1 # long stock 2\n",
    "        # -1<zscore<1\n",
    "        elif abs(zscore[i]) < exit_threshold:\n",
    "            stock1_position[i] = 0 # exit existing position\n",
    "            stock2_position[i] = 0\n",
    "        # -2<zscore<-1 or 1<zscore<2\n",
    "        else:\n",
    "            stock1_position[i] = stock1_position[i-1] # maintain existing position\n",
    "            stock2_position[i] = stock2_position[i-1]\n",
    "    \n",
    "    # Calculate the returns of each stock\n",
    "    stock1_returns = (np.exp(test_X['Asset1Returns']) * stock1_position.shift(1)).fillna(0)\n",
    "    stock2_returns = (np.exp(test_X['Asset2Returns']) * stock2_position.shift(1)).fillna(0)\n",
    "    # calculate the total returns of the strategy\n",
    "    total_returns = stock1_returns + stock2_returns\n",
    "    cumulative_returns = (1 + total_returns).cumprod()\n",
    "    return cumulative_returns[-1]"
   ],
   "metadata": {
    "id": "5Zsgy35lLgxm"
   },
   "execution_count": 20,
   "outputs": []
  },
  {
   "cell_type": "code",
   "source": [
    "score_fn(svm_model)"
   ],
   "metadata": {
    "colab": {
     "base_uri": "https://localhost:8080/"
    },
    "id": "nZ6w5g4cMeA8",
    "outputId": "f39b2380-3c19-4117-dfcd-62aa4917450e"
   },
   "execution_count": 21,
   "outputs": [
    {
     "data": {
      "text/plain": "1.1437469086512755"
     },
     "execution_count": 21,
     "metadata": {},
     "output_type": "execute_result"
    }
   ]
  },
  {
   "cell_type": "code",
   "source": [
    "# random forest\n",
    "from sklearn.ensemble import RandomForestRegressor\n",
    "\n",
    "# Create random forest regressor\n",
    "rf_model = RandomForestRegressor(n_estimators=100, random_state=42)\n",
    "\n",
    "# Train the model on the training and test set\n",
    "rf_model.fit(train_X, train_y)\n",
    "train_pred = rf_model.predict(train_X)\n",
    "print(\"training rmse: \", np.sqrt(mean_squared_error(train_y, train_pred)))\n",
    "test_pred = rf_model.predict(test_X)\n",
    "print(\"test rmse: \", np.sqrt(mean_squared_error(test_y, test_pred)))"
   ],
   "metadata": {
    "colab": {
     "base_uri": "https://localhost:8080/"
    },
    "id": "VXNb99euCNEK",
    "outputId": "8873c396-e61c-4513-b884-4cfc36bdcc16"
   },
   "execution_count": 22,
   "outputs": [
    {
     "name": "stdout",
     "output_type": "stream",
     "text": [
      "training rmse:  0.005625908084513008\n",
      "test rmse:  0.07334794579910063\n"
     ]
    }
   ]
  },
  {
   "cell_type": "code",
   "source": [
    "score_fn(rf_model)"
   ],
   "metadata": {
    "colab": {
     "base_uri": "https://localhost:8080/"
    },
    "id": "fgUgKjGQ0FnU",
    "outputId": "af4d1773-0fc1-4fb9-94de-cfc354532293"
   },
   "execution_count": 23,
   "outputs": [
    {
     "data": {
      "text/plain": "0.9129383305697463"
     },
     "execution_count": 23,
     "metadata": {},
     "output_type": "execute_result"
    }
   ]
  },
  {
   "cell_type": "code",
   "source": [
    "# feed forward neural network\n",
    "# Convert data to PyTorch tensors\n",
    "train_X_ts = torch.Tensor(train_X.values)\n",
    "train_y_ts = torch.Tensor(train_y).view(-1, 1)\n",
    "test_X_ts = torch.Tensor(test_X.values)\n",
    "test_y_ts = torch.Tensor(test_y).view(-1, 1)"
   ],
   "metadata": {
    "id": "uGzZvDHm0Zvr"
   },
   "execution_count": 24,
   "outputs": []
  },
  {
   "cell_type": "code",
   "source": [
    "import torch.nn as nn\n",
    "\n",
    "# Define the neural network model\n",
    "class Net(nn.Module):\n",
    "    def __init__(self):\n",
    "        super(Net, self).__init__()\n",
    "        self.fc1 = nn.Linear(train_X.shape[1], 64)\n",
    "        self.fc2 = nn.Linear(64, 32)\n",
    "        self.fc3 = nn.Linear(32, 1)\n",
    "        self.relu = nn.ReLU()\n",
    "    \n",
    "    def forward(self, x):\n",
    "        x = self.fc1(x)\n",
    "        x = self.relu(x)\n",
    "        x = self.fc2(x)\n",
    "        x = self.relu(x)\n",
    "        x = self.fc3(x)\n",
    "        return x\n",
    "\n"
   ],
   "metadata": {
    "id": "rwYn1nCL2oDf"
   },
   "execution_count": 25,
   "outputs": []
  },
  {
   "cell_type": "code",
   "source": [
    "from torchsummary import summary\n",
    "\n",
    "# Create an instance of the neural network model\n",
    "nn_model = Net()\n",
    "# print the summary of the customized neural network\n",
    "summary(nn_model, input_size=(1, train_X.shape[1]))"
   ],
   "metadata": {
    "colab": {
     "base_uri": "https://localhost:8080/"
    },
    "id": "c_6MDNveiEQ_",
    "outputId": "8e2890ff-a851-44dd-974c-cb8c1b63eea2"
   },
   "execution_count": 26,
   "outputs": [
    {
     "name": "stdout",
     "output_type": "stream",
     "text": [
      "----------------------------------------------------------------\n",
      "        Layer (type)               Output Shape         Param #\n",
      "================================================================\n",
      "            Linear-1                [-1, 1, 64]             384\n",
      "              ReLU-2                [-1, 1, 64]               0\n",
      "            Linear-3                [-1, 1, 32]           2,080\n",
      "              ReLU-4                [-1, 1, 32]               0\n",
      "            Linear-5                 [-1, 1, 1]              33\n",
      "================================================================\n",
      "Total params: 2,497\n",
      "Trainable params: 2,497\n",
      "Non-trainable params: 0\n",
      "----------------------------------------------------------------\n",
      "Input size (MB): 0.00\n",
      "Forward/backward pass size (MB): 0.00\n",
      "Params size (MB): 0.01\n",
      "Estimated Total Size (MB): 0.01\n",
      "----------------------------------------------------------------\n"
     ]
    }
   ]
  },
  {
   "cell_type": "code",
   "source": [
    "# Define the loss function and optimizer\n",
    "criterion = nn.MSELoss()\n",
    "optimizer = torch.optim.Adam(nn_model.parameters(), lr=0.001)\n",
    "\n",
    "# Train the model\n",
    "for epoch in range(100):\n",
    "    optimizer.zero_grad()\n",
    "    outputs = nn_model(train_X_ts)\n",
    "    loss = criterion(outputs, train_y_ts)\n",
    "    loss.backward()\n",
    "    optimizer.step()\n",
    "\n",
    "    # Print the loss for every 10 epochs\n",
    "    if epoch % 10 == 0:\n",
    "        print(\"Epoch {}, Loss: {:.4f}\".format(epoch, loss.item()))\n",
    "\n",
    "# evaluate the model on the training and testing set\n",
    "train_pred = nn_model(train_X_ts).detach().numpy()\n",
    "print(\"training rmse: \", np.sqrt(mean_squared_error(train_y_ts, train_pred)))\n",
    "test_pred = nn_model(test_X_ts).detach().numpy()\n",
    "print(\"test rmse: \", np.sqrt(mean_squared_error(test_y_ts, test_pred)))"
   ],
   "metadata": {
    "colab": {
     "base_uri": "https://localhost:8080/"
    },
    "id": "5ojTjKY8hOIn",
    "outputId": "cc8ad9a9-47a1-444f-b20b-b8bfa5a1fba3"
   },
   "execution_count": 27,
   "outputs": [
    {
     "name": "stdout",
     "output_type": "stream",
     "text": [
      "Epoch 0, Loss: 0.6959\n",
      "Epoch 10, Loss: 0.4035\n",
      "Epoch 20, Loss: 0.1764\n",
      "Epoch 30, Loss: 0.0405\n",
      "Epoch 40, Loss: 0.0037\n",
      "Epoch 50, Loss: 0.0084\n",
      "Epoch 60, Loss: 0.0052\n",
      "Epoch 70, Loss: 0.0031\n",
      "Epoch 80, Loss: 0.0032\n",
      "Epoch 90, Loss: 0.0028\n",
      "training rmse:  0.04996793\n",
      "test rmse:  0.04633622\n"
     ]
    }
   ]
  },
  {
   "cell_type": "code",
   "source": [
    "score_fn(nn_model, type=\"nn\")"
   ],
   "metadata": {
    "colab": {
     "base_uri": "https://localhost:8080/"
    },
    "id": "8y2uvqTZ7O6q",
    "outputId": "5e848ac2-f098-41a1-d8b4-cb9230819538"
   },
   "execution_count": 28,
   "outputs": [
    {
     "data": {
      "text/plain": "1.0466949332310145"
     },
     "execution_count": 28,
     "metadata": {},
     "output_type": "execute_result"
    }
   ]
  },
  {
   "cell_type": "code",
   "source": [],
   "metadata": {
    "id": "D6hiB7lS8mep"
   },
   "execution_count": null,
   "outputs": []
  }
 ]
}
