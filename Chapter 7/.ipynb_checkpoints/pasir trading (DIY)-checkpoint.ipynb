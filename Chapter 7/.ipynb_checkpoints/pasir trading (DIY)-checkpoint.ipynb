{
 "cells": [
  {
   "cell_type": "code",
   "execution_count": 3,
   "metadata": {
    "executionInfo": {
     "elapsed": 9628,
     "status": "ok",
     "timestamp": 1678663545706,
     "user": {
      "displayName": "Peng Liu",
      "userId": "02866728717195957805"
     },
     "user_tz": -480
    },
    "id": "3gsZCWnclSwx"
   },
   "outputs": [],
   "source": [
    "import os\n",
    "import random\n",
    "import numpy as np\n",
    "import yfinance as yf\n",
    "import torch.nn as nn\n",
    "import pandas as pd\n",
    "from statsmodels.tsa.stattools import adfuller\n",
    "from statsmodels.regression.linear_model import OLS\n",
    "import statsmodels.api as sm\n",
    "from matplotlib import pyplot as plt\n",
    "%matplotlib inline\n",
    "\n",
    "SEED = 2023\n",
    "random.seed(SEED)\n",
    "np.random.seed(SEED)"
   ]
  },
  {
   "cell_type": "markdown",
   "metadata": {
    "id": "YxiWnoK9HTOP"
   },
   "source": [
    "# Assess trend following strategy via a class"
   ]
  },
  {
   "cell_type": "code",
   "execution_count": 4,
   "metadata": {
    "executionInfo": {
     "elapsed": 9,
     "status": "ok",
     "timestamp": 1678663545707,
     "user": {
      "displayName": "Peng Liu",
      "userId": "02866728717195957805"
     },
     "user_tz": -480
    },
    "id": "SgUNT3w2HUw0"
   },
   "outputs": [],
   "source": [
    "class TF(nn.Module):\n",
    "    def __init__(self, ticker, start_date, end_date, riskfree_rate=0.04):\n",
    "        super(TF, self).__init__()\n",
    "        self.ticker = ticker\n",
    "        self.start_date = start_date\n",
    "        self.end_date = end_date\n",
    "        self.riskfree_rate = riskfree_rate\n",
    "        self.stock = self.get_stock_data()\n",
    "    \n",
    "    def get_stock_data(self):\n",
    "        print(\"===== DOWNLOADING STOCK DATA =====\")\n",
    "        df = yf.download(['GOOG'], start=self.start_date, end=self.end_date)['Adj Close']\n",
    "        print(\"===== DOWNLOAD COMPLETE =====\")\n",
    "\n",
    "        return pd.DataFrame(df)\n",
    "    \n",
    "    def forward(self, sma_len1, sma_len2):\n",
    "        # add sma columns\n",
    "        stock_df = self.stock.copy()\n",
    "        stock_df[\"sma1\"] = stock_df['Adj Close'].rolling(sma_len1).mean()\n",
    "        stock_df[\"sma2\"] = stock_df['Adj Close'].rolling(sma_len2).mean()\n",
    "        # drop na\n",
    "        stock_df.dropna(inplace=True)\n",
    "        # log returns of the Buy and Hold strategy\n",
    "        stock_df['log_return_buy_n_hold'] = np.log(stock_df['Adj Close'] / stock_df['Adj Close'].shift(1))\n",
    "        # identify buy and sell signal\n",
    "        stock_df['signal'] = np.where(stock_df[\"sma1\"] > stock_df[\"sma2\"], 1, 0)\n",
    "        stock_df['signal'] = np.where(stock_df[\"sma1\"] < stock_df[\"sma2\"], -1, stock_df['signal'])\n",
    "        stock_df.dropna(inplace=True)\n",
    "        # calculate instantaneous log return for trend following straetegy\n",
    "        stock_df['log_return_trend_follow'] = stock_df['signal'] * stock_df['log_return_buy_n_hold']\n",
    "        # calculate annualized return of trend following\n",
    "        annualized_return_trend_follow = np.exp(stock_df['log_return_trend_follow']).prod()**(252/stock_df.shape[0])-1\n",
    "        # calculate annualized volatility of trend following\n",
    "        annualized_vol_trend_follow = (np.exp(stock_df['log_return_trend_follow'])-1).std()*(252**0.5)\n",
    "        # calculate Sharpe ratio of trend following\n",
    "        sharpe_ratio_trend_follow = (annualized_return_trend_follow - self.riskfree_rate) / annualized_vol_trend_follow\n",
    "        \n",
    "        return sharpe_ratio_trend_follow"
   ]
  },
  {
   "cell_type": "code",
   "execution_count": 5,
   "metadata": {
    "colab": {
     "base_uri": "https://localhost:8080/"
    },
    "executionInfo": {
     "elapsed": 835,
     "status": "ok",
     "timestamp": 1678663546535,
     "user": {
      "displayName": "Peng Liu",
      "userId": "02866728717195957805"
     },
     "user_tz": -480
    },
    "id": "zOKSB4BGHWw3",
    "outputId": "fb036872-1367-49fc-b4f4-d6eee13c0182"
   },
   "outputs": [
    {
     "name": "stdout",
     "output_type": "stream",
     "text": [
      "===== DOWNLOADING STOCK DATA =====\n",
      "[*********************100%***********************]  1 of 1 completed\n",
      "===== DOWNLOAD COMPLETE =====\n"
     ]
    }
   ],
   "source": [
    "tf = TF(ticker=\"GOOG\", start_date=\"2022-01-01\", end_date=\"2023-01-01\",riskfree_rate=0.01)"
   ]
  },
  {
   "cell_type": "code",
   "execution_count": 6,
   "metadata": {
    "colab": {
     "base_uri": "https://localhost:8080/",
     "height": 238
    },
    "executionInfo": {
     "elapsed": 13,
     "status": "ok",
     "timestamp": 1678663546536,
     "user": {
      "displayName": "Peng Liu",
      "userId": "02866728717195957805"
     },
     "user_tz": -480
    },
    "id": "paXb512XHWuQ",
    "outputId": "b418a87d-90fa-4ce2-fe1b-2f44d8872268"
   },
   "outputs": [
    {
     "data": {
      "text/html": [
       "<div>\n",
       "<style scoped>\n",
       "    .dataframe tbody tr th:only-of-type {\n",
       "        vertical-align: middle;\n",
       "    }\n",
       "\n",
       "    .dataframe tbody tr th {\n",
       "        vertical-align: top;\n",
       "    }\n",
       "\n",
       "    .dataframe thead th {\n",
       "        text-align: right;\n",
       "    }\n",
       "</style>\n",
       "<table border=\"1\" class=\"dataframe\">\n",
       "  <thead>\n",
       "    <tr style=\"text-align: right;\">\n",
       "      <th></th>\n",
       "      <th>Adj Close</th>\n",
       "    </tr>\n",
       "    <tr>\n",
       "      <th>Date</th>\n",
       "      <th></th>\n",
       "    </tr>\n",
       "  </thead>\n",
       "  <tbody>\n",
       "    <tr>\n",
       "      <th>2022-01-03</th>\n",
       "      <td>145.074493</td>\n",
       "    </tr>\n",
       "    <tr>\n",
       "      <th>2022-01-04</th>\n",
       "      <td>144.416504</td>\n",
       "    </tr>\n",
       "    <tr>\n",
       "      <th>2022-01-05</th>\n",
       "      <td>137.653503</td>\n",
       "    </tr>\n",
       "    <tr>\n",
       "      <th>2022-01-06</th>\n",
       "      <td>137.550995</td>\n",
       "    </tr>\n",
       "    <tr>\n",
       "      <th>2022-01-07</th>\n",
       "      <td>137.004501</td>\n",
       "    </tr>\n",
       "  </tbody>\n",
       "</table>\n",
       "</div>"
      ],
      "text/plain": [
       "             Adj Close\n",
       "Date                  \n",
       "2022-01-03  145.074493\n",
       "2022-01-04  144.416504\n",
       "2022-01-05  137.653503\n",
       "2022-01-06  137.550995\n",
       "2022-01-07  137.004501"
      ]
     },
     "execution_count": 6,
     "metadata": {},
     "output_type": "execute_result"
    }
   ],
   "source": [
    "tf.stock.head()"
   ]
  },
  {
   "cell_type": "code",
   "execution_count": 7,
   "metadata": {
    "colab": {
     "base_uri": "https://localhost:8080/"
    },
    "executionInfo": {
     "elapsed": 11,
     "status": "ok",
     "timestamp": 1678663546536,
     "user": {
      "displayName": "Peng Liu",
      "userId": "02866728717195957805"
     },
     "user_tz": -480
    },
    "id": "SVYjY6N5Ha4g",
    "outputId": "3fba908f-ba45-4a99-8683-c1660c2f74c3"
   },
   "outputs": [
    {
     "data": {
      "text/plain": [
       "-0.13679432226325275"
      ]
     },
     "execution_count": 7,
     "metadata": {},
     "output_type": "execute_result"
    }
   ],
   "source": [
    "tf(sma_len1=5, sma_len2=10)"
   ]
  },
  {
   "cell_type": "code",
   "execution_count": 8,
   "metadata": {
    "colab": {
     "base_uri": "https://localhost:8080/"
    },
    "executionInfo": {
     "elapsed": 8,
     "status": "ok",
     "timestamp": 1678663546536,
     "user": {
      "displayName": "Peng Liu",
      "userId": "02866728717195957805"
     },
     "user_tz": -480
    },
    "id": "qSGV0Y9UHWsp",
    "outputId": "515ccd9f-dfd6-4a96-8463-0ee2720fe22a"
   },
   "outputs": [
    {
     "data": {
      "text/plain": [
       "0.6986180655069303"
      ]
     },
     "execution_count": 8,
     "metadata": {},
     "output_type": "execute_result"
    }
   ],
   "source": [
    "tf(sma_len1=3, sma_len2=20)"
   ]
  },
  {
   "cell_type": "markdown",
   "metadata": {
    "id": "iAcouM8PrSPG"
   },
   "source": [
    "# Stationarity"
   ]
  },
  {
   "cell_type": "code",
   "execution_count": 9,
   "metadata": {
    "executionInfo": {
     "elapsed": 7,
     "status": "ok",
     "timestamp": 1678663546536,
     "user": {
      "displayName": "Peng Liu",
      "userId": "02866728717195957805"
     },
     "user_tz": -480
    },
    "id": "pT494yF7rUJM"
   },
   "outputs": [],
   "source": [
    "# generate random samples from normal distribution\n",
    "def generate_normal_sample(params):\n",
    "    \"\"\"\n",
    "    input: \n",
    "      params: including mean in params[0] and standard deviation in params[1]\n",
    "    output: a random sample from the normal distribution parameterized by the input\n",
    "    \"\"\"\n",
    "    mean = params[0]\n",
    "    sd = params[1]\n",
    "    return np.random.normal(mean, sd)"
   ]
  },
  {
   "cell_type": "code",
   "execution_count": 10,
   "metadata": {
    "colab": {
     "base_uri": "https://localhost:8080/"
    },
    "executionInfo": {
     "elapsed": 6,
     "status": "ok",
     "timestamp": 1678663546536,
     "user": {
      "displayName": "Peng Liu",
      "userId": "02866728717195957805"
     },
     "user_tz": -480
    },
    "id": "Ar2xankZrj4I",
    "outputId": "17b4a48a-f5ac-4ecc-81f2-82afd601dba9"
   },
   "outputs": [
    {
     "name": "stdout",
     "output_type": "stream",
     "text": [
      "0.7116735302628457\n"
     ]
    }
   ],
   "source": [
    "# generate sample from standard norml\n",
    "print(generate_normal_sample([0,1]))"
   ]
  },
  {
   "cell_type": "code",
   "execution_count": 1,
   "metadata": {
    "colab": {
     "base_uri": "https://localhost:8080/",
     "height": 279
    },
    "executionInfo": {
     "elapsed": 653,
     "status": "ok",
     "timestamp": 1678663547184,
     "user": {
      "displayName": "Peng Liu",
      "userId": "02866728717195957805"
     },
     "user_tz": -480
    },
    "id": "G2JbHaSftYzE",
    "outputId": "7901a2e5-5fc8-4d80-d85e-dc80d0a910f6"
   },
   "outputs": [
    {
     "ename": "NameError",
     "evalue": "name 'generate_normal_sample' is not defined",
     "output_type": "error",
     "traceback": [
      "\u001b[1;31m---------------------------------------------------------------------------\u001b[0m",
      "\u001b[1;31mNameError\u001b[0m                                 Traceback (most recent call last)",
      "\u001b[1;32m~\\AppData\\Local\\Temp\\ipykernel_1088\\1677788254.py\u001b[0m in \u001b[0;36m<module>\u001b[1;34m\u001b[0m\n\u001b[0;32m      5\u001b[0m \u001b[1;32mfor\u001b[0m \u001b[0mi\u001b[0m \u001b[1;32min\u001b[0m \u001b[0mrange\u001b[0m\u001b[1;33m(\u001b[0m\u001b[0mT\u001b[0m\u001b[1;33m)\u001b[0m\u001b[1;33m:\u001b[0m\u001b[1;33m\u001b[0m\u001b[1;33m\u001b[0m\u001b[0m\n\u001b[0;32m      6\u001b[0m     \u001b[1;31m# generate a stationary sample and append to list\u001b[0m\u001b[1;33m\u001b[0m\u001b[1;33m\u001b[0m\u001b[0m\n\u001b[1;32m----> 7\u001b[1;33m     \u001b[0mstationary_list\u001b[0m\u001b[1;33m.\u001b[0m\u001b[0mappend\u001b[0m\u001b[1;33m(\u001b[0m\u001b[0mgenerate_normal_sample\u001b[0m\u001b[1;33m(\u001b[0m\u001b[1;33m[\u001b[0m\u001b[1;36m0\u001b[0m\u001b[1;33m,\u001b[0m\u001b[1;36m1\u001b[0m\u001b[1;33m]\u001b[0m\u001b[1;33m)\u001b[0m\u001b[1;33m)\u001b[0m\u001b[1;33m\u001b[0m\u001b[1;33m\u001b[0m\u001b[0m\n\u001b[0m\u001b[0;32m      8\u001b[0m     \u001b[1;31m# generate a non-stationary sample with an increasing mean and append to list\u001b[0m\u001b[1;33m\u001b[0m\u001b[1;33m\u001b[0m\u001b[0m\n\u001b[0;32m      9\u001b[0m     \u001b[0mnonstationary_list1\u001b[0m\u001b[1;33m.\u001b[0m\u001b[0mappend\u001b[0m\u001b[1;33m(\u001b[0m\u001b[0mgenerate_normal_sample\u001b[0m\u001b[1;33m(\u001b[0m\u001b[1;33m[\u001b[0m\u001b[0mi\u001b[0m\u001b[1;33m,\u001b[0m\u001b[1;36m1\u001b[0m\u001b[1;33m]\u001b[0m\u001b[1;33m)\u001b[0m\u001b[1;33m)\u001b[0m\u001b[1;33m\u001b[0m\u001b[1;33m\u001b[0m\u001b[0m\n",
      "\u001b[1;31mNameError\u001b[0m: name 'generate_normal_sample' is not defined"
     ]
    }
   ],
   "source": [
    "# generate 100 random samples for both stationary and non-stationary distribution\n",
    "T = 10\n",
    "stationary_list, nonstationary_list1, nonstationary_list2 = [], [], []\n",
    "\n",
    "for i in range(T):\n",
    "    # generate a stationary sample and append to list\n",
    "    stationary_list.append(generate_normal_sample([0,1]))\n",
    "    # generate a non-stationary sample with an increasing mean and append to list\n",
    "    nonstationary_list1.append(generate_normal_sample([i,1]))\n",
    "    # # generate a non-stationary sample with an increasing mean and sd and append to list\n",
    "    nonstationary_list2.append(generate_normal_sample([i,np.sqrt(i)]))\n",
    "\n",
    "x = range(T)\n",
    "# plot the lists as line plots with labels for each line\n",
    "plt.plot(x, stationary_list, label='Stationary')\n",
    "plt.plot(x, nonstationary_list1, label='Non-stationary with increasing mean')\n",
    "plt.plot(x, nonstationary_list2, label='Non-stationary with increasing mean and sd')\n",
    "\n",
    "# set the axis labels\n",
    "plt.xlabel('Sample index')\n",
    "plt.ylabel('Sample value')\n",
    "# add a legend\n",
    "plt.legend()\n",
    "# show the plot\n",
    "plt.show()"
   ]
  },
  {
   "cell_type": "code",
   "execution_count": 2,
   "metadata": {
    "executionInfo": {
     "elapsed": 17,
     "status": "ok",
     "timestamp": 1678663547185,
     "user": {
      "displayName": "Peng Liu",
      "userId": "02866728717195957805"
     },
     "user_tz": -480
    },
    "id": "8SW9EoWrBR6G"
   },
   "outputs": [],
   "source": [
    "# test for stationarity\n",
    "def stationarity_test(x, threshold=0.05):\n",
    "    \"\"\"\n",
    "    input: \n",
    "      x: a list of scalar values\n",
    "      threshold: significance level\n",
    "    output: print out message on stationarity\n",
    "    \"\"\"\n",
    "    pvalue = adfuller(x)[1]\n",
    "    if pvalue < threshold:\n",
    "        return 'p-value is ' + str(pvalue) + '. The series is likely stationary.'\n",
    "    else:\n",
    "        return 'p-value is ' + str(pvalue) + '. The series is likely non-stationary.'"
   ]
  },
  {
   "cell_type": "code",
   "execution_count": 10,
   "metadata": {
    "colab": {
     "base_uri": "https://localhost:8080/"
    },
    "executionInfo": {
     "elapsed": 15,
     "status": "ok",
     "timestamp": 1678663547185,
     "user": {
      "displayName": "Peng Liu",
      "userId": "02866728717195957805"
     },
     "user_tz": -480
    },
    "id": "E3dEO-z3BMFi",
    "outputId": "2d9264eb-06d8-4579-d589-bb9575fe843e"
   },
   "outputs": [
    {
     "ename": "NameError",
     "evalue": "name 'stationary_list' is not defined",
     "output_type": "error",
     "traceback": [
      "\u001b[1;31m---------------------------------------------------------------------------\u001b[0m",
      "\u001b[1;31mNameError\u001b[0m                                 Traceback (most recent call last)",
      "\u001b[1;32m~\\AppData\\Local\\Temp\\ipykernel_3252\\436913563.py\u001b[0m in \u001b[0;36m<module>\u001b[1;34m\u001b[0m\n\u001b[1;32m----> 1\u001b[1;33m \u001b[0mprint\u001b[0m\u001b[1;33m(\u001b[0m\u001b[0mstationarity_test\u001b[0m\u001b[1;33m(\u001b[0m\u001b[0mstationary_list\u001b[0m\u001b[1;33m)\u001b[0m\u001b[1;33m)\u001b[0m\u001b[1;33m\u001b[0m\u001b[1;33m\u001b[0m\u001b[0m\n\u001b[0m\u001b[0;32m      2\u001b[0m \u001b[0mprint\u001b[0m\u001b[1;33m(\u001b[0m\u001b[0mstationarity_test\u001b[0m\u001b[1;33m(\u001b[0m\u001b[0mnonstationary_list1\u001b[0m\u001b[1;33m)\u001b[0m\u001b[1;33m)\u001b[0m\u001b[1;33m\u001b[0m\u001b[1;33m\u001b[0m\u001b[0m\n\u001b[0;32m      3\u001b[0m \u001b[0mprint\u001b[0m\u001b[1;33m(\u001b[0m\u001b[0mstationarity_test\u001b[0m\u001b[1;33m(\u001b[0m\u001b[0mnonstationary_list2\u001b[0m\u001b[1;33m)\u001b[0m\u001b[1;33m)\u001b[0m\u001b[1;33m\u001b[0m\u001b[1;33m\u001b[0m\u001b[0m\n",
      "\u001b[1;31mNameError\u001b[0m: name 'stationary_list' is not defined"
     ]
    }
   ],
   "source": [
    "print(stationarity_test(stationary_list))\n",
    "print(stationarity_test(nonstationary_list1))\n",
    "print(stationarity_test(nonstationary_list2))"
   ]
  },
  {
   "cell_type": "markdown",
   "metadata": {
    "id": "xLr0xT1SlJhL"
   },
   "source": [
    "# Test for cointegration"
   ]
  },
  {
   "cell_type": "code",
   "execution_count": 5,
   "metadata": {
    "colab": {
     "base_uri": "https://localhost:8080/",
     "height": 255
    },
    "executionInfo": {
     "elapsed": 14,
     "status": "ok",
     "timestamp": 1678663547185,
     "user": {
      "displayName": "Peng Liu",
      "userId": "02866728717195957805"
     },
     "user_tz": -480
    },
    "id": "jpjyki6kl7L5",
    "outputId": "44d8d160-2df6-41ee-ff03-64efec6fc9fb"
   },
   "outputs": [
    {
     "name": "stdout",
     "output_type": "stream",
     "text": [
      "[*********************100%***********************]  2 of 2 completed\n"
     ]
    },
    {
     "data": {
      "text/html": [
       "<div>\n",
       "<style scoped>\n",
       "    .dataframe tbody tr th:only-of-type {\n",
       "        vertical-align: middle;\n",
       "    }\n",
       "\n",
       "    .dataframe tbody tr th {\n",
       "        vertical-align: top;\n",
       "    }\n",
       "\n",
       "    .dataframe thead th {\n",
       "        text-align: right;\n",
       "    }\n",
       "</style>\n",
       "<table border=\"1\" class=\"dataframe\">\n",
       "  <thead>\n",
       "    <tr style=\"text-align: right;\">\n",
       "      <th></th>\n",
       "      <th>GOOG</th>\n",
       "      <th>MSFT</th>\n",
       "    </tr>\n",
       "    <tr>\n",
       "      <th>Date</th>\n",
       "      <th></th>\n",
       "      <th></th>\n",
       "    </tr>\n",
       "  </thead>\n",
       "  <tbody>\n",
       "    <tr>\n",
       "      <th>2022-01-03</th>\n",
       "      <td>145.074493</td>\n",
       "      <td>330.092285</td>\n",
       "    </tr>\n",
       "    <tr>\n",
       "      <th>2022-01-04</th>\n",
       "      <td>144.416504</td>\n",
       "      <td>324.432098</td>\n",
       "    </tr>\n",
       "    <tr>\n",
       "      <th>2022-01-05</th>\n",
       "      <td>137.653503</td>\n",
       "      <td>311.977875</td>\n",
       "    </tr>\n",
       "    <tr>\n",
       "      <th>2022-01-06</th>\n",
       "      <td>137.550995</td>\n",
       "      <td>309.512634</td>\n",
       "    </tr>\n",
       "    <tr>\n",
       "      <th>2022-01-07</th>\n",
       "      <td>137.004501</td>\n",
       "      <td>309.670441</td>\n",
       "    </tr>\n",
       "  </tbody>\n",
       "</table>\n",
       "</div>"
      ],
      "text/plain": [
       "                  GOOG        MSFT\n",
       "Date                              \n",
       "2022-01-03  145.074493  330.092285\n",
       "2022-01-04  144.416504  324.432098\n",
       "2022-01-05  137.653503  311.977875\n",
       "2022-01-06  137.550995  309.512634\n",
       "2022-01-07  137.004501  309.670441"
      ]
     },
     "execution_count": 5,
     "metadata": {},
     "output_type": "execute_result"
    }
   ],
   "source": [
    "# download data from yfinance\n",
    "start_date  = \"2022-01-01\"\n",
    "end_date  = \"2022-12-31\"\n",
    "stocks = ['GOOG','MSFT']\n",
    "df = yf.download(stocks, start=start_date, end=end_date)['Adj Close']\n",
    "df.head()"
   ]
  },
  {
   "cell_type": "code",
   "execution_count": null,
   "metadata": {
    "executionInfo": {
     "elapsed": 9,
     "status": "ok",
     "timestamp": 1678663547185,
     "user": {
      "displayName": "Peng Liu",
      "userId": "02866728717195957805"
     },
     "user_tz": -480
    },
    "id": "9JLgQTx4nsac",
    "pycharm": {
     "is_executing": true
    }
   },
   "outputs": [],
   "source": [
    "# build linear regression model\n",
    "# Extract prices for two stocks of interest\n",
    "# target var: Y; predictor: X\n",
    "Y = df[stocks[0]]\n",
    "X = df[stocks[1]]\n",
    "\n",
    "# estimate linear regression coefficients of stock1 on stock2\n",
    "X_with_constant = sm.add_constant(X)\n",
    "model = OLS(Y, X_with_constant).fit()\n",
    "residuals = Y - model.predict()"
   ]
  },
  {
   "cell_type": "code",
   "execution_count": 1,
   "metadata": {
    "colab": {
     "base_uri": "https://localhost:8080/"
    },
    "executionInfo": {
     "elapsed": 9,
     "status": "ok",
     "timestamp": 1678663547185,
     "user": {
      "displayName": "Peng Liu",
      "userId": "02866728717195957805"
     },
     "user_tz": -480
    },
    "id": "g5Sgpk2edrW2",
    "outputId": "b51041a8-c1fb-442f-95ef-a908b9eec953"
   },
   "outputs": [
    {
     "ename": "NameError",
     "evalue": "name 'model' is not defined",
     "output_type": "error",
     "traceback": [
      "\u001b[1;31m---------------------------------------------------------------------------\u001b[0m",
      "\u001b[1;31mNameError\u001b[0m                                 Traceback (most recent call last)",
      "\u001b[1;32m~\\AppData\\Local\\Temp\\ipykernel_15632\\2487660649.py\u001b[0m in \u001b[0;36m<module>\u001b[1;34m\u001b[0m\n\u001b[0;32m      1\u001b[0m \u001b[1;31m# access model weights\u001b[0m\u001b[1;33m\u001b[0m\u001b[1;33m\u001b[0m\u001b[0m\n\u001b[1;32m----> 2\u001b[1;33m \u001b[0mprint\u001b[0m\u001b[1;33m(\u001b[0m\u001b[0mmodel\u001b[0m\u001b[1;33m.\u001b[0m\u001b[0mparams\u001b[0m\u001b[1;33m)\u001b[0m\u001b[1;33m\u001b[0m\u001b[1;33m\u001b[0m\u001b[0m\n\u001b[0m",
      "\u001b[1;31mNameError\u001b[0m: name 'model' is not defined"
     ]
    }
   ],
   "source": [
    "# access model weights\n",
    "print(model.params)"
   ]
  },
  {
   "cell_type": "code",
   "execution_count": 16,
   "metadata": {
    "colab": {
     "base_uri": "https://localhost:8080/"
    },
    "executionInfo": {
     "elapsed": 10,
     "status": "ok",
     "timestamp": 1678663547186,
     "user": {
      "displayName": "Peng Liu",
      "userId": "02866728717195957805"
     },
     "user_tz": -480
    },
    "id": "1LtuCQW2oGVB",
    "outputId": "f20077fb-c89e-4839-8f05-7f47c38b24eb"
   },
   "outputs": [
    {
     "name": "stdout",
     "output_type": "stream",
     "text": [
      "True\n"
     ]
    }
   ],
   "source": [
    "# alternative approach\n",
    "residuals2 = Y - (model.params['const'] + model.params[stocks[1]] * X)\n",
    "# check if both residuals are the same\n",
    "print(residuals.equals(residuals2))"
   ]
  },
  {
   "cell_type": "code",
   "execution_count": 17,
   "metadata": {
    "colab": {
     "base_uri": "https://localhost:8080/"
    },
    "executionInfo": {
     "elapsed": 9,
     "status": "ok",
     "timestamp": 1678663547186,
     "user": {
      "displayName": "Peng Liu",
      "userId": "02866728717195957805"
     },
     "user_tz": -480
    },
    "id": "ez_892COkre8",
    "outputId": "211f80e6-2e07-41c9-964a-561a41e7fe05"
   },
   "outputs": [
    {
     "name": "stdout",
     "output_type": "stream",
     "text": [
      "ADF test statistic: -3.17980318111242\n",
      "p-value: 0.021183921316318376\n",
      "The two stocks are cointegrated.\n"
     ]
    }
   ],
   "source": [
    "# test residuals for stationarity\n",
    "adf_test = adfuller(residuals)\n",
    "print(f\"ADF test statistic: {adf_test[0]}\")\n",
    "print(f\"p-value: {adf_test[1]}\")\n",
    "\n",
    "if adf_test[1] < 0.05:\n",
    "    print(\"The two stocks are cointegrated.\")\n",
    "else:\n",
    "    print(\"The two stocks are not cointegrated.\")"
   ]
  },
  {
   "cell_type": "markdown",
   "metadata": {
    "id": "Dr8BqthpWQr6"
   },
   "source": [
    "# Cointegration and correlation"
   ]
  },
  {
   "cell_type": "code",
   "execution_count": 18,
   "metadata": {
    "colab": {
     "base_uri": "https://localhost:8080/",
     "height": 282
    },
    "executionInfo": {
     "elapsed": 8,
     "status": "ok",
     "timestamp": 1678663547186,
     "user": {
      "displayName": "Peng Liu",
      "userId": "02866728717195957805"
     },
     "user_tz": -480
    },
    "id": "XCBBGKTjpH_s",
    "outputId": "1d77983e-5e5b-45ec-ecfa-519fe797e1a3"
   },
   "outputs": [
    {
     "data": {
      "text/plain": [
       "<AxesSubplot:>"
      ]
     },
     "execution_count": 18,
     "metadata": {},
     "output_type": "execute_result"
    },
    {
     "data": {
      "image/png": "[encoded data removed]",
      "text/plain": [
       "<Figure size 432x288 with 1 Axes>"
      ]
     },
     "metadata": {
      "needs_background": "light"
     },
     "output_type": "display_data"
    }
   ],
   "source": [
    "np.random.seed(123)\n",
    "X = np.random.normal(1, 1, 100)\n",
    "Y = np.random.normal(2, 1, 100)\n",
    "\n",
    "X = pd.Series(np.cumsum(X), name='X')\n",
    "Y = pd.Series(np.cumsum(Y), name='Y')\n",
    "\n",
    "pd.concat([X, Y], axis=1).plot()"
   ]
  },
  {
   "cell_type": "code",
   "execution_count": 19,
   "metadata": {
    "colab": {
     "base_uri": "https://localhost:8080/"
    },
    "executionInfo": {
     "elapsed": 7,
     "status": "ok",
     "timestamp": 1678663547186,
     "user": {
      "displayName": "Peng Liu",
      "userId": "02866728717195957805"
     },
     "user_tz": -480
    },
    "id": "LHAx8s2CWYY4",
    "outputId": "46f41f5b-11de-4b16-f872-8dbc6a5cb54a"
   },
   "outputs": [
    {
     "name": "stdout",
     "output_type": "stream",
     "text": [
      "Correlation: 0.994833254077976\n",
      "Cointegration test p-value: 0.17830098966789126\n"
     ]
    }
   ],
   "source": [
    "from statsmodels.tsa.stattools import coint\n",
    "# calculate the correlation coefficeint\n",
    "print('Correlation: ' + str(X.corr(Y)))\n",
    "# perform in cointegration test\n",
    "score, pvalue, _ = coint(X,Y)\n",
    "print('Cointegration test p-value: ' + str(pvalue))"
   ]
  },
  {
   "cell_type": "markdown",
   "metadata": {
    "id": "4dUWbSdmc0xC"
   },
   "source": [
    "# Implement pairs trading"
   ]
  },
  {
   "cell_type": "code",
   "execution_count": 20,
   "metadata": {
    "colab": {
     "base_uri": "https://localhost:8080/",
     "height": 255
    },
    "executionInfo": {
     "elapsed": 609,
     "status": "ok",
     "timestamp": 1678663547789,
     "user": {
      "displayName": "Peng Liu",
      "userId": "02866728717195957805"
     },
     "user_tz": -480
    },
    "id": "QHTkEvDNWfq5",
    "outputId": "4f465bd1-544e-46ea-bb77-155d19a1c272"
   },
   "outputs": [
    {
     "name": "stdout",
     "output_type": "stream",
     "text": [
      "[*********************100%***********************]  6 of 6 completed\n"
     ]
    },
    {
     "data": {
      "text/html": [
       "\n",
       "  <div id=\"df-b2a33390-7ff4-4bd7-915b-9f5227431ace\">\n",
       "    <div class=\"colab-df-container\">\n",
       "      <div>\n",
       "<style scoped>\n",
       "    .dataframe tbody tr th:only-of-type {\n",
       "        vertical-align: middle;\n",
       "    }\n",
       "\n",
       "    .dataframe tbody tr th {\n",
       "        vertical-align: top;\n",
       "    }\n",
       "\n",
       "    .dataframe thead th {\n",
       "        text-align: right;\n",
       "    }\n",
       "</style>\n",
       "<table border=\"1\" class=\"dataframe\">\n",
       "  <thead>\n",
       "    <tr style=\"text-align: right;\">\n",
       "      <th></th>\n",
       "      <th>AAPL</th>\n",
       "      <th>GOOG</th>\n",
       "      <th>META</th>\n",
       "      <th>MSFT</th>\n",
       "      <th>NFLX</th>\n",
       "      <th>TSLA</th>\n",
       "    </tr>\n",
       "    <tr>\n",
       "      <th>Date</th>\n",
       "      <th></th>\n",
       "      <th></th>\n",
       "      <th></th>\n",
       "      <th></th>\n",
       "      <th></th>\n",
       "      <th></th>\n",
       "    </tr>\n",
       "  </thead>\n",
       "  <tbody>\n",
       "    <tr>\n",
       "      <th>2022-01-03</th>\n",
       "      <td>180.683853</td>\n",
       "      <td>145.074493</td>\n",
       "      <td>338.540009</td>\n",
       "      <td>330.813873</td>\n",
       "      <td>597.369995</td>\n",
       "      <td>399.926666</td>\n",
       "    </tr>\n",
       "    <tr>\n",
       "      <th>2022-01-04</th>\n",
       "      <td>178.390701</td>\n",
       "      <td>144.416504</td>\n",
       "      <td>336.529999</td>\n",
       "      <td>325.141388</td>\n",
       "      <td>591.150024</td>\n",
       "      <td>383.196655</td>\n",
       "    </tr>\n",
       "    <tr>\n",
       "      <th>2022-01-05</th>\n",
       "      <td>173.645538</td>\n",
       "      <td>137.653503</td>\n",
       "      <td>324.170013</td>\n",
       "      <td>312.659851</td>\n",
       "      <td>567.520020</td>\n",
       "      <td>362.706665</td>\n",
       "    </tr>\n",
       "    <tr>\n",
       "      <th>2022-01-06</th>\n",
       "      <td>170.746796</td>\n",
       "      <td>137.550995</td>\n",
       "      <td>332.459991</td>\n",
       "      <td>310.189270</td>\n",
       "      <td>553.289978</td>\n",
       "      <td>354.899994</td>\n",
       "    </tr>\n",
       "    <tr>\n",
       "      <th>2022-01-07</th>\n",
       "      <td>170.915573</td>\n",
       "      <td>137.004501</td>\n",
       "      <td>331.790009</td>\n",
       "      <td>310.347412</td>\n",
       "      <td>541.059998</td>\n",
       "      <td>342.320007</td>\n",
       "    </tr>\n",
       "  </tbody>\n",
       "</table>\n",
       "</div>\n",
       "      <button class=\"colab-df-convert\" onclick=\"convertToInteractive('df-b2a33390-7ff4-4bd7-915b-9f5227431ace')\"\n",
       "              title=\"Convert this dataframe to an interactive table.\"\n",
       "              style=\"display:none;\">\n",
       "        \n",
       "  <svg xmlns=\"http://www.w3.org/2000/svg\" height=\"24px\"viewBox=\"0 0 24 24\"\n",
       "       width=\"24px\">\n",
       "    <path d=\"M0 0h24v24H0V0z\" fill=\"none\"/>\n",
       "    <path d=\"M18.56 5.44l.94 2.06.94-2.06 2.06-.94-2.06-.94-.94-2.06-.94 2.06-2.06.94zm-11 1L8.5 8.5l.94-2.06 2.06-.94-2.06-.94L8.5 2.5l-.94 2.06-2.06.94zm10 10l.94 2.06.94-2.06 2.06-.94-2.06-.94-.94-2.06-.94 2.06-2.06.94z\"/><path d=\"M17.41 7.96l-1.37-1.37c-.4-.4-.92-.59-1.43-.59-.52 0-1.04.2-1.43.59L10.3 9.45l-7.72 7.72c-.78.78-.78 2.05 0 2.83L4 21.41c.39.39.9.59 1.41.59.51 0 1.02-.2 1.41-.59l7.78-7.78 2.81-2.81c.8-.78.8-2.07 0-2.86zM5.41 20L4 18.59l7.72-7.72 1.47 1.35L5.41 20z\"/>\n",
       "  </svg>\n",
       "      </button>\n",
       "      \n",
       "  <style>\n",
       "    .colab-df-container {\n",
       "      display:flex;\n",
       "      flex-wrap:wrap;\n",
       "      gap: 12px;\n",
       "    }\n",
       "\n",
       "    .colab-df-convert {\n",
       "      background-color: #E8F0FE;\n",
       "      border: none;\n",
       "      border-radius: 50%;\n",
       "      cursor: pointer;\n",
       "      display: none;\n",
       "      fill: #1967D2;\n",
       "      height: 32px;\n",
       "      padding: 0 0 0 0;\n",
       "      width: 32px;\n",
       "    }\n",
       "\n",
       "    .colab-df-convert:hover {\n",
       "      background-color: #E2EBFA;\n",
       "      box-shadow: 0px 1px 2px rgba(60, 64, 67, 0.3), 0px 1px 3px 1px rgba(60, 64, 67, 0.15);\n",
       "      fill: #174EA6;\n",
       "    }\n",
       "\n",
       "    [theme=dark] .colab-df-convert {\n",
       "      background-color: #3B4455;\n",
       "      fill: #D2E3FC;\n",
       "    }\n",
       "\n",
       "    [theme=dark] .colab-df-convert:hover {\n",
       "      background-color: #434B5C;\n",
       "      box-shadow: 0px 1px 3px 1px rgba(0, 0, 0, 0.15);\n",
       "      filter: drop-shadow(0px 1px 2px rgba(0, 0, 0, 0.3));\n",
       "      fill: #FFFFFF;\n",
       "    }\n",
       "  </style>\n",
       "\n",
       "      <script>\n",
       "        const buttonEl =\n",
       "          document.querySelector('#df-b2a33390-7ff4-4bd7-915b-9f5227431ace button.colab-df-convert');\n",
       "        buttonEl.style.display =\n",
       "          google.colab.kernel.accessAllowed ? 'block' : 'none';\n",
       "\n",
       "        async function convertToInteractive(key) {\n",
       "          const element = document.querySelector('#df-b2a33390-7ff4-4bd7-915b-9f5227431ace');\n",
       "          const dataTable =\n",
       "            await google.colab.kernel.invokeFunction('convertToInteractive',\n",
       "                                                     [key], {});\n",
       "          if (!dataTable) return;\n",
       "\n",
       "          const docLinkHtml = 'Like what you see? Visit the ' +\n",
       "            '<a target=\"_blank\" href=https://colab.research.google.com/notebooks/data_table.ipynb>data table notebook</a>'\n",
       "            + ' to learn more about interactive tables.';\n",
       "          element.innerHTML = '';\n",
       "          dataTable['output_type'] = 'display_data';\n",
       "          await google.colab.output.renderOutput(dataTable, element);\n",
       "          const docLink = document.createElement('div');\n",
       "          docLink.innerHTML = docLinkHtml;\n",
       "          element.appendChild(docLink);\n",
       "        }\n",
       "      </script>\n",
       "    </div>\n",
       "  </div>\n",
       "  "
      ],
      "text/plain": [
       "                  AAPL        GOOG        META        MSFT        NFLX  \\\n",
       "Date                                                                     \n",
       "2022-01-03  180.683853  145.074493  338.540009  330.813873  597.369995   \n",
       "2022-01-04  178.390701  144.416504  336.529999  325.141388  591.150024   \n",
       "2022-01-05  173.645538  137.653503  324.170013  312.659851  567.520020   \n",
       "2022-01-06  170.746796  137.550995  332.459991  310.189270  553.289978   \n",
       "2022-01-07  170.915573  137.004501  331.790009  310.347412  541.059998   \n",
       "\n",
       "                  TSLA  \n",
       "Date                    \n",
       "2022-01-03  399.926666  \n",
       "2022-01-04  383.196655  \n",
       "2022-01-05  362.706665  \n",
       "2022-01-06  354.899994  \n",
       "2022-01-07  342.320007  "
      ]
     },
     "execution_count": 20,
     "metadata": {},
     "output_type": "execute_result"
    }
   ],
   "source": [
    "# download data from yfinance\n",
    "stocks = ['GOOG','MSFT','AAPL','TSLA','META','NFLX']\n",
    "df = yf.download(stocks, start=start_date, end=end_date)['Adj Close']\n",
    "df.head()"
   ]
  },
  {
   "cell_type": "markdown",
   "metadata": {
    "id": "hlqiXbqnqJCo"
   },
   "source": [
    "## Perform cointegration test"
   ]
  },
  {
   "cell_type": "code",
   "execution_count": 21,
   "metadata": {
    "colab": {
     "base_uri": "https://localhost:8080/"
    },
    "executionInfo": {
     "elapsed": 9,
     "status": "ok",
     "timestamp": 1678663547789,
     "user": {
      "displayName": "Peng Liu",
      "userId": "02866728717195957805"
     },
     "user_tz": -480
    },
    "id": "QSxHaHaqe6UX",
    "outputId": "9a042aa8-f4c5-4247-fff6-95fa58057fee"
   },
   "outputs": [
    {
     "data": {
      "text/plain": [
       "[('AAPL', 'GOOG'),\n",
       " ('AAPL', 'META'),\n",
       " ('AAPL', 'MSFT'),\n",
       " ('AAPL', 'NFLX'),\n",
       " ('AAPL', 'TSLA'),\n",
       " ('GOOG', 'META'),\n",
       " ('GOOG', 'MSFT'),\n",
       " ('GOOG', 'NFLX'),\n",
       " ('GOOG', 'TSLA'),\n",
       " ('META', 'MSFT'),\n",
       " ('META', 'NFLX'),\n",
       " ('META', 'TSLA'),\n",
       " ('MSFT', 'NFLX'),\n",
       " ('MSFT', 'TSLA'),\n",
       " ('NFLX', 'TSLA')]"
      ]
     },
     "execution_count": 21,
     "metadata": {},
     "output_type": "execute_result"
    }
   ],
   "source": [
    "from itertools import combinations\n",
    "\n",
    "# get all pairs of stocks\n",
    "stock_pairs = list(combinations(df.columns, 2))\n",
    "stock_pairs"
   ]
  },
  {
   "cell_type": "code",
   "execution_count": 22,
   "metadata": {
    "colab": {
     "base_uri": "https://localhost:8080/"
    },
    "executionInfo": {
     "elapsed": 516,
     "status": "ok",
     "timestamp": 1678663548299,
     "user": {
      "displayName": "Peng Liu",
      "userId": "02866728717195957805"
     },
     "user_tz": -480
    },
    "id": "crZJFb2MfBc3",
    "outputId": "d96bb96f-0b4a-4cc4-f2c1-3a00f4ef09d6"
   },
   "outputs": [
    {
     "name": "stdout",
     "output_type": "stream",
     "text": [
      "('AAPL', 'GOOG') are not cointegrated\n",
      "('AAPL', 'META') are not cointegrated\n",
      "('AAPL', 'MSFT') are not cointegrated\n",
      "('AAPL', 'NFLX') are not cointegrated\n",
      "('AAPL', 'TSLA') are not cointegrated\n",
      "('GOOG', 'META') are not cointegrated\n",
      "('GOOG', 'MSFT') are cointegrated\n",
      "('GOOG', 'NFLX') are not cointegrated\n",
      "('GOOG', 'TSLA') are not cointegrated\n",
      "('META', 'MSFT') are not cointegrated\n",
      "('META', 'NFLX') are not cointegrated\n",
      "('META', 'TSLA') are not cointegrated\n",
      "('MSFT', 'NFLX') are not cointegrated\n",
      "('MSFT', 'TSLA') are not cointegrated\n",
      "('NFLX', 'TSLA') are not cointegrated\n"
     ]
    }
   ],
   "source": [
    "threshold = 0.1\n",
    "# run Engle-Granger test for cointegration on each pair of stocks\n",
    "for pair in stock_pairs:\n",
    "    # subset df based on current pair of stocks\n",
    "    df2 = df[list(pair)]\n",
    "    # perform test for the current pair of stocks\n",
    "    score, pvalue, _ = coint(df2.values[:,0], df2.values[:,1])\n",
    "    # check if the current pair of stocks is cointegrated\n",
    "    if pvalue < threshold:\n",
    "        print(pair, 'are cointegrated')\n",
    "    else:\n",
    "        print(pair, 'are not cointegrated')"
   ]
  },
  {
   "cell_type": "markdown",
   "metadata": {
    "id": "-i7nLB0QqQCn"
   },
   "source": [
    "## Obtain spread series"
   ]
  },
  {
   "cell_type": "code",
   "execution_count": 23,
   "metadata": {
    "colab": {
     "base_uri": "https://localhost:8080/",
     "height": 395
    },
    "executionInfo": {
     "elapsed": 8,
     "status": "ok",
     "timestamp": 1678663548299,
     "user": {
      "displayName": "Peng Liu",
      "userId": "02866728717195957805"
     },
     "user_tz": -480
    },
    "id": "ZgppdkIPgMgp",
    "outputId": "cb942565-57e8-4181-d368-e58eb1ea475a"
   },
   "outputs": [
    {
     "data": {
      "text/plain": [
       "<AxesSubplot:xlabel='Date'>"
      ]
     },
     "execution_count": 23,
     "metadata": {},
     "output_type": "execute_result"
    },
    {
     "data": {
      "image/png": "[encoded data removed]",
      "text/plain": [
       "<Figure size 864x432 with 1 Axes>"
      ]
     },
     "metadata": {
      "needs_background": "light"
     },
     "output_type": "display_data"
    }
   ],
   "source": [
    "# calculate the spread for GOOG and MSFT\n",
    "Y = df[\"GOOG\"]\n",
    "X = df[\"MSFT\"]\n",
    "# estimate linear regression coefficients\n",
    "X_with_constant = sm.add_constant(X)\n",
    "model = OLS(Y, X_with_constant).fit()\n",
    "# obtain the spread as the residuals\n",
    "spread = Y - model.predict()\n",
    "spread.plot(figsize=(12,6))"
   ]
  },
  {
   "cell_type": "markdown",
   "metadata": {
    "id": "GU7bBf-0qU3l"
   },
   "source": [
    "## Converting to z-scores"
   ]
  },
  {
   "cell_type": "code",
   "execution_count": 24,
   "metadata": {
    "colab": {
     "base_uri": "https://localhost:8080/",
     "height": 279
    },
    "executionInfo": {
     "elapsed": 815,
     "status": "ok",
     "timestamp": 1678663549110,
     "user": {
      "displayName": "Peng Liu",
      "userId": "02866728717195957805"
     },
     "user_tz": -480
    },
    "id": "1ixpGkBzflg4",
    "outputId": "0599920e-c1df-4c1b-eb8d-05a2aece5848"
   },
   "outputs": [
    {
     "data": {
      "image/png": "[encoded data removed]",
      "text/plain": [
       "<Figure size 432x288 with 1 Axes>"
      ]
     },
     "metadata": {
      "needs_background": "light"
     },
     "output_type": "display_data"
    }
   ],
   "source": [
    "# illustrate z score by generating a standard normal distribution with mu 0 and sd 1\n",
    "from scipy.stats import norm\n",
    "# input: unbounded scalar, assumed to be in the range of [-5,-5] in this case\n",
    "x = np.linspace(-5, 5, 100)\n",
    "# output: probability between 0 and 1\n",
    "y = norm.pdf(x, loc=0, scale=1)\n",
    "# set up the plot\n",
    "fig, ax = plt.subplots()\n",
    "# plot the pdf of normal distribution\n",
    "ax.plot(x, y)\n",
    "# shade the area corresponding to a z-score of >=1.96 and <=-1.96\n",
    "z_critical = 1.96\n",
    "x_shade = np.linspace(z_critical, 5, 100)\n",
    "y_shade = norm.pdf(x_shade, loc=0, scale=1)\n",
    "ax.fill_between(x_shade, y_shade, color='red', alpha=0.3)\n",
    "z_critical2 = -1.96\n",
    "x_shade2 = np.linspace(-5, z_critical2, 100)\n",
    "y_shade2 = norm.pdf(x_shade2, loc=0, scale=1)\n",
    "ax.fill_between(x_shade2, y_shade2, color='red', alpha=0.3)\n",
    "# add labels and a title\n",
    "ax.set_xlabel('Z-score')\n",
    "ax.set_ylabel('Probability density')\n",
    "# add a vertical line to indicate the z-score of 1.96 and -1.96\n",
    "ax.axvline(x=z_critical, linestyle='--', color='red')\n",
    "ax.axvline(x=z_critical2, linestyle='--', color='red')\n",
    "# display the plot\n",
    "plt.show()"
   ]
  },
  {
   "cell_type": "code",
   "execution_count": 25,
   "metadata": {
    "colab": {
     "base_uri": "https://localhost:8080/",
     "height": 392
    },
    "executionInfo": {
     "elapsed": 12,
     "status": "ok",
     "timestamp": 1678663549111,
     "user": {
      "displayName": "Peng Liu",
      "userId": "02866728717195957805"
     },
     "user_tz": -480
    },
    "id": "aAzgRsUKt9H9",
    "outputId": "e1bf4ad3-4594-4e8d-8631-08e704543aea"
   },
   "outputs": [
    {
     "data": {
      "text/plain": [
       "<AxesSubplot:xlabel='Date'>"
      ]
     },
     "execution_count": 25,
     "metadata": {},
     "output_type": "execute_result"
    },
    {
     "data": {
      "image/png": "[encoded data removed]",
      "text/plain": [
       "<Figure size 864x432 with 1 Axes>"
      ]
     },
     "metadata": {
      "needs_background": "light"
     },
     "output_type": "display_data"
    }
   ],
   "source": [
    "# convert to z score\n",
    "# z-score is a measure of how many standard deviations the spread is from its mean\n",
    "# derive mean and sd using a moving window\n",
    "window_size = 10\n",
    "spread_mean = spread.rolling(window=window_size).mean()\n",
    "spread_std = spread.rolling(window=window_size).std()\n",
    "zscore = (spread - spread_mean) / spread_std\n",
    "zscore.plot(figsize=(12,6))"
   ]
  },
  {
   "cell_type": "code",
   "execution_count": 26,
   "metadata": {
    "executionInfo": {
     "elapsed": 9,
     "status": "ok",
     "timestamp": 1678663549111,
     "user": {
      "displayName": "Peng Liu",
      "userId": "02866728717195957805"
     },
     "user_tz": -480
    },
    "id": "-ewQBe4UmGe7"
   },
   "outputs": [],
   "source": [
    "# remove initial days with NA\n",
    "first_valid_idx = zscore.first_valid_index()\n",
    "zscore = zscore[first_valid_idx:]"
   ]
  },
  {
   "cell_type": "code",
   "execution_count": 27,
   "metadata": {
    "colab": {
     "base_uri": "https://localhost:8080/"
    },
    "executionInfo": {
     "elapsed": 9,
     "status": "ok",
     "timestamp": 1678663549111,
     "user": {
      "displayName": "Peng Liu",
      "userId": "02866728717195957805"
     },
     "user_tz": -480
    },
    "id": "89qIVLn1xf2L",
    "outputId": "db7e1683-4c92-46e9-c236-250a7f755d90"
   },
   "outputs": [
    {
     "data": {
      "text/plain": [
       "Date\n",
       "2022-01-14    1.123751\n",
       "2022-01-18    1.245479\n",
       "2022-01-19    0.742035\n",
       "2022-01-20    0.211881\n",
       "2022-01-21    0.064885\n",
       "                ...   \n",
       "2022-12-23    1.618937\n",
       "2022-12-27    0.977235\n",
       "2022-12-28    0.807607\n",
       "2022-12-29   -0.230086\n",
       "2022-12-30   -0.137035\n",
       "Name: GOOG, Length: 242, dtype: float64"
      ]
     },
     "execution_count": 27,
     "metadata": {},
     "output_type": "execute_result"
    }
   ],
   "source": [
    "zscore"
   ]
  },
  {
   "cell_type": "markdown",
   "metadata": {
    "id": "1H8Lc8KBqYYF"
   },
   "source": [
    "## Formulating trading strategy"
   ]
  },
  {
   "cell_type": "code",
   "execution_count": 27,
   "metadata": {
    "executionInfo": {
     "elapsed": 9,
     "status": "ok",
     "timestamp": 1678663549112,
     "user": {
      "displayName": "Peng Liu",
      "userId": "02866728717195957805"
     },
     "user_tz": -480
    },
    "id": "AE3cHM8Hrj71"
   },
   "outputs": [],
   "source": []
  }
 ],
 "metadata": {
  "colab": {
   "authorship_tag": "ABX9TyNpzWLJLT4pI5exK3VDTZ2i",
   "provenance": []
  },
  "kernelspec": {
   "display_name": "Python 3 (ipykernel)",
   "language": "python",
   "name": "python3"
  },
  "language_info": {
   "codemirror_mode": {
    "name": "ipython",
    "version": 3
   },
   "file_extension": ".py",
   "mimetype": "text/x-python",
   "name": "python",
   "nbconvert_exporter": "python",
   "pygments_lexer": "ipython3",
   "version": "3.9.13"
  }
 },
 "nbformat": 4,
 "nbformat_minor": 1
}
